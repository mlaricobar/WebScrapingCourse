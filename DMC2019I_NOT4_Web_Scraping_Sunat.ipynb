{
  "nbformat": 4,
  "nbformat_minor": 0,
  "metadata": {
    "colab": {
      "name": "DMC2019I_NOT4_Web_Scraping_Sunat.ipynb",
      "version": "0.3.2",
      "provenance": [],
      "collapsed_sections": [],
      "include_colab_link": true
    },
    "kernelspec": {
      "name": "python3",
      "display_name": "Python 3"
    }
  },
  "cells": [
    {
      "cell_type": "markdown",
      "metadata": {
        "id": "view-in-github",
        "colab_type": "text"
      },
      "source": [
        "<a href=\"https://colab.research.google.com/github/mlaricobar/WebScrapingCourse/blob/master/DMC2019I_NOT4_Web_Scraping_Sunat.ipynb\" target=\"_parent\"><img src=\"https://colab.research.google.com/assets/colab-badge.svg\" alt=\"Open In Colab\"/></a>"
      ]
    },
    {
      "cell_type": "markdown",
      "metadata": {
        "id": "eGktuBwqfpD9",
        "colab_type": "text"
      },
      "source": [
        "## Introducción al package Selenium\n",
        "\n",
        "Selenium Python bindings proporciona un API simple para escribir pruebas funcionales usando el WebDriver de Selenium. A través del API de Python de Selenium puedes utilizar todas las funcionalidades del WebDriver de Selenium de una forma intuitiva y sencilla. Por medio de este API podemos acceder a los WebDrivers de Selenium como Firefox, Internet Explorer, Google Chrome, Remote, etc. "
      ]
    },
    {
      "cell_type": "markdown",
      "metadata": {
        "id": "pvXtGK2jiTnl",
        "colab_type": "text"
      },
      "source": [
        "### Instalación de Selenium Python Bindings"
      ]
    },
    {
      "cell_type": "code",
      "metadata": {
        "id": "Qa92ibvkffIB",
        "colab_type": "code",
        "colab": {}
      },
      "source": [
        "# Librería Selenium\n",
        "!pip install selenium"
      ],
      "execution_count": 0,
      "outputs": []
    },
    {
      "cell_type": "code",
      "metadata": {
        "id": "ZPHiV5psWE6I",
        "colab_type": "code",
        "outputId": "20a7b427-664b-4d12-f709-7b076e40155a",
        "colab": {
          "base_uri": "https://localhost:8080/",
          "height": 196
        }
      },
      "source": [
        "!pip install pytesseract"
      ],
      "execution_count": 0,
      "outputs": [
        {
          "output_type": "stream",
          "text": [
            "Collecting pytesseract\n",
            "\u001b[?25l  Downloading https://files.pythonhosted.org/packages/71/5a/d7600cad26276d991feecb27f3627ae2d0ee89aa1e3065fa4f9f1f2defbc/pytesseract-0.2.6.tar.gz (169kB)\n",
            "\u001b[K     |████████████████████████████████| 174kB 4.9MB/s \n",
            "\u001b[?25hRequirement already satisfied: Pillow in /usr/local/lib/python3.6/dist-packages (from pytesseract) (4.3.0)\n",
            "Requirement already satisfied: olefile in /usr/local/lib/python3.6/dist-packages (from Pillow->pytesseract) (0.46)\n",
            "Building wheels for collected packages: pytesseract\n",
            "  Building wheel for pytesseract (setup.py) ... \u001b[?25l\u001b[?25hdone\n",
            "  Stored in directory: /root/.cache/pip/wheels/d5/90/56/ab7b652592da86821293f7cadc1c554aa376a0d57ce414d0a0\n",
            "Successfully built pytesseract\n",
            "Installing collected packages: pytesseract\n",
            "Successfully installed pytesseract-0.2.6\n"
          ],
          "name": "stdout"
        }
      ]
    },
    {
      "cell_type": "code",
      "metadata": {
        "id": "jHxMnrlkZTei",
        "colab_type": "code",
        "outputId": "55c65620-062a-48aa-c0c5-854e027c6bd5",
        "colab": {
          "base_uri": "https://localhost:8080/",
          "height": 635
        }
      },
      "source": [
        "!sudo apt install tesseract-ocr"
      ],
      "execution_count": 0,
      "outputs": [
        {
          "output_type": "stream",
          "text": [
            "Reading package lists... Done\n",
            "Building dependency tree       \n",
            "Reading state information... Done\n",
            "The following package was automatically installed and is no longer required:\n",
            "  libnvidia-common-410\n",
            "Use 'sudo apt autoremove' to remove it.\n",
            "The following additional packages will be installed:\n",
            "  tesseract-ocr-eng tesseract-ocr-osd\n",
            "The following NEW packages will be installed:\n",
            "  tesseract-ocr tesseract-ocr-eng tesseract-ocr-osd\n",
            "0 upgraded, 3 newly installed, 0 to remove and 7 not upgraded.\n",
            "Need to get 4,795 kB of archives.\n",
            "After this operation, 15.8 MB of additional disk space will be used.\n",
            "Get:1 http://archive.ubuntu.com/ubuntu bionic/universe amd64 tesseract-ocr-eng all 4.00~git24-0e00fe6-1.2 [1,588 kB]\n",
            "Get:2 http://archive.ubuntu.com/ubuntu bionic/universe amd64 tesseract-ocr-osd all 4.00~git24-0e00fe6-1.2 [2,989 kB]\n",
            "Get:3 http://archive.ubuntu.com/ubuntu bionic/universe amd64 tesseract-ocr amd64 4.00~git2288-10f4998a-2 [218 kB]\n",
            "Fetched 4,795 kB in 2s (2,950 kB/s)\n",
            "debconf: unable to initialize frontend: Dialog\n",
            "debconf: (No usable dialog-like program is installed, so the dialog based frontend cannot be used. at /usr/share/perl5/Debconf/FrontEnd/Dialog.pm line 76, <> line 3.)\n",
            "debconf: falling back to frontend: Readline\n",
            "debconf: unable to initialize frontend: Readline\n",
            "debconf: (This frontend requires a controlling tty.)\n",
            "debconf: falling back to frontend: Teletype\n",
            "dpkg-preconfigure: unable to re-open stdin: \n",
            "Selecting previously unselected package tesseract-ocr-eng.\n",
            "(Reading database ... 130950 files and directories currently installed.)\n",
            "Preparing to unpack .../tesseract-ocr-eng_4.00~git24-0e00fe6-1.2_all.deb ...\n",
            "Unpacking tesseract-ocr-eng (4.00~git24-0e00fe6-1.2) ...\n",
            "Selecting previously unselected package tesseract-ocr-osd.\n",
            "Preparing to unpack .../tesseract-ocr-osd_4.00~git24-0e00fe6-1.2_all.deb ...\n",
            "Unpacking tesseract-ocr-osd (4.00~git24-0e00fe6-1.2) ...\n",
            "Selecting previously unselected package tesseract-ocr.\n",
            "Preparing to unpack .../tesseract-ocr_4.00~git2288-10f4998a-2_amd64.deb ...\n",
            "Unpacking tesseract-ocr (4.00~git2288-10f4998a-2) ...\n",
            "Setting up tesseract-ocr-osd (4.00~git24-0e00fe6-1.2) ...\n",
            "Setting up tesseract-ocr-eng (4.00~git24-0e00fe6-1.2) ...\n",
            "Processing triggers for man-db (2.8.3-2ubuntu0.1) ...\n",
            "Setting up tesseract-ocr (4.00~git2288-10f4998a-2) ...\n"
          ],
          "name": "stdout"
        }
      ]
    },
    {
      "cell_type": "markdown",
      "metadata": {
        "id": "DsH8co-Yih_E",
        "colab_type": "text"
      },
      "source": [
        "### Instalación del Web Driver de Selenium\n",
        "\n",
        "Para automatizar las interacciones con el navegador necesitamos de un **Driver** que sirva como interfaz ante el navegador. Por ejemplo, `Firefox` requiere [geckodriver](https://github.com/mozilla/geckodriver/releases). En la siguiente tabla se listan los drivers necesarios para cada navegador:\n",
        "\n",
        "| Navegador | Driver \n",
        "| --- | :---: \n",
        "| **Chrome:** |   https://sites.google.com/a/chromium.org/chromedriver/downloads  \n",
        "| **Edge:** |   https://developer.microsoft.com/en-us/microsoft-edge/tools/webdriver/  \n",
        "| **Firefox:** |   https://github.com/mozilla/geckodriver/releases  \n",
        "| **Safari:** |   https://webkit.org/blog/6900/webdriver-support-in-safari-10/"
      ]
    },
    {
      "cell_type": "markdown",
      "metadata": {
        "id": "1aehhfY-46O7",
        "colab_type": "text"
      },
      "source": [
        "#### En windows"
      ]
    },
    {
      "cell_type": "markdown",
      "metadata": {
        "id": "8KKIguAM4-tx",
        "colab_type": "text"
      },
      "source": [
        "#### En Linux"
      ]
    },
    {
      "cell_type": "code",
      "metadata": {
        "id": "ZBIlaaKc4_-A",
        "colab_type": "code",
        "outputId": "d3637382-f313-44f3-9e47-0b4f8bdbe960",
        "colab": {
          "base_uri": "https://localhost:8080/",
          "height": 716
        }
      },
      "source": [
        "# instalar el Driver de Chrome\n",
        "!apt install chromium-chromedriver"
      ],
      "execution_count": 0,
      "outputs": [
        {
          "output_type": "stream",
          "text": [
            "Reading package lists... Done\n",
            "Building dependency tree       \n",
            "Reading state information... Done\n",
            "The following package was automatically installed and is no longer required:\n",
            "  libnvidia-common-410\n",
            "Use 'apt autoremove' to remove it.\n",
            "The following additional packages will be installed:\n",
            "  chromium-browser chromium-browser-l10n chromium-codecs-ffmpeg-extra\n",
            "Suggested packages:\n",
            "  webaccounts-chromium-extension unity-chromium-extension adobe-flashplugin\n",
            "The following NEW packages will be installed:\n",
            "  chromium-browser chromium-browser-l10n chromium-chromedriver\n",
            "  chromium-codecs-ffmpeg-extra\n",
            "0 upgraded, 4 newly installed, 0 to remove and 7 not upgraded.\n",
            "Need to get 67.9 MB of archives.\n",
            "After this operation, 249 MB of additional disk space will be used.\n",
            "Get:1 http://archive.ubuntu.com/ubuntu bionic-updates/universe amd64 chromium-codecs-ffmpeg-extra amd64 73.0.3683.86-0ubuntu0.18.04.1 [1,111 kB]\n",
            "Get:2 http://archive.ubuntu.com/ubuntu bionic-updates/universe amd64 chromium-browser amd64 73.0.3683.86-0ubuntu0.18.04.1 [59.7 MB]\n",
            "Get:3 http://archive.ubuntu.com/ubuntu bionic-updates/universe amd64 chromium-browser-l10n all 73.0.3683.86-0ubuntu0.18.04.1 [2,815 kB]\n",
            "Get:4 http://archive.ubuntu.com/ubuntu bionic-updates/universe amd64 chromium-chromedriver amd64 73.0.3683.86-0ubuntu0.18.04.1 [4,355 kB]\n",
            "Fetched 67.9 MB in 3s (26.9 MB/s)\n",
            "Selecting previously unselected package chromium-codecs-ffmpeg-extra.\n",
            "(Reading database ... 130824 files and directories currently installed.)\n",
            "Preparing to unpack .../chromium-codecs-ffmpeg-extra_73.0.3683.86-0ubuntu0.18.04.1_amd64.deb ...\n",
            "Unpacking chromium-codecs-ffmpeg-extra (73.0.3683.86-0ubuntu0.18.04.1) ...\n",
            "Selecting previously unselected package chromium-browser.\n",
            "Preparing to unpack .../chromium-browser_73.0.3683.86-0ubuntu0.18.04.1_amd64.deb ...\n",
            "Unpacking chromium-browser (73.0.3683.86-0ubuntu0.18.04.1) ...\n",
            "Selecting previously unselected package chromium-browser-l10n.\n",
            "Preparing to unpack .../chromium-browser-l10n_73.0.3683.86-0ubuntu0.18.04.1_all.deb ...\n",
            "Unpacking chromium-browser-l10n (73.0.3683.86-0ubuntu0.18.04.1) ...\n",
            "Selecting previously unselected package chromium-chromedriver.\n",
            "Preparing to unpack .../chromium-chromedriver_73.0.3683.86-0ubuntu0.18.04.1_amd64.deb ...\n",
            "Unpacking chromium-chromedriver (73.0.3683.86-0ubuntu0.18.04.1) ...\n",
            "Processing triggers for mime-support (3.60ubuntu1) ...\n",
            "Setting up chromium-codecs-ffmpeg-extra (73.0.3683.86-0ubuntu0.18.04.1) ...\n",
            "Processing triggers for man-db (2.8.3-2ubuntu0.1) ...\n",
            "Processing triggers for hicolor-icon-theme (0.17-2) ...\n",
            "Setting up chromium-browser (73.0.3683.86-0ubuntu0.18.04.1) ...\n",
            "update-alternatives: using /usr/bin/chromium-browser to provide /usr/bin/x-www-browser (x-www-browser) in auto mode\n",
            "update-alternatives: using /usr/bin/chromium-browser to provide /usr/bin/gnome-www-browser (gnome-www-browser) in auto mode\n",
            "Setting up chromium-chromedriver (73.0.3683.86-0ubuntu0.18.04.1) ...\n",
            "Setting up chromium-browser-l10n (73.0.3683.86-0ubuntu0.18.04.1) ...\n"
          ],
          "name": "stdout"
        }
      ]
    },
    {
      "cell_type": "code",
      "metadata": {
        "id": "mtBWqNoK5g6-",
        "colab_type": "code",
        "outputId": "cec8d0c3-21bc-49ab-e876-cf91092460ff",
        "colab": {
          "base_uri": "https://localhost:8080/",
          "height": 33
        }
      },
      "source": [
        "# Encontrar el path donde se encuentra instalado el Driver de Chrome\n",
        "!which chromedriver"
      ],
      "execution_count": 0,
      "outputs": [
        {
          "output_type": "stream",
          "text": [
            "/usr/bin/chromedriver\n"
          ],
          "name": "stdout"
        }
      ]
    },
    {
      "cell_type": "markdown",
      "metadata": {
        "id": "a1c-Rjen5ySA",
        "colab_type": "text"
      },
      "source": [
        "### Importar los módulos y configurar el driver de Selenium"
      ]
    },
    {
      "cell_type": "code",
      "metadata": {
        "id": "SP2OthBR7fbi",
        "colab_type": "code",
        "colab": {}
      },
      "source": [
        "driver_path = \"/usr/bin/chromedriver\""
      ],
      "execution_count": 0,
      "outputs": []
    },
    {
      "cell_type": "code",
      "metadata": {
        "id": "pPLftVV25_JX",
        "colab_type": "code",
        "colab": {}
      },
      "source": [
        "# importar los módulos de la librería Selenium\n",
        "from selenium import webdriver\n",
        "from selenium.webdriver.chrome.options import Options"
      ],
      "execution_count": 0,
      "outputs": []
    },
    {
      "cell_type": "code",
      "metadata": {
        "id": "DngCb3V_5p7B",
        "colab_type": "code",
        "colab": {}
      },
      "source": [
        "options = Options()\n",
        "options.add_argument(\"--headless\") #\n",
        "options.add_argument('--no-sandbox')\n",
        "options.add_argument(\"--disable-extensions\")\n",
        "options.add_argument('start-maximized')\n",
        "options.add_argument('disable-infobars')"
      ],
      "execution_count": 0,
      "outputs": []
    },
    {
      "cell_type": "code",
      "metadata": {
        "id": "vq-kD9U-7Yu-",
        "colab_type": "code",
        "colab": {}
      },
      "source": [
        "# Instanciar el objeto Driver usando los path definidos\n",
        "driver = webdriver.Chrome(options=options, executable_path=driver_path)"
      ],
      "execution_count": 0,
      "outputs": []
    },
    {
      "cell_type": "markdown",
      "metadata": {
        "id": "HNYu4CAf79_z",
        "colab_type": "text"
      },
      "source": [
        "### Principales métodos y propiedades de Selenium"
      ]
    },
    {
      "cell_type": "code",
      "metadata": {
        "id": "f6c2Uh_eeoM2",
        "colab_type": "code",
        "outputId": "48cb8172-708f-44d6-ffff-be066205d37b",
        "colab": {
          "base_uri": "https://localhost:8080/",
          "height": 11408
        }
      },
      "source": [
        "help(driver)"
      ],
      "execution_count": 0,
      "outputs": [
        {
          "output_type": "stream",
          "text": [
            "Help on WebDriver in module selenium.webdriver.chrome.webdriver object:\n",
            "\n",
            "class WebDriver(selenium.webdriver.remote.webdriver.WebDriver)\n",
            " |  Controls the ChromeDriver and allows you to drive the browser.\n",
            " |  \n",
            " |  You will need to download the ChromeDriver executable from\n",
            " |  http://chromedriver.storage.googleapis.com/index.html\n",
            " |  \n",
            " |  Method resolution order:\n",
            " |      WebDriver\n",
            " |      selenium.webdriver.remote.webdriver.WebDriver\n",
            " |      builtins.object\n",
            " |  \n",
            " |  Methods defined here:\n",
            " |  \n",
            " |  __init__(self, executable_path='chromedriver', port=0, options=None, service_args=None, desired_capabilities=None, service_log_path=None, chrome_options=None, keep_alive=True)\n",
            " |      Creates a new instance of the chrome driver.\n",
            " |      \n",
            " |      Starts the service and then creates new instance of chrome driver.\n",
            " |      \n",
            " |      :Args:\n",
            " |       - executable_path - path to the executable. If the default is used it assumes the executable is in the $PATH\n",
            " |       - port - port you would like the service to run, if left as 0, a free port will be found.\n",
            " |       - options - this takes an instance of ChromeOptions\n",
            " |       - service_args - List of args to pass to the driver service\n",
            " |       - desired_capabilities - Dictionary object with non-browser specific\n",
            " |         capabilities only, such as \"proxy\" or \"loggingPref\".\n",
            " |       - service_log_path - Where to log information from the driver.\n",
            " |       - chrome_options - Deprecated argument for options\n",
            " |       - keep_alive - Whether to configure ChromeRemoteConnection to use HTTP keep-alive.\n",
            " |  \n",
            " |  create_options(self)\n",
            " |  \n",
            " |  execute_cdp_cmd(self, cmd, cmd_args)\n",
            " |      Execute Chrome Devtools Protocol command and get returned result\n",
            " |      \n",
            " |      The command and command args should follow chrome devtools protocol domains/commands, refer to link\n",
            " |      https://chromedevtools.github.io/devtools-protocol/\n",
            " |      \n",
            " |      :Args:\n",
            " |       - cmd: A str, command name\n",
            " |       - cmd_args: A dict, command args. empty dict {} if there is no command args\n",
            " |      \n",
            " |      :Usage:\n",
            " |          driver.execute_cdp_cmd('Network.getResponseBody', {'requestId': requestId})\n",
            " |      \n",
            " |      :Returns:\n",
            " |          A dict, empty dict {} if there is no result to return.\n",
            " |          For example to getResponseBody:\n",
            " |      \n",
            " |          {'base64Encoded': False, 'body': 'response body string'}\n",
            " |  \n",
            " |  get_network_conditions(self)\n",
            " |      Gets Chrome network emulation settings.\n",
            " |      \n",
            " |      :Returns:\n",
            " |          A dict. For example:\n",
            " |      \n",
            " |          {'latency': 4, 'download_throughput': 2, 'upload_throughput': 2,\n",
            " |          'offline': False}\n",
            " |  \n",
            " |  launch_app(self, id)\n",
            " |      Launches Chrome app specified by id.\n",
            " |  \n",
            " |  quit(self)\n",
            " |      Closes the browser and shuts down the ChromeDriver executable\n",
            " |      that is started when starting the ChromeDriver\n",
            " |  \n",
            " |  set_network_conditions(self, **network_conditions)\n",
            " |      Sets Chrome network emulation settings.\n",
            " |      \n",
            " |      :Args:\n",
            " |       - network_conditions: A dict with conditions specification.\n",
            " |      \n",
            " |      :Usage:\n",
            " |          driver.set_network_conditions(\n",
            " |              offline=False,\n",
            " |              latency=5,  # additional latency (ms)\n",
            " |              download_throughput=500 * 1024,  # maximal throughput\n",
            " |              upload_throughput=500 * 1024)  # maximal throughput\n",
            " |      \n",
            " |          Note: 'throughput' can be used to set both (for download and upload).\n",
            " |  \n",
            " |  ----------------------------------------------------------------------\n",
            " |  Methods inherited from selenium.webdriver.remote.webdriver.WebDriver:\n",
            " |  \n",
            " |  __enter__(self)\n",
            " |  \n",
            " |  __exit__(self, *args)\n",
            " |  \n",
            " |  __repr__(self)\n",
            " |      Return repr(self).\n",
            " |  \n",
            " |  add_cookie(self, cookie_dict)\n",
            " |      Adds a cookie to your current session.\n",
            " |      \n",
            " |      :Args:\n",
            " |       - cookie_dict: A dictionary object, with required keys - \"name\" and \"value\";\n",
            " |          optional keys - \"path\", \"domain\", \"secure\", \"expiry\"\n",
            " |      \n",
            " |      Usage:\n",
            " |          driver.add_cookie({'name' : 'foo', 'value' : 'bar'})\n",
            " |          driver.add_cookie({'name' : 'foo', 'value' : 'bar', 'path' : '/'})\n",
            " |          driver.add_cookie({'name' : 'foo', 'value' : 'bar', 'path' : '/', 'secure':True})\n",
            " |  \n",
            " |  back(self)\n",
            " |      Goes one step backward in the browser history.\n",
            " |      \n",
            " |      :Usage:\n",
            " |          driver.back()\n",
            " |  \n",
            " |  close(self)\n",
            " |      Closes the current window.\n",
            " |      \n",
            " |      :Usage:\n",
            " |          driver.close()\n",
            " |  \n",
            " |  create_web_element(self, element_id)\n",
            " |      Creates a web element with the specified `element_id`.\n",
            " |  \n",
            " |  delete_all_cookies(self)\n",
            " |      Delete all cookies in the scope of the session.\n",
            " |      \n",
            " |      :Usage:\n",
            " |          driver.delete_all_cookies()\n",
            " |  \n",
            " |  delete_cookie(self, name)\n",
            " |      Deletes a single cookie with the given name.\n",
            " |      \n",
            " |      :Usage:\n",
            " |          driver.delete_cookie('my_cookie')\n",
            " |  \n",
            " |  execute(self, driver_command, params=None)\n",
            " |      Sends a command to be executed by a command.CommandExecutor.\n",
            " |      \n",
            " |      :Args:\n",
            " |       - driver_command: The name of the command to execute as a string.\n",
            " |       - params: A dictionary of named parameters to send with the command.\n",
            " |      \n",
            " |      :Returns:\n",
            " |        The command's JSON response loaded into a dictionary object.\n",
            " |  \n",
            " |  execute_async_script(self, script, *args)\n",
            " |      Asynchronously Executes JavaScript in the current window/frame.\n",
            " |      \n",
            " |      :Args:\n",
            " |       - script: The JavaScript to execute.\n",
            " |       - \\*args: Any applicable arguments for your JavaScript.\n",
            " |      \n",
            " |      :Usage:\n",
            " |          script = \"var callback = arguments[arguments.length - 1]; \"                      \"window.setTimeout(function(){ callback('timeout') }, 3000);\"\n",
            " |          driver.execute_async_script(script)\n",
            " |  \n",
            " |  execute_script(self, script, *args)\n",
            " |      Synchronously Executes JavaScript in the current window/frame.\n",
            " |      \n",
            " |      :Args:\n",
            " |       - script: The JavaScript to execute.\n",
            " |       - \\*args: Any applicable arguments for your JavaScript.\n",
            " |      \n",
            " |      :Usage:\n",
            " |          driver.execute_script('return document.title;')\n",
            " |  \n",
            " |  file_detector_context(self, file_detector_class, *args, **kwargs)\n",
            " |      Overrides the current file detector (if necessary) in limited context.\n",
            " |      Ensures the original file detector is set afterwards.\n",
            " |      \n",
            " |      Example:\n",
            " |      \n",
            " |      with webdriver.file_detector_context(UselessFileDetector):\n",
            " |          someinput.send_keys('/etc/hosts')\n",
            " |      \n",
            " |      :Args:\n",
            " |       - file_detector_class - Class of the desired file detector. If the class is different\n",
            " |           from the current file_detector, then the class is instantiated with args and kwargs\n",
            " |           and used as a file detector during the duration of the context manager.\n",
            " |       - args - Optional arguments that get passed to the file detector class during\n",
            " |           instantiation.\n",
            " |       - kwargs - Keyword arguments, passed the same way as args.\n",
            " |  \n",
            " |  find_element(self, by='id', value=None)\n",
            " |      Find an element given a By strategy and locator. Prefer the find_element_by_* methods when\n",
            " |      possible.\n",
            " |      \n",
            " |      :Usage:\n",
            " |          element = driver.find_element(By.ID, 'foo')\n",
            " |      \n",
            " |      :rtype: WebElement\n",
            " |  \n",
            " |  find_element_by_class_name(self, name)\n",
            " |      Finds an element by class name.\n",
            " |      \n",
            " |      :Args:\n",
            " |       - name: The class name of the element to find.\n",
            " |      \n",
            " |      :Returns:\n",
            " |       - WebElement - the element if it was found\n",
            " |      \n",
            " |      :Raises:\n",
            " |       - NoSuchElementException - if the element wasn't found\n",
            " |      \n",
            " |      :Usage:\n",
            " |          element = driver.find_element_by_class_name('foo')\n",
            " |  \n",
            " |  find_element_by_css_selector(self, css_selector)\n",
            " |      Finds an element by css selector.\n",
            " |      \n",
            " |      :Args:\n",
            " |       - css_selector - CSS selector string, ex: 'a.nav#home'\n",
            " |      \n",
            " |      :Returns:\n",
            " |       - WebElement - the element if it was found\n",
            " |      \n",
            " |      :Raises:\n",
            " |       - NoSuchElementException - if the element wasn't found\n",
            " |      \n",
            " |      :Usage:\n",
            " |          element = driver.find_element_by_css_selector('#foo')\n",
            " |  \n",
            " |  find_element_by_id(self, id_)\n",
            " |      Finds an element by id.\n",
            " |      \n",
            " |      :Args:\n",
            " |       - id\\_ - The id of the element to be found.\n",
            " |      \n",
            " |      :Returns:\n",
            " |       - WebElement - the element if it was found\n",
            " |      \n",
            " |      :Raises:\n",
            " |       - NoSuchElementException - if the element wasn't found\n",
            " |      \n",
            " |      :Usage:\n",
            " |          element = driver.find_element_by_id('foo')\n",
            " |  \n",
            " |  find_element_by_link_text(self, link_text)\n",
            " |      Finds an element by link text.\n",
            " |      \n",
            " |      :Args:\n",
            " |       - link_text: The text of the element to be found.\n",
            " |      \n",
            " |      :Returns:\n",
            " |       - WebElement - the element if it was found\n",
            " |      \n",
            " |      :Raises:\n",
            " |       - NoSuchElementException - if the element wasn't found\n",
            " |      \n",
            " |      :Usage:\n",
            " |          element = driver.find_element_by_link_text('Sign In')\n",
            " |  \n",
            " |  find_element_by_name(self, name)\n",
            " |      Finds an element by name.\n",
            " |      \n",
            " |      :Args:\n",
            " |       - name: The name of the element to find.\n",
            " |      \n",
            " |      :Returns:\n",
            " |       - WebElement - the element if it was found\n",
            " |      \n",
            " |      :Raises:\n",
            " |       - NoSuchElementException - if the element wasn't found\n",
            " |      \n",
            " |      :Usage:\n",
            " |          element = driver.find_element_by_name('foo')\n",
            " |  \n",
            " |  find_element_by_partial_link_text(self, link_text)\n",
            " |      Finds an element by a partial match of its link text.\n",
            " |      \n",
            " |      :Args:\n",
            " |       - link_text: The text of the element to partially match on.\n",
            " |      \n",
            " |      :Returns:\n",
            " |       - WebElement - the element if it was found\n",
            " |      \n",
            " |      :Raises:\n",
            " |       - NoSuchElementException - if the element wasn't found\n",
            " |      \n",
            " |      :Usage:\n",
            " |          element = driver.find_element_by_partial_link_text('Sign')\n",
            " |  \n",
            " |  find_element_by_tag_name(self, name)\n",
            " |      Finds an element by tag name.\n",
            " |      \n",
            " |      :Args:\n",
            " |       - name - name of html tag (eg: h1, a, span)\n",
            " |      \n",
            " |      :Returns:\n",
            " |       - WebElement - the element if it was found\n",
            " |      \n",
            " |      :Raises:\n",
            " |       - NoSuchElementException - if the element wasn't found\n",
            " |      \n",
            " |      :Usage:\n",
            " |          element = driver.find_element_by_tag_name('h1')\n",
            " |  \n",
            " |  find_element_by_xpath(self, xpath)\n",
            " |      Finds an element by xpath.\n",
            " |      \n",
            " |      :Args:\n",
            " |       - xpath - The xpath locator of the element to find.\n",
            " |      \n",
            " |      :Returns:\n",
            " |       - WebElement - the element if it was found\n",
            " |      \n",
            " |      :Raises:\n",
            " |       - NoSuchElementException - if the element wasn't found\n",
            " |      \n",
            " |      :Usage:\n",
            " |          element = driver.find_element_by_xpath('//div/td[1]')\n",
            " |  \n",
            " |  find_elements(self, by='id', value=None)\n",
            " |      Find elements given a By strategy and locator. Prefer the find_elements_by_* methods when\n",
            " |      possible.\n",
            " |      \n",
            " |      :Usage:\n",
            " |          elements = driver.find_elements(By.CLASS_NAME, 'foo')\n",
            " |      \n",
            " |      :rtype: list of WebElement\n",
            " |  \n",
            " |  find_elements_by_class_name(self, name)\n",
            " |      Finds elements by class name.\n",
            " |      \n",
            " |      :Args:\n",
            " |       - name: The class name of the elements to find.\n",
            " |      \n",
            " |      :Returns:\n",
            " |       - list of WebElement - a list with elements if any was found.  An\n",
            " |         empty list if not\n",
            " |      \n",
            " |      :Usage:\n",
            " |          elements = driver.find_elements_by_class_name('foo')\n",
            " |  \n",
            " |  find_elements_by_css_selector(self, css_selector)\n",
            " |      Finds elements by css selector.\n",
            " |      \n",
            " |      :Args:\n",
            " |       - css_selector - CSS selector string, ex: 'a.nav#home'\n",
            " |      \n",
            " |      :Returns:\n",
            " |       - list of WebElement - a list with elements if any was found.  An\n",
            " |         empty list if not\n",
            " |      \n",
            " |      :Usage:\n",
            " |          elements = driver.find_elements_by_css_selector('.foo')\n",
            " |  \n",
            " |  find_elements_by_id(self, id_)\n",
            " |      Finds multiple elements by id.\n",
            " |      \n",
            " |      :Args:\n",
            " |       - id\\_ - The id of the elements to be found.\n",
            " |      \n",
            " |      :Returns:\n",
            " |       - list of WebElement - a list with elements if any was found.  An\n",
            " |         empty list if not\n",
            " |      \n",
            " |      :Usage:\n",
            " |          elements = driver.find_elements_by_id('foo')\n",
            " |  \n",
            " |  find_elements_by_link_text(self, text)\n",
            " |      Finds elements by link text.\n",
            " |      \n",
            " |      :Args:\n",
            " |       - link_text: The text of the elements to be found.\n",
            " |      \n",
            " |      :Returns:\n",
            " |       - list of webelement - a list with elements if any was found.  an\n",
            " |         empty list if not\n",
            " |      \n",
            " |      :Usage:\n",
            " |          elements = driver.find_elements_by_link_text('Sign In')\n",
            " |  \n",
            " |  find_elements_by_name(self, name)\n",
            " |      Finds elements by name.\n",
            " |      \n",
            " |      :Args:\n",
            " |       - name: The name of the elements to find.\n",
            " |      \n",
            " |      :Returns:\n",
            " |       - list of webelement - a list with elements if any was found.  an\n",
            " |         empty list if not\n",
            " |      \n",
            " |      :Usage:\n",
            " |          elements = driver.find_elements_by_name('foo')\n",
            " |  \n",
            " |  find_elements_by_partial_link_text(self, link_text)\n",
            " |      Finds elements by a partial match of their link text.\n",
            " |      \n",
            " |      :Args:\n",
            " |       - link_text: The text of the element to partial match on.\n",
            " |      \n",
            " |      :Returns:\n",
            " |       - list of webelement - a list with elements if any was found.  an\n",
            " |         empty list if not\n",
            " |      \n",
            " |      :Usage:\n",
            " |          elements = driver.find_elements_by_partial_link_text('Sign')\n",
            " |  \n",
            " |  find_elements_by_tag_name(self, name)\n",
            " |      Finds elements by tag name.\n",
            " |      \n",
            " |      :Args:\n",
            " |       - name - name of html tag (eg: h1, a, span)\n",
            " |      \n",
            " |      :Returns:\n",
            " |       - list of WebElement - a list with elements if any was found.  An\n",
            " |         empty list if not\n",
            " |      \n",
            " |      :Usage:\n",
            " |          elements = driver.find_elements_by_tag_name('h1')\n",
            " |  \n",
            " |  find_elements_by_xpath(self, xpath)\n",
            " |      Finds multiple elements by xpath.\n",
            " |      \n",
            " |      :Args:\n",
            " |       - xpath - The xpath locator of the elements to be found.\n",
            " |      \n",
            " |      :Returns:\n",
            " |       - list of WebElement - a list with elements if any was found.  An\n",
            " |         empty list if not\n",
            " |      \n",
            " |      :Usage:\n",
            " |          elements = driver.find_elements_by_xpath(\"//div[contains(@class, 'foo')]\")\n",
            " |  \n",
            " |  forward(self)\n",
            " |      Goes one step forward in the browser history.\n",
            " |      \n",
            " |      :Usage:\n",
            " |          driver.forward()\n",
            " |  \n",
            " |  fullscreen_window(self)\n",
            " |      Invokes the window manager-specific 'full screen' operation\n",
            " |  \n",
            " |  get(self, url)\n",
            " |      Loads a web page in the current browser session.\n",
            " |  \n",
            " |  get_cookie(self, name)\n",
            " |      Get a single cookie by name. Returns the cookie if found, None if not.\n",
            " |      \n",
            " |      :Usage:\n",
            " |          driver.get_cookie('my_cookie')\n",
            " |  \n",
            " |  get_cookies(self)\n",
            " |      Returns a set of dictionaries, corresponding to cookies visible in the current session.\n",
            " |      \n",
            " |      :Usage:\n",
            " |          driver.get_cookies()\n",
            " |  \n",
            " |  get_log(self, log_type)\n",
            " |      Gets the log for a given log type\n",
            " |      \n",
            " |      :Args:\n",
            " |       - log_type: type of log that which will be returned\n",
            " |      \n",
            " |      :Usage:\n",
            " |          driver.get_log('browser')\n",
            " |          driver.get_log('driver')\n",
            " |          driver.get_log('client')\n",
            " |          driver.get_log('server')\n",
            " |  \n",
            " |  get_screenshot_as_base64(self)\n",
            " |      Gets the screenshot of the current window as a base64 encoded string\n",
            " |         which is useful in embedded images in HTML.\n",
            " |      \n",
            " |      :Usage:\n",
            " |          driver.get_screenshot_as_base64()\n",
            " |  \n",
            " |  get_screenshot_as_file(self, filename)\n",
            " |      Saves a screenshot of the current window to a PNG image file. Returns\n",
            " |         False if there is any IOError, else returns True. Use full paths in\n",
            " |         your filename.\n",
            " |      \n",
            " |      :Args:\n",
            " |       - filename: The full path you wish to save your screenshot to. This\n",
            " |         should end with a `.png` extension.\n",
            " |      \n",
            " |      :Usage:\n",
            " |          driver.get_screenshot_as_file('/Screenshots/foo.png')\n",
            " |  \n",
            " |  get_screenshot_as_png(self)\n",
            " |      Gets the screenshot of the current window as a binary data.\n",
            " |      \n",
            " |      :Usage:\n",
            " |          driver.get_screenshot_as_png()\n",
            " |  \n",
            " |  get_window_position(self, windowHandle='current')\n",
            " |      Gets the x,y position of the current window.\n",
            " |      \n",
            " |      :Usage:\n",
            " |          driver.get_window_position()\n",
            " |  \n",
            " |  get_window_rect(self)\n",
            " |      Gets the x, y coordinates of the window as well as height and width of\n",
            " |      the current window.\n",
            " |      \n",
            " |      :Usage:\n",
            " |          driver.get_window_rect()\n",
            " |  \n",
            " |  get_window_size(self, windowHandle='current')\n",
            " |      Gets the width and height of the current window.\n",
            " |      \n",
            " |      :Usage:\n",
            " |          driver.get_window_size()\n",
            " |  \n",
            " |  implicitly_wait(self, time_to_wait)\n",
            " |      Sets a sticky timeout to implicitly wait for an element to be found,\n",
            " |         or a command to complete. This method only needs to be called one\n",
            " |         time per session. To set the timeout for calls to\n",
            " |         execute_async_script, see set_script_timeout.\n",
            " |      \n",
            " |      :Args:\n",
            " |       - time_to_wait: Amount of time to wait (in seconds)\n",
            " |      \n",
            " |      :Usage:\n",
            " |          driver.implicitly_wait(30)\n",
            " |  \n",
            " |  maximize_window(self)\n",
            " |      Maximizes the current window that webdriver is using\n",
            " |  \n",
            " |  minimize_window(self)\n",
            " |      Invokes the window manager-specific 'minimize' operation\n",
            " |  \n",
            " |  refresh(self)\n",
            " |      Refreshes the current page.\n",
            " |      \n",
            " |      :Usage:\n",
            " |          driver.refresh()\n",
            " |  \n",
            " |  save_screenshot(self, filename)\n",
            " |      Saves a screenshot of the current window to a PNG image file. Returns\n",
            " |         False if there is any IOError, else returns True. Use full paths in\n",
            " |         your filename.\n",
            " |      \n",
            " |      :Args:\n",
            " |       - filename: The full path you wish to save your screenshot to. This\n",
            " |         should end with a `.png` extension.\n",
            " |      \n",
            " |      :Usage:\n",
            " |          driver.save_screenshot('/Screenshots/foo.png')\n",
            " |  \n",
            " |  set_page_load_timeout(self, time_to_wait)\n",
            " |      Set the amount of time to wait for a page load to complete\n",
            " |         before throwing an error.\n",
            " |      \n",
            " |      :Args:\n",
            " |       - time_to_wait: The amount of time to wait\n",
            " |      \n",
            " |      :Usage:\n",
            " |          driver.set_page_load_timeout(30)\n",
            " |  \n",
            " |  set_script_timeout(self, time_to_wait)\n",
            " |      Set the amount of time that the script should wait during an\n",
            " |         execute_async_script call before throwing an error.\n",
            " |      \n",
            " |      :Args:\n",
            " |       - time_to_wait: The amount of time to wait (in seconds)\n",
            " |      \n",
            " |      :Usage:\n",
            " |          driver.set_script_timeout(30)\n",
            " |  \n",
            " |  set_window_position(self, x, y, windowHandle='current')\n",
            " |      Sets the x,y position of the current window. (window.moveTo)\n",
            " |      \n",
            " |      :Args:\n",
            " |       - x: the x-coordinate in pixels to set the window position\n",
            " |       - y: the y-coordinate in pixels to set the window position\n",
            " |      \n",
            " |      :Usage:\n",
            " |          driver.set_window_position(0,0)\n",
            " |  \n",
            " |  set_window_rect(self, x=None, y=None, width=None, height=None)\n",
            " |      Sets the x, y coordinates of the window as well as height and width of\n",
            " |      the current window.\n",
            " |      \n",
            " |      :Usage:\n",
            " |          driver.set_window_rect(x=10, y=10)\n",
            " |          driver.set_window_rect(width=100, height=200)\n",
            " |          driver.set_window_rect(x=10, y=10, width=100, height=200)\n",
            " |  \n",
            " |  set_window_size(self, width, height, windowHandle='current')\n",
            " |      Sets the width and height of the current window. (window.resizeTo)\n",
            " |      \n",
            " |      :Args:\n",
            " |       - width: the width in pixels to set the window to\n",
            " |       - height: the height in pixels to set the window to\n",
            " |      \n",
            " |      :Usage:\n",
            " |          driver.set_window_size(800,600)\n",
            " |  \n",
            " |  start_client(self)\n",
            " |      Called before starting a new session. This method may be overridden\n",
            " |      to define custom startup behavior.\n",
            " |  \n",
            " |  start_session(self, capabilities, browser_profile=None)\n",
            " |      Creates a new session with the desired capabilities.\n",
            " |      \n",
            " |      :Args:\n",
            " |       - browser_name - The name of the browser to request.\n",
            " |       - version - Which browser version to request.\n",
            " |       - platform - Which platform to request the browser on.\n",
            " |       - javascript_enabled - Whether the new session should support JavaScript.\n",
            " |       - browser_profile - A selenium.webdriver.firefox.firefox_profile.FirefoxProfile object. Only used if Firefox is requested.\n",
            " |  \n",
            " |  stop_client(self)\n",
            " |      Called after executing a quit command. This method may be overridden\n",
            " |      to define custom shutdown behavior.\n",
            " |  \n",
            " |  switch_to_active_element(self)\n",
            " |      Deprecated use driver.switch_to.active_element\n",
            " |  \n",
            " |  switch_to_alert(self)\n",
            " |      Deprecated use driver.switch_to.alert\n",
            " |  \n",
            " |  switch_to_default_content(self)\n",
            " |      Deprecated use driver.switch_to.default_content\n",
            " |  \n",
            " |  switch_to_frame(self, frame_reference)\n",
            " |      Deprecated use driver.switch_to.frame\n",
            " |  \n",
            " |  switch_to_window(self, window_name)\n",
            " |      Deprecated use driver.switch_to.window\n",
            " |  \n",
            " |  ----------------------------------------------------------------------\n",
            " |  Data descriptors inherited from selenium.webdriver.remote.webdriver.WebDriver:\n",
            " |  \n",
            " |  __dict__\n",
            " |      dictionary for instance variables (if defined)\n",
            " |  \n",
            " |  __weakref__\n",
            " |      list of weak references to the object (if defined)\n",
            " |  \n",
            " |  application_cache\n",
            " |      Returns a ApplicationCache Object to interact with the browser app cache\n",
            " |  \n",
            " |  current_url\n",
            " |      Gets the URL of the current page.\n",
            " |      \n",
            " |      :Usage:\n",
            " |          driver.current_url\n",
            " |  \n",
            " |  current_window_handle\n",
            " |      Returns the handle of the current window.\n",
            " |      \n",
            " |      :Usage:\n",
            " |          driver.current_window_handle\n",
            " |  \n",
            " |  desired_capabilities\n",
            " |      returns the drivers current desired capabilities being used\n",
            " |  \n",
            " |  file_detector\n",
            " |  \n",
            " |  log_types\n",
            " |      Gets a list of the available log types\n",
            " |      \n",
            " |      :Usage:\n",
            " |          driver.log_types\n",
            " |  \n",
            " |  mobile\n",
            " |  \n",
            " |  name\n",
            " |      Returns the name of the underlying browser for this instance.\n",
            " |      \n",
            " |      :Usage:\n",
            " |          name = driver.name\n",
            " |  \n",
            " |  orientation\n",
            " |      Gets the current orientation of the device\n",
            " |      \n",
            " |      :Usage:\n",
            " |          orientation = driver.orientation\n",
            " |  \n",
            " |  page_source\n",
            " |      Gets the source of the current page.\n",
            " |      \n",
            " |      :Usage:\n",
            " |          driver.page_source\n",
            " |  \n",
            " |  switch_to\n",
            " |      :Returns:\n",
            " |          - SwitchTo: an object containing all options to switch focus into\n",
            " |      \n",
            " |      :Usage:\n",
            " |          element = driver.switch_to.active_element\n",
            " |          alert = driver.switch_to.alert\n",
            " |          driver.switch_to.default_content()\n",
            " |          driver.switch_to.frame('frame_name')\n",
            " |          driver.switch_to.frame(1)\n",
            " |          driver.switch_to.frame(driver.find_elements_by_tag_name(\"iframe\")[0])\n",
            " |          driver.switch_to.parent_frame()\n",
            " |          driver.switch_to.window('main')\n",
            " |  \n",
            " |  title\n",
            " |      Returns the title of the current page.\n",
            " |      \n",
            " |      :Usage:\n",
            " |          title = driver.title\n",
            " |  \n",
            " |  window_handles\n",
            " |      Returns the handles of all windows within the current session.\n",
            " |      \n",
            " |      :Usage:\n",
            " |          driver.window_handles\n",
            "\n"
          ],
          "name": "stdout"
        }
      ]
    },
    {
      "cell_type": "code",
      "metadata": {
        "id": "1tDOkvZ87k4R",
        "colab_type": "code",
        "colab": {}
      },
      "source": [
        "# Definir Url de la página que vamos a Scrapear\n",
        "url = \"https://e-consultaruc.sunat.gob.pe/cl-ti-itmrconsruc/frameCriterioBusqueda.jsp\""
      ],
      "execution_count": 0,
      "outputs": []
    },
    {
      "cell_type": "markdown",
      "metadata": {
        "id": "LBu32NqX9jHg",
        "colab_type": "text"
      },
      "source": [
        "- **get(url)**: Carga una página web en la sesión actual del navegador a partir de la url brindada."
      ]
    },
    {
      "cell_type": "code",
      "metadata": {
        "id": "peD3V0Dd94g4",
        "colab_type": "code",
        "colab": {}
      },
      "source": [
        "driver.get(url)"
      ],
      "execution_count": 0,
      "outputs": []
    },
    {
      "cell_type": "markdown",
      "metadata": {
        "id": "lVF09ot39_qV",
        "colab_type": "text"
      },
      "source": [
        "- **page_source**: Propiedad que nos permite obtener el código fuente de la página actual."
      ]
    },
    {
      "cell_type": "code",
      "metadata": {
        "id": "1-Oq9p-L96Rr",
        "colab_type": "code",
        "outputId": "a286e36a-f0ae-428c-d9bf-a01aad1dd9b1",
        "colab": {
          "base_uri": "https://localhost:8080/",
          "height": 3787
        }
      },
      "source": [
        "print(driver.page_source)"
      ],
      "execution_count": 0,
      "outputs": [
        {
          "output_type": "stream",
          "text": [
            "<html xmlns=\"http://www.w3.org/1999/xhtml\"><head>\n",
            "<title>Consulta RUC</title>\n",
            "<link href=\"/a/css/estilos2_0.css\" rel=\"stylesheet\" /><script languaje=\"JavaScript\" src=\"/a/js/js.js\"> </script><script languaje=\"JavaScript\" type=\"text/javascript\">\n",
            "var gCount = 0;\n",
            "var contPag = 0;\n",
            "function goRefresh() {\n",
            " document.mainForm.codigo.value = \"\";\n",
            " document.mainForm.imagen.src=\"captcha?accion=image&amp;nmagic=\" + gCount;\n",
            " gCount = gCount + 1;\n",
            "}\n",
            "\n",
            "\n",
            "function format(type) {\n",
            " var form = document.mainForm;\n",
            " if(type == 0) {\n",
            "   document.getElementById('s1').style.visibility = 'visible'; \n",
            "   document.getElementById('s2').style.visibility = 'hidden';\n",
            "   document.getElementById('s3').style.visibility = 'hidden';\n",
            "   form.search1.maxLength = 11;\n",
            "   form.search1.onkeypress = function(e) {\n",
            "   if (!e) e=window.event;\n",
            "   key = e.keyCode? e.keyCode : e.which&gt;0?e.which:e.keyCode;\n",
            "   if (key == 8 || key==9) return true;\n",
            "   pattern =/[0-9]/;\n",
            "   te = String.fromCharCode(key);\n",
            "   return pattern.test(te);     \n",
            "  }  \n",
            "  form.search1.focus();\n",
            "  form.search1.value = \"\";\n",
            "  \n",
            " }\n",
            " if(type == 1) {\n",
            "   document.getElementById('s2').style.visibility = 'visible'; \n",
            "   document.getElementById('s1').style.visibility = 'hidden';\n",
            "   document.getElementById('s3').style.visibility = 'hidden';\n",
            "   form.search2.maxLength = 16; \n",
            "   form.search2.onkeypress = function(e) {return true;}   \n",
            "   form.search2.focus();\n",
            "   form.search2.value = \"\";\n",
            " }\n",
            " \n",
            " if(type == 2) {\n",
            "   document.getElementById('s3').style.visibility = 'visible'; \n",
            "   document.getElementById('s1').style.visibility = 'hidden';\n",
            "   document.getElementById('s2').style.visibility = 'hidden';\n",
            "   form.search3.maxLength = 100;\n",
            "   form.search3.onkeypress = function(e) {return true;}   \n",
            "   form.search3.focus();\n",
            "   form.search3.value = \"\" ;\n",
            " }\n",
            " \n",
            "// form.search.focus();\n",
            " //form.search.value = \"\"  ;\n",
            "}\n",
            "\n",
            "function verificaDocumento()\n",
            " {\n",
            "   var form = document.mainForm;\n",
            "   var   tipdoc = form.tipdoc.value;\n",
            "   var    numdoc =form.search2.value;  \n",
            "   if (tipdoc==\"1\")\n",
            "    {\n",
            "      if (numdoc.length!=8 )\n",
            "       {\n",
            "          alert(\"El número de documento de identidad debe tener 8 dígitos\");\t\t  \n",
            "          return false;\n",
            "       }\n",
            "\t   else{\n",
            "\t      if ( !esnumero(numdoc) )\n",
            "          {\n",
            "             alert(\"El número de documento de identidad debe tener 8 dígitos\");\t\t  \n",
            "             return false;\n",
            "          }\n",
            "\t   }   \t   \n",
            "    }\t\n",
            "\treturn true; \n",
            "  }\n",
            "  \n",
            "\n",
            "function evalSearch() {\n",
            " var form = document.mainForm;\n",
            " if(form.tQuery[0].checked) {\n",
            "  form.nroRuc.value = form.search1.value;\n",
            "  form.accion.value = \"consPorRuc\";\n",
            "  if(!esrucok(form.nroRuc.value)){\n",
            "    alert('Por favor, ingrese numero de RUC valido.');form.search1.focus();return;\n",
            "  }\n",
            " }\n",
            " else {\n",
            "   if(form.tQuery[2].checked) {\n",
            "     form.accion.value = \"consPorRazonSoc\";\n",
            "     form.razSoc.value = form.search3.value;\n",
            "     if(!longitudmayor(trim(form.razSoc.value),4) || (trim(form.razSoc.value).substring(0,1)=='*')){\n",
            "       alert('La Razón social no es válida ...');form.search3.focus();return;\n",
            "     }\n",
            "\t if ( validar(form.search3.value)==false){\n",
            "\t    alert('Sólo puede ingresar letras y/o números como criterio de búsqueda ...');form.search3.focus();return;\n",
            "\t }\t\n",
            "   \n",
            "   }else {//se trata del tipo y nro del documento\n",
            "     form.nrodoc.value = form.search2.value;\n",
            "     form.accion.value = \"consPorTipdoc\";\n",
            "     if(!longitudmayor(trim(form.nrodoc.value),4) || (trim(form.nrodoc.value).substring(0,1)=='*')){\n",
            "       alert('El Nro del documento no es válida ...');form.search2.focus();return;\n",
            "     } \n",
            "\t  if (verificaDocumento()==false) return; \n",
            "\t  if ( validar2(form.search2.value)==false){\n",
            "\t    alert('Sólo puede ingresar letras  y/o números como criterio de búsqueda ...');form.search2.focus();return;\n",
            "\t  }\t\n",
            "   } \n",
            "   \n",
            " }\n",
            " if(form.contexto.value == 'ti-it'){\n",
            "   if(trim(form.codigo.value).length &lt; 4) {\n",
            "     alert('Ingrese el código que se muestra en la imagen');form.codigo.focus();return;\n",
            "   }\n",
            "  }\n",
            " form.submit();\n",
            "}\n",
            "function   validar(texto) {\n",
            "             x = true;\n",
            "\t\t\t //if (!/^([A-Za-z\\s])*$/.test(texto)){ \n",
            "            if (!/^([A-Za-z0-9\\s\\361\\321@\\\\&amp;\\\\Ü\\\\ü\\\\-\\\\.\\\\,])*$/.test(texto)){               \n",
            "                x = false;\n",
            "             }\n",
            "            return x; \n",
            "}\n",
            "function   validar2(texto) {\n",
            "             x = true;\t\t\t \n",
            "            if (!/^([A-Za-z0-9\\\\-\\\\.\\\\_])*$/.test(texto)){               \n",
            "                x = false;\n",
            "             }\n",
            "            return x; \n",
            "}\n",
            "\n",
            "function getContPag(){\n",
            "return -contPag;\n",
            "}\n",
            "function incContPag(){\n",
            "contPag=contPag+1;\n",
            "}\n",
            "function resetContPag(){\n",
            "contPag=0;\n",
            "}\n",
            "</script></head>\n",
            "\n",
            "\n",
            "\n",
            "<body bgcolor=\"#FFFFFF\" onload=\"JavaScript:format(0)\">\n",
            "    \n",
            "<form target=\"mainFrame\" method=\"post\" name=\"mainForm\" action=\"jcrS00Alias\">\n",
            "\n",
            "   <table class=\"form-table\" cellspacing=\"2\" cellpadding=\"3\" width=\"100%\" border=\"0\">\n",
            "    <tbody>\n",
            "     <tr>\n",
            "      <td>\n",
            "       <table cellspacing=\"2\" cellpadding=\"3\" width=\"100%\" border=\"0\">\n",
            "        <tbody>\n",
            "         <tr>\n",
            "          <td bgcolor=\"#3399cc\" align=\"left\"><b>CRITERIOS DE BÚSQUEDA:</b></td>\n",
            "         </tr>\n",
            "        </tbody>\n",
            "       </table>\n",
            "     <input type=\"hidden\" name=\"accion\" value=\"\" />\n",
            "     <input type=\"hidden\" name=\"razSoc\" value=\"\" />\n",
            "     <input type=\"hidden\" name=\"nroRuc\" value=\"\" />\n",
            "\t <input type=\"hidden\" name=\"nrodoc\" value=\"\" />\n",
            "       <table cellspacing=\"0\" cellpadding=\"0\" width=\"100%\" border=\"0\">\n",
            "       <tbody>\n",
            "            \n",
            "       <input type=\"hidden\" name=\"contexto\" value=\"ti-it\" /> \n",
            "       <tr>\n",
            "         <td width=\"2%\"><input type=\"radio\" name=\"tQuery\" onclick=\"format(0)\" checked=\"\" /></td>\n",
            "         <td class=\"bgn\" width=\"20%\">Número de RUC</td>    \n",
            "\t\t \n",
            "\t\t <td align=\"left\" colspan=\"1\" width=\"30%\">\n",
            "\t\t <div id=\"s1\" style=\"visibility: visible;\">\n",
            "\t\t <input class=\"form-text\" name=\"search1\" size=\"11\" maxlength=\"11\" />\n",
            "\t\t </div>\n",
            "\t\t </td>  \n",
            "\t\t\n",
            "\n",
            "\t\t<!-- <td align=\"left\" rowspan=\"1\" width=\"180\"></td>    -->  \n",
            "         <td class=\"bgn\" rowspan=\"1\" width=\"20%\" valign=\"middle\">Ingrese el código que se muestra en la imagen:</td>\n",
            "         <td align=\"left\" rowspan=\"1\" width=\"13%\"><img name=\"imagen\" src=\"captcha?accion=image\" /></td>\n",
            "         <td align=\"left\" rowspan=\"1\" width=\"10%\" valign=\"center\"><input style=\"text-transform:uppercase;\" type=\"text\" name=\"codigo\" maxlength=\"4\" size=\"4\" onchange=\"this.value=this.value.toUpperCase();\" /></td>\n",
            "         <td rowspan=\"1\" width=\"5%\"><input class=\"form-button\" type=\"button\" value=\"Buscar\" onclick=\"evalSearch();\" /></td>\n",
            "       </tr>\n",
            "\t   <tr>\n",
            "           <td><input type=\"radio\" name=\"tQuery\" onclick=\"format(1)\" /></td>\n",
            "           <td class=\"bgn\">Tipo y Número de Documento de Identidad \n",
            "           <select size=\"1\" name=\"tipdoc\">\t\t\t\t\n",
            "\t\t\t\t\t <option value=\"1\">Documento Nacional de Identidad </option>\n",
            "\t\t\t\t\t <option value=\"4\"> Carnet de Extranjeria </option>\t\t\t\t\t\n",
            "\t\t\t\t\t <option value=\"7\"> Pasaporte </option>\n",
            "\t\t\t\t\t <option value=\"A\"> Ced. Diplomatica de Identidad </option>\n",
            "\t\t\t</select> \n",
            "\t\t\t</td>\n",
            "\t\t\t \n",
            "\t\t\t<td align=\"left\" colspan=\"1\">\n",
            "\t\t\t<div id=\"s2\" style=\"visibility:hidden\">\n",
            "\t\t\t<input class=\"form-text\" name=\"search2\" size=\"16\" />\n",
            "\t\t\t</div>\n",
            "\t\t\t</td> \n",
            "\t\t\t \n",
            "\t\t\t<!--<td align=\"left\" rowspan=\"1\"  colspan=\"2\" width=\"100\"></td>   -->\n",
            "\t\t     <td rowspan=\"1\" align=\"left\"><a href=\"javascript:goRefresh()\">Refrescar codigo</a></td>\n",
            "\t\t  </tr> \n",
            "\t   \n",
            "       <tr>\n",
            "         <td><input type=\"radio\" name=\"tQuery\" onclick=\"format(2)\" /><input type=\"hidden\" name=\"coddpto\" value=\"\" /><input type=\"hidden\" name=\"codprov\" value=\"\" /><input type=\"hidden\" name=\"coddist\" value=\"\" /></td>\n",
            "         <td class=\"bgn\">Nombre ó Razón Social </td>\n",
            "\t\t  \n",
            "\t\t <td align=\"left\" colspan=\"4\">\n",
            "\t\t <div id=\"s3\" style=\"visibility:hidden\">\n",
            "\t\t <input class=\"form-text\" name=\"search3\" size=\"30\" />\n",
            "\t\t  </div>\n",
            "\t\t  </td> \n",
            "\t\t\n",
            "\t\t \n",
            "       </tr>\n",
            "\t   \n",
            "                                           \n",
            "         </tbody>\n",
            "         </table>\n",
            "        </td>\n",
            "       </tr>\n",
            "     </tbody>\n",
            "    </table>\n",
            "</form>\n",
            "\n",
            "</body></html>\n"
          ],
          "name": "stdout"
        }
      ]
    },
    {
      "cell_type": "markdown",
      "metadata": {
        "id": "58sclLEH-Yj0",
        "colab_type": "text"
      },
      "source": [
        "- **find_element_by_class_name(name)**: Método que encuentra un elemento por medio del nombre de la clase de CSS que tiene asociado."
      ]
    },
    {
      "cell_type": "markdown",
      "metadata": {
        "id": "JQS2Wt1ASKyw",
        "colab_type": "text"
      },
      "source": [
        "**Elemento Texto de RUC**"
      ]
    },
    {
      "cell_type": "code",
      "metadata": {
        "id": "SY3K4ismSNxo",
        "colab_type": "code",
        "colab": {}
      },
      "source": [
        "# Por ejemplo, el TextField ruc tiene la clase asociada \"form-text\"\n",
        "ruc_text = driver.find_element_by_class_name(\"form-text\")"
      ],
      "execution_count": 0,
      "outputs": []
    },
    {
      "cell_type": "code",
      "metadata": {
        "id": "XxD9rGtFSVKs",
        "colab_type": "code",
        "outputId": "54a322e5-7522-4465-8a46-096b04e0a309",
        "colab": {
          "base_uri": "https://localhost:8080/",
          "height": 33
        }
      },
      "source": [
        "# ¿Qué valor tiene esta variable?\n",
        "ruc_text"
      ],
      "execution_count": 0,
      "outputs": [
        {
          "output_type": "execute_result",
          "data": {
            "text/plain": [
              "<selenium.webdriver.remote.webelement.WebElement (session=\"022d820e71d34ecc5d2a043ed4f9fc4e\", element=\"0.7934771195448767-1\")>"
            ]
          },
          "metadata": {
            "tags": []
          },
          "execution_count": 117
        }
      ]
    },
    {
      "cell_type": "code",
      "metadata": {
        "id": "eCX98wCJSa5U",
        "colab_type": "code",
        "outputId": "c78e8e55-91ed-445a-c69c-8e01276fd3f3",
        "colab": {
          "base_uri": "https://localhost:8080/",
          "height": 33
        }
      },
      "source": [
        "# Tipo de variable\n",
        "type(ruc_text)"
      ],
      "execution_count": 0,
      "outputs": [
        {
          "output_type": "execute_result",
          "data": {
            "text/plain": [
              "selenium.webdriver.remote.webelement.WebElement"
            ]
          },
          "metadata": {
            "tags": []
          },
          "execution_count": 118
        }
      ]
    },
    {
      "cell_type": "code",
      "metadata": {
        "id": "Ti5rdjxmSdY7",
        "colab_type": "code",
        "outputId": "53684eac-61d4-44c2-bbc4-d538966fd02c",
        "colab": {
          "base_uri": "https://localhost:8080/",
          "height": 33
        }
      },
      "source": [
        "ruc_text.get_property(\"value\")"
      ],
      "execution_count": 0,
      "outputs": [
        {
          "output_type": "execute_result",
          "data": {
            "text/plain": [
              "''"
            ]
          },
          "metadata": {
            "tags": []
          },
          "execution_count": 119
        }
      ]
    },
    {
      "cell_type": "markdown",
      "metadata": {
        "id": "KxKtGP7DS8Cl",
        "colab_type": "text"
      },
      "source": [
        "- **send_keys(value)**: Método que simula el tipear un elemento con un valor."
      ]
    },
    {
      "cell_type": "code",
      "metadata": {
        "id": "_b9QLpHgSjFM",
        "colab_type": "code",
        "colab": {}
      },
      "source": [
        "ruc_text.send_keys(\"20520972740\")"
      ],
      "execution_count": 0,
      "outputs": []
    },
    {
      "cell_type": "code",
      "metadata": {
        "id": "i6ffJ-moSjAE",
        "colab_type": "code",
        "outputId": "1929d1ff-b06c-4d54-9e1b-c6134265d539",
        "colab": {
          "base_uri": "https://localhost:8080/",
          "height": 33
        }
      },
      "source": [
        "ruc_text.get_property(\"value\")"
      ],
      "execution_count": 0,
      "outputs": [
        {
          "output_type": "execute_result",
          "data": {
            "text/plain": [
              "'20520972740'"
            ]
          },
          "metadata": {
            "tags": []
          },
          "execution_count": 124
        }
      ]
    },
    {
      "cell_type": "code",
      "metadata": {
        "id": "FhPnA25DSvaG",
        "colab_type": "code",
        "colab": {}
      },
      "source": [
        "ruc_text.clear()"
      ],
      "execution_count": 0,
      "outputs": []
    },
    {
      "cell_type": "markdown",
      "metadata": {
        "id": "iO2VJUJWSDJX",
        "colab_type": "text"
      },
      "source": [
        "**Elemento Buscar**"
      ]
    },
    {
      "cell_type": "code",
      "metadata": {
        "id": "UZ0rMgjN-Z35",
        "colab_type": "code",
        "colab": {}
      },
      "source": [
        "# Por ejemplo, el botón buscar tiene la clase asociada \"form-button\"\n",
        "button = driver.find_element_by_class_name(\"form-button\")"
      ],
      "execution_count": 0,
      "outputs": []
    },
    {
      "cell_type": "code",
      "metadata": {
        "id": "glERwUMMNfeF",
        "colab_type": "code",
        "outputId": "a3514367-deb2-434f-86b3-b84137cf2c59",
        "colab": {
          "base_uri": "https://localhost:8080/",
          "height": 33
        }
      },
      "source": [
        "# ¿Qué valor tiene esta variable?\n",
        "button"
      ],
      "execution_count": 0,
      "outputs": [
        {
          "output_type": "execute_result",
          "data": {
            "text/plain": [
              "<selenium.webdriver.remote.webelement.WebElement (session=\"022d820e71d34ecc5d2a043ed4f9fc4e\", element=\"0.7934771195448767-2\")>"
            ]
          },
          "metadata": {
            "tags": []
          },
          "execution_count": 126
        }
      ]
    },
    {
      "cell_type": "code",
      "metadata": {
        "id": "ZYeBV8vMNgug",
        "colab_type": "code",
        "outputId": "6dd2c504-aa70-4a03-a641-02d627e54189",
        "colab": {
          "base_uri": "https://localhost:8080/",
          "height": 33
        }
      },
      "source": [
        "# Tipo de variable\n",
        "type(button)"
      ],
      "execution_count": 0,
      "outputs": [
        {
          "output_type": "execute_result",
          "data": {
            "text/plain": [
              "selenium.webdriver.remote.webelement.WebElement"
            ]
          },
          "metadata": {
            "tags": []
          },
          "execution_count": 127
        }
      ]
    },
    {
      "cell_type": "code",
      "metadata": {
        "id": "EIbR6Pc7NfZ6",
        "colab_type": "code",
        "outputId": "fc27e1d5-1d50-4bd3-fe43-04db1fb51211",
        "colab": {
          "base_uri": "https://localhost:8080/",
          "height": 33
        }
      },
      "source": [
        "# Verificar si el botón se muestra en la página o está oculto\n",
        "button.is_displayed()"
      ],
      "execution_count": 0,
      "outputs": [
        {
          "output_type": "execute_result",
          "data": {
            "text/plain": [
              "True"
            ]
          },
          "metadata": {
            "tags": []
          },
          "execution_count": 128
        }
      ]
    },
    {
      "cell_type": "code",
      "metadata": {
        "id": "kGRTlR_UNvIr",
        "colab_type": "code",
        "outputId": "4b24921c-9e01-49f6-ed27-df53903a2311",
        "colab": {
          "base_uri": "https://localhost:8080/",
          "height": 33
        }
      },
      "source": [
        "# Obtener algun valor del CSS asociado\n",
        "button.value_of_css_property(\"border-color\")"
      ],
      "execution_count": 0,
      "outputs": [
        {
          "output_type": "execute_result",
          "data": {
            "text/plain": [
              "'rgb(102, 153, 204)'"
            ]
          },
          "metadata": {
            "tags": []
          },
          "execution_count": 129
        }
      ]
    },
    {
      "cell_type": "code",
      "metadata": {
        "id": "PwKpYcSnOOW1",
        "colab_type": "code",
        "outputId": "8421a786-268b-4986-ac4c-92b000d9ecd0",
        "colab": {
          "base_uri": "https://localhost:8080/",
          "height": 33
        }
      },
      "source": [
        "# Obtener algun atributo del elemento. Por ejemplo el tipo de elemento\n",
        "button.get_attribute(\"type\")"
      ],
      "execution_count": 0,
      "outputs": [
        {
          "output_type": "execute_result",
          "data": {
            "text/plain": [
              "'button'"
            ]
          },
          "metadata": {
            "tags": []
          },
          "execution_count": 130
        }
      ]
    },
    {
      "cell_type": "code",
      "metadata": {
        "id": "i61iTkOBOtBw",
        "colab_type": "code",
        "outputId": "0f0982ee-5338-405d-cb89-5516debefdb3",
        "colab": {
          "base_uri": "https://localhost:8080/",
          "height": 33
        }
      },
      "source": [
        "# Obtener algun atributo del elemento. Por ejemplo el atributo onclick, que ejecuta un código JavaScript cuando damos click al elemento\n",
        "button.get_attribute(\"onClick\")"
      ],
      "execution_count": 0,
      "outputs": [
        {
          "output_type": "execute_result",
          "data": {
            "text/plain": [
              "'evalSearch();'"
            ]
          },
          "metadata": {
            "tags": []
          },
          "execution_count": 131
        }
      ]
    },
    {
      "cell_type": "markdown",
      "metadata": {
        "id": "boMHWwC4TvrI",
        "colab_type": "text"
      },
      "source": [
        "**Elemento Imagen Captcha**"
      ]
    },
    {
      "cell_type": "code",
      "metadata": {
        "id": "6jf2Hj2NQtW8",
        "colab_type": "code",
        "colab": {}
      },
      "source": [
        "# Por ejemplo, el elemento donde se encuentra la imagen del captcha tiene el siguiente código xpath\n",
        "captcha = driver.find_element_by_xpath(\"//img[@src='captcha?accion=image']\")"
      ],
      "execution_count": 0,
      "outputs": []
    },
    {
      "cell_type": "code",
      "metadata": {
        "id": "oaMqiutmT0tv",
        "colab_type": "code",
        "outputId": "2b8132b8-e51d-488d-afab-550afbf6a948",
        "colab": {
          "base_uri": "https://localhost:8080/",
          "height": 33
        }
      },
      "source": [
        "captcha.screenshot(filename=\"sh01.png\")"
      ],
      "execution_count": 0,
      "outputs": [
        {
          "output_type": "execute_result",
          "data": {
            "text/plain": [
              "True"
            ]
          },
          "metadata": {
            "tags": []
          },
          "execution_count": 133
        }
      ]
    },
    {
      "cell_type": "code",
      "metadata": {
        "id": "Nqxg7sFuT0rf",
        "colab_type": "code",
        "outputId": "6ebaa8df-899b-4097-f63b-6b2ed78094df",
        "colab": {
          "base_uri": "https://localhost:8080/",
          "height": 66
        }
      },
      "source": [
        "!ls -l"
      ],
      "execution_count": 0,
      "outputs": [
        {
          "output_type": "stream",
          "text": [
            "total 12\n",
            "drwxr-xr-x 1 root root 4096 May 15 16:23 sample_data\n",
            "-rw-r--r-- 1 root root 7499 May 16 21:18 sh01.png\n"
          ],
          "name": "stdout"
        }
      ]
    },
    {
      "cell_type": "code",
      "metadata": {
        "id": "kbtMyVfGWE-P",
        "colab_type": "code",
        "colab": {}
      },
      "source": [
        "from IPython.display import Image as ImageDisplay"
      ],
      "execution_count": 0,
      "outputs": []
    },
    {
      "cell_type": "code",
      "metadata": {
        "id": "jKPoiCBfWE8S",
        "colab_type": "code",
        "outputId": "f89bb3f0-9469-4e49-d780-0b7ec11483cc",
        "colab": {
          "base_uri": "https://localhost:8080/",
          "height": 67
        }
      },
      "source": [
        "Image(filename='sh01.png')"
      ],
      "execution_count": 0,
      "outputs": [
        {
          "output_type": "execute_result",
          "data": {
            "image/png": "[encoded data removed]",
            "text/plain": [
              "<IPython.core.display.Image object>"
            ]
          },
          "metadata": {
            "tags": []
          },
          "execution_count": 136
        }
      ]
    },
    {
      "cell_type": "code",
      "metadata": {
        "id": "NBmF8NWqT0yq",
        "colab_type": "code",
        "outputId": "883ef0b1-ec05-477e-c4ba-201fa59a0a60",
        "colab": {
          "base_uri": "https://localhost:8080/",
          "height": 33
        }
      },
      "source": [
        "type(captcha.screenshot_as_png)"
      ],
      "execution_count": 0,
      "outputs": [
        {
          "output_type": "execute_result",
          "data": {
            "text/plain": [
              "bytes"
            ]
          },
          "metadata": {
            "tags": []
          },
          "execution_count": 137
        }
      ]
    },
    {
      "cell_type": "code",
      "metadata": {
        "id": "5Y3Gc8dYT0wP",
        "colab_type": "code",
        "outputId": "c5b01512-be94-4f1d-99e1-7ff7c3beda61",
        "colab": {
          "base_uri": "https://localhost:8080/",
          "height": 33
        }
      },
      "source": [
        "type(captcha.screenshot_as_base64)"
      ],
      "execution_count": 0,
      "outputs": [
        {
          "output_type": "execute_result",
          "data": {
            "text/plain": [
              "str"
            ]
          },
          "metadata": {
            "tags": []
          },
          "execution_count": 138
        }
      ]
    },
    {
      "cell_type": "code",
      "metadata": {
        "id": "2ypYdiZJXfgu",
        "colab_type": "code",
        "colab": {}
      },
      "source": [
        "import pytesseract\n",
        "\n",
        "from PIL import Image"
      ],
      "execution_count": 0,
      "outputs": []
    },
    {
      "cell_type": "code",
      "metadata": {
        "id": "aVvxa8wJXz7v",
        "colab_type": "code",
        "colab": {}
      },
      "source": [
        "img = Image.open(\"sh01.png\")"
      ],
      "execution_count": 0,
      "outputs": []
    },
    {
      "cell_type": "code",
      "metadata": {
        "id": "pX7yKXoLXcqi",
        "colab_type": "code",
        "outputId": "fc5591c0-674d-4961-82dd-0a0b0179b192",
        "colab": {
          "base_uri": "https://localhost:8080/",
          "height": 33
        }
      },
      "source": [
        "captcha_value_ocr = pytesseract.image_to_string(img)\n",
        "captcha_value_ocr"
      ],
      "execution_count": 0,
      "outputs": [
        {
          "output_type": "execute_result",
          "data": {
            "text/plain": [
              "'VPQV'"
            ]
          },
          "metadata": {
            "tags": []
          },
          "execution_count": 141
        }
      ]
    },
    {
      "cell_type": "markdown",
      "metadata": {
        "id": "b8opkY0_blyb",
        "colab_type": "text"
      },
      "source": [
        "**Elemento Texto Captcha**"
      ]
    },
    {
      "cell_type": "code",
      "metadata": {
        "id": "eO41k8T9Xcn2",
        "colab_type": "code",
        "colab": {}
      },
      "source": [
        "captcha_input = driver.find_element_by_xpath('//input[@name=\"codigo\"]')"
      ],
      "execution_count": 0,
      "outputs": []
    },
    {
      "cell_type": "code",
      "metadata": {
        "id": "nk_i-4fOXckz",
        "colab_type": "code",
        "colab": {}
      },
      "source": [
        "captcha_input.send_keys(captcha_value_ocr)"
      ],
      "execution_count": 0,
      "outputs": []
    },
    {
      "cell_type": "code",
      "metadata": {
        "id": "oGbDO5KZXciY",
        "colab_type": "code",
        "outputId": "28cb0542-7e62-4839-d2a7-6ad9d18c28ff",
        "colab": {
          "base_uri": "https://localhost:8080/",
          "height": 33
        }
      },
      "source": [
        "captcha_input.get_property(\"value\")"
      ],
      "execution_count": 0,
      "outputs": [
        {
          "output_type": "execute_result",
          "data": {
            "text/plain": [
              "'VPQV'"
            ]
          },
          "metadata": {
            "tags": []
          },
          "execution_count": 144
        }
      ]
    },
    {
      "cell_type": "code",
      "metadata": {
        "id": "384C4Xe2cUzv",
        "colab_type": "code",
        "colab": {}
      },
      "source": [
        "button.click()"
      ],
      "execution_count": 0,
      "outputs": []
    },
    {
      "cell_type": "code",
      "metadata": {
        "id": "1Ra9Z8cJcUw4",
        "colab_type": "code",
        "outputId": "1c90ec58-e69b-40d4-fb21-f14d3e3e8119",
        "colab": {
          "base_uri": "https://localhost:8080/",
          "height": 3787
        }
      },
      "source": [
        "print(driver.page_source)"
      ],
      "execution_count": 0,
      "outputs": [
        {
          "output_type": "stream",
          "text": [
            "<html xmlns=\"http://www.w3.org/1999/xhtml\"><head>\n",
            "<title>Consulta RUC</title>\n",
            "<link href=\"/a/css/estilos2_0.css\" rel=\"stylesheet\" /><script languaje=\"JavaScript\" src=\"/a/js/js.js\"> </script><script languaje=\"JavaScript\" type=\"text/javascript\">\n",
            "var gCount = 0;\n",
            "var contPag = 0;\n",
            "function goRefresh() {\n",
            " document.mainForm.codigo.value = \"\";\n",
            " document.mainForm.imagen.src=\"captcha?accion=image&amp;nmagic=\" + gCount;\n",
            " gCount = gCount + 1;\n",
            "}\n",
            "\n",
            "\n",
            "function format(type) {\n",
            " var form = document.mainForm;\n",
            " if(type == 0) {\n",
            "   document.getElementById('s1').style.visibility = 'visible'; \n",
            "   document.getElementById('s2').style.visibility = 'hidden';\n",
            "   document.getElementById('s3').style.visibility = 'hidden';\n",
            "   form.search1.maxLength = 11;\n",
            "   form.search1.onkeypress = function(e) {\n",
            "   if (!e) e=window.event;\n",
            "   key = e.keyCode? e.keyCode : e.which&gt;0?e.which:e.keyCode;\n",
            "   if (key == 8 || key==9) return true;\n",
            "   pattern =/[0-9]/;\n",
            "   te = String.fromCharCode(key);\n",
            "   return pattern.test(te);     \n",
            "  }  \n",
            "  form.search1.focus();\n",
            "  form.search1.value = \"\";\n",
            "  \n",
            " }\n",
            " if(type == 1) {\n",
            "   document.getElementById('s2').style.visibility = 'visible'; \n",
            "   document.getElementById('s1').style.visibility = 'hidden';\n",
            "   document.getElementById('s3').style.visibility = 'hidden';\n",
            "   form.search2.maxLength = 16; \n",
            "   form.search2.onkeypress = function(e) {return true;}   \n",
            "   form.search2.focus();\n",
            "   form.search2.value = \"\";\n",
            " }\n",
            " \n",
            " if(type == 2) {\n",
            "   document.getElementById('s3').style.visibility = 'visible'; \n",
            "   document.getElementById('s1').style.visibility = 'hidden';\n",
            "   document.getElementById('s2').style.visibility = 'hidden';\n",
            "   form.search3.maxLength = 100;\n",
            "   form.search3.onkeypress = function(e) {return true;}   \n",
            "   form.search3.focus();\n",
            "   form.search3.value = \"\" ;\n",
            " }\n",
            " \n",
            "// form.search.focus();\n",
            " //form.search.value = \"\"  ;\n",
            "}\n",
            "\n",
            "function verificaDocumento()\n",
            " {\n",
            "   var form = document.mainForm;\n",
            "   var   tipdoc = form.tipdoc.value;\n",
            "   var    numdoc =form.search2.value;  \n",
            "   if (tipdoc==\"1\")\n",
            "    {\n",
            "      if (numdoc.length!=8 )\n",
            "       {\n",
            "          alert(\"El número de documento de identidad debe tener 8 dígitos\");\t\t  \n",
            "          return false;\n",
            "       }\n",
            "\t   else{\n",
            "\t      if ( !esnumero(numdoc) )\n",
            "          {\n",
            "             alert(\"El número de documento de identidad debe tener 8 dígitos\");\t\t  \n",
            "             return false;\n",
            "          }\n",
            "\t   }   \t   \n",
            "    }\t\n",
            "\treturn true; \n",
            "  }\n",
            "  \n",
            "\n",
            "function evalSearch() {\n",
            " var form = document.mainForm;\n",
            " if(form.tQuery[0].checked) {\n",
            "  form.nroRuc.value = form.search1.value;\n",
            "  form.accion.value = \"consPorRuc\";\n",
            "  if(!esrucok(form.nroRuc.value)){\n",
            "    alert('Por favor, ingrese numero de RUC valido.');form.search1.focus();return;\n",
            "  }\n",
            " }\n",
            " else {\n",
            "   if(form.tQuery[2].checked) {\n",
            "     form.accion.value = \"consPorRazonSoc\";\n",
            "     form.razSoc.value = form.search3.value;\n",
            "     if(!longitudmayor(trim(form.razSoc.value),4) || (trim(form.razSoc.value).substring(0,1)=='*')){\n",
            "       alert('La Razón social no es válida ...');form.search3.focus();return;\n",
            "     }\n",
            "\t if ( validar(form.search3.value)==false){\n",
            "\t    alert('Sólo puede ingresar letras y/o números como criterio de búsqueda ...');form.search3.focus();return;\n",
            "\t }\t\n",
            "   \n",
            "   }else {//se trata del tipo y nro del documento\n",
            "     form.nrodoc.value = form.search2.value;\n",
            "     form.accion.value = \"consPorTipdoc\";\n",
            "     if(!longitudmayor(trim(form.nrodoc.value),4) || (trim(form.nrodoc.value).substring(0,1)=='*')){\n",
            "       alert('El Nro del documento no es válida ...');form.search2.focus();return;\n",
            "     } \n",
            "\t  if (verificaDocumento()==false) return; \n",
            "\t  if ( validar2(form.search2.value)==false){\n",
            "\t    alert('Sólo puede ingresar letras  y/o números como criterio de búsqueda ...');form.search2.focus();return;\n",
            "\t  }\t\n",
            "   } \n",
            "   \n",
            " }\n",
            " if(form.contexto.value == 'ti-it'){\n",
            "   if(trim(form.codigo.value).length &lt; 4) {\n",
            "     alert('Ingrese el código que se muestra en la imagen');form.codigo.focus();return;\n",
            "   }\n",
            "  }\n",
            " form.submit();\n",
            "}\n",
            "function   validar(texto) {\n",
            "             x = true;\n",
            "\t\t\t //if (!/^([A-Za-z\\s])*$/.test(texto)){ \n",
            "            if (!/^([A-Za-z0-9\\s\\361\\321@\\\\&amp;\\\\Ü\\\\ü\\\\-\\\\.\\\\,])*$/.test(texto)){               \n",
            "                x = false;\n",
            "             }\n",
            "            return x; \n",
            "}\n",
            "function   validar2(texto) {\n",
            "             x = true;\t\t\t \n",
            "            if (!/^([A-Za-z0-9\\\\-\\\\.\\\\_])*$/.test(texto)){               \n",
            "                x = false;\n",
            "             }\n",
            "            return x; \n",
            "}\n",
            "\n",
            "function getContPag(){\n",
            "return -contPag;\n",
            "}\n",
            "function incContPag(){\n",
            "contPag=contPag+1;\n",
            "}\n",
            "function resetContPag(){\n",
            "contPag=0;\n",
            "}\n",
            "</script></head>\n",
            "\n",
            "\n",
            "\n",
            "<body bgcolor=\"#FFFFFF\" onload=\"JavaScript:format(0)\">\n",
            "    \n",
            "<form target=\"mainFrame\" method=\"post\" name=\"mainForm\" action=\"jcrS00Alias\">\n",
            "\n",
            "   <table class=\"form-table\" cellspacing=\"2\" cellpadding=\"3\" width=\"100%\" border=\"0\">\n",
            "    <tbody>\n",
            "     <tr>\n",
            "      <td>\n",
            "       <table cellspacing=\"2\" cellpadding=\"3\" width=\"100%\" border=\"0\">\n",
            "        <tbody>\n",
            "         <tr>\n",
            "          <td bgcolor=\"#3399cc\" align=\"left\"><b>CRITERIOS DE BÚSQUEDA:</b></td>\n",
            "         </tr>\n",
            "        </tbody>\n",
            "       </table>\n",
            "     <input type=\"hidden\" name=\"accion\" value=\"consPorRuc\" />\n",
            "     <input type=\"hidden\" name=\"razSoc\" value=\"\" />\n",
            "     <input type=\"hidden\" name=\"nroRuc\" value=\"20520972740\" />\n",
            "\t <input type=\"hidden\" name=\"nrodoc\" value=\"\" />\n",
            "       <table cellspacing=\"0\" cellpadding=\"0\" width=\"100%\" border=\"0\">\n",
            "       <tbody>\n",
            "            \n",
            "       <input type=\"hidden\" name=\"contexto\" value=\"ti-it\" /> \n",
            "       <tr>\n",
            "         <td width=\"2%\"><input type=\"radio\" name=\"tQuery\" onclick=\"format(0)\" checked=\"\" /></td>\n",
            "         <td class=\"bgn\" width=\"20%\">Número de RUC</td>    \n",
            "\t\t \n",
            "\t\t <td align=\"left\" colspan=\"1\" width=\"30%\">\n",
            "\t\t <div id=\"s1\" style=\"visibility: visible;\">\n",
            "\t\t <input class=\"form-text\" name=\"search1\" size=\"11\" maxlength=\"11\" />\n",
            "\t\t </div>\n",
            "\t\t </td>  \n",
            "\t\t\n",
            "\n",
            "\t\t<!-- <td align=\"left\" rowspan=\"1\" width=\"180\"></td>    -->  \n",
            "         <td class=\"bgn\" rowspan=\"1\" width=\"20%\" valign=\"middle\">Ingrese el código que se muestra en la imagen:</td>\n",
            "         <td align=\"left\" rowspan=\"1\" width=\"13%\"><img name=\"imagen\" src=\"captcha?accion=image\" /></td>\n",
            "         <td align=\"left\" rowspan=\"1\" width=\"10%\" valign=\"center\"><input style=\"text-transform:uppercase;\" type=\"text\" name=\"codigo\" maxlength=\"4\" size=\"4\" onchange=\"this.value=this.value.toUpperCase();\" /></td>\n",
            "         <td rowspan=\"1\" width=\"5%\"><input class=\"form-button\" type=\"button\" value=\"Buscar\" onclick=\"evalSearch();\" /></td>\n",
            "       </tr>\n",
            "\t   <tr>\n",
            "           <td><input type=\"radio\" name=\"tQuery\" onclick=\"format(1)\" /></td>\n",
            "           <td class=\"bgn\">Tipo y Número de Documento de Identidad \n",
            "           <select size=\"1\" name=\"tipdoc\">\t\t\t\t\n",
            "\t\t\t\t\t <option value=\"1\">Documento Nacional de Identidad </option>\n",
            "\t\t\t\t\t <option value=\"4\"> Carnet de Extranjeria </option>\t\t\t\t\t\n",
            "\t\t\t\t\t <option value=\"7\"> Pasaporte </option>\n",
            "\t\t\t\t\t <option value=\"A\"> Ced. Diplomatica de Identidad </option>\n",
            "\t\t\t</select> \n",
            "\t\t\t</td>\n",
            "\t\t\t \n",
            "\t\t\t<td align=\"left\" colspan=\"1\">\n",
            "\t\t\t<div id=\"s2\" style=\"visibility:hidden\">\n",
            "\t\t\t<input class=\"form-text\" name=\"search2\" size=\"16\" />\n",
            "\t\t\t</div>\n",
            "\t\t\t</td> \n",
            "\t\t\t \n",
            "\t\t\t<!--<td align=\"left\" rowspan=\"1\"  colspan=\"2\" width=\"100\"></td>   -->\n",
            "\t\t     <td rowspan=\"1\" align=\"left\"><a href=\"javascript:goRefresh()\">Refrescar codigo</a></td>\n",
            "\t\t  </tr> \n",
            "\t   \n",
            "       <tr>\n",
            "         <td><input type=\"radio\" name=\"tQuery\" onclick=\"format(2)\" /><input type=\"hidden\" name=\"coddpto\" value=\"\" /><input type=\"hidden\" name=\"codprov\" value=\"\" /><input type=\"hidden\" name=\"coddist\" value=\"\" /></td>\n",
            "         <td class=\"bgn\">Nombre ó Razón Social </td>\n",
            "\t\t  \n",
            "\t\t <td align=\"left\" colspan=\"4\">\n",
            "\t\t <div id=\"s3\" style=\"visibility:hidden\">\n",
            "\t\t <input class=\"form-text\" name=\"search3\" size=\"30\" />\n",
            "\t\t  </div>\n",
            "\t\t  </td> \n",
            "\t\t\n",
            "\t\t \n",
            "       </tr>\n",
            "\t   \n",
            "                                           \n",
            "         </tbody>\n",
            "         </table>\n",
            "        </td>\n",
            "       </tr>\n",
            "     </tbody>\n",
            "    </table>\n",
            "</form>\n",
            "\n",
            "</body></html>\n"
          ],
          "name": "stdout"
        }
      ]
    },
    {
      "cell_type": "code",
      "metadata": {
        "id": "ju428PWScUrt",
        "colab_type": "code",
        "colab": {}
      },
      "source": [
        "driver.switch_to.window(\"CDwindow-7727487FAD533B540A2F916B91199FCF\")"
      ],
      "execution_count": 0,
      "outputs": []
    },
    {
      "cell_type": "code",
      "metadata": {
        "id": "nL_p6Ia_cUuc",
        "colab_type": "code",
        "outputId": "e3bc7171-7a05-43bd-b080-c1ff2c9033c9",
        "colab": {
          "base_uri": "https://localhost:8080/",
          "height": 33
        }
      },
      "source": [
        "driver.title"
      ],
      "execution_count": 0,
      "outputs": [
        {
          "output_type": "execute_result",
          "data": {
            "text/plain": [
              "'Consulta RUC'"
            ]
          },
          "metadata": {
            "tags": []
          },
          "execution_count": 115
        }
      ]
    },
    {
      "cell_type": "code",
      "metadata": {
        "id": "ecSwerHagRIe",
        "colab_type": "code",
        "colab": {}
      },
      "source": [
        "driver.refresh()"
      ],
      "execution_count": 0,
      "outputs": []
    },
    {
      "cell_type": "code",
      "metadata": {
        "id": "BVfDYYI9dod2",
        "colab_type": "code",
        "colab": {}
      },
      "source": [
        "driver.close()"
      ],
      "execution_count": 0,
      "outputs": []
    },
    {
      "cell_type": "code",
      "metadata": {
        "id": "nKycrm9RcLBQ",
        "colab_type": "code",
        "outputId": "c9a1a0bc-b874-4379-fb4f-98fab218353e",
        "colab": {
          "base_uri": "https://localhost:8080/",
          "height": 50
        }
      },
      "source": [
        "driver.window_handles"
      ],
      "execution_count": 0,
      "outputs": [
        {
          "output_type": "execute_result",
          "data": {
            "text/plain": [
              "['CDwindow-7727487FAD533B540A2F916B91199FCF',\n",
              " 'CDwindow-82797EA09CD1FF3E1001FF991BA8F0B4']"
            ]
          },
          "metadata": {
            "tags": []
          },
          "execution_count": 147
        }
      ]
    },
    {
      "cell_type": "code",
      "metadata": {
        "id": "G53oXuoOg7ex",
        "colab_type": "code",
        "colab": {}
      },
      "source": [
        "driver.switch_to.window('CDwindow-82797EA09CD1FF3E1001FF991BA8F0B4')"
      ],
      "execution_count": 0,
      "outputs": []
    },
    {
      "cell_type": "code",
      "metadata": {
        "id": "uOm84T6jg7cf",
        "colab_type": "code",
        "outputId": "16001345-9382-43b9-94f4-5abe70861d36",
        "colab": {
          "base_uri": "https://localhost:8080/",
          "height": 33
        }
      },
      "source": [
        "driver.title"
      ],
      "execution_count": 0,
      "outputs": [
        {
          "output_type": "execute_result",
          "data": {
            "text/plain": [
              "'Consulta RUC'"
            ]
          },
          "metadata": {
            "tags": []
          },
          "execution_count": 149
        }
      ]
    },
    {
      "cell_type": "code",
      "metadata": {
        "id": "NCJ0OSmvg7aR",
        "colab_type": "code",
        "colab": {}
      },
      "source": [
        "#print(driver.page_source)"
      ],
      "execution_count": 0,
      "outputs": []
    },
    {
      "cell_type": "code",
      "metadata": {
        "id": "YY3VL_ZPjjce",
        "colab_type": "code",
        "colab": {}
      },
      "source": [
        "# importar la librería BeautifulSoup\n",
        "from bs4 import BeautifulSoup\n",
        "\n",
        "import re"
      ],
      "execution_count": 0,
      "outputs": []
    },
    {
      "cell_type": "code",
      "metadata": {
        "id": "xStcrsjnjooe",
        "colab_type": "code",
        "colab": {}
      },
      "source": [
        "soup = BeautifulSoup(markup=driver.page_source, features='html.parser')"
      ],
      "execution_count": 0,
      "outputs": []
    },
    {
      "cell_type": "code",
      "metadata": {
        "id": "uRNq-zH9j3yB",
        "colab_type": "code",
        "colab": {}
      },
      "source": [
        "table = soup.find(name=\"table\", attrs={\"class\": \"form-table\"}).find(\"tbody\")"
      ],
      "execution_count": 0,
      "outputs": []
    },
    {
      "cell_type": "code",
      "metadata": {
        "id": "Rs_dVob2mP41",
        "colab_type": "code",
        "outputId": "987ff216-ada5-453a-b324-134a6d3083ef",
        "colab": {
          "base_uri": "https://localhost:8080/",
          "height": 82
        }
      },
      "source": [
        "table.find_next()"
      ],
      "execution_count": 0,
      "outputs": [
        {
          "output_type": "execute_result",
          "data": {
            "text/plain": [
              "<tr>\n",
              "<td class=\"bgn\" colspan=\"1\" width=\"18%\">Número de RUC: </td>\n",
              "<td class=\"bg\" colspan=\"3\">20520972740 - J &amp; J DATA MINING CONSULTING SOCIEDAD ANONIMA CERRADA</td>\n",
              "</tr>"
            ]
          },
          "metadata": {
            "tags": []
          },
          "execution_count": 183
        }
      ]
    },
    {
      "cell_type": "code",
      "metadata": {
        "id": "LEZeUaZ-mb3H",
        "colab_type": "code",
        "outputId": "e78f0396-fc2c-4a5d-ac43-385b024b55af",
        "colab": {
          "base_uri": "https://localhost:8080/",
          "height": 82
        }
      },
      "source": [
        "table.find_next().find_next_sibling()"
      ],
      "execution_count": 0,
      "outputs": [
        {
          "output_type": "execute_result",
          "data": {
            "text/plain": [
              "<tr>\n",
              "<td class=\"bgn\" colspan=\"1\">Tipo Contribuyente: </td>\n",
              "<td class=\"bg\" colspan=\"3\">SOCIEDAD ANONIMA CERRADA</td>\n",
              "</tr>"
            ]
          },
          "metadata": {
            "tags": []
          },
          "execution_count": 182
        }
      ]
    },
    {
      "cell_type": "code",
      "metadata": {
        "id": "aoG7f-ULmin8",
        "colab_type": "code",
        "outputId": "7b9bcb19-93c4-455f-e559-a4c133d08233",
        "colab": {
          "base_uri": "https://localhost:8080/",
          "height": 82
        }
      },
      "source": [
        "table.find_next().find_next_sibling().find_next_sibling()"
      ],
      "execution_count": 0,
      "outputs": [
        {
          "output_type": "execute_result",
          "data": {
            "text/plain": [
              "<tr>\n",
              "<td class=\"bgn\" colspan=\"1\">Nombre Comercial: </td>\n",
              "<td class=\"bg\" colspan=\"1\">-</td>\n",
              "</tr>"
            ]
          },
          "metadata": {
            "tags": []
          },
          "execution_count": 184
        }
      ]
    },
    {
      "cell_type": "code",
      "metadata": {
        "id": "hpJDIm7bqrmI",
        "colab_type": "code",
        "colab": {}
      },
      "source": [
        "pattern_dict = {\n",
        "    'ruc': 'n[ú|u]mero\\s+de\\s+ruc:\\s+',\n",
        "    'tipo_contribuyente': 'tipo\\s+contribuyente:\\s+',\n",
        "    'estado_contribuyente': 'estado\\s+del\\s+contribuyente:\\s+',\n",
        "    'condicion_contribuyente': 'condici[ó|o]n\\s+del\\s+contribuyente:',\n",
        "    'nombre_comercial': 'nombre\\s+comercial:\\s+',\n",
        "    'actividad_comercio_exterior': 'actividad\\s+de\\s+comercio\\s+exterior:'\n",
        "}"
      ],
      "execution_count": 0,
      "outputs": []
    },
    {
      "cell_type": "code",
      "metadata": {
        "id": "GkSyONW4oxaj",
        "colab_type": "code",
        "outputId": "2c215154-e658-4a5d-df65-60efe0cb38a3",
        "colab": {
          "base_uri": "https://localhost:8080/",
          "height": 115
        }
      },
      "source": [
        "for var, pattern in pattern_dict.items():\n",
        "  print(var, \": \", soup.find(name='td', attrs={'class':'bgn'}, text=re.compile(pattern, re.IGNORECASE)).find_next_sibling().get_text().strip())"
      ],
      "execution_count": 0,
      "outputs": [
        {
          "output_type": "stream",
          "text": [
            "ruc :  20520972740 - J & J DATA MINING CONSULTING SOCIEDAD ANONIMA CERRADA\n",
            "tipo_contribuyente :  SOCIEDAD ANONIMA CERRADA\n",
            "estado_contribuyente :  ACTIVO\n",
            "condicion_contribuyente :  HABIDO\n",
            "nombre_comercial :  -\n",
            "actividad_comercio_exterior :  SIN ACTIVIDAD\n"
          ],
          "name": "stdout"
        }
      ]
    },
    {
      "cell_type": "code",
      "metadata": {
        "id": "qTWKW4Ah2bGJ",
        "colab_type": "code",
        "colab": {}
      },
      "source": [
        "import json"
      ],
      "execution_count": 0,
      "outputs": []
    },
    {
      "cell_type": "markdown",
      "metadata": {
        "id": "o2wRnoG8r9FW",
        "colab_type": "text"
      },
      "source": [
        "Integrar todo lo visto en funciones"
      ]
    },
    {
      "cell_type": "code",
      "metadata": {
        "id": "85clEHa1u4U3",
        "colab_type": "code",
        "colab": {}
      },
      "source": [
        "def get_data(driver):\n",
        "  soup = BeautifulSoup(markup=driver.page_source, features='html.parser')\n",
        "  var_dict = {var: soup.find(name='td', attrs={'class':'bgn'}, text=re.compile(pattern, re.IGNORECASE)).find_next_sibling().get_text().strip() for var, pattern in pattern_dict.items()}\n",
        "  return var_dict"
      ],
      "execution_count": 0,
      "outputs": []
    },
    {
      "cell_type": "code",
      "metadata": {
        "id": "iXklh-tJoxVx",
        "colab_type": "code",
        "colab": {}
      },
      "source": [
        "def submit_request(driver, ruc):\n",
        "    driver.refresh()\n",
        "    ruc_input = driver.find_element_by_class_name(\"form-text\")\n",
        "    captcha_input = driver.find_element_by_xpath('//input[@name=\"codigo\"]')\n",
        "    captcha = driver.find_element_by_xpath(\"//img[@src='captcha?accion=image']\")\n",
        "    button = driver.find_element_by_class_name(\"form-button\")\n",
        "\n",
        "    captcha.screenshot(filename=\"{0}.png\".format(\"captcha_img_tmp\"))\n",
        "    img_tmp = Image.open(\"{0}.png\".format(\"captcha_img_tmp\"))\n",
        "    captcha_value_ocr = pytesseract.image_to_string(img_tmp)\n",
        "    \n",
        "    \n",
        "    #ImageDisplay(filename=\"{0}.png\".format(\"captcha_img_tmp\"))\n",
        "    #print(captcha_value_ocr)\n",
        "    \n",
        "    \n",
        "    ruc_input.send_keys(ruc)\n",
        "    captcha_input.send_keys(captcha_value_ocr)\n",
        "    button.click()\n",
        "    \n",
        "    tab_list = driver.window_handles\n",
        "    driver.switch_to.window(tab_list[-1])\n",
        "    try:\n",
        "      if \"error\" in driver.title.strip().lower() or 'mensajes' in driver.title.strip().lower():  \n",
        "        driver.close()\n",
        "        driver.switch_to.window(tab_list[0])\n",
        "        driver.refresh()\n",
        "\n",
        "        return False, {}, driver\n",
        "\n",
        "      else:\n",
        "        data = get_data(driver)\n",
        "        driver.close()\n",
        "        driver.switch_to.window(tab_list[0])\n",
        "        driver.refresh()\n",
        "\n",
        "        return True, data, driver\n",
        "    except UnexpectedAlertPresentException:\n",
        "      alert = driver.switch_to.alert\n",
        "      alert.accept()\n",
        "      return False, {}, driver\n",
        "      "
      ],
      "execution_count": 0,
      "outputs": []
    },
    {
      "cell_type": "code",
      "metadata": {
        "id": "Ey1jZ-abcI7z",
        "colab_type": "code",
        "colab": {}
      },
      "source": [
        "def consulta_ruc(ruc, driver):\n",
        "  print(\"CONSULTA RUC: {0}\".format(ruc))\n",
        "  n_attempt, success, data = 1, False, {}\n",
        "  while (n_attempt < 4) & (success == False):\n",
        "    print(\"\\tAttempt nrº {0}\".format(n_attempt))\n",
        "    success, data, driver = submit_request(driver, ruc)\n",
        "    n_attempt+=1\n",
        "  return data"
      ],
      "execution_count": 0,
      "outputs": []
    },
    {
      "cell_type": "code",
      "metadata": {
        "id": "YGgTKqZkdm4-",
        "colab_type": "code",
        "colab": {}
      },
      "source": [
        "driver.get(url)"
      ],
      "execution_count": 0,
      "outputs": []
    },
    {
      "cell_type": "code",
      "metadata": {
        "id": "SjemKtPed0rf",
        "colab_type": "code",
        "colab": {}
      },
      "source": [
        "alert = driver.switch_to.alert"
      ],
      "execution_count": 0,
      "outputs": []
    },
    {
      "cell_type": "code",
      "metadata": {
        "id": "h6xuztWld336",
        "colab_type": "code",
        "colab": {}
      },
      "source": [
        "alert.accept()"
      ],
      "execution_count": 0,
      "outputs": []
    },
    {
      "cell_type": "code",
      "metadata": {
        "id": "wEXAeokjdGFQ",
        "colab_type": "code",
        "outputId": "c7f41e1c-b8dd-4f27-efb5-711c4393c86a",
        "colab": {
          "base_uri": "https://localhost:8080/",
          "height": 180
        }
      },
      "source": [
        "data = consulta_ruc(\"20557123106\", driver)\n",
        "print(json.dumps(data, indent=4))"
      ],
      "execution_count": 0,
      "outputs": [
        {
          "output_type": "stream",
          "text": [
            "CONSULTA RUC: 20557123106\n",
            "\tAttempt nrº 1\n",
            "{\n",
            "    \"ruc\": \"20557123106 - FUNDACION CORPORACION RUSTICA\",\n",
            "    \"tipo_contribuyente\": \"FUNDACION\",\n",
            "    \"estado_contribuyente\": \"ACTIVO\",\n",
            "    \"condicion_contribuyente\": \"HABIDO\",\n",
            "    \"nombre_comercial\": \"-\",\n",
            "    \"actividad_comercio_exterior\": \"SIN ACTIVIDAD\"\n",
            "}\n"
          ],
          "name": "stdout"
        }
      ]
    },
    {
      "cell_type": "code",
      "metadata": {
        "id": "U2M48JQ7ewdc",
        "colab_type": "code",
        "colab": {}
      },
      "source": [
        "ruc_list = [\"20538856674\", \"20551597939\", \"20553856451\", \"20525426778\", \"20555629541\", \"20480316259\", \"20601587417\", \"20600060172\", \"20518639928\", \"20558629585\", \"20548971111\", \"20543248984\", \"20523447948\", \"20600705114\", \"20553476462\", \"20556610143\", \"20553741123\", \"20552271794\", \"20551936903\", \"20563223457\"]"
      ],
      "execution_count": 0,
      "outputs": []
    },
    {
      "cell_type": "code",
      "metadata": {
        "id": "7RfdcShNewOY",
        "colab_type": "code",
        "outputId": "7a9a468c-fb71-4d2f-af1c-8d49c79cb125",
        "colab": {
          "base_uri": "https://localhost:8080/",
          "height": 700
        }
      },
      "source": [
        "data_list = []\n",
        "for ruc in ruc_list:\n",
        "  data_list.append(consulta_ruc(ruc, driver))"
      ],
      "execution_count": 0,
      "outputs": [
        {
          "output_type": "stream",
          "text": [
            "CONSULTA RUC: 20538856674\n",
            "\tAttempt nrº 1\n",
            "CONSULTA RUC: 20551597939\n",
            "\tAttempt nrº 1\n",
            "CONSULTA RUC: 20553856451\n",
            "\tAttempt nrº 1\n",
            "CONSULTA RUC: 20525426778\n",
            "\tAttempt nrº 1\n",
            "CONSULTA RUC: 20555629541\n",
            "\tAttempt nrº 1\n",
            "\tAttempt nrº 2\n",
            "CONSULTA RUC: 20480316259\n",
            "\tAttempt nrº 1\n",
            "CONSULTA RUC: 20601587417\n",
            "\tAttempt nrº 1\n",
            "CONSULTA RUC: 20600060172\n",
            "\tAttempt nrº 1\n",
            "CONSULTA RUC: 20518639928\n",
            "\tAttempt nrº 1\n",
            "CONSULTA RUC: 20558629585\n",
            "\tAttempt nrº 1\n",
            "CONSULTA RUC: 20548971111\n",
            "\tAttempt nrº 1\n",
            "CONSULTA RUC: 20543248984\n",
            "\tAttempt nrº 1\n",
            "CONSULTA RUC: 20523447948\n",
            "\tAttempt nrº 1\n",
            "\tAttempt nrº 2\n",
            "CONSULTA RUC: 20600705114\n",
            "\tAttempt nrº 1\n",
            "CONSULTA RUC: 20553476462\n",
            "\tAttempt nrº 1\n",
            "CONSULTA RUC: 20556610143\n",
            "\tAttempt nrº 1\n",
            "CONSULTA RUC: 20553741123\n",
            "\tAttempt nrº 1\n",
            "CONSULTA RUC: 20552271794\n",
            "\tAttempt nrº 1\n",
            "CONSULTA RUC: 20551936903\n",
            "\tAttempt nrº 1\n",
            "CONSULTA RUC: 20563223457\n",
            "\tAttempt nrº 1\n"
          ],
          "name": "stdout"
        }
      ]
    },
    {
      "cell_type": "code",
      "metadata": {
        "id": "aYTEauRJhIVc",
        "colab_type": "code",
        "colab": {}
      },
      "source": [
        "import pandas as pd"
      ],
      "execution_count": 0,
      "outputs": []
    },
    {
      "cell_type": "code",
      "metadata": {
        "id": "PNI6hhfkfsQy",
        "colab_type": "code",
        "outputId": "77ef133b-6185-4041-8b9a-88d9db9c0b8e",
        "colab": {
          "base_uri": "https://localhost:8080/",
          "height": 622
        }
      },
      "source": [
        "pd.DataFrame(data_list)"
      ],
      "execution_count": 0,
      "outputs": [
        {
          "output_type": "execute_result",
          "data": {
            "text/html": [
              "<div>\n",
              "<style scoped>\n",
              "    .dataframe tbody tr th:only-of-type {\n",
              "        vertical-align: middle;\n",
              "    }\n",
              "\n",
              "    .dataframe tbody tr th {\n",
              "        vertical-align: top;\n",
              "    }\n",
              "\n",
              "    .dataframe thead th {\n",
              "        text-align: right;\n",
              "    }\n",
              "</style>\n",
              "<table border=\"1\" class=\"dataframe\">\n",
              "  <thead>\n",
              "    <tr style=\"text-align: right;\">\n",
              "      <th></th>\n",
              "      <th>actividad_comercio_exterior</th>\n",
              "      <th>condicion_contribuyente</th>\n",
              "      <th>estado_contribuyente</th>\n",
              "      <th>nombre_comercial</th>\n",
              "      <th>ruc</th>\n",
              "      <th>tipo_contribuyente</th>\n",
              "    </tr>\n",
              "  </thead>\n",
              "  <tbody>\n",
              "    <tr>\n",
              "      <th>0</th>\n",
              "      <td>SIN ACTIVIDAD</td>\n",
              "      <td>HABIDO</td>\n",
              "      <td>ACTIVO</td>\n",
              "      <td>-</td>\n",
              "      <td>20538856674 - ARTROSCOPICTRAUMA S.A.C.</td>\n",
              "      <td>SOCIEDAD ANONIMA CERRADA</td>\n",
              "    </tr>\n",
              "    <tr>\n",
              "      <th>1</th>\n",
              "      <td>SIN ACTIVIDAD</td>\n",
              "      <td>HABIDO</td>\n",
              "      <td>ACTIVO</td>\n",
              "      <td>-</td>\n",
              "      <td>20551597939 - ASOCIACION COMUNIDAD CRISTIANA E...</td>\n",
              "      <td>ASOCIACION</td>\n",
              "    </tr>\n",
              "    <tr>\n",
              "      <th>2</th>\n",
              "      <td>IMPORTADOR/EXPORTADOR</td>\n",
              "      <td>HABIDO</td>\n",
              "      <td>ACTIVO</td>\n",
              "      <td>-</td>\n",
              "      <td>20553856451 - BI GRAND CONFECCIONES S.A.C.</td>\n",
              "      <td>SOCIEDAD ANONIMA CERRADA</td>\n",
              "    </tr>\n",
              "    <tr>\n",
              "      <th>3</th>\n",
              "      <td>SIN ACTIVIDAD</td>\n",
              "      <td>HABIDO</td>\n",
              "      <td>ACTIVO</td>\n",
              "      <td>-</td>\n",
              "      <td>20525426778 - CONCEPTOS &amp; CONSTRUCCIONES V.G EIRL</td>\n",
              "      <td>EMPRESA INDIVIDUAL DE RESP. LTDA</td>\n",
              "    </tr>\n",
              "    <tr>\n",
              "      <th>4</th>\n",
              "      <td>IMPORTADOR/EXPORTADOR</td>\n",
              "      <td>HABIDO</td>\n",
              "      <td>ACTIVO</td>\n",
              "      <td>CORPORACION INDUSTRIAL ALPA´C</td>\n",
              "      <td>20555629541 - CORPORACION INDUSTRIAL ALPA`C S....</td>\n",
              "      <td>SOCIEDAD ANONIMA CERRADA</td>\n",
              "    </tr>\n",
              "    <tr>\n",
              "      <th>5</th>\n",
              "      <td>SIN ACTIVIDAD</td>\n",
              "      <td>HABIDO</td>\n",
              "      <td>ACTIVO</td>\n",
              "      <td>-</td>\n",
              "      <td>20480316259 - D'AROMAS E.I.R.L.</td>\n",
              "      <td>EMPRESA INDIVIDUAL DE RESP. LTDA</td>\n",
              "    </tr>\n",
              "    <tr>\n",
              "      <th>6</th>\n",
              "      <td>SIN ACTIVIDAD</td>\n",
              "      <td>HABIDO</td>\n",
              "      <td>ACTIVO</td>\n",
              "      <td>-</td>\n",
              "      <td>20601587417 - ESTUDIO CONTABLE BUSTAMANTE &amp; VI...</td>\n",
              "      <td>SOCIEDAD ANONIMA CERRADA</td>\n",
              "    </tr>\n",
              "    <tr>\n",
              "      <th>7</th>\n",
              "      <td>SIN ACTIVIDAD</td>\n",
              "      <td>HABIDO</td>\n",
              "      <td>ACTIVO</td>\n",
              "      <td>-</td>\n",
              "      <td>20600060172 - GARDINALLI SALUD &amp; BIENESTAR S.A.C.</td>\n",
              "      <td>SOCIEDAD ANONIMA CERRADA</td>\n",
              "    </tr>\n",
              "    <tr>\n",
              "      <th>8</th>\n",
              "      <td>SIN ACTIVIDAD</td>\n",
              "      <td>HABIDO</td>\n",
              "      <td>ACTIVO</td>\n",
              "      <td>-</td>\n",
              "      <td>20518639928 - H &amp; J E HIJOS E.I.R.L</td>\n",
              "      <td>EMPRESA INDIVIDUAL DE RESP. LTDA</td>\n",
              "    </tr>\n",
              "    <tr>\n",
              "      <th>9</th>\n",
              "      <td>SIN ACTIVIDAD</td>\n",
              "      <td>HABIDO</td>\n",
              "      <td>ACTIVO</td>\n",
              "      <td>-</td>\n",
              "      <td>20558629585 - INSUMOS PISQUEROS DEL SUR E.I.R.L.</td>\n",
              "      <td>EMPRESA INDIVIDUAL DE RESP. LTDA</td>\n",
              "    </tr>\n",
              "    <tr>\n",
              "      <th>10</th>\n",
              "      <td>SIN ACTIVIDAD</td>\n",
              "      <td>HABIDO</td>\n",
              "      <td>ACTIVO</td>\n",
              "      <td>METEORO RACING</td>\n",
              "      <td>20548971111 - METEORO RACING SOCIEDAD ANONIMA ...</td>\n",
              "      <td>SOCIEDAD ANONIMA CERRADA</td>\n",
              "    </tr>\n",
              "    <tr>\n",
              "      <th>11</th>\n",
              "      <td>IMPORTADOR/EXPORTADOR</td>\n",
              "      <td>HABIDO</td>\n",
              "      <td>ACTIVO</td>\n",
              "      <td>-</td>\n",
              "      <td>20543248984 - MODAS LOREN EIRL</td>\n",
              "      <td>EMPRESA INDIVIDUAL DE RESP. LTDA</td>\n",
              "    </tr>\n",
              "    <tr>\n",
              "      <th>12</th>\n",
              "      <td>SIN ACTIVIDAD</td>\n",
              "      <td>HABIDO</td>\n",
              "      <td>ACTIVO</td>\n",
              "      <td>-</td>\n",
              "      <td>20523447948 - PLASTIMETAL INVERSIONES S.A.C.</td>\n",
              "      <td>SOCIEDAD ANONIMA CERRADA</td>\n",
              "    </tr>\n",
              "    <tr>\n",
              "      <th>13</th>\n",
              "      <td>SIN ACTIVIDAD</td>\n",
              "      <td>HABIDO</td>\n",
              "      <td>ACTIVO</td>\n",
              "      <td>-</td>\n",
              "      <td>20600705114 - RECURSOS DEL PRADO E.I.R.L.</td>\n",
              "      <td>EMPRESA INDIVIDUAL DE RESP. LTDA</td>\n",
              "    </tr>\n",
              "    <tr>\n",
              "      <th>14</th>\n",
              "      <td>IMPORTADOR/EXPORTADOR</td>\n",
              "      <td>HABIDO</td>\n",
              "      <td>ACTIVO</td>\n",
              "      <td>-</td>\n",
              "      <td>20553476462 - REPRESENTACIONES DIERA S.A.C.</td>\n",
              "      <td>SOCIEDAD ANONIMA CERRADA</td>\n",
              "    </tr>\n",
              "    <tr>\n",
              "      <th>15</th>\n",
              "      <td>SIN ACTIVIDAD</td>\n",
              "      <td>HABIDO</td>\n",
              "      <td>ACTIVO</td>\n",
              "      <td>-</td>\n",
              "      <td>20556610143 - SANDRA &amp; ABIGAIL GENERAL SERVICE...</td>\n",
              "      <td>SOCIEDAD ANONIMA CERRADA</td>\n",
              "    </tr>\n",
              "    <tr>\n",
              "      <th>16</th>\n",
              "      <td>IMPORTADOR/EXPORTADOR</td>\n",
              "      <td>HABIDO</td>\n",
              "      <td>ACTIVO</td>\n",
              "      <td>-</td>\n",
              "      <td>20553741123 - SERVICIOS TECNICOS EL CHALANCITO...</td>\n",
              "      <td>SOCIEDAD ANONIMA CERRADA</td>\n",
              "    </tr>\n",
              "    <tr>\n",
              "      <th>17</th>\n",
              "      <td>SIN ACTIVIDAD</td>\n",
              "      <td>HABIDO</td>\n",
              "      <td>ACTIVO</td>\n",
              "      <td>-</td>\n",
              "      <td>20552271794 - SINERGIAS ECONOMICAS SOCIEDAD AN...</td>\n",
              "      <td>SOCIEDAD ANONIMA CERRADA</td>\n",
              "    </tr>\n",
              "    <tr>\n",
              "      <th>18</th>\n",
              "      <td>IMPORTADOR/EXPORTADOR</td>\n",
              "      <td>HABIDO</td>\n",
              "      <td>ACTIVO</td>\n",
              "      <td>-</td>\n",
              "      <td>20551936903 - SOLUCIONES AUTOMATICAS INTEGRALE...</td>\n",
              "      <td>SOCIEDAD ANONIMA CERRADA</td>\n",
              "    </tr>\n",
              "    <tr>\n",
              "      <th>19</th>\n",
              "      <td>SIN ACTIVIDAD</td>\n",
              "      <td>HABIDO</td>\n",
              "      <td>ACTIVO</td>\n",
              "      <td>-</td>\n",
              "      <td>20563223457 - TRANSPORTES Y SERVICIOS MULTIPLE...</td>\n",
              "      <td>SOCIEDAD ANONIMA CERRADA</td>\n",
              "    </tr>\n",
              "  </tbody>\n",
              "</table>\n",
              "</div>"
            ],
            "text/plain": [
              "   actividad_comercio_exterior  ...                tipo_contribuyente\n",
              "0                SIN ACTIVIDAD  ...          SOCIEDAD ANONIMA CERRADA\n",
              "1                SIN ACTIVIDAD  ...                        ASOCIACION\n",
              "2        IMPORTADOR/EXPORTADOR  ...          SOCIEDAD ANONIMA CERRADA\n",
              "3                SIN ACTIVIDAD  ...  EMPRESA INDIVIDUAL DE RESP. LTDA\n",
              "4        IMPORTADOR/EXPORTADOR  ...          SOCIEDAD ANONIMA CERRADA\n",
              "5                SIN ACTIVIDAD  ...  EMPRESA INDIVIDUAL DE RESP. LTDA\n",
              "6                SIN ACTIVIDAD  ...          SOCIEDAD ANONIMA CERRADA\n",
              "7                SIN ACTIVIDAD  ...          SOCIEDAD ANONIMA CERRADA\n",
              "8                SIN ACTIVIDAD  ...  EMPRESA INDIVIDUAL DE RESP. LTDA\n",
              "9                SIN ACTIVIDAD  ...  EMPRESA INDIVIDUAL DE RESP. LTDA\n",
              "10               SIN ACTIVIDAD  ...          SOCIEDAD ANONIMA CERRADA\n",
              "11       IMPORTADOR/EXPORTADOR  ...  EMPRESA INDIVIDUAL DE RESP. LTDA\n",
              "12               SIN ACTIVIDAD  ...          SOCIEDAD ANONIMA CERRADA\n",
              "13               SIN ACTIVIDAD  ...  EMPRESA INDIVIDUAL DE RESP. LTDA\n",
              "14       IMPORTADOR/EXPORTADOR  ...          SOCIEDAD ANONIMA CERRADA\n",
              "15               SIN ACTIVIDAD  ...          SOCIEDAD ANONIMA CERRADA\n",
              "16       IMPORTADOR/EXPORTADOR  ...          SOCIEDAD ANONIMA CERRADA\n",
              "17               SIN ACTIVIDAD  ...          SOCIEDAD ANONIMA CERRADA\n",
              "18       IMPORTADOR/EXPORTADOR  ...          SOCIEDAD ANONIMA CERRADA\n",
              "19               SIN ACTIVIDAD  ...          SOCIEDAD ANONIMA CERRADA\n",
              "\n",
              "[20 rows x 6 columns]"
            ]
          },
          "metadata": {
            "tags": []
          },
          "execution_count": 300
        }
      ]
    },
    {
      "cell_type": "markdown",
      "metadata": {
        "id": "shhqdquM9J2a",
        "colab_type": "text"
      },
      "source": [
        ""
      ]
    }
  ]
}