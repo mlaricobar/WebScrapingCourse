{
  "nbformat": 4,
  "nbformat_minor": 0,
  "metadata": {
    "colab": {
      "name": "DMC2019I_NOT1_Introducción_API_Facebook.ipynb",
      "version": "0.3.2",
      "provenance": [],
      "collapsed_sections": [],
      "include_colab_link": true
    },
    "language_info": {
      "codemirror_mode": {
        "name": "ipython",
        "version": 3
      },
      "file_extension": ".py",
      "mimetype": "text/x-python",
      "name": "python",
      "nbconvert_exporter": "python",
      "pygments_lexer": "ipython3",
      "version": "3.6.3"
    },
    "kernelspec": {
      "display_name": "Python 3",
      "language": "python",
      "name": "python3"
    }
  },
  "cells": [
    {
      "cell_type": "markdown",
      "metadata": {
        "id": "view-in-github",
        "colab_type": "text"
      },
      "source": [
        "<a href=\"https://colab.research.google.com/github/mlaricobar/WebScrapingCourse/blob/master/DMC2019I_NOT1_Introducci%C3%B3n_API_Facebook.ipynb\" target=\"_parent\"><img src=\"https://colab.research.google.com/assets/colab-badge.svg\" alt=\"Open In Colab\"/></a>"
      ]
    },
    {
      "cell_type": "markdown",
      "metadata": {
        "id": "ieaBUzz_Sfhl",
        "colab_type": "text"
      },
      "source": [
        "# Exploración del Graph API de Facebook\n",
        "\n",
        "![alt text](https://cdn-images-1.medium.com/max/1600/1*o5I76UNWVmvrfY03fYLfRw.jpeg)\n",
        "\n",
        "Practiquemos con nuestros datos de Facebook. En esta oportunidad, haremos uso de una de las herramientas de Facebook llamado **Facebook Graph** con el fin de extraer los datos generados por el uso en su Plataforma.\n",
        "\n",
        "Previo a su uso, necesitamos tener instalado las librerías json, requests y pandas."
      ]
    },
    {
      "cell_type": "markdown",
      "metadata": {
        "id": "e1K2Hi90Sfhn",
        "colab_type": "text"
      },
      "source": [
        "### Graph API de Facebook\n",
        "\n",
        "El Explorador de API Graph es una herramienta que te permite construir y realizar consultas a la API Graph y ver sus respuestas, para cualquier aplicación en la que tenga un rol de administrador, desarrollador o tester.\n",
        "\n",
        "La herramienta es extremadamente útil durante el desarrollo de aplicaciones porque hereda todas las configuraciones de su aplicación, incluidos los permisos de inicio de sesión aprobados, las funciones y la configuración de los productos que haya agregado.\n",
        "\n",
        "Puedes probarlo en el siguiente enlace: [API Graph de Facebook](https://developers.facebook.com/tools/explorer/?classic=0)\n",
        "\n",
        "<img src=\"https://github.com/mlaricobar/Machine-Learning-Course/blob/master/images/facebook-graph.png?raw=1\" width=\"700\">"
      ]
    },
    {
      "cell_type": "markdown",
      "metadata": {
        "id": "p13wjNR3dN5n",
        "colab_type": "text"
      },
      "source": [
        "### Arquitectura Básica de un API\n",
        "\n",
        "A continuación, se muestra el diagrama de Arquitectura de nuestra solución\n",
        "\n",
        "\n",
        "![alt text](https://github.com/mikolarico/FS_Machine_Learning_Python/blob/master/api-solution-architecture.png?raw=true)\n",
        "\n",
        "Este diagrama muestra de una manera simple como funciona un API, esto con el fin de entender cómo podemos acceder a los datos de Facebook a través de su Graph API."
      ]
    },
    {
      "cell_type": "markdown",
      "metadata": {
        "id": "Z5wNjiaySfhn",
        "colab_type": "text"
      },
      "source": [
        "Así mismo, se muestra un ejemplo del uso del Graph de Facebook para extraer algunos datos de nuestro Perfil Público."
      ]
    },
    {
      "cell_type": "code",
      "metadata": {
        "id": "uY-zngqfP90-",
        "colab_type": "code",
        "colab": {}
      },
      "source": [
        "# Importamos los packages que vamos a necesitar\n",
        "\n",
        "## El paquete o package Json nos permitirá trabajar con estructuras de datos del tipo JSON\n",
        "import json\n",
        "## El paquete o package Requests nos permitirá hacer peticiones del tipo HTTPS a un Servidor Web\n",
        "import requests\n",
        "## El paquete o package Pandas nos permitirá manipular y analizar datos estructurados\n",
        "import pandas as pd"
      ],
      "execution_count": 0,
      "outputs": []
    },
    {
      "cell_type": "markdown",
      "metadata": {
        "id": "6kYY92IWds7H",
        "colab_type": "text"
      },
      "source": [
        "Debemos utilizar el identificador de Facebook y los tokens que reflejan los permisos de acceso a los datos de Facebook (por ejemplo: likes, tagged places, etc) "
      ]
    },
    {
      "cell_type": "code",
      "metadata": {
        "id": "7jaF8pOZQ3Uu",
        "colab_type": "code",
        "colab": {}
      },
      "source": [
        "id_facebook = \"<--- ESCRIBE TU IDENTIFICADOR DE FACEBOOK --->\"\n",
        "token = \"<--- ESCRIBE TU TOKEN GENERADO --->\""
      ],
      "execution_count": 0,
      "outputs": []
    },
    {
      "cell_type": "markdown",
      "metadata": {
        "id": "RCy3j17cktTK",
        "colab_type": "text"
      },
      "source": [
        "Definición de url que utilizaremos para hacer la solicitud al Graph API de Facebook"
      ]
    },
    {
      "cell_type": "code",
      "metadata": {
        "id": "C15VJ8liQA0M",
        "colab_type": "code",
        "colab": {}
      },
      "source": [
        "host = \"https://graph.facebook.com/v3.2/\"\n",
        "fields = \"id,email,first_name,last_name,name,birthday,age_range,gender,location{general_info,location},languages{name,description},picture.width(500).height(500)\"\n",
        "url = \"{host}{id}?fields={fields}&access_token={token}\".format(host=host, id=id_facebook, fields=fields, token=token)"
      ],
      "execution_count": 0,
      "outputs": []
    },
    {
      "cell_type": "code",
      "metadata": {
        "id": "QRo-HWTEkYSO",
        "colab_type": "code",
        "colab": {}
      },
      "source": [
        "print(url)"
      ],
      "execution_count": 0,
      "outputs": []
    },
    {
      "cell_type": "code",
      "metadata": {
        "id": "gnoWkYjukYPR",
        "colab_type": "code",
        "colab": {}
      },
      "source": [
        "# Utilizamos el método get del package Requests para hacer la solicitud\n",
        "response = requests.get(url)"
      ],
      "execution_count": 0,
      "outputs": []
    },
    {
      "cell_type": "code",
      "metadata": {
        "id": "052ASJzQmN4E",
        "colab_type": "code",
        "colab": {}
      },
      "source": [
        "print(\"Respuesta a la solicitud: {0}\".format(response))\n",
        "print(\"Tipo de dato de la respuesta: {0}\".format(type(response)))"
      ],
      "execution_count": 0,
      "outputs": []
    },
    {
      "cell_type": "code",
      "metadata": {
        "id": "eC_-PRzbmtq3",
        "colab_type": "code",
        "colab": {}
      },
      "source": [
        "# Usar el método .json() para obtener los datos de la respuesta\n",
        "response.json()"
      ],
      "execution_count": 0,
      "outputs": []
    },
    {
      "cell_type": "code",
      "metadata": {
        "id": "6AIzyfGvkYNN",
        "colab_type": "code",
        "colab": {}
      },
      "source": [
        "# Usamos del método dumps del package Json para dar un mejor formato al resultado\n",
        "print(json.dumps(response.json(), indent=4))"
      ],
      "execution_count": 0,
      "outputs": []
    },
    {
      "cell_type": "markdown",
      "metadata": {
        "id": "mG1xm6_vqMfw",
        "colab_type": "text"
      },
      "source": [
        "### Perfil Público\n"
      ]
    },
    {
      "cell_type": "code",
      "metadata": {
        "id": "rtHA25_KoxHg",
        "colab_type": "code",
        "colab": {}
      },
      "source": [
        "fields = 'id,email,first_name,last_name,name,birthday'\n",
        "url = \"{host}{id}?fields={fields}&access_token={token}\".format(host=host, id=id_facebook, fields=fields, token=token)"
      ],
      "execution_count": 0,
      "outputs": []
    },
    {
      "cell_type": "code",
      "metadata": {
        "id": "kP7p8QLPP9hx",
        "colab_type": "code",
        "colab": {}
      },
      "source": [
        "print(url)"
      ],
      "execution_count": 0,
      "outputs": []
    },
    {
      "cell_type": "code",
      "metadata": {
        "id": "dFStb1q3rNqp",
        "colab_type": "code",
        "colab": {}
      },
      "source": [
        "response = requests.get(url)\n",
        "perfil = response.json()"
      ],
      "execution_count": 0,
      "outputs": []
    },
    {
      "cell_type": "code",
      "metadata": {
        "id": "DL2QmulSrWbB",
        "colab_type": "code",
        "colab": {}
      },
      "source": [
        "print(json.dumps(perfil, indent=4))"
      ],
      "execution_count": 0,
      "outputs": []
    },
    {
      "cell_type": "markdown",
      "metadata": {
        "id": "iyY9KZ0eSfhu",
        "colab_type": "text"
      },
      "source": [
        "¿Cómo lo puedo tranformar a un DataFrame?"
      ]
    },
    {
      "cell_type": "code",
      "metadata": {
        "scrolled": true,
        "id": "taa11UfQSfhu",
        "colab_type": "code",
        "colab": {}
      },
      "source": [
        "dfPerfil = pd.DataFrame.from_dict(perfil, orient=\"index\").T"
      ],
      "execution_count": 0,
      "outputs": []
    },
    {
      "cell_type": "code",
      "metadata": {
        "id": "lkR2UUSv41yi",
        "colab_type": "code",
        "colab": {}
      },
      "source": [
        "dfPerfil.rename(columns={\"id\": \"id_user\"}, inplace=True)"
      ],
      "execution_count": 0,
      "outputs": []
    },
    {
      "cell_type": "code",
      "metadata": {
        "id": "doNwkocLSfhv",
        "colab_type": "code",
        "colab": {}
      },
      "source": [
        "dfPerfil.head()"
      ],
      "execution_count": 0,
      "outputs": []
    },
    {
      "cell_type": "code",
      "metadata": {
        "id": "FHPy505l4uSU",
        "colab_type": "code",
        "colab": {}
      },
      "source": [
        "# Guardamos el Identificador del Usuario como variable para utilizarlo con las demás fuente (Likes y Tagged Places)\n",
        "idUser = perfil[\"id\"]"
      ],
      "execution_count": 0,
      "outputs": []
    },
    {
      "cell_type": "markdown",
      "metadata": {
        "id": "vNH3l5920fHW",
        "colab_type": "text"
      },
      "source": [
        "### Comparte tu información para un análisis colectivo"
      ]
    },
    {
      "cell_type": "code",
      "metadata": {
        "id": "RN8QyXA03Jar",
        "colab_type": "code",
        "colab": {}
      },
      "source": [
        "# Instalaremos el package pydocumentdb para poder interactura con la Base de Datos de Azure Cosmos DB\n",
        "!pip install pydocumentdb"
      ],
      "execution_count": 0,
      "outputs": []
    },
    {
      "cell_type": "code",
      "metadata": {
        "id": "BsF95GZB0dl4",
        "colab_type": "code",
        "colab": {}
      },
      "source": [
        "import pydocumentdb\n",
        "from pydocumentdb import documents\n",
        "from pydocumentdb import document_client"
      ],
      "execution_count": 0,
      "outputs": []
    },
    {
      "cell_type": "code",
      "metadata": {
        "id": "11RS0ZwZ0pcF",
        "colab_type": "code",
        "colab": {}
      },
      "source": [
        "def upload_information(df, collection_name):\n",
        "  ENDPOINT = \"https://mlaricobar.documents.azure.com:443/\"\n",
        "  MASTERKEY = \"wGUpP07DsObsE85fNeb8kywcV8Y1gYFt10DUR4wWjJuQI9LrjCWtWwG2cGMGrMfhNShIUKDwJqD1MwZGZ34APA==\"\n",
        "\n",
        "  connectionPolicy = documents.ConnectionPolicy()\n",
        "  connectionPolicy.EnableEndpointDiscovery\n",
        "  connectionPolicy.PreferredLocations = [\"East US 2\"]\n",
        "  client = document_client.DocumentClient(ENDPOINT, {'masterKey': MASTERKEY}, connectionPolicy)\n",
        "  \n",
        "  database = 'WebScrapingCourse01'\n",
        "  dblink = 'dbs/' + database\n",
        "  collink = dblink + '/colls/' + collection_name\n",
        "  \n",
        "  log_upload = [client.CreateDocument(collink, d) for d in df.to_dict(orient=\"records\")]\n",
        "  \n",
        "  return log_upload"
      ],
      "execution_count": 0,
      "outputs": []
    },
    {
      "cell_type": "code",
      "metadata": {
        "id": "Hx2cgDNX2mUz",
        "colab_type": "code",
        "colab": {}
      },
      "source": [
        "log_upload = upload_information(dfPerfil, \"UserProfile\")"
      ],
      "execution_count": 0,
      "outputs": []
    },
    {
      "cell_type": "code",
      "metadata": {
        "id": "CawIzE9W4PQn",
        "colab_type": "code",
        "colab": {}
      },
      "source": [
        "log_upload"
      ],
      "execution_count": 0,
      "outputs": []
    },
    {
      "cell_type": "markdown",
      "metadata": {
        "id": "rw2CFuguSfhw",
        "colab_type": "text"
      },
      "source": [
        "### Likes\n",
        "\n",
        "Ahora, haremos uso de Graph de Facebook para extraer nuestros Likes."
      ]
    },
    {
      "cell_type": "code",
      "metadata": {
        "id": "yJwrpjR_shkH",
        "colab_type": "code",
        "colab": {}
      },
      "source": [
        "fields = \"likes.limit(100){id,name,description,created_time,link,category,about,fan_count}\"\n",
        "url = \"{host}{id}?fields={fields}&access_token={token}\".format(host=host, id=id_facebook, fields=fields, token=token)"
      ],
      "execution_count": 0,
      "outputs": []
    },
    {
      "cell_type": "code",
      "metadata": {
        "id": "hISRccrRsmz_",
        "colab_type": "code",
        "colab": {}
      },
      "source": [
        "response = requests.get(url)\n",
        "likes = response.json()"
      ],
      "execution_count": 0,
      "outputs": []
    },
    {
      "cell_type": "code",
      "metadata": {
        "id": "a4InNuSOsp-x",
        "colab_type": "code",
        "colab": {}
      },
      "source": [
        "print(json.dumps(likes, indent=4))"
      ],
      "execution_count": 0,
      "outputs": []
    },
    {
      "cell_type": "code",
      "metadata": {
        "id": "XEmIDBm4uz8b",
        "colab_type": "code",
        "colab": {}
      },
      "source": [
        "likes = likes[\"likes\"]"
      ],
      "execution_count": 0,
      "outputs": []
    },
    {
      "cell_type": "markdown",
      "metadata": {
        "id": "fIdsKULos6Hs",
        "colab_type": "text"
      },
      "source": [
        "Nos damos cuenta de que a diferencia del resultado obtenido en el Perfil, dentro del diccionario resultado de la solicitud de likes se encuentra un elemento llamado paging que contiene la dirección url de la siguiente paginación."
      ]
    },
    {
      "cell_type": "code",
      "metadata": {
        "scrolled": true,
        "id": "fxXiB1o7Sfhx",
        "colab_type": "code",
        "colab": {}
      },
      "source": [
        "l = []\n",
        "i = 1\n",
        "current_url_pagging, next_url_pagging = \"\", \" \"\n",
        "while current_url_pagging != next_url_pagging:\n",
        "    try:\n",
        "        if 'data' in likes.keys():\n",
        "            l += likes['data']\n",
        "            print(\"Petición #{0}\".format(i))\n",
        "            print(\"\\t\" + likes['paging']['next'])\n",
        "            i+=1\n",
        "            current_url_pagging = likes['paging']['next']\n",
        "            likes = requests.get(current_url_pagging).json()\n",
        "            print(\"\\t {0} nuevos Likes\".format(len(likes['data'])))\n",
        "            next_url_pagging = likes['paging']['next']\n",
        "        else:\n",
        "          break\n",
        "    except KeyError:\n",
        "        break"
      ],
      "execution_count": 0,
      "outputs": []
    },
    {
      "cell_type": "code",
      "metadata": {
        "id": "T3Td4FAUSfhx",
        "colab_type": "code",
        "colab": {}
      },
      "source": [
        "print(\"Se han extraído {0} likes\".format(len(l)))\n",
        "print(\"Un ejemplo de un registro de Like: \\n\")\n",
        "print(json.dumps(l[0], indent=4))"
      ],
      "execution_count": 0,
      "outputs": []
    },
    {
      "cell_type": "markdown",
      "metadata": {
        "id": "gya1EqQjSfhy",
        "colab_type": "text"
      },
      "source": [
        "A partir de la lista generada de likes, crea un DataFrame llamado `dfLikes` y ordena las columnas de la siguiente manera: `id, name, created_time, link, description, category y fan_count`."
      ]
    },
    {
      "cell_type": "code",
      "metadata": {
        "id": "2MOFZvPfSfhy",
        "colab_type": "code",
        "colab": {}
      },
      "source": [
        "dfLikes = pd.DataFrame(l)[[\"id\", \"name\", \"created_time\", \"link\", \"description\", \"category\", \"fan_count\"]]"
      ],
      "execution_count": 0,
      "outputs": []
    },
    {
      "cell_type": "code",
      "metadata": {
        "id": "QfdWBP8h_CGW",
        "colab_type": "code",
        "colab": {}
      },
      "source": [
        "# Eliminamos posibles duplicados,\n",
        "print(dfLikes.shape)\n",
        "dfLikes = dfLikes.drop_duplicates(subset=[\"id\"]).reset_index(drop=True)\n",
        "print(dfLikes.shape)"
      ],
      "execution_count": 0,
      "outputs": []
    },
    {
      "cell_type": "code",
      "metadata": {
        "id": "DUVnwpPFSfhz",
        "colab_type": "code",
        "colab": {}
      },
      "source": [
        "dfLikes.head()"
      ],
      "execution_count": 0,
      "outputs": []
    },
    {
      "cell_type": "markdown",
      "metadata": {
        "id": "5Ro82U1rSfh1",
        "colab_type": "text"
      },
      "source": [
        "Demos un vistazo general al DataFrame para saber cuántos registros y columnas tiene, cuánto pesa, qué tipos de datos contiene y la cantidad de nulos por columna."
      ]
    },
    {
      "cell_type": "code",
      "metadata": {
        "scrolled": true,
        "id": "buco3t1FSfh1",
        "colab_type": "code",
        "colab": {}
      },
      "source": [
        "dfLikes.info()"
      ],
      "execution_count": 0,
      "outputs": []
    },
    {
      "cell_type": "markdown",
      "metadata": {
        "id": "MNcUSZcGSfh2",
        "colab_type": "text"
      },
      "source": [
        "Si nos damos cuenta, la columna **created_time** es del tipo `Object`. Necesitamos crear una nueva columna que tenga el formato \"YYYYMMDD\"."
      ]
    },
    {
      "cell_type": "code",
      "metadata": {
        "id": "8KDsRQZ4Sfh2",
        "colab_type": "code",
        "colab": {}
      },
      "source": [
        "# importar el módulo datetime del package datetime\n",
        "from datetime import datetime"
      ],
      "execution_count": 0,
      "outputs": []
    },
    {
      "cell_type": "code",
      "metadata": {
        "id": "bF_9xpjKSfh3",
        "colab_type": "code",
        "colab": {}
      },
      "source": [
        "# Eliminar los registros que tengan nulos en la columna \"created_time\"\n",
        "dfLikes.dropna(subset=[\"created_time\"], inplace=True)"
      ],
      "execution_count": 0,
      "outputs": []
    },
    {
      "cell_type": "code",
      "metadata": {
        "scrolled": true,
        "id": "SLzVnIIgSfh4",
        "colab_type": "code",
        "colab": {}
      },
      "source": [
        "# Crear la nueva columna usando funciones de la librería datetime\n",
        "# El método strptime(value, format) transforma una cadena de texto a un tipo de dato Datetime indicandole un formato de fecha, y el método hace lo contrario, es decir a partir de un valor del tipo Datetime lo transforma a una cadena de texto con un formato definido\n",
        "dfLikes[\"date\"] = dfLikes[\"created_time\"].apply(lambda d: datetime.strptime(d, '%Y-%m-%dT%H:%M:%S+%f').strftime('%Y%m%d'))"
      ],
      "execution_count": 0,
      "outputs": []
    },
    {
      "cell_type": "markdown",
      "metadata": {
        "id": "7oi0pRPuSfh5",
        "colab_type": "text"
      },
      "source": [
        "Ordena el DataFrame `dfLikes` por el nuevo campo **date** de forma ascendente."
      ]
    },
    {
      "cell_type": "code",
      "metadata": {
        "id": "fegP4w4ISfh5",
        "colab_type": "code",
        "colab": {}
      },
      "source": [
        "dfLikes.sort_values(by=\"date\", ascending=True, inplace=True)"
      ],
      "execution_count": 0,
      "outputs": []
    },
    {
      "cell_type": "markdown",
      "metadata": {
        "id": "kcCxbragSfh6",
        "colab_type": "text"
      },
      "source": [
        "¿Cómo ha sido mi comportamiento diario dando likes? Es decir, ¿Cuántos likes he dado en cada día?"
      ]
    },
    {
      "cell_type": "code",
      "metadata": {
        "scrolled": true,
        "id": "baxZLJNZSfh7",
        "colab_type": "code",
        "colab": {}
      },
      "source": [
        "# Agrupar por día y contar la cantidad de páginas a las que les dí likes\n",
        "dfLikesDateAgg = dfLikes.groupby(\"date\", as_index=False).agg({\"id\": \"count\"})\n",
        "dfLikesDateAgg"
      ],
      "execution_count": 0,
      "outputs": []
    },
    {
      "cell_type": "code",
      "metadata": {
        "id": "Lviwijj1OTP2",
        "colab_type": "code",
        "colab": {}
      },
      "source": [
        "g = dfLikesDateAgg.plot(x=\"date\", y=\"id\", kind=\"line\", figsize=(30, 5))"
      ],
      "execution_count": 0,
      "outputs": []
    },
    {
      "cell_type": "markdown",
      "metadata": {
        "id": "ZBud3JAYSfh8",
        "colab_type": "text"
      },
      "source": [
        "¿Cómo ha sido mi comportamiento mensual dando likes? Es decir, ¿Cuántos likes he dado en cada mes?"
      ]
    },
    {
      "cell_type": "code",
      "metadata": {
        "id": "ZZa7aA_1Sfh8",
        "colab_type": "code",
        "colab": {}
      },
      "source": [
        "# Crear la nueva columna usando funciones de la librería datetime\n",
        "dfLikes[\"periodo\"] = dfLikes[\"created_time\"].apply(lambda d: datetime.strptime(d, '%Y-%m-%dT%H:%M:%S+%f').strftime('%Y%m'))"
      ],
      "execution_count": 0,
      "outputs": []
    },
    {
      "cell_type": "code",
      "metadata": {
        "scrolled": true,
        "id": "WSgnmubxSfh9",
        "colab_type": "code",
        "colab": {}
      },
      "source": [
        "# Agrupar por periodo y contar la cantidad de páginas a las que les dí likes\n",
        "dfLikesMonthAgg = dfLikes.groupby(\"periodo\", as_index=False).agg({\"id\": \"count\"})\n",
        "dfLikesMonthAgg"
      ],
      "execution_count": 0,
      "outputs": []
    },
    {
      "cell_type": "code",
      "metadata": {
        "id": "CZYt04BTQKwL",
        "colab_type": "code",
        "colab": {}
      },
      "source": [
        "g = dfLikesMonthAgg.plot(x=\"periodo\", y=\"id\", kind=\"line\", figsize=(30, 5))"
      ],
      "execution_count": 0,
      "outputs": []
    },
    {
      "cell_type": "code",
      "metadata": {
        "id": "d_wwnzTSSfh-",
        "colab_type": "code",
        "colab": {}
      },
      "source": [
        "# Crear la nueva columna usando funciones de la librería datetime\n",
        "dfLikes[\"año\"] = dfLikes[\"created_time\"].apply(lambda d: datetime.strptime(d, '%Y-%m-%dT%H:%M:%S+%f').strftime('%Y'))"
      ],
      "execution_count": 0,
      "outputs": []
    },
    {
      "cell_type": "code",
      "metadata": {
        "scrolled": true,
        "id": "7zg0122TSfh_",
        "colab_type": "code",
        "colab": {}
      },
      "source": [
        "# Agrupar por Año y contar la cantidad de páginas a las que les dí likes\n",
        "dfLikesYearAgg = dfLikes.groupby(\"año\", as_index=False).agg({\"id\": \"count\"})\n",
        "dfLikesYearAgg"
      ],
      "execution_count": 0,
      "outputs": []
    },
    {
      "cell_type": "code",
      "metadata": {
        "id": "I01h79YpQb0W",
        "colab_type": "code",
        "colab": {}
      },
      "source": [
        "g = dfLikesYearAgg.plot(x=\"año\", y=\"id\", kind=\"line\", figsize=(30, 5))"
      ],
      "execution_count": 0,
      "outputs": []
    },
    {
      "cell_type": "code",
      "metadata": {
        "id": "feJAritlSfiA",
        "colab_type": "code",
        "colab": {}
      },
      "source": [
        "# Agrupar por año y obtener el promedio de la cantidad de fans de las páginas a las que les dí likes\n",
        "dfLikes.groupby(\"año\").agg({\"fan_count\": \"mean\"}).astype(int)"
      ],
      "execution_count": 0,
      "outputs": []
    },
    {
      "cell_type": "markdown",
      "metadata": {
        "id": "nn_GtaMASfiB",
        "colab_type": "text"
      },
      "source": [
        "Ordenemos los registros en base a la columna created_time"
      ]
    },
    {
      "cell_type": "code",
      "metadata": {
        "scrolled": true,
        "id": "4OQVYt__SfiB",
        "colab_type": "code",
        "colab": {}
      },
      "source": [
        "dfLikes.sort_values(by=\"date\", ascending=True, inplace=True)"
      ],
      "execution_count": 0,
      "outputs": []
    },
    {
      "cell_type": "markdown",
      "metadata": {
        "id": "pQY3fQjYSfiB",
        "colab_type": "text"
      },
      "source": [
        "Agrupemos los likes por categoría, y ordenarlos de forma descendente en base a la cantidad de likes."
      ]
    },
    {
      "cell_type": "code",
      "metadata": {
        "scrolled": true,
        "id": "WuG8BuipSfiC",
        "colab_type": "code",
        "colab": {}
      },
      "source": [
        "dfLikes.groupby(\"category\", as_index=False).agg({\"id\": \"count\"})"
      ],
      "execution_count": 0,
      "outputs": []
    },
    {
      "cell_type": "markdown",
      "metadata": {
        "id": "Ntt0vA2eSfiC",
        "colab_type": "text"
      },
      "source": [
        "Crear una Pivot Table, donde pueda observar la cantidad de páginas por año (columnas) y categoría (índices)."
      ]
    },
    {
      "cell_type": "code",
      "metadata": {
        "scrolled": true,
        "id": "AL1pXZFdSfiC",
        "colab_type": "code",
        "colab": {}
      },
      "source": [
        "dfLikesPivot = dfLikes.pivot_table(index=\"category\", columns=[\"año\"], values=\"id\", aggfunc=\"count\", fill_value=0, margins=True)"
      ],
      "execution_count": 0,
      "outputs": []
    },
    {
      "cell_type": "markdown",
      "metadata": {
        "id": "xwKbecDmSfiD",
        "colab_type": "text"
      },
      "source": [
        "En base a la tabla anterior, identificar cuántos likes he dado sólo a páginas de la categoría **Education**."
      ]
    },
    {
      "cell_type": "code",
      "metadata": {
        "scrolled": false,
        "id": "5dg7fS61SfiD",
        "colab_type": "code",
        "colab": {}
      },
      "source": [
        "dfLikesPivot.reset_index(inplace=True)\n",
        "dfLikesPivot.loc[dfLikesPivot[\"category\"] == \"Education\"]"
      ],
      "execution_count": 0,
      "outputs": []
    },
    {
      "cell_type": "markdown",
      "metadata": {
        "id": "C8BZFsSv5k5o",
        "colab_type": "text"
      },
      "source": [
        "### Comparte tu información para un análisis colectivo"
      ]
    },
    {
      "cell_type": "code",
      "metadata": {
        "id": "hYkvzbWl5hvn",
        "colab_type": "code",
        "colab": {}
      },
      "source": [
        "dfLikes[\"id_user\"] = idUser\n",
        "dfLikes.rename(columns={\"id\": \"id_like\"}, inplace=True)"
      ],
      "execution_count": 0,
      "outputs": []
    },
    {
      "cell_type": "code",
      "metadata": {
        "id": "kw-DhZpC89fD",
        "colab_type": "code",
        "colab": {}
      },
      "source": [
        "dfLikes.info()"
      ],
      "execution_count": 0,
      "outputs": []
    },
    {
      "cell_type": "code",
      "metadata": {
        "id": "bm67Gw649BOl",
        "colab_type": "code",
        "colab": {}
      },
      "source": [
        "dfLikes[\"description\"] = dfLikes[\"description\"].fillna(\"\")"
      ],
      "execution_count": 0,
      "outputs": []
    },
    {
      "cell_type": "code",
      "metadata": {
        "id": "-aYIVTYR5yfE",
        "colab_type": "code",
        "colab": {}
      },
      "source": [
        "log_upload = upload_information(dfLikes, \"UserLikes\")"
      ],
      "execution_count": 0,
      "outputs": []
    },
    {
      "cell_type": "code",
      "metadata": {
        "id": "ij1h1hk35xwG",
        "colab_type": "code",
        "colab": {}
      },
      "source": [
        "log_upload[0]"
      ],
      "execution_count": 0,
      "outputs": []
    },
    {
      "cell_type": "markdown",
      "metadata": {
        "id": "-urDBNYMSfiE",
        "colab_type": "text"
      },
      "source": [
        "### Tagged Places\n",
        "\n",
        "Ahora, haremos uso de Graph de Facebook para extraer nuestras Etiquetas."
      ]
    },
    {
      "cell_type": "code",
      "metadata": {
        "id": "nTf8aIs4Sa4W",
        "colab_type": "code",
        "colab": {}
      },
      "source": [
        "fields = \"tagged_places.limit(100){id,created_time,place}\"\n",
        "url = \"{host}{id}?fields={fields}&access_token={token}\".format(host=host, id=id_facebook, fields=fields, token=token)"
      ],
      "execution_count": 0,
      "outputs": []
    },
    {
      "cell_type": "code",
      "metadata": {
        "id": "YcTZchddSriR",
        "colab_type": "code",
        "colab": {}
      },
      "source": [
        "response = requests.get(url)\n",
        "tagged_places = response.json()"
      ],
      "execution_count": 0,
      "outputs": []
    },
    {
      "cell_type": "code",
      "metadata": {
        "id": "iHU2nYHOSrUF",
        "colab_type": "code",
        "colab": {}
      },
      "source": [
        "print(json.dumps(tagged_places, indent=4))"
      ],
      "execution_count": 0,
      "outputs": []
    },
    {
      "cell_type": "code",
      "metadata": {
        "id": "ufVNkjcXUF3o",
        "colab_type": "code",
        "colab": {}
      },
      "source": [
        "tagged_places = tagged_places[\"tagged_places\"]"
      ],
      "execution_count": 0,
      "outputs": []
    },
    {
      "cell_type": "code",
      "metadata": {
        "id": "Xxu7mM6BTWeD",
        "colab_type": "code",
        "colab": {}
      },
      "source": [
        "l = []\n",
        "i = 0\n",
        "current_url_pagging, next_url_pagging = \"\", \" \"\n",
        "while current_url_pagging != next_url_pagging:\n",
        "    try:\n",
        "        if 'data' in tagged_places.keys():\n",
        "            l += tagged_places['data']\n",
        "            print(\"Petición #{0}\".format(i))\n",
        "            print(\"\\t\" + tagged_places['paging']['next'])\n",
        "            i+=1\n",
        "            current_url_pagging = tagged_places['paging']['next']\n",
        "            tagged_places = requests.get(current_url_pagging).json()\n",
        "            print(\"\\t {0} nuevos Likes\".format(len(tagged_places['data'])))\n",
        "            next_url_pagging = tagged_places['paging']['next']\n",
        "        else:\n",
        "          break\n",
        "    except KeyError:\n",
        "        break"
      ],
      "execution_count": 0,
      "outputs": []
    },
    {
      "cell_type": "code",
      "metadata": {
        "id": "mre1W80nSfiE",
        "colab_type": "code",
        "colab": {}
      },
      "source": [
        "print(\"Se han extraído {0} etiquetas\".format(len(l)))\n",
        "print(\"Un ejemplo de un registro de Etiqueta: \\n\")\n",
        "print(json.dumps(l[0], indent=4))"
      ],
      "execution_count": 0,
      "outputs": []
    },
    {
      "cell_type": "markdown",
      "metadata": {
        "id": "1nt9YYZ5SfiI",
        "colab_type": "text"
      },
      "source": [
        "A partir de la lista generada de etiquetas, crea un DataFrame llamado `dfEtiquetas` y ordena las columnas de la siguiente manera: `id, created_time y place`."
      ]
    },
    {
      "cell_type": "code",
      "metadata": {
        "scrolled": true,
        "id": "GQQ4jsESSfiI",
        "colab_type": "code",
        "colab": {}
      },
      "source": [
        "dfEtiquetas = pd.DataFrame(l)[[\"id\", \"created_time\", \"place\"]]"
      ],
      "execution_count": 0,
      "outputs": []
    },
    {
      "cell_type": "markdown",
      "metadata": {
        "id": "_kegH_MzSfiJ",
        "colab_type": "text"
      },
      "source": [
        "Demos un vistazo general al DataFrame para saber cuántos registros y columnas tiene, cuánto pesa, qué tipos de datos contiene y la cantidad de nulos por columna."
      ]
    },
    {
      "cell_type": "code",
      "metadata": {
        "scrolled": true,
        "id": "S3Xt4ywsSfiJ",
        "colab_type": "code",
        "colab": {}
      },
      "source": [
        "dfEtiquetas.info()"
      ],
      "execution_count": 0,
      "outputs": []
    },
    {
      "cell_type": "markdown",
      "metadata": {
        "id": "CNb8h9bgSfiM",
        "colab_type": "text"
      },
      "source": [
        "Si nos damos cuenta, la columna **created_time** es del tipo `Object`. Necesitamos crear una nueva columna que tenga el formato \"YYYYMMDD\"."
      ]
    },
    {
      "cell_type": "code",
      "metadata": {
        "id": "a9MXmsicC38m",
        "colab_type": "code",
        "colab": {}
      },
      "source": [
        "# Eliminar posibles duplicados\n",
        "dfEtiquetas.drop_duplicates(subset=[\"id\"], inplace=True)\n",
        "dfEtiquetas.reset_index(drop=True, inplace=True)"
      ],
      "execution_count": 0,
      "outputs": []
    },
    {
      "cell_type": "code",
      "metadata": {
        "id": "xc7kLPm6SfiM",
        "colab_type": "code",
        "colab": {}
      },
      "source": [
        "# Eliminar los registros que tengan nulos en la columna \"created_time\"\n",
        "dfEtiquetas.dropna(subset=[\"created_time\"], inplace=True)"
      ],
      "execution_count": 0,
      "outputs": []
    },
    {
      "cell_type": "code",
      "metadata": {
        "scrolled": true,
        "id": "-eSv4bkSSfiN",
        "colab_type": "code",
        "colab": {}
      },
      "source": [
        "# Crear la nueva columna usando funciones de la librería datetime\n",
        "dfEtiquetas[\"date\"] = dfEtiquetas[\"created_time\"].apply(lambda d: datetime.strptime(d, '%Y-%m-%dT%H:%M:%S+%f').strftime('%Y%m%d'))"
      ],
      "execution_count": 0,
      "outputs": []
    },
    {
      "cell_type": "code",
      "metadata": {
        "scrolled": true,
        "id": "VpfYONO9SfiO",
        "colab_type": "code",
        "colab": {}
      },
      "source": [
        "# Crear 2 nuevas columnas llamadas longitude y latitude, basados en el campo place\n",
        "dfEtiquetas[\"latitude\"] = dfEtiquetas[\"place\"].apply(lambda p: p[\"location\"][\"latitude\"])\n",
        "dfEtiquetas[\"longitude\"] = dfEtiquetas[\"place\"].apply(lambda p: p[\"location\"][\"longitude\"])"
      ],
      "execution_count": 0,
      "outputs": []
    },
    {
      "cell_type": "code",
      "metadata": {
        "id": "kO5fWB4LaXBH",
        "colab_type": "code",
        "colab": {}
      },
      "source": [
        "# Crear una nueva columna con el nombre del Lugar\n",
        "dfEtiquetas[\"name\"] = dfEtiquetas[\"place\"].apply(lambda p: p[\"name\"])"
      ],
      "execution_count": 0,
      "outputs": []
    },
    {
      "cell_type": "code",
      "metadata": {
        "scrolled": true,
        "id": "ybZp5WUSSfiP",
        "colab_type": "code",
        "colab": {}
      },
      "source": [
        "dfEtiquetas"
      ],
      "execution_count": 0,
      "outputs": []
    },
    {
      "cell_type": "code",
      "metadata": {
        "id": "LWw8Zdcvb0C-",
        "colab_type": "code",
        "colab": {}
      },
      "source": [
        "# Resumen dle DataFrame\n",
        "dfEtiquetas.info()"
      ],
      "execution_count": 0,
      "outputs": []
    },
    {
      "cell_type": "code",
      "metadata": {
        "scrolled": true,
        "id": "NIC1tZ6tSfiR",
        "colab_type": "code",
        "colab": {}
      },
      "source": [
        "# ¿En cuántas ciudades he sido etiquetado?... Y ¿Cuántas veces he sido etiquetado en cada ciudad?\n",
        "dfEtiquetas[\"city\"] = dfEtiquetas[\"place\"].apply(lambda p: p[\"location\"][\"city\"] if \"city\" in p[\"location\"].keys() else None)"
      ],
      "execution_count": 0,
      "outputs": []
    },
    {
      "cell_type": "code",
      "metadata": {
        "scrolled": false,
        "id": "Z7iyvOWKSfiR",
        "colab_type": "code",
        "colab": {}
      },
      "source": [
        "dfEtiquetas.groupby(\"city\", as_index=False).agg({\"id\": \"count\"}).sort_values(by=\"id\", ascending=False)"
      ],
      "execution_count": 0,
      "outputs": []
    },
    {
      "cell_type": "markdown",
      "metadata": {
        "id": "-JFJp8WpZJ5l",
        "colab_type": "text"
      },
      "source": [
        "# Visualizar los lugares donde me etiquetaron en un Mapa\n",
        "\n",
        "Para poder visualizar las coordenadas de todos los lugares donde hemos sido taggeados extraídos por la solicitud al Graph API de Facebook, haremos uso de [Mapbox](https://www.mapbox.com/) y [Plotly](https://plot.ly/feed/#/).\n",
        "\n",
        "Mapbox es un proveedor de mapas on-line realizados por encargo para páginas webs como **Foursquare, Pinterest, Evernote, Financial Times, EThe Weather Channel y Uber Tecnologías**. Desde 2010, ha expandido rápidamente su nicho de mapas como respuesta a la limitada elección que ofrecen otros proveedores como Google Maps y OpenStreetMap.\n",
        "\n",
        "<br>\n",
        "<img src=\"https://github.com/mlaricobar/Machine-Learning-Course/raw/84d066f02eb8a3b0c342c2c1ad182657dc07f972/images/mapbox.png\" width=\"400\">\n",
        "\n",
        "Para poder usar mapbox, necesitamos de un token que se genera al crear una cuenta."
      ]
    },
    {
      "cell_type": "markdown",
      "metadata": {
        "id": "jZd7yYDoZehS",
        "colab_type": "text"
      },
      "source": [
        "Para poder usar esta herramienta dentro de Jupyter, debemos instalar el módulo [plotly](https://plot.ly/python/getting-started/)."
      ]
    },
    {
      "cell_type": "code",
      "metadata": {
        "id": "vUpTnk0zYqF3",
        "colab_type": "code",
        "colab": {}
      },
      "source": [
        "!pip install plotly"
      ],
      "execution_count": 0,
      "outputs": []
    },
    {
      "cell_type": "code",
      "metadata": {
        "id": "OHcIHQ-VrKY6",
        "colab_type": "code",
        "colab": {}
      },
      "source": [
        "# Importar los métodos del package Plotly\n",
        "import plotly.plotly as py\n",
        "import plotly.graph_objs as go\n",
        "import plotly"
      ],
      "execution_count": 0,
      "outputs": []
    },
    {
      "cell_type": "code",
      "metadata": {
        "id": "buAcjgRDJsIt",
        "colab_type": "code",
        "colab": {}
      },
      "source": [
        "username_plotly = \"<--- ESCRIBE TU USUARIO DE PLOTLY --->\"\n",
        "api_key_plotly = \"<--- ESCRIBE EL API KEY GENERADO --->\"\n",
        "mapbox_access_token = \"<--- ESCRIBE EL TOKEN GENERADO EN MAPBOX --->\""
      ],
      "execution_count": 0,
      "outputs": []
    },
    {
      "cell_type": "code",
      "metadata": {
        "id": "0tWITwNlrKQn",
        "colab_type": "code",
        "colab": {}
      },
      "source": [
        "# Definir credenciales de Plotly y token de Mapbox\n",
        "plotly.tools.set_credentials_file(username=username_plotly, api_key=api_key_plotly)"
      ],
      "execution_count": 0,
      "outputs": []
    },
    {
      "cell_type": "code",
      "metadata": {
        "id": "V3BM-jrktOUF",
        "colab_type": "code",
        "colab": {}
      },
      "source": [
        "site_lat = dfEtiquetas.latitude\n",
        "site_lon = dfEtiquetas.longitude\n",
        "locations_name = dfEtiquetas.name"
      ],
      "execution_count": 0,
      "outputs": []
    },
    {
      "cell_type": "code",
      "metadata": {
        "id": "ozaS75SNbldT",
        "colab_type": "code",
        "colab": {}
      },
      "source": [
        "# Mostrar los puntos en el mapa\n",
        "data = [\n",
        "    go.Scattermapbox(\n",
        "        lat=site_lat,\n",
        "        lon=site_lon,\n",
        "        mode='markers',\n",
        "        marker=go.scattermapbox.Marker(\n",
        "            size=17,\n",
        "            color='rgb(255, 0, 0)',\n",
        "            opacity=0.7\n",
        "        ),\n",
        "        text=locations_name,\n",
        "        hoverinfo='text'\n",
        "    ),\n",
        "    go.Scattermapbox(\n",
        "        lat=site_lat,\n",
        "        lon=site_lon,\n",
        "        mode='markers',\n",
        "        marker=go.scattermapbox.Marker(\n",
        "            size=8,\n",
        "            color='rgb(242, 177, 172)',\n",
        "            opacity=0.7\n",
        "        ),\n",
        "        hoverinfo='none'\n",
        "    )]\n",
        "        \n",
        "layout = go.Layout(\n",
        "    title='Lugares donde he sido Etiquetado',\n",
        "    autosize=True,\n",
        "    hovermode='closest',\n",
        "    showlegend=False,\n",
        "    mapbox=go.layout.Mapbox(\n",
        "        accesstoken=mapbox_access_token,\n",
        "        bearing=0,\n",
        "        center=go.layout.mapbox.Center(\n",
        "            lat=-12.047290,\n",
        "            lon=-77.043427\n",
        "        ),\n",
        "        pitch=0,\n",
        "        zoom=11,\n",
        "        style= 'mapbox://styles/mapbox/light-v9'\n",
        "    ),\n",
        ")\n",
        "\n",
        "fig = go.Figure(data=data, layout=layout)\n",
        "py.iplot(fig, filename='Lugares donde he sido Etiquetado')"
      ],
      "execution_count": 0,
      "outputs": []
    },
    {
      "cell_type": "markdown",
      "metadata": {
        "id": "ZNqh23BBAnwh",
        "colab_type": "text"
      },
      "source": [
        "### Comparte tu información para un análisis colectivo"
      ]
    },
    {
      "cell_type": "code",
      "metadata": {
        "id": "kCCWc3jT_9Rv",
        "colab_type": "code",
        "colab": {}
      },
      "source": [
        "dfEtiquetas[\"id_user\"] = idUser\n",
        "dfEtiquetas.rename(columns={\"id\": \"id_tagged_place\"}, inplace=True)"
      ],
      "execution_count": 0,
      "outputs": []
    },
    {
      "cell_type": "code",
      "metadata": {
        "id": "n556WMUeAxtG",
        "colab_type": "code",
        "colab": {}
      },
      "source": [
        "tagged_columns = [\"id_user\", \"id_tagged_place\", \"name\", \"latitude\", \"longitude\", \"created_time\", \"date\"]"
      ],
      "execution_count": 0,
      "outputs": []
    },
    {
      "cell_type": "code",
      "metadata": {
        "id": "AS0LC-8s_9OW",
        "colab_type": "code",
        "colab": {}
      },
      "source": [
        "log_upload = upload_information(dfEtiquetas[tagged_columns], \"UserTaggedPlaces\")"
      ],
      "execution_count": 0,
      "outputs": []
    },
    {
      "cell_type": "code",
      "metadata": {
        "id": "UtcVLB2O_9J1",
        "colab_type": "code",
        "colab": {}
      },
      "source": [
        "log_upload[0]"
      ],
      "execution_count": 0,
      "outputs": []
    },
    {
      "cell_type": "markdown",
      "metadata": {
        "id": "0X15QdE0CChW",
        "colab_type": "text"
      },
      "source": [
        "# Análisis Colectivo"
      ]
    },
    {
      "cell_type": "code",
      "metadata": {
        "id": "Q4oWyEkYBFzR",
        "colab_type": "code",
        "colab": {}
      },
      "source": [
        "def download_information(collection_name):\n",
        "  ENDPOINT = \"https://mlaricobar.documents.azure.com:443/\"\n",
        "  MASTERKEY = \"wGUpP07DsObsE85fNeb8kywcV8Y1gYFt10DUR4wWjJuQI9LrjCWtWwG2cGMGrMfhNShIUKDwJqD1MwZGZ34APA==\"\n",
        "\n",
        "  connectionPolicy = documents.ConnectionPolicy()\n",
        "  connectionPolicy.EnableEndpointDiscovery\n",
        "  connectionPolicy.PreferredLocations = [\"East US 2\"]\n",
        "  client = document_client.DocumentClient(ENDPOINT, {'masterKey': MASTERKEY}, connectionPolicy)\n",
        "  \n",
        "  database = 'WebScrapingCourse01'\n",
        "  dblink = 'dbs/' + database\n",
        "  collink = dblink + '/colls/' + collection_name\n",
        "  \n",
        "  result = pd.DataFrame(list(client.ReadDocuments(collink)))\n",
        "  result = result[[c for c in result.columns if c not in ['_attachments', '_etag', '_rid', '_self', '_ts']]]\n",
        "  \n",
        "  return result"
      ],
      "execution_count": 0,
      "outputs": []
    },
    {
      "cell_type": "code",
      "metadata": {
        "id": "Vie8ZEEX-zNh",
        "colab_type": "code",
        "colab": {}
      },
      "source": [
        "df_user_profile = download_information(\"UserProfile\")\n",
        "df_user_likes = download_information(\"UserLikes\")\n",
        "df_user_tagged_places = download_information(\"UserTaggedPlaces\")"
      ],
      "execution_count": 0,
      "outputs": []
    },
    {
      "cell_type": "markdown",
      "metadata": {
        "id": "Uey7VHTAIA63",
        "colab_type": "text"
      },
      "source": [
        "### 1. ¿Cuantos usuarios de Facebook somos?"
      ]
    },
    {
      "cell_type": "code",
      "metadata": {
        "id": "9yCyArPcFWko",
        "colab_type": "code",
        "colab": {}
      },
      "source": [
        "df_user_profile[\"id_user\"].nunique()"
      ],
      "execution_count": 0,
      "outputs": []
    },
    {
      "cell_type": "markdown",
      "metadata": {
        "id": "LEsuYjQ-IEyk",
        "colab_type": "text"
      },
      "source": [
        "### 2. ¿Cual es la distribución de edades?"
      ]
    },
    {
      "cell_type": "code",
      "metadata": {
        "id": "AVm9oJfWGuQx",
        "colab_type": "code",
        "colab": {}
      },
      "source": [
        "from dateutil.relativedelta import relativedelta"
      ],
      "execution_count": 0,
      "outputs": []
    },
    {
      "cell_type": "code",
      "metadata": {
        "id": "guudBgAYFWd7",
        "colab_type": "code",
        "colab": {}
      },
      "source": [
        "def birthday(date):\n",
        "    # Get the current date\n",
        "    now = datetime.utcnow()\n",
        "    now = now.date()\n",
        "\n",
        "    # Get the difference between the current date and the birthday\n",
        "    age = relativedelta(now, datetime.strptime(date, '%d/%M/%Y'))\n",
        "    age = age.years\n",
        "\n",
        "    return age"
      ],
      "execution_count": 0,
      "outputs": []
    },
    {
      "cell_type": "code",
      "metadata": {
        "id": "O6bP7dVAFWay",
        "colab_type": "code",
        "colab": {}
      },
      "source": [
        "df_user_profile[\"age\"] = df_user_profile[\"birthday\"].apply(birthday)"
      ],
      "execution_count": 0,
      "outputs": []
    },
    {
      "cell_type": "code",
      "metadata": {
        "id": "pM4sTk8vHwHH",
        "colab_type": "code",
        "colab": {}
      },
      "source": [
        "g = df_user_profile[\"age\"].hist()"
      ],
      "execution_count": 0,
      "outputs": []
    },
    {
      "cell_type": "markdown",
      "metadata": {
        "id": "VC3lImsiIO30",
        "colab_type": "text"
      },
      "source": [
        "### 3. ¿Quiénes son los más activos en Redes? (Top 5 de usuarios con más Likes)"
      ]
    },
    {
      "cell_type": "code",
      "metadata": {
        "id": "2PmMFw8sFWUy",
        "colab_type": "code",
        "colab": {}
      },
      "source": [
        "df_user_likes_agg = df_user_likes.groupby(\"id_user\", as_index=False).agg({\"id\": \"nunique\"})\n",
        "df_user_likes_agg.sort_values(by=\"id\", ascending=False).merge(df_user_profile[[\"name\", \"id_user\"]], how=\"left\", on=\"id_user\").head(5)"
      ],
      "execution_count": 0,
      "outputs": []
    },
    {
      "cell_type": "markdown",
      "metadata": {
        "id": "vbhiZRyBIb7w",
        "colab_type": "text"
      },
      "source": [
        "### 4. ¿Quiénes son los más etiquetados? (Top 5 con más Tags)"
      ]
    },
    {
      "cell_type": "code",
      "metadata": {
        "id": "wbRD9NqMH8QO",
        "colab_type": "code",
        "colab": {}
      },
      "source": [
        "df_user_tagged_places_agg = df_user_tagged_places.groupby(\"id_user\", as_index=False).agg({\"id\": \"nunique\"})\n",
        "df_user_tagged_places_agg.sort_values(by=\"id\", ascending=False).merge(df_user_profile[[\"name\", \"id_user\"]], how=\"left\", on=\"id_user\").head(5)"
      ],
      "execution_count": 0,
      "outputs": []
    },
    {
      "cell_type": "markdown",
      "metadata": {
        "id": "-AiHiR9iIlk_",
        "colab_type": "text"
      },
      "source": [
        "### 5. ¿Página con más likes?"
      ]
    },
    {
      "cell_type": "code",
      "metadata": {
        "id": "q0Ums6ydE0Wq",
        "colab_type": "code",
        "colab": {}
      },
      "source": [
        "df_user_likes_page_agg = df_user_likes.groupby(\"name\", as_index=False).agg({\"id_user\": \"nunique\"}).sort_values(by=\"id_user\", ascending=False)\n",
        "df_user_likes_page_agg.head(5)"
      ],
      "execution_count": 0,
      "outputs": []
    },
    {
      "cell_type": "markdown",
      "metadata": {
        "id": "fusoS_JEMCIS",
        "colab_type": "text"
      },
      "source": [
        "### 5. ¿Categoría de página con más likes?"
      ]
    },
    {
      "cell_type": "code",
      "metadata": {
        "id": "wXGtWXiDFUcL",
        "colab_type": "code",
        "colab": {}
      },
      "source": [
        "df_user_likes_page_category_agg = df_user_likes.groupby(\"category\", as_index=False).agg({\"id_user\": \"count\"}).sort_values(by=\"id_user\", ascending=False)\n",
        "df_user_likes_page_category_agg.head(5)"
      ],
      "execution_count": 0,
      "outputs": []
    },
    {
      "cell_type": "markdown",
      "metadata": {
        "id": "a5Ad3aYxeI_H",
        "colab_type": "text"
      },
      "source": [
        "FIN DE NOTEBOOK"
      ]
    }
  ]
}