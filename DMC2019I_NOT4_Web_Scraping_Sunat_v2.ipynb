{
  "nbformat": 4,
  "nbformat_minor": 0,
  "metadata": {
    "colab": {
      "name": "DMC2019I_NOT4_Web_Scraping_Sunat.ipynb",
      "version": "0.3.2",
      "provenance": [],
      "collapsed_sections": [],
      "include_colab_link": true
    },
    "kernelspec": {
      "name": "python3",
      "display_name": "Python 3"
    }
  },
  "cells": [
    {
      "cell_type": "markdown",
      "metadata": {
        "id": "view-in-github",
        "colab_type": "text"
      },
      "source": [
        "<a href=\"https://colab.research.google.com/github/mlaricobar/WebScrapingCourse/blob/master/DMC2019I_NOT4_Web_Scraping_Sunat_v2.ipynb\" target=\"_parent\"><img src=\"https://colab.research.google.com/assets/colab-badge.svg\" alt=\"Open In Colab\"/></a>"
      ]
    },
    {
      "cell_type": "markdown",
      "metadata": {
        "id": "eGktuBwqfpD9",
        "colab_type": "text"
      },
      "source": [
        "## Introducción al package Selenium\n",
        "\n",
        "Selenium Python bindings proporciona un API simple para escribir pruebas funcionales usando el WebDriver de Selenium. A través del API de Python de Selenium puedes utilizar todas las funcionalidades del WebDriver de Selenium de una forma intuitiva y sencilla. Por medio de este API podemos acceder a los WebDrivers de Selenium como Firefox, Internet Explorer, Google Chrome, Remote, etc. "
      ]
    },
    {
      "cell_type": "markdown",
      "metadata": {
        "id": "pvXtGK2jiTnl",
        "colab_type": "text"
      },
      "source": [
        "### Instalación de Selenium Python Bindings"
      ]
    },
    {
      "cell_type": "code",
      "metadata": {
        "id": "Qa92ibvkffIB",
        "colab_type": "code",
        "colab": {
          "base_uri": "https://localhost:8080/",
          "height": 51
        },
        "outputId": "51422ab6-7e82-471d-defd-2e2ed434d758"
      },
      "source": [
        "# Librería Selenium\n",
        "!pip install selenium"
      ],
      "execution_count": 1,
      "outputs": [
        {
          "output_type": "stream",
          "text": [
            "Requirement already satisfied: selenium in /usr/local/lib/python3.6/dist-packages (3.141.0)\n",
            "Requirement already satisfied: urllib3 in /usr/local/lib/python3.6/dist-packages (from selenium) (1.24.3)\n"
          ],
          "name": "stdout"
        }
      ]
    },
    {
      "cell_type": "code",
      "metadata": {
        "id": "ZPHiV5psWE6I",
        "colab_type": "code",
        "outputId": "7f9cb4fc-7ebe-459b-8f8f-7feac25d4b47",
        "colab": {
          "base_uri": "https://localhost:8080/",
          "height": 204
        }
      },
      "source": [
        "!pip install pytesseract"
      ],
      "execution_count": 2,
      "outputs": [
        {
          "output_type": "stream",
          "text": [
            "Collecting pytesseract\n",
            "\u001b[?25l  Downloading https://files.pythonhosted.org/packages/71/5a/d7600cad26276d991feecb27f3627ae2d0ee89aa1e3065fa4f9f1f2defbc/pytesseract-0.2.6.tar.gz (169kB)\n",
            "\u001b[K     |████████████████████████████████| 174kB 4.8MB/s \n",
            "\u001b[?25hRequirement already satisfied: Pillow in /usr/local/lib/python3.6/dist-packages (from pytesseract) (4.3.0)\n",
            "Requirement already satisfied: olefile in /usr/local/lib/python3.6/dist-packages (from Pillow->pytesseract) (0.46)\n",
            "Building wheels for collected packages: pytesseract\n",
            "  Building wheel for pytesseract (setup.py) ... \u001b[?25l\u001b[?25hdone\n",
            "  Stored in directory: /root/.cache/pip/wheels/d5/90/56/ab7b652592da86821293f7cadc1c554aa376a0d57ce414d0a0\n",
            "Successfully built pytesseract\n",
            "Installing collected packages: pytesseract\n",
            "Successfully installed pytesseract-0.2.6\n"
          ],
          "name": "stdout"
        }
      ]
    },
    {
      "cell_type": "code",
      "metadata": {
        "id": "jHxMnrlkZTei",
        "colab_type": "code",
        "outputId": "e7e57335-8d32-4993-ca41-fdb001267720",
        "colab": {
          "base_uri": "https://localhost:8080/",
          "height": 683
        }
      },
      "source": [
        "!sudo apt install tesseract-ocr"
      ],
      "execution_count": 3,
      "outputs": [
        {
          "output_type": "stream",
          "text": [
            "Reading package lists... Done\n",
            "Building dependency tree       \n",
            "Reading state information... Done\n",
            "The following package was automatically installed and is no longer required:\n",
            "  libnvidia-common-410\n",
            "Use 'sudo apt autoremove' to remove it.\n",
            "The following additional packages will be installed:\n",
            "  tesseract-ocr-eng tesseract-ocr-osd\n",
            "The following NEW packages will be installed:\n",
            "  tesseract-ocr tesseract-ocr-eng tesseract-ocr-osd\n",
            "0 upgraded, 3 newly installed, 0 to remove and 7 not upgraded.\n",
            "Need to get 4,795 kB of archives.\n",
            "After this operation, 15.8 MB of additional disk space will be used.\n",
            "Get:1 http://archive.ubuntu.com/ubuntu bionic/universe amd64 tesseract-ocr-eng all 4.00~git24-0e00fe6-1.2 [1,588 kB]\n",
            "Get:2 http://archive.ubuntu.com/ubuntu bionic/universe amd64 tesseract-ocr-osd all 4.00~git24-0e00fe6-1.2 [2,989 kB]\n",
            "Get:3 http://archive.ubuntu.com/ubuntu bionic/universe amd64 tesseract-ocr amd64 4.00~git2288-10f4998a-2 [218 kB]\n",
            "Fetched 4,795 kB in 2s (2,974 kB/s)\n",
            "debconf: unable to initialize frontend: Dialog\n",
            "debconf: (No usable dialog-like program is installed, so the dialog based frontend cannot be used. at /usr/share/perl5/Debconf/FrontEnd/Dialog.pm line 76, <> line 3.)\n",
            "debconf: falling back to frontend: Readline\n",
            "debconf: unable to initialize frontend: Readline\n",
            "debconf: (This frontend requires a controlling tty.)\n",
            "debconf: falling back to frontend: Teletype\n",
            "dpkg-preconfigure: unable to re-open stdin: \n",
            "Selecting previously unselected package tesseract-ocr-eng.\n",
            "(Reading database ... 130950 files and directories currently installed.)\n",
            "Preparing to unpack .../tesseract-ocr-eng_4.00~git24-0e00fe6-1.2_all.deb ...\n",
            "Unpacking tesseract-ocr-eng (4.00~git24-0e00fe6-1.2) ...\n",
            "Selecting previously unselected package tesseract-ocr-osd.\n",
            "Preparing to unpack .../tesseract-ocr-osd_4.00~git24-0e00fe6-1.2_all.deb ...\n",
            "Unpacking tesseract-ocr-osd (4.00~git24-0e00fe6-1.2) ...\n",
            "Selecting previously unselected package tesseract-ocr.\n",
            "Preparing to unpack .../tesseract-ocr_4.00~git2288-10f4998a-2_amd64.deb ...\n",
            "Unpacking tesseract-ocr (4.00~git2288-10f4998a-2) ...\n",
            "Setting up tesseract-ocr-osd (4.00~git24-0e00fe6-1.2) ...\n",
            "Setting up tesseract-ocr-eng (4.00~git24-0e00fe6-1.2) ...\n",
            "Processing triggers for man-db (2.8.3-2ubuntu0.1) ...\n",
            "Setting up tesseract-ocr (4.00~git2288-10f4998a-2) ...\n"
          ],
          "name": "stdout"
        }
      ]
    },
    {
      "cell_type": "markdown",
      "metadata": {
        "id": "DsH8co-Yih_E",
        "colab_type": "text"
      },
      "source": [
        "### Instalación del Web Driver de Selenium\n",
        "\n",
        "Para automatizar las interacciones con el navegador necesitamos de un **Driver** que sirva como interfaz ante el navegador. Por ejemplo, `Chrome` requiere [chromedriver](https://sites.google.com/a/chromium.org/chromedriver/download). En la siguiente tabla se listan los drivers necesarios para cada navegador:\n",
        "\n",
        "| Navegador | Driver \n",
        "| --- | :---: \n",
        "| **Chrome:** |   https://sites.google.com/a/chromium.org/chromedriver/downloads  \n",
        "| **Edge:** |   https://developer.microsoft.com/en-us/microsoft-edge/tools/webdriver/  \n",
        "| **Firefox:** |   https://github.com/mozilla/geckodriver/releases  \n",
        "| **Safari:** |   https://webkit.org/blog/6900/webdriver-support-in-safari-10/"
      ]
    },
    {
      "cell_type": "markdown",
      "metadata": {
        "id": "1aehhfY-46O7",
        "colab_type": "text"
      },
      "source": [
        "#### En windows"
      ]
    },
    {
      "cell_type": "markdown",
      "metadata": {
        "id": "8KKIguAM4-tx",
        "colab_type": "text"
      },
      "source": [
        "#### En Linux"
      ]
    },
    {
      "cell_type": "code",
      "metadata": {
        "id": "ZBIlaaKc4_-A",
        "colab_type": "code",
        "outputId": "1eea3b78-642c-4f5c-9c04-d2f66c6ba3e8",
        "colab": {
          "base_uri": "https://localhost:8080/",
          "height": 153
        }
      },
      "source": [
        "# instalar el Driver de Chrome\n",
        "!apt install chromium-chromedriver"
      ],
      "execution_count": 4,
      "outputs": [
        {
          "output_type": "stream",
          "text": [
            "Reading package lists... Done\n",
            "Building dependency tree       \n",
            "Reading state information... Done\n",
            "chromium-chromedriver is already the newest version (73.0.3683.86-0ubuntu0.18.04.1).\n",
            "The following package was automatically installed and is no longer required:\n",
            "  libnvidia-common-410\n",
            "Use 'apt autoremove' to remove it.\n",
            "0 upgraded, 0 newly installed, 0 to remove and 7 not upgraded.\n"
          ],
          "name": "stdout"
        }
      ]
    },
    {
      "cell_type": "code",
      "metadata": {
        "id": "mtBWqNoK5g6-",
        "colab_type": "code",
        "outputId": "6da36183-1a0a-465f-b227-8a3071304682",
        "colab": {
          "base_uri": "https://localhost:8080/",
          "height": 34
        }
      },
      "source": [
        "# Encontrar el path donde se encuentra instalado el Driver de Chrome\n",
        "!which chromedriver"
      ],
      "execution_count": 5,
      "outputs": [
        {
          "output_type": "stream",
          "text": [
            "/usr/bin/chromedriver\n"
          ],
          "name": "stdout"
        }
      ]
    },
    {
      "cell_type": "markdown",
      "metadata": {
        "id": "a1c-Rjen5ySA",
        "colab_type": "text"
      },
      "source": [
        "### Importar los módulos y configurar el driver de Selenium"
      ]
    },
    {
      "cell_type": "code",
      "metadata": {
        "id": "SP2OthBR7fbi",
        "colab_type": "code",
        "colab": {}
      },
      "source": [
        "driver_path = \"/usr/bin/chromedriver\""
      ],
      "execution_count": 0,
      "outputs": []
    },
    {
      "cell_type": "code",
      "metadata": {
        "id": "pPLftVV25_JX",
        "colab_type": "code",
        "colab": {}
      },
      "source": [
        "# importar los módulos de la librería Selenium\n",
        "from selenium import webdriver\n",
        "from selenium.webdriver.chrome.options import Options"
      ],
      "execution_count": 0,
      "outputs": []
    },
    {
      "cell_type": "code",
      "metadata": {
        "id": "DngCb3V_5p7B",
        "colab_type": "code",
        "colab": {}
      },
      "source": [
        "options = Options()\n",
        "options.add_argument(\"--headless\") #\n",
        "options.add_argument('--no-sandbox')\n",
        "options.add_argument(\"--disable-extensions\")\n",
        "options.add_argument('start-maximized')\n",
        "options.add_argument('disable-infobars')"
      ],
      "execution_count": 0,
      "outputs": []
    },
    {
      "cell_type": "code",
      "metadata": {
        "id": "vq-kD9U-7Yu-",
        "colab_type": "code",
        "colab": {}
      },
      "source": [
        "# Instanciar el objeto Driver usando los path definidos\n",
        "driver = webdriver.Chrome(options=options, executable_path=driver_path)"
      ],
      "execution_count": 0,
      "outputs": []
    },
    {
      "cell_type": "code",
      "metadata": {
        "id": "nDBzAjJ8wSPU",
        "colab_type": "code",
        "colab": {
          "base_uri": "https://localhost:8080/",
          "height": 34
        },
        "outputId": "40a00ca2-f9b2-4df2-8806-8812d774756a"
      },
      "source": [
        "driver"
      ],
      "execution_count": 11,
      "outputs": [
        {
          "output_type": "execute_result",
          "data": {
            "text/plain": [
              "<selenium.webdriver.chrome.webdriver.WebDriver (session=\"23d7ef3a3166251fdd2263513b89fc85\")>"
            ]
          },
          "metadata": {
            "tags": []
          },
          "execution_count": 11
        }
      ]
    },
    {
      "cell_type": "markdown",
      "metadata": {
        "id": "HNYu4CAf79_z",
        "colab_type": "text"
      },
      "source": [
        "### Principales métodos y propiedades de Selenium"
      ]
    },
    {
      "cell_type": "code",
      "metadata": {
        "id": "f6c2Uh_eeoM2",
        "colab_type": "code",
        "outputId": "0afd586b-df02-4392-85be-7e3a7d916903",
        "colab": {
          "base_uri": "https://localhost:8080/",
          "height": 11954
        }
      },
      "source": [
        "help(driver)"
      ],
      "execution_count": 12,
      "outputs": [
        {
          "output_type": "stream",
          "text": [
            "Help on WebDriver in module selenium.webdriver.chrome.webdriver object:\n",
            "\n",
            "class WebDriver(selenium.webdriver.remote.webdriver.WebDriver)\n",
            " |  Controls the ChromeDriver and allows you to drive the browser.\n",
            " |  \n",
            " |  You will need to download the ChromeDriver executable from\n",
            " |  http://chromedriver.storage.googleapis.com/index.html\n",
            " |  \n",
            " |  Method resolution order:\n",
            " |      WebDriver\n",
            " |      selenium.webdriver.remote.webdriver.WebDriver\n",
            " |      builtins.object\n",
            " |  \n",
            " |  Methods defined here:\n",
            " |  \n",
            " |  __init__(self, executable_path='chromedriver', port=0, options=None, service_args=None, desired_capabilities=None, service_log_path=None, chrome_options=None, keep_alive=True)\n",
            " |      Creates a new instance of the chrome driver.\n",
            " |      \n",
            " |      Starts the service and then creates new instance of chrome driver.\n",
            " |      \n",
            " |      :Args:\n",
            " |       - executable_path - path to the executable. If the default is used it assumes the executable is in the $PATH\n",
            " |       - port - port you would like the service to run, if left as 0, a free port will be found.\n",
            " |       - options - this takes an instance of ChromeOptions\n",
            " |       - service_args - List of args to pass to the driver service\n",
            " |       - desired_capabilities - Dictionary object with non-browser specific\n",
            " |         capabilities only, such as \"proxy\" or \"loggingPref\".\n",
            " |       - service_log_path - Where to log information from the driver.\n",
            " |       - chrome_options - Deprecated argument for options\n",
            " |       - keep_alive - Whether to configure ChromeRemoteConnection to use HTTP keep-alive.\n",
            " |  \n",
            " |  create_options(self)\n",
            " |  \n",
            " |  execute_cdp_cmd(self, cmd, cmd_args)\n",
            " |      Execute Chrome Devtools Protocol command and get returned result\n",
            " |      \n",
            " |      The command and command args should follow chrome devtools protocol domains/commands, refer to link\n",
            " |      https://chromedevtools.github.io/devtools-protocol/\n",
            " |      \n",
            " |      :Args:\n",
            " |       - cmd: A str, command name\n",
            " |       - cmd_args: A dict, command args. empty dict {} if there is no command args\n",
            " |      \n",
            " |      :Usage:\n",
            " |          driver.execute_cdp_cmd('Network.getResponseBody', {'requestId': requestId})\n",
            " |      \n",
            " |      :Returns:\n",
            " |          A dict, empty dict {} if there is no result to return.\n",
            " |          For example to getResponseBody:\n",
            " |      \n",
            " |          {'base64Encoded': False, 'body': 'response body string'}\n",
            " |  \n",
            " |  get_network_conditions(self)\n",
            " |      Gets Chrome network emulation settings.\n",
            " |      \n",
            " |      :Returns:\n",
            " |          A dict. For example:\n",
            " |      \n",
            " |          {'latency': 4, 'download_throughput': 2, 'upload_throughput': 2,\n",
            " |          'offline': False}\n",
            " |  \n",
            " |  launch_app(self, id)\n",
            " |      Launches Chrome app specified by id.\n",
            " |  \n",
            " |  quit(self)\n",
            " |      Closes the browser and shuts down the ChromeDriver executable\n",
            " |      that is started when starting the ChromeDriver\n",
            " |  \n",
            " |  set_network_conditions(self, **network_conditions)\n",
            " |      Sets Chrome network emulation settings.\n",
            " |      \n",
            " |      :Args:\n",
            " |       - network_conditions: A dict with conditions specification.\n",
            " |      \n",
            " |      :Usage:\n",
            " |          driver.set_network_conditions(\n",
            " |              offline=False,\n",
            " |              latency=5,  # additional latency (ms)\n",
            " |              download_throughput=500 * 1024,  # maximal throughput\n",
            " |              upload_throughput=500 * 1024)  # maximal throughput\n",
            " |      \n",
            " |          Note: 'throughput' can be used to set both (for download and upload).\n",
            " |  \n",
            " |  ----------------------------------------------------------------------\n",
            " |  Methods inherited from selenium.webdriver.remote.webdriver.WebDriver:\n",
            " |  \n",
            " |  __enter__(self)\n",
            " |  \n",
            " |  __exit__(self, *args)\n",
            " |  \n",
            " |  __repr__(self)\n",
            " |      Return repr(self).\n",
            " |  \n",
            " |  add_cookie(self, cookie_dict)\n",
            " |      Adds a cookie to your current session.\n",
            " |      \n",
            " |      :Args:\n",
            " |       - cookie_dict: A dictionary object, with required keys - \"name\" and \"value\";\n",
            " |          optional keys - \"path\", \"domain\", \"secure\", \"expiry\"\n",
            " |      \n",
            " |      Usage:\n",
            " |          driver.add_cookie({'name' : 'foo', 'value' : 'bar'})\n",
            " |          driver.add_cookie({'name' : 'foo', 'value' : 'bar', 'path' : '/'})\n",
            " |          driver.add_cookie({'name' : 'foo', 'value' : 'bar', 'path' : '/', 'secure':True})\n",
            " |  \n",
            " |  back(self)\n",
            " |      Goes one step backward in the browser history.\n",
            " |      \n",
            " |      :Usage:\n",
            " |          driver.back()\n",
            " |  \n",
            " |  close(self)\n",
            " |      Closes the current window.\n",
            " |      \n",
            " |      :Usage:\n",
            " |          driver.close()\n",
            " |  \n",
            " |  create_web_element(self, element_id)\n",
            " |      Creates a web element with the specified `element_id`.\n",
            " |  \n",
            " |  delete_all_cookies(self)\n",
            " |      Delete all cookies in the scope of the session.\n",
            " |      \n",
            " |      :Usage:\n",
            " |          driver.delete_all_cookies()\n",
            " |  \n",
            " |  delete_cookie(self, name)\n",
            " |      Deletes a single cookie with the given name.\n",
            " |      \n",
            " |      :Usage:\n",
            " |          driver.delete_cookie('my_cookie')\n",
            " |  \n",
            " |  execute(self, driver_command, params=None)\n",
            " |      Sends a command to be executed by a command.CommandExecutor.\n",
            " |      \n",
            " |      :Args:\n",
            " |       - driver_command: The name of the command to execute as a string.\n",
            " |       - params: A dictionary of named parameters to send with the command.\n",
            " |      \n",
            " |      :Returns:\n",
            " |        The command's JSON response loaded into a dictionary object.\n",
            " |  \n",
            " |  execute_async_script(self, script, *args)\n",
            " |      Asynchronously Executes JavaScript in the current window/frame.\n",
            " |      \n",
            " |      :Args:\n",
            " |       - script: The JavaScript to execute.\n",
            " |       - \\*args: Any applicable arguments for your JavaScript.\n",
            " |      \n",
            " |      :Usage:\n",
            " |          script = \"var callback = arguments[arguments.length - 1]; \"                      \"window.setTimeout(function(){ callback('timeout') }, 3000);\"\n",
            " |          driver.execute_async_script(script)\n",
            " |  \n",
            " |  execute_script(self, script, *args)\n",
            " |      Synchronously Executes JavaScript in the current window/frame.\n",
            " |      \n",
            " |      :Args:\n",
            " |       - script: The JavaScript to execute.\n",
            " |       - \\*args: Any applicable arguments for your JavaScript.\n",
            " |      \n",
            " |      :Usage:\n",
            " |          driver.execute_script('return document.title;')\n",
            " |  \n",
            " |  file_detector_context(self, file_detector_class, *args, **kwargs)\n",
            " |      Overrides the current file detector (if necessary) in limited context.\n",
            " |      Ensures the original file detector is set afterwards.\n",
            " |      \n",
            " |      Example:\n",
            " |      \n",
            " |      with webdriver.file_detector_context(UselessFileDetector):\n",
            " |          someinput.send_keys('/etc/hosts')\n",
            " |      \n",
            " |      :Args:\n",
            " |       - file_detector_class - Class of the desired file detector. If the class is different\n",
            " |           from the current file_detector, then the class is instantiated with args and kwargs\n",
            " |           and used as a file detector during the duration of the context manager.\n",
            " |       - args - Optional arguments that get passed to the file detector class during\n",
            " |           instantiation.\n",
            " |       - kwargs - Keyword arguments, passed the same way as args.\n",
            " |  \n",
            " |  find_element(self, by='id', value=None)\n",
            " |      Find an element given a By strategy and locator. Prefer the find_element_by_* methods when\n",
            " |      possible.\n",
            " |      \n",
            " |      :Usage:\n",
            " |          element = driver.find_element(By.ID, 'foo')\n",
            " |      \n",
            " |      :rtype: WebElement\n",
            " |  \n",
            " |  find_element_by_class_name(self, name)\n",
            " |      Finds an element by class name.\n",
            " |      \n",
            " |      :Args:\n",
            " |       - name: The class name of the element to find.\n",
            " |      \n",
            " |      :Returns:\n",
            " |       - WebElement - the element if it was found\n",
            " |      \n",
            " |      :Raises:\n",
            " |       - NoSuchElementException - if the element wasn't found\n",
            " |      \n",
            " |      :Usage:\n",
            " |          element = driver.find_element_by_class_name('foo')\n",
            " |  \n",
            " |  find_element_by_css_selector(self, css_selector)\n",
            " |      Finds an element by css selector.\n",
            " |      \n",
            " |      :Args:\n",
            " |       - css_selector - CSS selector string, ex: 'a.nav#home'\n",
            " |      \n",
            " |      :Returns:\n",
            " |       - WebElement - the element if it was found\n",
            " |      \n",
            " |      :Raises:\n",
            " |       - NoSuchElementException - if the element wasn't found\n",
            " |      \n",
            " |      :Usage:\n",
            " |          element = driver.find_element_by_css_selector('#foo')\n",
            " |  \n",
            " |  find_element_by_id(self, id_)\n",
            " |      Finds an element by id.\n",
            " |      \n",
            " |      :Args:\n",
            " |       - id\\_ - The id of the element to be found.\n",
            " |      \n",
            " |      :Returns:\n",
            " |       - WebElement - the element if it was found\n",
            " |      \n",
            " |      :Raises:\n",
            " |       - NoSuchElementException - if the element wasn't found\n",
            " |      \n",
            " |      :Usage:\n",
            " |          element = driver.find_element_by_id('foo')\n",
            " |  \n",
            " |  find_element_by_link_text(self, link_text)\n",
            " |      Finds an element by link text.\n",
            " |      \n",
            " |      :Args:\n",
            " |       - link_text: The text of the element to be found.\n",
            " |      \n",
            " |      :Returns:\n",
            " |       - WebElement - the element if it was found\n",
            " |      \n",
            " |      :Raises:\n",
            " |       - NoSuchElementException - if the element wasn't found\n",
            " |      \n",
            " |      :Usage:\n",
            " |          element = driver.find_element_by_link_text('Sign In')\n",
            " |  \n",
            " |  find_element_by_name(self, name)\n",
            " |      Finds an element by name.\n",
            " |      \n",
            " |      :Args:\n",
            " |       - name: The name of the element to find.\n",
            " |      \n",
            " |      :Returns:\n",
            " |       - WebElement - the element if it was found\n",
            " |      \n",
            " |      :Raises:\n",
            " |       - NoSuchElementException - if the element wasn't found\n",
            " |      \n",
            " |      :Usage:\n",
            " |          element = driver.find_element_by_name('foo')\n",
            " |  \n",
            " |  find_element_by_partial_link_text(self, link_text)\n",
            " |      Finds an element by a partial match of its link text.\n",
            " |      \n",
            " |      :Args:\n",
            " |       - link_text: The text of the element to partially match on.\n",
            " |      \n",
            " |      :Returns:\n",
            " |       - WebElement - the element if it was found\n",
            " |      \n",
            " |      :Raises:\n",
            " |       - NoSuchElementException - if the element wasn't found\n",
            " |      \n",
            " |      :Usage:\n",
            " |          element = driver.find_element_by_partial_link_text('Sign')\n",
            " |  \n",
            " |  find_element_by_tag_name(self, name)\n",
            " |      Finds an element by tag name.\n",
            " |      \n",
            " |      :Args:\n",
            " |       - name - name of html tag (eg: h1, a, span)\n",
            " |      \n",
            " |      :Returns:\n",
            " |       - WebElement - the element if it was found\n",
            " |      \n",
            " |      :Raises:\n",
            " |       - NoSuchElementException - if the element wasn't found\n",
            " |      \n",
            " |      :Usage:\n",
            " |          element = driver.find_element_by_tag_name('h1')\n",
            " |  \n",
            " |  find_element_by_xpath(self, xpath)\n",
            " |      Finds an element by xpath.\n",
            " |      \n",
            " |      :Args:\n",
            " |       - xpath - The xpath locator of the element to find.\n",
            " |      \n",
            " |      :Returns:\n",
            " |       - WebElement - the element if it was found\n",
            " |      \n",
            " |      :Raises:\n",
            " |       - NoSuchElementException - if the element wasn't found\n",
            " |      \n",
            " |      :Usage:\n",
            " |          element = driver.find_element_by_xpath('//div/td[1]')\n",
            " |  \n",
            " |  find_elements(self, by='id', value=None)\n",
            " |      Find elements given a By strategy and locator. Prefer the find_elements_by_* methods when\n",
            " |      possible.\n",
            " |      \n",
            " |      :Usage:\n",
            " |          elements = driver.find_elements(By.CLASS_NAME, 'foo')\n",
            " |      \n",
            " |      :rtype: list of WebElement\n",
            " |  \n",
            " |  find_elements_by_class_name(self, name)\n",
            " |      Finds elements by class name.\n",
            " |      \n",
            " |      :Args:\n",
            " |       - name: The class name of the elements to find.\n",
            " |      \n",
            " |      :Returns:\n",
            " |       - list of WebElement - a list with elements if any was found.  An\n",
            " |         empty list if not\n",
            " |      \n",
            " |      :Usage:\n",
            " |          elements = driver.find_elements_by_class_name('foo')\n",
            " |  \n",
            " |  find_elements_by_css_selector(self, css_selector)\n",
            " |      Finds elements by css selector.\n",
            " |      \n",
            " |      :Args:\n",
            " |       - css_selector - CSS selector string, ex: 'a.nav#home'\n",
            " |      \n",
            " |      :Returns:\n",
            " |       - list of WebElement - a list with elements if any was found.  An\n",
            " |         empty list if not\n",
            " |      \n",
            " |      :Usage:\n",
            " |          elements = driver.find_elements_by_css_selector('.foo')\n",
            " |  \n",
            " |  find_elements_by_id(self, id_)\n",
            " |      Finds multiple elements by id.\n",
            " |      \n",
            " |      :Args:\n",
            " |       - id\\_ - The id of the elements to be found.\n",
            " |      \n",
            " |      :Returns:\n",
            " |       - list of WebElement - a list with elements if any was found.  An\n",
            " |         empty list if not\n",
            " |      \n",
            " |      :Usage:\n",
            " |          elements = driver.find_elements_by_id('foo')\n",
            " |  \n",
            " |  find_elements_by_link_text(self, text)\n",
            " |      Finds elements by link text.\n",
            " |      \n",
            " |      :Args:\n",
            " |       - link_text: The text of the elements to be found.\n",
            " |      \n",
            " |      :Returns:\n",
            " |       - list of webelement - a list with elements if any was found.  an\n",
            " |         empty list if not\n",
            " |      \n",
            " |      :Usage:\n",
            " |          elements = driver.find_elements_by_link_text('Sign In')\n",
            " |  \n",
            " |  find_elements_by_name(self, name)\n",
            " |      Finds elements by name.\n",
            " |      \n",
            " |      :Args:\n",
            " |       - name: The name of the elements to find.\n",
            " |      \n",
            " |      :Returns:\n",
            " |       - list of webelement - a list with elements if any was found.  an\n",
            " |         empty list if not\n",
            " |      \n",
            " |      :Usage:\n",
            " |          elements = driver.find_elements_by_name('foo')\n",
            " |  \n",
            " |  find_elements_by_partial_link_text(self, link_text)\n",
            " |      Finds elements by a partial match of their link text.\n",
            " |      \n",
            " |      :Args:\n",
            " |       - link_text: The text of the element to partial match on.\n",
            " |      \n",
            " |      :Returns:\n",
            " |       - list of webelement - a list with elements if any was found.  an\n",
            " |         empty list if not\n",
            " |      \n",
            " |      :Usage:\n",
            " |          elements = driver.find_elements_by_partial_link_text('Sign')\n",
            " |  \n",
            " |  find_elements_by_tag_name(self, name)\n",
            " |      Finds elements by tag name.\n",
            " |      \n",
            " |      :Args:\n",
            " |       - name - name of html tag (eg: h1, a, span)\n",
            " |      \n",
            " |      :Returns:\n",
            " |       - list of WebElement - a list with elements if any was found.  An\n",
            " |         empty list if not\n",
            " |      \n",
            " |      :Usage:\n",
            " |          elements = driver.find_elements_by_tag_name('h1')\n",
            " |  \n",
            " |  find_elements_by_xpath(self, xpath)\n",
            " |      Finds multiple elements by xpath.\n",
            " |      \n",
            " |      :Args:\n",
            " |       - xpath - The xpath locator of the elements to be found.\n",
            " |      \n",
            " |      :Returns:\n",
            " |       - list of WebElement - a list with elements if any was found.  An\n",
            " |         empty list if not\n",
            " |      \n",
            " |      :Usage:\n",
            " |          elements = driver.find_elements_by_xpath(\"//div[contains(@class, 'foo')]\")\n",
            " |  \n",
            " |  forward(self)\n",
            " |      Goes one step forward in the browser history.\n",
            " |      \n",
            " |      :Usage:\n",
            " |          driver.forward()\n",
            " |  \n",
            " |  fullscreen_window(self)\n",
            " |      Invokes the window manager-specific 'full screen' operation\n",
            " |  \n",
            " |  get(self, url)\n",
            " |      Loads a web page in the current browser session.\n",
            " |  \n",
            " |  get_cookie(self, name)\n",
            " |      Get a single cookie by name. Returns the cookie if found, None if not.\n",
            " |      \n",
            " |      :Usage:\n",
            " |          driver.get_cookie('my_cookie')\n",
            " |  \n",
            " |  get_cookies(self)\n",
            " |      Returns a set of dictionaries, corresponding to cookies visible in the current session.\n",
            " |      \n",
            " |      :Usage:\n",
            " |          driver.get_cookies()\n",
            " |  \n",
            " |  get_log(self, log_type)\n",
            " |      Gets the log for a given log type\n",
            " |      \n",
            " |      :Args:\n",
            " |       - log_type: type of log that which will be returned\n",
            " |      \n",
            " |      :Usage:\n",
            " |          driver.get_log('browser')\n",
            " |          driver.get_log('driver')\n",
            " |          driver.get_log('client')\n",
            " |          driver.get_log('server')\n",
            " |  \n",
            " |  get_screenshot_as_base64(self)\n",
            " |      Gets the screenshot of the current window as a base64 encoded string\n",
            " |         which is useful in embedded images in HTML.\n",
            " |      \n",
            " |      :Usage:\n",
            " |          driver.get_screenshot_as_base64()\n",
            " |  \n",
            " |  get_screenshot_as_file(self, filename)\n",
            " |      Saves a screenshot of the current window to a PNG image file. Returns\n",
            " |         False if there is any IOError, else returns True. Use full paths in\n",
            " |         your filename.\n",
            " |      \n",
            " |      :Args:\n",
            " |       - filename: The full path you wish to save your screenshot to. This\n",
            " |         should end with a `.png` extension.\n",
            " |      \n",
            " |      :Usage:\n",
            " |          driver.get_screenshot_as_file('/Screenshots/foo.png')\n",
            " |  \n",
            " |  get_screenshot_as_png(self)\n",
            " |      Gets the screenshot of the current window as a binary data.\n",
            " |      \n",
            " |      :Usage:\n",
            " |          driver.get_screenshot_as_png()\n",
            " |  \n",
            " |  get_window_position(self, windowHandle='current')\n",
            " |      Gets the x,y position of the current window.\n",
            " |      \n",
            " |      :Usage:\n",
            " |          driver.get_window_position()\n",
            " |  \n",
            " |  get_window_rect(self)\n",
            " |      Gets the x, y coordinates of the window as well as height and width of\n",
            " |      the current window.\n",
            " |      \n",
            " |      :Usage:\n",
            " |          driver.get_window_rect()\n",
            " |  \n",
            " |  get_window_size(self, windowHandle='current')\n",
            " |      Gets the width and height of the current window.\n",
            " |      \n",
            " |      :Usage:\n",
            " |          driver.get_window_size()\n",
            " |  \n",
            " |  implicitly_wait(self, time_to_wait)\n",
            " |      Sets a sticky timeout to implicitly wait for an element to be found,\n",
            " |         or a command to complete. This method only needs to be called one\n",
            " |         time per session. To set the timeout for calls to\n",
            " |         execute_async_script, see set_script_timeout.\n",
            " |      \n",
            " |      :Args:\n",
            " |       - time_to_wait: Amount of time to wait (in seconds)\n",
            " |      \n",
            " |      :Usage:\n",
            " |          driver.implicitly_wait(30)\n",
            " |  \n",
            " |  maximize_window(self)\n",
            " |      Maximizes the current window that webdriver is using\n",
            " |  \n",
            " |  minimize_window(self)\n",
            " |      Invokes the window manager-specific 'minimize' operation\n",
            " |  \n",
            " |  refresh(self)\n",
            " |      Refreshes the current page.\n",
            " |      \n",
            " |      :Usage:\n",
            " |          driver.refresh()\n",
            " |  \n",
            " |  save_screenshot(self, filename)\n",
            " |      Saves a screenshot of the current window to a PNG image file. Returns\n",
            " |         False if there is any IOError, else returns True. Use full paths in\n",
            " |         your filename.\n",
            " |      \n",
            " |      :Args:\n",
            " |       - filename: The full path you wish to save your screenshot to. This\n",
            " |         should end with a `.png` extension.\n",
            " |      \n",
            " |      :Usage:\n",
            " |          driver.save_screenshot('/Screenshots/foo.png')\n",
            " |  \n",
            " |  set_page_load_timeout(self, time_to_wait)\n",
            " |      Set the amount of time to wait for a page load to complete\n",
            " |         before throwing an error.\n",
            " |      \n",
            " |      :Args:\n",
            " |       - time_to_wait: The amount of time to wait\n",
            " |      \n",
            " |      :Usage:\n",
            " |          driver.set_page_load_timeout(30)\n",
            " |  \n",
            " |  set_script_timeout(self, time_to_wait)\n",
            " |      Set the amount of time that the script should wait during an\n",
            " |         execute_async_script call before throwing an error.\n",
            " |      \n",
            " |      :Args:\n",
            " |       - time_to_wait: The amount of time to wait (in seconds)\n",
            " |      \n",
            " |      :Usage:\n",
            " |          driver.set_script_timeout(30)\n",
            " |  \n",
            " |  set_window_position(self, x, y, windowHandle='current')\n",
            " |      Sets the x,y position of the current window. (window.moveTo)\n",
            " |      \n",
            " |      :Args:\n",
            " |       - x: the x-coordinate in pixels to set the window position\n",
            " |       - y: the y-coordinate in pixels to set the window position\n",
            " |      \n",
            " |      :Usage:\n",
            " |          driver.set_window_position(0,0)\n",
            " |  \n",
            " |  set_window_rect(self, x=None, y=None, width=None, height=None)\n",
            " |      Sets the x, y coordinates of the window as well as height and width of\n",
            " |      the current window.\n",
            " |      \n",
            " |      :Usage:\n",
            " |          driver.set_window_rect(x=10, y=10)\n",
            " |          driver.set_window_rect(width=100, height=200)\n",
            " |          driver.set_window_rect(x=10, y=10, width=100, height=200)\n",
            " |  \n",
            " |  set_window_size(self, width, height, windowHandle='current')\n",
            " |      Sets the width and height of the current window. (window.resizeTo)\n",
            " |      \n",
            " |      :Args:\n",
            " |       - width: the width in pixels to set the window to\n",
            " |       - height: the height in pixels to set the window to\n",
            " |      \n",
            " |      :Usage:\n",
            " |          driver.set_window_size(800,600)\n",
            " |  \n",
            " |  start_client(self)\n",
            " |      Called before starting a new session. This method may be overridden\n",
            " |      to define custom startup behavior.\n",
            " |  \n",
            " |  start_session(self, capabilities, browser_profile=None)\n",
            " |      Creates a new session with the desired capabilities.\n",
            " |      \n",
            " |      :Args:\n",
            " |       - browser_name - The name of the browser to request.\n",
            " |       - version - Which browser version to request.\n",
            " |       - platform - Which platform to request the browser on.\n",
            " |       - javascript_enabled - Whether the new session should support JavaScript.\n",
            " |       - browser_profile - A selenium.webdriver.firefox.firefox_profile.FirefoxProfile object. Only used if Firefox is requested.\n",
            " |  \n",
            " |  stop_client(self)\n",
            " |      Called after executing a quit command. This method may be overridden\n",
            " |      to define custom shutdown behavior.\n",
            " |  \n",
            " |  switch_to_active_element(self)\n",
            " |      Deprecated use driver.switch_to.active_element\n",
            " |  \n",
            " |  switch_to_alert(self)\n",
            " |      Deprecated use driver.switch_to.alert\n",
            " |  \n",
            " |  switch_to_default_content(self)\n",
            " |      Deprecated use driver.switch_to.default_content\n",
            " |  \n",
            " |  switch_to_frame(self, frame_reference)\n",
            " |      Deprecated use driver.switch_to.frame\n",
            " |  \n",
            " |  switch_to_window(self, window_name)\n",
            " |      Deprecated use driver.switch_to.window\n",
            " |  \n",
            " |  ----------------------------------------------------------------------\n",
            " |  Data descriptors inherited from selenium.webdriver.remote.webdriver.WebDriver:\n",
            " |  \n",
            " |  __dict__\n",
            " |      dictionary for instance variables (if defined)\n",
            " |  \n",
            " |  __weakref__\n",
            " |      list of weak references to the object (if defined)\n",
            " |  \n",
            " |  application_cache\n",
            " |      Returns a ApplicationCache Object to interact with the browser app cache\n",
            " |  \n",
            " |  current_url\n",
            " |      Gets the URL of the current page.\n",
            " |      \n",
            " |      :Usage:\n",
            " |          driver.current_url\n",
            " |  \n",
            " |  current_window_handle\n",
            " |      Returns the handle of the current window.\n",
            " |      \n",
            " |      :Usage:\n",
            " |          driver.current_window_handle\n",
            " |  \n",
            " |  desired_capabilities\n",
            " |      returns the drivers current desired capabilities being used\n",
            " |  \n",
            " |  file_detector\n",
            " |  \n",
            " |  log_types\n",
            " |      Gets a list of the available log types\n",
            " |      \n",
            " |      :Usage:\n",
            " |          driver.log_types\n",
            " |  \n",
            " |  mobile\n",
            " |  \n",
            " |  name\n",
            " |      Returns the name of the underlying browser for this instance.\n",
            " |      \n",
            " |      :Usage:\n",
            " |          name = driver.name\n",
            " |  \n",
            " |  orientation\n",
            " |      Gets the current orientation of the device\n",
            " |      \n",
            " |      :Usage:\n",
            " |          orientation = driver.orientation\n",
            " |  \n",
            " |  page_source\n",
            " |      Gets the source of the current page.\n",
            " |      \n",
            " |      :Usage:\n",
            " |          driver.page_source\n",
            " |  \n",
            " |  switch_to\n",
            " |      :Returns:\n",
            " |          - SwitchTo: an object containing all options to switch focus into\n",
            " |      \n",
            " |      :Usage:\n",
            " |          element = driver.switch_to.active_element\n",
            " |          alert = driver.switch_to.alert\n",
            " |          driver.switch_to.default_content()\n",
            " |          driver.switch_to.frame('frame_name')\n",
            " |          driver.switch_to.frame(1)\n",
            " |          driver.switch_to.frame(driver.find_elements_by_tag_name(\"iframe\")[0])\n",
            " |          driver.switch_to.parent_frame()\n",
            " |          driver.switch_to.window('main')\n",
            " |  \n",
            " |  title\n",
            " |      Returns the title of the current page.\n",
            " |      \n",
            " |      :Usage:\n",
            " |          title = driver.title\n",
            " |  \n",
            " |  window_handles\n",
            " |      Returns the handles of all windows within the current session.\n",
            " |      \n",
            " |      :Usage:\n",
            " |          driver.window_handles\n",
            "\n"
          ],
          "name": "stdout"
        }
      ]
    },
    {
      "cell_type": "code",
      "metadata": {
        "id": "1tDOkvZ87k4R",
        "colab_type": "code",
        "colab": {}
      },
      "source": [
        "# Definir Url de la página que vamos a Scrapear\n",
        "url = \"https://e-consultaruc.sunat.gob.pe/cl-ti-itmrconsruc/frameCriterioBusqueda.jsp\""
      ],
      "execution_count": 0,
      "outputs": []
    },
    {
      "cell_type": "markdown",
      "metadata": {
        "id": "LBu32NqX9jHg",
        "colab_type": "text"
      },
      "source": [
        "- **get(url)**: Carga una página web en la sesión actual del navegador a partir de la url brindada."
      ]
    },
    {
      "cell_type": "code",
      "metadata": {
        "id": "peD3V0Dd94g4",
        "colab_type": "code",
        "colab": {}
      },
      "source": [
        "driver.get(url)"
      ],
      "execution_count": 0,
      "outputs": []
    },
    {
      "cell_type": "markdown",
      "metadata": {
        "id": "lVF09ot39_qV",
        "colab_type": "text"
      },
      "source": [
        "- **page_source**: Propiedad que nos permite obtener el código fuente de la página actual."
      ]
    },
    {
      "cell_type": "code",
      "metadata": {
        "id": "1-Oq9p-L96Rr",
        "colab_type": "code",
        "outputId": "efc89a75-0882-479e-f2ed-247e0669a1c0",
        "colab": {
          "base_uri": "https://localhost:8080/",
          "height": 3981
        }
      },
      "source": [
        "print(driver.page_source)"
      ],
      "execution_count": 15,
      "outputs": [
        {
          "output_type": "stream",
          "text": [
            "<html xmlns=\"http://www.w3.org/1999/xhtml\"><head>\n",
            "<title>Consulta RUC</title>\n",
            "<link href=\"/a/css/estilos2_0.css\" rel=\"stylesheet\" /><script languaje=\"JavaScript\" src=\"/a/js/js.js\"> </script><script languaje=\"JavaScript\" type=\"text/javascript\">\n",
            "var gCount = 0;\n",
            "var contPag = 0;\n",
            "function goRefresh() {\n",
            " document.mainForm.codigo.value = \"\";\n",
            " document.mainForm.imagen.src=\"captcha?accion=image&amp;nmagic=\" + gCount;\n",
            " gCount = gCount + 1;\n",
            "}\n",
            "\n",
            "\n",
            "function format(type) {\n",
            " var form = document.mainForm;\n",
            " if(type == 0) {\n",
            "   document.getElementById('s1').style.visibility = 'visible'; \n",
            "   document.getElementById('s2').style.visibility = 'hidden';\n",
            "   document.getElementById('s3').style.visibility = 'hidden';\n",
            "   form.search1.maxLength = 11;\n",
            "   form.search1.onkeypress = function(e) {\n",
            "   if (!e) e=window.event;\n",
            "   key = e.keyCode? e.keyCode : e.which&gt;0?e.which:e.keyCode;\n",
            "   if (key == 8 || key==9) return true;\n",
            "   pattern =/[0-9]/;\n",
            "   te = String.fromCharCode(key);\n",
            "   return pattern.test(te);     \n",
            "  }  \n",
            "  form.search1.focus();\n",
            "  form.search1.value = \"\";\n",
            "  \n",
            " }\n",
            " if(type == 1) {\n",
            "   document.getElementById('s2').style.visibility = 'visible'; \n",
            "   document.getElementById('s1').style.visibility = 'hidden';\n",
            "   document.getElementById('s3').style.visibility = 'hidden';\n",
            "   form.search2.maxLength = 16; \n",
            "   form.search2.onkeypress = function(e) {return true;}   \n",
            "   form.search2.focus();\n",
            "   form.search2.value = \"\";\n",
            " }\n",
            " \n",
            " if(type == 2) {\n",
            "   document.getElementById('s3').style.visibility = 'visible'; \n",
            "   document.getElementById('s1').style.visibility = 'hidden';\n",
            "   document.getElementById('s2').style.visibility = 'hidden';\n",
            "   form.search3.maxLength = 100;\n",
            "   form.search3.onkeypress = function(e) {return true;}   \n",
            "   form.search3.focus();\n",
            "   form.search3.value = \"\" ;\n",
            " }\n",
            " \n",
            "// form.search.focus();\n",
            " //form.search.value = \"\"  ;\n",
            "}\n",
            "\n",
            "function verificaDocumento()\n",
            " {\n",
            "   var form = document.mainForm;\n",
            "   var   tipdoc = form.tipdoc.value;\n",
            "   var    numdoc =form.search2.value;  \n",
            "   if (tipdoc==\"1\")\n",
            "    {\n",
            "      if (numdoc.length!=8 )\n",
            "       {\n",
            "          alert(\"El número de documento de identidad debe tener 8 dígitos\");\t\t  \n",
            "          return false;\n",
            "       }\n",
            "\t   else{\n",
            "\t      if ( !esnumero(numdoc) )\n",
            "          {\n",
            "             alert(\"El número de documento de identidad debe tener 8 dígitos\");\t\t  \n",
            "             return false;\n",
            "          }\n",
            "\t   }   \t   \n",
            "    }\t\n",
            "\treturn true; \n",
            "  }\n",
            "  \n",
            "\n",
            "function evalSearch() {\n",
            " var form = document.mainForm;\n",
            " if(form.tQuery[0].checked) {\n",
            "  form.nroRuc.value = form.search1.value;\n",
            "  form.accion.value = \"consPorRuc\";\n",
            "  if(!esrucok(form.nroRuc.value)){\n",
            "    alert('Por favor, ingrese numero de RUC valido.');form.search1.focus();return;\n",
            "  }\n",
            " }\n",
            " else {\n",
            "   if(form.tQuery[2].checked) {\n",
            "     form.accion.value = \"consPorRazonSoc\";\n",
            "     form.razSoc.value = form.search3.value;\n",
            "     if(!longitudmayor(trim(form.razSoc.value),4) || (trim(form.razSoc.value).substring(0,1)=='*')){\n",
            "       alert('La Razón social no es válida ...');form.search3.focus();return;\n",
            "     }\n",
            "\t if ( validar(form.search3.value)==false){\n",
            "\t    alert('Sólo puede ingresar letras y/o números como criterio de búsqueda ...');form.search3.focus();return;\n",
            "\t }\t\n",
            "   \n",
            "   }else {//se trata del tipo y nro del documento\n",
            "     form.nrodoc.value = form.search2.value;\n",
            "     form.accion.value = \"consPorTipdoc\";\n",
            "     if(!longitudmayor(trim(form.nrodoc.value),4) || (trim(form.nrodoc.value).substring(0,1)=='*')){\n",
            "       alert('El Nro del documento no es válida ...');form.search2.focus();return;\n",
            "     } \n",
            "\t  if (verificaDocumento()==false) return; \n",
            "\t  if ( validar2(form.search2.value)==false){\n",
            "\t    alert('Sólo puede ingresar letras  y/o números como criterio de búsqueda ...');form.search2.focus();return;\n",
            "\t  }\t\n",
            "   } \n",
            "   \n",
            " }\n",
            " if(form.contexto.value == 'ti-it'){\n",
            "   if(trim(form.codigo.value).length &lt; 4) {\n",
            "     alert('Ingrese el código que se muestra en la imagen');form.codigo.focus();return;\n",
            "   }\n",
            "  }\n",
            " form.submit();\n",
            "}\n",
            "function   validar(texto) {\n",
            "             x = true;\n",
            "\t\t\t //if (!/^([A-Za-z\\s])*$/.test(texto)){ \n",
            "            if (!/^([A-Za-z0-9\\s\\361\\321@\\\\&amp;\\\\Ü\\\\ü\\\\-\\\\.\\\\,])*$/.test(texto)){               \n",
            "                x = false;\n",
            "             }\n",
            "            return x; \n",
            "}\n",
            "function   validar2(texto) {\n",
            "             x = true;\t\t\t \n",
            "            if (!/^([A-Za-z0-9\\\\-\\\\.\\\\_])*$/.test(texto)){               \n",
            "                x = false;\n",
            "             }\n",
            "            return x; \n",
            "}\n",
            "\n",
            "function getContPag(){\n",
            "return -contPag;\n",
            "}\n",
            "function incContPag(){\n",
            "contPag=contPag+1;\n",
            "}\n",
            "function resetContPag(){\n",
            "contPag=0;\n",
            "}\n",
            "</script></head>\n",
            "\n",
            "\n",
            "\n",
            "<body bgcolor=\"#FFFFFF\" onload=\"JavaScript:format(0)\">\n",
            "    \n",
            "<form target=\"mainFrame\" method=\"post\" name=\"mainForm\" action=\"jcrS00Alias\">\n",
            "\n",
            "   <table class=\"form-table\" cellspacing=\"2\" cellpadding=\"3\" width=\"100%\" border=\"0\">\n",
            "    <tbody>\n",
            "     <tr>\n",
            "      <td>\n",
            "       <table cellspacing=\"2\" cellpadding=\"3\" width=\"100%\" border=\"0\">\n",
            "        <tbody>\n",
            "         <tr>\n",
            "          <td bgcolor=\"#3399cc\" align=\"left\"><b>CRITERIOS DE BÚSQUEDA:</b></td>\n",
            "         </tr>\n",
            "        </tbody>\n",
            "       </table>\n",
            "     <input type=\"hidden\" name=\"accion\" value=\"\" />\n",
            "     <input type=\"hidden\" name=\"razSoc\" value=\"\" />\n",
            "     <input type=\"hidden\" name=\"nroRuc\" value=\"\" />\n",
            "\t <input type=\"hidden\" name=\"nrodoc\" value=\"\" />\n",
            "       <table cellspacing=\"0\" cellpadding=\"0\" width=\"100%\" border=\"0\">\n",
            "       <tbody>\n",
            "            \n",
            "       <input type=\"hidden\" name=\"contexto\" value=\"ti-it\" /> \n",
            "       <tr>\n",
            "         <td width=\"2%\"><input type=\"radio\" name=\"tQuery\" onclick=\"format(0)\" checked=\"\" /></td>\n",
            "         <td class=\"bgn\" width=\"20%\">Número de RUC</td>    \n",
            "\t\t \n",
            "\t\t <td align=\"left\" colspan=\"1\" width=\"30%\">\n",
            "\t\t <div id=\"s1\" style=\"visibility: visible;\">\n",
            "\t\t <input class=\"form-text\" name=\"search1\" size=\"11\" maxlength=\"11\" />\n",
            "\t\t </div>\n",
            "\t\t </td>  \n",
            "\t\t\n",
            "\n",
            "\t\t<!-- <td align=\"left\" rowspan=\"1\" width=\"180\"></td>    -->  \n",
            "         <td class=\"bgn\" rowspan=\"1\" width=\"20%\" valign=\"middle\">Ingrese el código que se muestra en la imagen:</td>\n",
            "         <td align=\"left\" rowspan=\"1\" width=\"13%\"><img name=\"imagen\" src=\"captcha?accion=image\" /></td>\n",
            "         <td align=\"left\" rowspan=\"1\" width=\"10%\" valign=\"center\"><input style=\"text-transform:uppercase;\" type=\"text\" name=\"codigo\" maxlength=\"4\" size=\"4\" onchange=\"this.value=this.value.toUpperCase();\" /></td>\n",
            "         <td rowspan=\"1\" width=\"5%\"><input class=\"form-button\" type=\"button\" value=\"Buscar\" onclick=\"evalSearch();\" /></td>\n",
            "       </tr>\n",
            "\t   <tr>\n",
            "           <td><input type=\"radio\" name=\"tQuery\" onclick=\"format(1)\" /></td>\n",
            "           <td class=\"bgn\">Tipo y Número de Documento de Identidad \n",
            "           <select size=\"1\" name=\"tipdoc\">\t\t\t\t\n",
            "\t\t\t\t\t <option value=\"1\">Documento Nacional de Identidad </option>\n",
            "\t\t\t\t\t <option value=\"4\"> Carnet de Extranjeria </option>\t\t\t\t\t\n",
            "\t\t\t\t\t <option value=\"7\"> Pasaporte </option>\n",
            "\t\t\t\t\t <option value=\"A\"> Ced. Diplomatica de Identidad </option>\n",
            "\t\t\t</select> \n",
            "\t\t\t</td>\n",
            "\t\t\t \n",
            "\t\t\t<td align=\"left\" colspan=\"1\">\n",
            "\t\t\t<div id=\"s2\" style=\"visibility:hidden\">\n",
            "\t\t\t<input class=\"form-text\" name=\"search2\" size=\"16\" />\n",
            "\t\t\t</div>\n",
            "\t\t\t</td> \n",
            "\t\t\t \n",
            "\t\t\t<!--<td align=\"left\" rowspan=\"1\"  colspan=\"2\" width=\"100\"></td>   -->\n",
            "\t\t     <td rowspan=\"1\" align=\"left\"><a href=\"javascript:goRefresh()\">Refrescar codigo</a></td>\n",
            "\t\t  </tr> \n",
            "\t   \n",
            "       <tr>\n",
            "         <td><input type=\"radio\" name=\"tQuery\" onclick=\"format(2)\" /><input type=\"hidden\" name=\"coddpto\" value=\"\" /><input type=\"hidden\" name=\"codprov\" value=\"\" /><input type=\"hidden\" name=\"coddist\" value=\"\" /></td>\n",
            "         <td class=\"bgn\">Nombre ó Razón Social </td>\n",
            "\t\t  \n",
            "\t\t <td align=\"left\" colspan=\"4\">\n",
            "\t\t <div id=\"s3\" style=\"visibility:hidden\">\n",
            "\t\t <input class=\"form-text\" name=\"search3\" size=\"30\" />\n",
            "\t\t  </div>\n",
            "\t\t  </td> \n",
            "\t\t\n",
            "\t\t \n",
            "       </tr>\n",
            "\t   \n",
            "                                           \n",
            "         </tbody>\n",
            "         </table>\n",
            "        </td>\n",
            "       </tr>\n",
            "     </tbody>\n",
            "    </table>\n",
            "</form>\n",
            "\n",
            "</body></html>\n"
          ],
          "name": "stdout"
        }
      ]
    },
    {
      "cell_type": "markdown",
      "metadata": {
        "id": "58sclLEH-Yj0",
        "colab_type": "text"
      },
      "source": [
        "- **find_element_by_class_name(name)**: Método que encuentra un elemento por medio del nombre de la clase de CSS que tiene asociado."
      ]
    },
    {
      "cell_type": "markdown",
      "metadata": {
        "id": "JQS2Wt1ASKyw",
        "colab_type": "text"
      },
      "source": [
        "**Elemento Texto de RUC**"
      ]
    },
    {
      "cell_type": "code",
      "metadata": {
        "id": "SY3K4ismSNxo",
        "colab_type": "code",
        "colab": {}
      },
      "source": [
        "# Por ejemplo, el TextField ruc tiene la clase asociada \"form-text\"\n",
        "ruc_text = driver.find_element_by_class_name(\"form-text\")"
      ],
      "execution_count": 0,
      "outputs": []
    },
    {
      "cell_type": "code",
      "metadata": {
        "id": "XxD9rGtFSVKs",
        "colab_type": "code",
        "outputId": "dcc3388f-8d04-4877-8dc7-8da75d314c4a",
        "colab": {
          "base_uri": "https://localhost:8080/",
          "height": 34
        }
      },
      "source": [
        "# ¿Qué valor tiene esta variable?\n",
        "ruc_text"
      ],
      "execution_count": 32,
      "outputs": [
        {
          "output_type": "execute_result",
          "data": {
            "text/plain": [
              "<selenium.webdriver.remote.webelement.WebElement (session=\"23d7ef3a3166251fdd2263513b89fc85\", element=\"0.024825090479281053-1\")>"
            ]
          },
          "metadata": {
            "tags": []
          },
          "execution_count": 32
        }
      ]
    },
    {
      "cell_type": "code",
      "metadata": {
        "id": "eCX98wCJSa5U",
        "colab_type": "code",
        "outputId": "dd19ac23-700e-49b9-c0f3-07943d5e857b",
        "colab": {
          "base_uri": "https://localhost:8080/",
          "height": 34
        }
      },
      "source": [
        "# Tipo de variable\n",
        "type(ruc_text)"
      ],
      "execution_count": 33,
      "outputs": [
        {
          "output_type": "execute_result",
          "data": {
            "text/plain": [
              "selenium.webdriver.remote.webelement.WebElement"
            ]
          },
          "metadata": {
            "tags": []
          },
          "execution_count": 33
        }
      ]
    },
    {
      "cell_type": "code",
      "metadata": {
        "id": "Ti5rdjxmSdY7",
        "colab_type": "code",
        "outputId": "42ffadb4-5328-4925-c0af-4c13ef744f75",
        "colab": {
          "base_uri": "https://localhost:8080/",
          "height": 34
        }
      },
      "source": [
        "ruc_text.get_property(\"value\")"
      ],
      "execution_count": 34,
      "outputs": [
        {
          "output_type": "execute_result",
          "data": {
            "text/plain": [
              "''"
            ]
          },
          "metadata": {
            "tags": []
          },
          "execution_count": 34
        }
      ]
    },
    {
      "cell_type": "markdown",
      "metadata": {
        "id": "KxKtGP7DS8Cl",
        "colab_type": "text"
      },
      "source": [
        "- **send_keys(value)**: Método que simula el tipear un elemento con un valor."
      ]
    },
    {
      "cell_type": "code",
      "metadata": {
        "id": "_b9QLpHgSjFM",
        "colab_type": "code",
        "colab": {}
      },
      "source": [
        "ruc_text.send_keys(\"20520972740\")"
      ],
      "execution_count": 0,
      "outputs": []
    },
    {
      "cell_type": "code",
      "metadata": {
        "id": "i6ffJ-moSjAE",
        "colab_type": "code",
        "outputId": "5ffae6e7-e123-46ec-ef48-4239c4ba5cf9",
        "colab": {
          "base_uri": "https://localhost:8080/",
          "height": 34
        }
      },
      "source": [
        "ruc_text.get_property(\"value\")"
      ],
      "execution_count": 48,
      "outputs": [
        {
          "output_type": "execute_result",
          "data": {
            "text/plain": [
              "'20520972740'"
            ]
          },
          "metadata": {
            "tags": []
          },
          "execution_count": 48
        }
      ]
    },
    {
      "cell_type": "code",
      "metadata": {
        "id": "FhPnA25DSvaG",
        "colab_type": "code",
        "colab": {}
      },
      "source": [
        "ruc_text.clear()"
      ],
      "execution_count": 0,
      "outputs": []
    },
    {
      "cell_type": "markdown",
      "metadata": {
        "id": "iO2VJUJWSDJX",
        "colab_type": "text"
      },
      "source": [
        "**Elemento Buscar**"
      ]
    },
    {
      "cell_type": "code",
      "metadata": {
        "id": "UZ0rMgjN-Z35",
        "colab_type": "code",
        "colab": {}
      },
      "source": [
        "# Por ejemplo, el botón buscar tiene la clase asociada \"form-button\"\n",
        "button = driver.find_element_by_class_name(\"form-button\")"
      ],
      "execution_count": 0,
      "outputs": []
    },
    {
      "cell_type": "code",
      "metadata": {
        "id": "glERwUMMNfeF",
        "colab_type": "code",
        "outputId": "19a14a18-2018-40a7-98e0-2b36feb1604e",
        "colab": {
          "base_uri": "https://localhost:8080/",
          "height": 34
        }
      },
      "source": [
        "# ¿Qué valor tiene esta variable?\n",
        "button"
      ],
      "execution_count": 50,
      "outputs": [
        {
          "output_type": "execute_result",
          "data": {
            "text/plain": [
              "<selenium.webdriver.remote.webelement.WebElement (session=\"23d7ef3a3166251fdd2263513b89fc85\", element=\"0.024825090479281053-2\")>"
            ]
          },
          "metadata": {
            "tags": []
          },
          "execution_count": 50
        }
      ]
    },
    {
      "cell_type": "code",
      "metadata": {
        "id": "ZYeBV8vMNgug",
        "colab_type": "code",
        "outputId": "3379613d-df94-4075-dae2-7dcef18bf6fd",
        "colab": {
          "base_uri": "https://localhost:8080/",
          "height": 34
        }
      },
      "source": [
        "# Tipo de variable\n",
        "type(button)"
      ],
      "execution_count": 51,
      "outputs": [
        {
          "output_type": "execute_result",
          "data": {
            "text/plain": [
              "selenium.webdriver.remote.webelement.WebElement"
            ]
          },
          "metadata": {
            "tags": []
          },
          "execution_count": 51
        }
      ]
    },
    {
      "cell_type": "code",
      "metadata": {
        "id": "EIbR6Pc7NfZ6",
        "colab_type": "code",
        "outputId": "8f1bb61e-61b5-44a6-8f81-254cf90c5671",
        "colab": {
          "base_uri": "https://localhost:8080/",
          "height": 34
        }
      },
      "source": [
        "# Verificar si el botón se muestra en la página o está oculto\n",
        "button.is_displayed()"
      ],
      "execution_count": 52,
      "outputs": [
        {
          "output_type": "execute_result",
          "data": {
            "text/plain": [
              "True"
            ]
          },
          "metadata": {
            "tags": []
          },
          "execution_count": 52
        }
      ]
    },
    {
      "cell_type": "code",
      "metadata": {
        "id": "kGRTlR_UNvIr",
        "colab_type": "code",
        "outputId": "436d5aaa-c637-4836-c722-7e457a9b911e",
        "colab": {
          "base_uri": "https://localhost:8080/",
          "height": 34
        }
      },
      "source": [
        "# Obtener algun valor del CSS asociado\n",
        "button.value_of_css_property(\"border-color\")"
      ],
      "execution_count": 53,
      "outputs": [
        {
          "output_type": "execute_result",
          "data": {
            "text/plain": [
              "'rgb(102, 153, 204)'"
            ]
          },
          "metadata": {
            "tags": []
          },
          "execution_count": 53
        }
      ]
    },
    {
      "cell_type": "code",
      "metadata": {
        "id": "PwKpYcSnOOW1",
        "colab_type": "code",
        "outputId": "f98165f3-05a4-42e1-e554-a069bfbe0516",
        "colab": {
          "base_uri": "https://localhost:8080/",
          "height": 34
        }
      },
      "source": [
        "# Obtener algun atributo del elemento. Por ejemplo el tipo de elemento\n",
        "button.get_attribute(\"type\")"
      ],
      "execution_count": 54,
      "outputs": [
        {
          "output_type": "execute_result",
          "data": {
            "text/plain": [
              "'button'"
            ]
          },
          "metadata": {
            "tags": []
          },
          "execution_count": 54
        }
      ]
    },
    {
      "cell_type": "code",
      "metadata": {
        "id": "i61iTkOBOtBw",
        "colab_type": "code",
        "outputId": "140156ec-9d3e-4963-ff64-0770848d8e07",
        "colab": {
          "base_uri": "https://localhost:8080/",
          "height": 34
        }
      },
      "source": [
        "# Obtener algun atributo del elemento. Por ejemplo el atributo onclick, que ejecuta un código JavaScript cuando damos click al elemento\n",
        "button.get_attribute(\"onClick\")"
      ],
      "execution_count": 55,
      "outputs": [
        {
          "output_type": "execute_result",
          "data": {
            "text/plain": [
              "'evalSearch();'"
            ]
          },
          "metadata": {
            "tags": []
          },
          "execution_count": 55
        }
      ]
    },
    {
      "cell_type": "markdown",
      "metadata": {
        "id": "boMHWwC4TvrI",
        "colab_type": "text"
      },
      "source": [
        "**Elemento Imagen Captcha**"
      ]
    },
    {
      "cell_type": "code",
      "metadata": {
        "id": "AdmD_1PTzS69",
        "colab_type": "code",
        "colab": {
          "base_uri": "https://localhost:8080/",
          "height": 34
        },
        "outputId": "a1608e77-6db8-4496-9845-71e0f70177fc"
      },
      "source": [
        "driver.find_element_by_tag_name(\"img\").get_attribute(\"name\")"
      ],
      "execution_count": 57,
      "outputs": [
        {
          "output_type": "execute_result",
          "data": {
            "text/plain": [
              "'imagen'"
            ]
          },
          "metadata": {
            "tags": []
          },
          "execution_count": 57
        }
      ]
    },
    {
      "cell_type": "code",
      "metadata": {
        "id": "l6AAjV0c0TxV",
        "colab_type": "code",
        "colab": {}
      },
      "source": [
        "\"/html/body/form/table/tbody/tr/td/table[2]/tbody/tr[1]/td[5]/img\""
      ],
      "execution_count": 0,
      "outputs": []
    },
    {
      "cell_type": "code",
      "metadata": {
        "id": "T0OjcxSf0dEL",
        "colab_type": "code",
        "colab": {
          "base_uri": "https://localhost:8080/",
          "height": 34
        },
        "outputId": "e71a4f0f-373c-49c5-b353-29a50472f7cd"
      },
      "source": [
        "driver.find_element_by_xpath(\"//img[@name='imagen']\").get_attribute(\"src\")"
      ],
      "execution_count": 59,
      "outputs": [
        {
          "output_type": "execute_result",
          "data": {
            "text/plain": [
              "'https://e-consultaruc.sunat.gob.pe/cl-ti-itmrconsruc/captcha?accion=image'"
            ]
          },
          "metadata": {
            "tags": []
          },
          "execution_count": 59
        }
      ]
    },
    {
      "cell_type": "code",
      "metadata": {
        "id": "6jf2Hj2NQtW8",
        "colab_type": "code",
        "colab": {}
      },
      "source": [
        "# Por ejemplo, el elemento donde se encuentra la imagen del captcha tiene el siguiente código xpath\n",
        "captcha = driver.find_element_by_xpath(\"//img[@src='captcha?accion=image']\")"
      ],
      "execution_count": 0,
      "outputs": []
    },
    {
      "cell_type": "code",
      "metadata": {
        "id": "rBpAekpA0qfK",
        "colab_type": "code",
        "colab": {
          "base_uri": "https://localhost:8080/",
          "height": 34
        },
        "outputId": "9ab60994-d05a-4fff-b344-fcd935357125"
      },
      "source": [
        "captcha.get_attribute(\"name\")"
      ],
      "execution_count": 61,
      "outputs": [
        {
          "output_type": "execute_result",
          "data": {
            "text/plain": [
              "'imagen'"
            ]
          },
          "metadata": {
            "tags": []
          },
          "execution_count": 61
        }
      ]
    },
    {
      "cell_type": "code",
      "metadata": {
        "id": "oaMqiutmT0tv",
        "colab_type": "code",
        "outputId": "209d2f81-0445-43a9-db20-cce0bade5628",
        "colab": {
          "base_uri": "https://localhost:8080/",
          "height": 34
        }
      },
      "source": [
        "captcha.screenshot(filename=\"sh01.png\")"
      ],
      "execution_count": 62,
      "outputs": [
        {
          "output_type": "execute_result",
          "data": {
            "text/plain": [
              "True"
            ]
          },
          "metadata": {
            "tags": []
          },
          "execution_count": 62
        }
      ]
    },
    {
      "cell_type": "code",
      "metadata": {
        "id": "Nqxg7sFuT0rf",
        "colab_type": "code",
        "outputId": "7d5c1ddb-ec89-417a-9b2a-c3ffb1d9e705",
        "colab": {
          "base_uri": "https://localhost:8080/",
          "height": 102
        }
      },
      "source": [
        "!ls -l"
      ],
      "execution_count": 63,
      "outputs": [
        {
          "output_type": "stream",
          "text": [
            "total 9600\n",
            "-rw-r--r-- 1 root root 3151917 May 17 22:40 apartments_geopoints.geojson\n",
            "-rw-r--r-- 1 root root 6662252 May 17 19:59 data_apartments.csv\n",
            "drwxr-xr-x 1 root root    4096 May 15 16:23 sample_data\n",
            "-rw-r--r-- 1 root root    6765 May 18 02:45 sh01.png\n"
          ],
          "name": "stdout"
        }
      ]
    },
    {
      "cell_type": "code",
      "metadata": {
        "id": "kbtMyVfGWE-P",
        "colab_type": "code",
        "colab": {}
      },
      "source": [
        "from IPython.display import Image as ImageDisplay"
      ],
      "execution_count": 0,
      "outputs": []
    },
    {
      "cell_type": "code",
      "metadata": {
        "id": "jKPoiCBfWE8S",
        "colab_type": "code",
        "outputId": "4b54714d-0c8b-464c-d879-87a2bf478bdd",
        "colab": {
          "base_uri": "https://localhost:8080/",
          "height": 67
        }
      },
      "source": [
        "ImageDisplay(filename='sh01.png')"
      ],
      "execution_count": 66,
      "outputs": [
        {
          "output_type": "execute_result",
          "data": {
            "image/png": "[encoded data removed]",
            "text/plain": [
              "<IPython.core.display.Image object>"
            ]
          },
          "metadata": {
            "tags": []
          },
          "execution_count": 66
        }
      ]
    },
    {
      "cell_type": "code",
      "metadata": {
        "id": "NBmF8NWqT0yq",
        "colab_type": "code",
        "outputId": "72011048-e331-424e-f493-d43809c5b971",
        "colab": {
          "base_uri": "https://localhost:8080/",
          "height": 34
        }
      },
      "source": [
        "type(captcha.screenshot_as_png)"
      ],
      "execution_count": 67,
      "outputs": [
        {
          "output_type": "execute_result",
          "data": {
            "text/plain": [
              "bytes"
            ]
          },
          "metadata": {
            "tags": []
          },
          "execution_count": 67
        }
      ]
    },
    {
      "cell_type": "code",
      "metadata": {
        "id": "rqc1iL8J1sPP",
        "colab_type": "code",
        "colab": {
          "base_uri": "https://localhost:8080/",
          "height": 54
        },
        "outputId": "9c5a7e71-5e11-4859-8063-c67da76aa5b8"
      },
      "source": [
        "captcha.screenshot_as_png"
      ],
      "execution_count": 69,
      "outputs": [
        {
          "output_type": "execute_result",
          "data": {
            "text/plain": [
              "b'\\x89PNG\\r\\n\\x1a\\n\\x00\\x00\\x00\\rIHDR\\x00\\x00\\x00d\\x00\\x00\\x002\\x08\\x06\\x00\\x00\\x00\\xaa5~\\xbe\\x00\\x00\\x00\\x01sRGB\\x00\\xae\\xce\\x1c\\xe9\\x00\\x00\\x1a\\'IDATx\\x9c\\xed\\x9cY\\x8f%\\xc9u\\xdf\\x7f\\xe7Dd\\xe6]k\\xed\\xee\\xea\\x9e\\xad\\x87\\xd33#\\x8a\\xc3\\xa1i\\xc2$m\\x0b\\x84%\\x0b0i\\x8b\\xb0a\\x18\\x10\\xbc\\x00|\\xf0\\x8b\\xa1\\xcf`\\x7f$\\xbf\\xd8\\x00\\x05[\\xb2 \\xc2\\x0bhY\\xb4hiH\\x8a\\x8b\\x86\\xb3\\xf5\\xf4twUWW\\xd5]33\"\\x8e\\x1f\"\\xefR\\xd5CR\\xf4\\x88nz\\xe0\\x00\\x12\\x95}323\\xe2\\xec\\xe7\\x7fN\\xb6\\x98\\x99\\xf1\\x94\\x86\\x01\\xb1;\\x17\\xc0]Y\\x89I\\xbe\\x1e\\xb7~\\x13\\xc0\\x01\\xda\\x9d\\x7f\\xdc\\x86>\\xed\\x05Hw\\xac\\x17b\\xdd\\x01\\x88m\\xae\\xaf\\xc6j\\x9e<51\\xfa\\xc5\\x0e\\xff4_\\xbeb\\x84\\xc0%F\\xb0\\xfa\\xb7l\\x18`W\\xeeA6s>N\\xe3\\xa92\\x04:I\\xbf\\xca\\x08X\\x13\\\\:\\xa6\\xa4\\xee\\xe7\\x8f\\xab\\xa9Z\\ry\\x9a>\\xe4\\x92V\\\\]\\x85l\\xfd\\x95\\xcd\\x94\\x8f33\\xe0\\x97@C\\x80\\x9fM\\xe9\\xee\\xbal\\xfds5>n\\x0c\\xfa\\xe5`\\xc8U\\xcf\\xbd}\\xbe\\xadA\\x92\\xff\\xa4\\xad\\x9f\\x1d\\x1f/\\xa6\\xfcr0\\xa4\\x1b&\\x1bb\\xaf\\x88\\xecV\\xce{{\\x1e9\\x14^\\x85\\xc0\\x1f\\xa7\\xf1\\x0b\\x0f{SJ\\xfcT7\\xd5i\\x87\\t\\xb4@MbI\\xa0&\\xd2\\x920\\xa0\\xa9k\\x00b\\x1b\\x000\\x0c\\x03\\x96\\xb1&b?\\xfd\\xf9\\xff\\x8f\\x8d_8CT\\x15\\x91\\x9f`T\\xcc\\x88MC\\x0c\\x81\\x96\\x94\\x89\\x8bbx\\xc0\\xa1\\xdd\\xf2J\\xef\\xc1 5-\\xc4\\xc4l:\\x05\\xa0r\\x15\\x82\\xfc\\xe4\\xe7\\xff%\\xc6J`V\\xc7\\xcf\\x14\\xa0_\\xf0x\\xfaQ\\x16\\t\\x04\\x02\\xf9h\\xbbK\\x0ep\\x18>D\\x9c\\xf8Kqo$\\x12]6V\\x1e\\xb9\\x94$^\\xdd\\x8e\\xea_N\\xe6\\xb6\\xef\\xfb(\\x0c\\xfe\\xa8\\xe3\\xe9\\xfb\\x90UV~\\x85\\x06J&\\xb6\\x13\\x9f\\x1dF\\x13`\\xb1\\x80\\xca\\xe3J\\x8fs\\x8eHGH\\xcbD\\\\\\x1d+i\\xffy\\xc6\\xd3d\\xc2\\xf6x\\xfa\\x1a\\x12\"X\\xa2\\x95D\\xe3 \\xa9\\xe2px\\xa0\\x04\\x98\\xb5 \\xc5\\xe5\\xcc\\xd0\\x01\\xceH)\\xa0E\\xf5\\x91\\xc3\\xac\\x15\\t\\xb6\\x99\\x12c$\\xc6HY\\x96\\x1f\\xed\\xe1?\\xe7\\xf8\\x85kHJi-\\xb9O\\x0c\\x83\\x9c`8\\n\\xe7P\\x85\\x16\\xc3Hx\\x04\\xa2@\\xb0\\x9c\\xceO\\x17`\\x06\\xa1\\x86k\\xfb`\\xa0>/?\\xc6H]\\xd74M\\x83\\x99\\xe1\\x9c\\xa3,K\\xbc\\xf7x\\xff\\xb3\\xb7\\xf8aks\\xee\\xe9\\xc4o\\xffWL\\xd6\\xd5\\r\\xa7\\x94\\x881\\xa2!\\xe1\\xea\\x00\\xbd\\x12T\\xd6!l\\xb4\\x88F2C\\xbc\\'\\xfc\\xf9\\x8f\\xf8\\xfd\\x7f\\xffu\\x1e\\x9f\\x9e\\xb2w\\xf3:\\x7f\\xf7\\x1f|\\x85\\xde\\xaf\\xbc\\x04\\xeaAa\\xb1Xpzz\\xca\\xc5\\xc5\\x051F\\xaa\\xaab<\\x1e\\xd3\\xef\\xf7988\\xf8\\x99\\xeb\\x8b1\\x12B@D(\\x8ab\\xbd\\xde\\xa7\\xc1\\x14\\xbf\\t\\xfa\\x13\\x1b\\xbb\\x90/]N\\x89\\xeb\\xee\\xa4\\xba\\x847\\x19\\x01\\xc1\\x00\\x07\\xa6\\xdd\\xb3\\x02F\\r\\x18\\xa2\\x0e\\xa3 \\xe13\\x0e\\x95\\x12\\xda\\xcc\\xd0\\xc5\\x12\\xea\\x96\\xf0\\xe6]\\xfc\\xfe\\x1e<w\\x04\\xa3!N\\x14\\x97\\\\\\x8e\\x83-A\\x8a\\xbc\\xf7\\xdd\\xef\\xf1\\xbd\\xdf\\xfd},Dv\\x7f\\xe3\\xd7\\xe8\\x8d\\xc7\\xe0\\x14b\\x03E\\x8fh\\x89\\xd9b\\xce\\xe3\\xf33\\x9a\\xa6\\xa17\\x18\\x80w\\xe0\\xb3\\x9f\\xd9v\\xebWuaY\\xb7,\\x9a\\xac]\\x90\\xe8\\x95%\\xfd\\xaaG\\xe9:YU]\\'\\xa4\\xf9\\xfe\\xd4\\xad\\xcb6\\t\\x938L\\x95\\xb4\\xf5\\xae\\xab\\xd8\\x9bm\\xdf\\x0b \\xfeR\\xbe\\xb5\\xa6z\\x0c\\xe0<$\\x02H\\x8bv\\xc4\\rA\\xf1\\xaa\\xd4\\x0b({\\x10\\xdd\\x19\\x1ee:\\xd9c4(\\xd6\\xb9C\\xa2\\xc6\\x11\\xc1*\\xe2,\\xe0\\x86C\\xea8C\\xfd\\x19B\\x83Q\\x11\\x18\\xa3\\xec\\xa3\\x11\\nk\\xe1\\xf4\\x1e\\xff\\xf1_\\xff\\x1b\\xae\\xb5\\xc6\\xf1\\xfb\\x8f\\xf9\\xeb_\\xfd-\\x8e~\\xe7_f\\x93t\\x11\\xa0*\\xa1!\\x13}1A\\xcfN\\xf9\\xd5\\x8b\\x9a\\xb0\\xa8yy\\xd0\\x07\\x17\\xa04j\\xed\\x81EF\\xe3\\x1d\\xa6\\xcb\\xb7\\xf0\\xbd>T\\x158\\xc7\\xfd\\xd3S\\xce\\x17\\x0b\\xfa\\xbb\\xbb\\xf4\\xaa\\x8aR\\xf4\\tt9\\xc4\\x84\\xb9\\x82\\xe3\\xf3c\\x8e\\x1f?\"\\xb65\\x85\\x197\\xf7\\x0ey\\xfe\\xda\\x11\\xbe?d%k\\xb1\\x13Zo\\x01\\x16\\xb3,|f\\x99a\\xbe\"\\x95\\x15K\\x03\\x97\\xb2,,I(J\\x05\\xa8\\xc1\\xac\\xae\\x19\\xf5\\x14\\xea\\x05\\xb8\\x82\\xe8<Q\\xa1\\xb8\\xc2\\x14\\xbf\\x8a\\n\\xb3\\x9a\\x1aPg\\xfe\\xba\\x19\\xc8\\x98jX\\x01\\x0b<\\xa7\\x80g8\\xbc\\x0e\\tb\\xea\"#\\xf1\\x043|r\\xb8\"\\x81L\\xa9\\xd3\\xbb\\xd4v\\x97h\\x17LN\\x02\\xa3\\xc1\\xcb\\xec\\x8f\\xbe\\x88\\x17\\xa0\\x0e\\xf0\\xf6{\\\\\\xbc\\xf1\\x03\\x8a\\xd9\\x02]\\x1a\\xef\\xff\\xd7o2|\\xf5\\x0e\\xa3\\xdf\\xfcJ&h {\\xf4\\x04\\xd4K\\x98N\\xd9_\\xd4\\xa4\\xbae\\xc7e\\xc9G%\\xf3L\\x94\\x14#M\\x0c$\\x8c\\x98\\x12\\xa6BT\\x88\\n\\x8f\\x1e\\x9fr\\xfd\\xf0\\x1a\\xbe\\xacp@\\x8c\\x86w+\\xb4R\\x89@k\\xf9\\x95\\x11C\\x15\\x12\\xf1rI\\xc0 u\\xa8s\\xbb\\x9c\"\\xa7\\'\\xf8E\\x93\\xd71\\x1e\\x83\\x16\\xb8\\xfd#\\x9c@\\xd1Y\\xb9\\x96\\x86\\x92\\x1e!@\\xa5\\xd0\\xf3\\x0eR\\x0b\\xe4\\\\\\xcai\\xc9\\x87\\xe1\\x0c^:\\x91\\xb1$\\x98$\\x9c4\\xcc\\xe2\\x07,\\xea\\x13\\xca\\xb2@\\xa5O\\xe9 qLd\\xc8P_\\xc0RELP\\x08\\x18\\x15\\xc4\\xce\\x8c\\xf9%\\x89\\xb7y\\xff\\xe4\\x1b\\x9c5\\xdf\\xa7\\tg\\xd4\\x13\\xe3\\xd9\\x9b\\xbf\\xc6\\xfe\\xe8eD\\x0e\\xc1<\\xf3G\\x89fR\\xd1LZ\\x94\\x96\\xbb\\xdf\\xf9>\\xfc\\xbb?\\xe0sw>\\x0b/\\xde\\xa6\\x96\\x96\\xaaW\\xc0|\\t\\xf5\\x9cv2%\\x99\\x11\\x14\\xca~\\x0f|\\x01\\x96a\\x15\\x87\\xb0\\xe8\\x1c\\xba/\\x8aLg3$\\x19\\x16\"\\'\\x0f\\x8f\\xe9\\x95\\x15\\xfd\\xc3j}m%\\x93\"\\x10C\\x96\\xae\\x94rb\\x9a,32IG\\xae\\x0eIP \\xc4\\x9a\\xe9\\xf11\\xd37\\xdf\\xc4?<\\xa6g\\x81\\xfe\\xee\\x90\\xf9`\\xcc\\xf8\\xf5\\xbfIqp\\x88K\\x80&\\n\\x0cG@\\x93\\x07\\x01O\\x00\\xab\\xe1\\xc1]PO\\xad}\\x8a\\xfd\\x1b\\xc8`\\xc0\\xb6Q\\xf5H\\xb6i)A\\xc2\\xa8y\\xcc\\xc9\\xd9\\x0fy4\\xf9S\\xd4\\xcf\\xc1\\n\\x8a\\xa2\\x00]`\\xcd\\r>\\xfd\\xfck\\xa0G8\\xb1\\xce\\xcew\\x92,\\x80[\\xf0h\\xfa\\xa7<8\\xfbo<^\\xfe\\x90\\xc4\\x8c\\xca\\x06$\\xb9\\x85\\xf1\\x08d\\x17(\\x89\\x0b\\xc7\\xb88`\\xb7_a\\xb2\\xc0\\x96\\x0b\\x9a?{\\x13\\xfe\\xcb\\xb7\\xe0\\xf0\\x90\\xf2h\\xc4\\x12\\xf0\\xda\\xe2\\x9b\\x9a\\xe5\\xc5\\x05\\xa8\\x91\\xbcR\\x8d\\x06P\\xe60\\xd8\\xbb\\x8eP!`fx\\xe7H)\\xa1\\xaa\\xa4\\x94\\xa8\\xeb\\x1a18==\\xa5_\\x94\\xec\\xed\\xec\\xe0\\xbd\\x92R\\x0e\\xdc\\xd4CZ\\x06b\\x8c\\xeb\\x0c=i\\xf6\\x88Q\\xa1\\xd0\\xb4\\xf6!\\x90\\xd0\\xd8\\x12\\xa6\\x13\\xce\\xee\\xdd#\\xbc\\xf3.EX\\xa0e\\xa2\\xde\\xdb\\xe3\\xf6\\xd1s\\\\\\x1b\\x0f3M\\n\\xa5\\x14\\x05\\x8c\\xc2\\xd3\\xd5\\xa1\\x1b\\xc2\\xc3\\xf7\\xf8\\xe0O\\xfe\\x08\\x97`6\\xd8\\xe5\\xc6\\xab\\xaf\\xb3\\xfb\\x89W\\xf3;V\\x0cI\\xd6\\xa2\\xe2P\\xf5\\x88\\x08ml\\x98.\\xde\\xe3\\xd1\\xf4\\xbf\\x93\\xf4>)\\x81\\xd3\\x8a\\x18@\\xc3K\\xbc\\xf2\\xfc\\x97\\xa9t\\x84\\xa3\\xc4\\xac \\xa6\\xee\\x85\\x05\\xc0\\x84\\x8b\\xc5w\\x08\\xeeGT\\xc3\\x07\\xf8\"RZ\\xc3`x\\x8eg\\n)@\\xf4,.jh\\x8dv\\x99\\x91\\xab\\x01\\xca\\xce\\xfd\\x19o}\\xfd\\x1b<\\xf7\\xfa\\x1d\\xfc\\xd1\\xa7Y\\x12\\xd9\\xeb+\\xa4\\x960\\x99\\x82S\\x82D\\x8aa?\\xfb\\x966R:O\\x845\\x13\\x9cs\\xb8\\x94\\xe8\\xf7\\xfa\\xb4m\\xcbt:\\xa5\\xaa*\\xce\\xce\\xce(D\\x19\\xf4\\xfa\\xf4\\xcb\\x82d\\x86\\xa5\\x94\\x19\\x18\\xc1b\\xd6\\x1c\\x13@\\x85\\xe4\\x84\\xa4Y-R\\x8a\\xa4\\x14q^\\xf0j\\x0c\\xd4\\xe8\\x13\\xb0\\x14\\xe8[`Q\\xcf\\x88\\x0b\\xe8\\xa5\\x19\\xa21\\xdb?s8\\x01C7fO\\x85\\xfa\\xf4\\x98\\x07?\\xfa>\\x1aZ\\xe2\\xce!7n\\xdc\\x04\\xbb\\xc3v\\xb0\\xbbf\\x8dj\\xb6\\xc7\\xa5\\x07-&$\\xfd\\x80\\xe8\\xde\"\\xb9\\xb7\\xb1\\xe2\\x1d\\x1a{\\x97&\\xbd\\xc7\\xc9\\xc5\\xf70N\\x81:G\\t\\nR\\x92\\x1d-\\x8f89\\xff.\\xad\\xddC\\xdc\\x0c\\xa7\\r\\xc2\\x0c\\'5~\\xadF\\x90\\x16\\r\\x8e\\x9a\\xb6\\x9d\\xb0\\xecljq6\\xe3\\xc1\\xb7\\xfe\\x8cw\\xff\\xe8[H\\xbd\\xc41\\xef\\xecm\\xa0\\x9e\\xcf@\\x85V\\x81A\\x95\\ru\\x88\\x90\\x0c%\\xc3#\\xdb\\x10\\xc9x<f\\x7f\\x7f\\x7f\\x9d\\x87\\xb4M\\xc3\\xf9\\xf99\\x17\\xd3IF\\x93\\xcd6\\xa8\\xfe\\x15\\xec\\xca$3#\\xa9d\\xc6\\xab\\x80\\xa4\\x1c!\\xa5\\x88\\x8f-\\xbeYR\\xb55\\xfd\\x14\\x18\\x11\\xf0\\xcd\\x9c\"6`-XXGR\\x86A\\xd3=\\xdb\\x8c\\x9e\\ne[\\xd3\\x0fK\\xfa\\xcb)C6s7|\\x90U\\x0f\\x07@@\\xbahK\\xdc\\x1c_\\xd6\\xe0\\x96T\\xfd%Eo\\x82V\\x8f\\xb8\\xf7\\xf0\\xdb4\\xdc\\x07jbZb\\n\\xea\\x02\\xc8#\\xeax\\x8f\\xf3\\xc9]\\x92\\xcd1Sf\\xd3@\\xa8\\x15\\x8b\\x1e\\xa1\\x071\\xdb\\xfe\\xd4N\\xe9U3\\x8a\\xc1\\x9c\\xd7>\\xffY\\xc6GGXJ\\xe8d\\xce\\x9b\\x7f\\xf8\\x9fy\\xe7w\\x7f\\x8f\\xd1\\xc5\\x04B\\x0b\\xa1\\xa5Y\\xce\\x89$\\x1a\\x12\\xa9W\\x82_\\x99\\x11\\xe96\\x91\\x01\\xcc\\xb6m\\xb1\\x94\\xd8\\xdd\\xd9\\xe1\\xe8\\xc6\\rv\\xc6cR\\x8c8\\xe7\\x08!\\xf0\\xe8\\xd1#N\\xcf\\xcf\\x89\\x18\\xe2]\\xce9S\\x84\\xd4\\xf5\\xb5\\xa8\\x80\\n\\xe2\\x144\\'\\xa8\\xa2\\xab|$A\\x0c\\xb0\\x98c\\xb3\\x19\\xccg\\xf8\\xe5\\x9c\\xa2\\xadI\\xf3)V\\xd7[i\\x82b(\\x89\\x8e\\xa1\\xdd\\xe3\\x9d%\\x86*\\x1c\\x94\\x8e\\xa1\\xc5\\x1c\\xb1]e\\x08x\\xcc\\x84\\x98j \\xd2R\\x13b\\xd3\\xd9Uh\\xea<M]@\\xfd\\x9c\\x93\\xb3?\\xa7\\xe1}`\\x86h\\xe84\\xe5\\x9c\\x98\\x1e\\xd0\\xa6G$\\xab\\x19\\r\\xc6\\x8c\\xfb\\x87xFx\\x86\\x14\\x8c\\x80*\\x1b\\xe6\\x08\\xd3\\xc9cR|\\x8c\\xb9\\x9a\\xe7\\x7f\\xeb79\\xf8\\x95\\x97\\xa8\\x87\\x05\\xd5\\xa0\\xe2\\xc1\\xff|\\x83\\x1f\\x7f\\xfd\\x0f\\x90\\x93)<\\x9a@\\xdb\\x12\\xda%fF+F\\xa8\\\\\\xd7\\x07\\xb4I\\x0eV\\x89\\\\\\xdb\\xb6\\xc4\\x18\\xe9\\xf7\\xfb\\x0c\\xaa\\x1e\\xc3\\xe1\\x90\\xb6m)\\x8a\\x02U\\xe5\\xe2\\xe2\\x82\\xf3\\xf3sL\\xb2Co\\xdb\\xb8\\xd6\\x0e]=G\\x05\\xeb\\x8e\\r\\xa9\\xba\\n\\x8c%J\\x11\\xfa\\n\\xa3\\xc2\\xb3[\\xf5\\x18U%\\xa5\\xf3\\x94\\xea i\\x86y\\xf0D\\x1c5t\\xa6\\x1c0\\xa5],\\xb1\\xb6\\xc5G\\xd0\\xb6\\x81\\xba\\xe1j\\xb1GS\\xcc\\x0bq\\n9\\xf87\\xbc\\x1b\\xe0u\\x0fkw\\x19\\xf5\\x9eez\\xd6Ce\\x80Q#\\xc5)\\x0fO\\xbf\\x03\\xccp\\xd2\\x00\\x0b`\\x81\\xd3\\x05\\xdf\\xf9\\xde\\xff\\xa0\\xaa\\x06x\\xddE\\x19\\x90B\\x9f\\x14zh\\x1anV\\xb6\\x84\\xf1p@\\n3bQ\\xc3\\xb8\\xc7\\x0b\\xff\\xfc\\xb7I/\\xdd$\\x8c+\\x06\\x93\\x1a{\\xe3M\\x1e\\xff\\xdb\\xff\\x00\\xb3\\x04\\xcb\\x1a\\xaf\\xb0\\\\.\\xf1E\\xc54\\xc5\\x1c>\\x96\\xc5:\\x80\\x8f1\\xd2/+*_\\xa0\\x06\\xf5|\\x01\\xc0\\x9d\\x17n3\\xe8\\x92\\xbc\\x95\\x06\\x9d\\x9e\\x9f\\xf1\\xe0\\xe4\\x98y\\xdb\\xe0\\x0bG\\xc4h\\xdb\\x96\\xa6iH)e?\\xa4\\x05\\xe8\\xb6\\xe5\\xe8\\xe8\\x16\\x02\\x12\\x03\\x85@\\x91\\x02\\xb1^\\x12\\xebH!\\x15H.\\x19\\xa0\\x05\\x88#\\xe0\\x01O\\xb2\\x15\\xb7\\x1d\\xe2*r\\x8e\\x97(\\xd4\\xe7w\\\\A\\x12u\\xd3h\\xb0\\x05~[\\x01i\\x08q\\x0f\\xda#\\xae\\x1f|\\x92\\x14\\x06\\x888\\xb4\\x98q>{\\x9b\\xc4\\x19\\x89\\x05F\\x034\\xb4\\x1c\\x93l\\x81\\xc5\\x01\\xc3\\xfe\\x11N\\xfb\\xd9\\x94P \\x9d\\xd4\\xac\\x86\\xac\\xb4\\x12\\x0f{\\xbbp\\xfb9n~\\xe9\\xf3\\xdc\\xb3\\x05\\xcf\\xdf<B\\xee\\x1e\\xf3\\xee\\x1f~\\x13\\xbe\\xfd=X\\xb6T8*\\xf5\\xf9y\\xa5\\x87\\xcawM[\\x9d\\xad\\xfe)\\xe8\\xee\\xed\\xdb\\xb7\\xd7\\x9a\\xd2\\xc4@\\xd34L&\\x13f\\xf39&\\xd9\\x1cy\\xef\\x11\\xbf\\xf2C\\xb9\\n#[\\xe6G\\xecj\\x8dy\\x8bO\\xe6H80\\xbfa\\x8a\\xe8\\x1a\\xf7\\x88\\xab[E1\\\\6ch\\x9e\\xbf\\xca\\xae\\x9f`\\xc8Z\\x04:\\xc7k\\x0eR\\x1f\\xe2.\\x84\\xeb\\xdc\\xba\\xf6Y\\n9\\xc2b\\t\\xb2\\xe0l\\xf26s\\xeec,\\xb0.\\xff=\\x9f\\xdd\\'\\xa6\\x05j{\\xec\\x8d^D\\x15\\xd4\\xb7 \\x01\\x93U(F\\xd7\\xacPB\\x1c\\xd1\\xa4\\x01Tcx\\xf6Y\\x8e\\xbe\\xfc\\xeb\\x8c>\\xf32\\x8dF\\\\\\xddp\\xfa\\xc6\\xf7\\x89\\xbf\\xf7\\rx\\xff!\\xae\\x0e\\x94(b\\xabb\\xd7\\xaaa\\xcb\\xf2\\xc6Wy\\x9eY\\xe6\\xd3\\xea\\x00\\xae\\xed\\xef3\\x1e\\x8f\\xf1>C\\xf6)%.&\\x13\\x1e=>\\xe5b6\\x07\\xb5\\x1cA\\xf9\\xacE\\xa4\\x9c\\x05\\xaai\\xae\\xd7\\x1b9+GA\\x04\\xeb\\xccZT\\x88\\xa2DYACEfFG\\xe0\\x155\\xd3\\x16C\\xa2@\\x12G\\xec\\x0e\\xf0O\\xf0yK\\'/;\\x97<\\x1c*C\\x06\\xd5M\\x0e\\xf7\\xee\\x90B\\x9f\\x98\\x1aBz\\xcc\\xf1\\xd9\\x0fpL\\x11\\x0c#rv\\xf1\\x1e\\xc6\\x92\\xd2]c\\xdc{1K\\xac\\xd4\\x98&\\xb2\\xf65\\xac\\x85C\\nL\\xfa\\x04\\xeb\\x11k\\xa0?\\x84O\\xbd\\xca\\x17\\x7f\\xfb\\x1f\\xf1@j\\xdcN\\x8f\\xbe(?\\xf8\\xe6\\x1f\\xc3\\xb7\\xdf \\x9c<\\xa64\\xc9\\x11Q\\x13\\xd6N8uZ\\xb1\\xad!k\\x9f`\\xeb\\xd71\\x1a\\x0c988`4\\x1a!\\xaa\\xd4m\\xc3\\xe3\\x8bs\\xee?\\xfc\\x80\\xba^\\x12c\\xc8\\xfbO\\x86\\xc5\\x84$\\xc3\\xa5\\xad\\x90u\\xc5\\x10UL\\x1dA\\x95\\xe8\\x84(J\\xc2\\x83\\x95$s\\x9byO\\x12wM\\xdf\\xd4\\x85\\xc3QVu\\x84\\xcb\\xb3\\xf4\\xf2\\xe9\\nG\\x89\\xa03\\xd0\\x05\"B\\x0c\\x05\\xcf\\x1c}\\ne\\x87\\x18\\x8d\\xaa\\x9f\\xf8\\xe0\\xe1w1\\x1e!\\xb4\\xb4\\xcc\\x98.\\xee\\x81\\xd6\\xec\\x8en\\xd3\\xe3Yb4\\x8c\\x1a\\xb3H\\x94D\\xa2\\x06M\\xd9r\\x15\\x0e\\x93\\x92$=fK\\xc9v\\xb7\\xdfc\\xf0\\xa5/p\\xeb7\\xbe\\xc0\\xf1H\\x98[\\xc3\\xec\\xe4\\x11\\x1f|\\xeb\\r\\xd2\\xc3s*S4\\x1a\\xae\\x89\\xd0\\xe4\\xc8h\\x15\\xe9\\xae\\x19\\x92\\x0c5\\x90d\\x9b\\x96!\\x83\\xe1p\\xc8\\xf5\\xeb\\xd7\\x19\\x0e\\x87\\x97\\x02\\x80\\xd3\\xf33.fS\\xea\\xb6Yg\\xeb\\xc4\\x94\\x93F\\xb6:.L:\\xe0\\xb4 \\xa9\\x12\\x9c\\xa3\\x15\\xa5\\x15!\\x99b&\\x88u\\x0c\\xec\\x84\\xc5\\x91\\xae4a\\x84\\xb5\\x89]1\\xe5\\x89n\\x1b\\xba\\xf7v\\\\\\xd8bH\\x0b:\\x07\\x9db\\xd4\\xc4\\x98\\xb8\\xc6\\x0b\\x0cz\\xd7\\x11\\x14\\xe7\\x13\\xe7\\xd3\\xf7\\x98r\\x17X2\\xabOX\\xb6\\xf7Aj\\xae\\xed\\xbf\\x8c\\xe3\\x88\\x90\\x1c\\xe2\\x94dJL\\x96\\xc1Km\\xb3\\x96\\xba\\xd4\\xf5\\xef8bXQ\\x0e\\x18\\x8f\\xf8\\xdb\\xff\\xea_\\xd0\\xdc>\\xe0\\xa4\\x9d\\xd2\\xf3\\x8e\\xb3\\xb7\\xde\\xa3\\x9a\\xb5\\xf4\\xd4\\xa3\\xc9\\xf0\\xd1\\xb6\\xec\\xc0\\x86!\\x1f\\xd6\\xeb+@\\x8c\\t\\xef\\x94\\xd1hD\\xaf\\xdf\\xc7\\x97\\x05\\xe2\\x1d\\xa2\\x8a\\x991\\x9dNi\\x9a\\xe5\\x9a\\xa1X~\\xbe[\\xb5\\xc0D.\\xd5m\\x92s$QZ\\xa7\\x04\\xed\\x18e\\x82\\xa4U\\xbe\\x91\\xc0\\x02\\x8e\\x88\\xd2t\\r\\xe4\\xb6~\\x90I\\xce\\x81\\xb2\\x99}\\xb2\\xbc\\xac\\x1b.m\\x01\\xc5\\xd2\\x80;\\x03wFHg\\x94\\xa5C\\xe9\\xb1\\xbf\\xfb\\x0c\\x85\\x1fR7sL&\\x9c\\\\\\xfc\\x18\\x98p1\\xbdG\\x9b\\x1e!\\xae\\xe1\\xfa\\xeeK\\x18\\xfbX,qZ\\x91bI\\neN\\x92\\xa4\\x05Mh\\x11\\x10\\xdf\"\\x9a\\x08M\\xcc\\x1b\\xf7\\xfd\\xcc\\xa4O\\x7f\\x82\\xcf\\xfc\\x93/3z\\xe9\\x19\\x92\\x13\\xfc2\\xb0\\x13\\x1dU\\x12\\xe2\\xb2\\xa1\\x08+\\xa8?\\x8b\\xef*\\xc5\\xfbI\\x8e}\\x950zU\\xf6\\xf7\\xf7988\\xa0\\xaa\\xaaur\\xb8l\\x16\\xc4\\x18\\x11\\x91\\xb5\\xc6\\xa9\\x91\\x99\\xb3b\\xc6\\xcal\\x89\\xe6\\x08J\\x95V\\x95\\xa0\\x8a\\xc9\\x16\\t-ui\\x7f\\xc7\\x0cZ$\\xc3\\x97@@\\t\\x88%\\x90\\xc4O\\x8a\\x134\\xabQ\\x02*\\xd6\\x10\\xab\\xd4 Ytc\\x10\\xfa\\xb2\\x07\\xec2\\x1e\\xbc@\\xe9\\x0f\\x98\\xcf\\x16\\x14\\xbd%\\xe7\\xd3\\xef\\xe3x\\x8b\\xa6y\\x9b&EZ\\x1b!\\x8c\\x89\\x948\\x1bP\\xe8\\x103#b\\x84\\xce)\"-\\x8eD\\x91zx+\\t\\xcby^X\\xa90\\xe8\\x11P>\\xf9O\\xff\\x19\\xcf}\\xfe\\x8b\\xdc\\x8f\\x89X\\xf5p\\x85\\'Z 6s\\x8a\\xba\\xed:\"\\x94\\x10\\xba\\xd2kz\\x92\\x11k\\xc4B3\\xcc\\x0e0\\xacz\\xdc\\xb8v\\x9d~Y\\x91b$\\xc5\\xdcj\\x14\\x14p\\x8a\\x17\\x8f7\\x87\\xb3M\\xad~]2\\x96M{\\x9e\\xdav\\xc4\\x940\\x0bY\\x88\\xc5@\\x1c\\xa4\\x12G\\x1fg\\xe5F\\x0b,\\x9bSp$+\\xb3\\xef\\xf9\\x10-Q\\xd1&\\xcf\\x8f\\n\\x0cXe\\xe0\\xb1-!\\xeeQ\\xf9\\x1b\\xcc\\xeb>K\\xf6yq\\xf7o\\x91\\x9a\\x03R,\\xe8\\r\\x1b&\\xb3\\xff\\xc5\\xd2\\xfe\\x13\\x8b\\xc9\\x9f\\xd0\\xa6]\\x9e\\xb9\\xf3\\xeb\\x9cbx*z\\xec\\x12\\'\\x89\\xb2\\x82\\xa8\\x0b`H\\x0cY\\xb2\\x0f\\xf6\\xae\\xa3\\x17#\\xaa\\xe5\\x98\\xb3\\xd3w\\xc1M\\xc0\\xd7 \\x0e\\xe7\\xf6!\\x8c\\xf9\\xcc\\xd7~\\x87\\xdeg>\\xc7\\xf1\\xb0\\xc7}i9\\x8fS\\xf6\\xc6}\\x16w\\x1f@\\xab\\x10\\n\\xc4\\x97\\x08\\x82W\\xa1,=m[3\\x18\\x0fH\\x92\\x88D\\xea\\xd0\\x121\\x9c\\x13\\xcc\\x12\\x821(\\x0b^|\\xe6\\x19n\\x1d\\x1eb!\\xd2\\xa8a\\xbd\\n\\xefKR\\x13i&\\x0b\\xc2\\xb2\\xcd\\xe1j\\x0f\\x16\\xb1\\xc9\\xb0\\x90\\xb60\\xbf\\xa0_\\x96\\xec\\x8d\\xc68JD\\x1cM;\\xa3\\xeaCd\\x01\\x1a \\x15\\x10\\x05\\x17\\x958/0\\x11\\xe2r\\tQ\\xf02\\xa0^(\\xa6C\\xa4\\x1c\\x10\\xb5\\xf8\\x10\\x1fB\\xd8\\x88\\x14%F\\x8b\\xb1\\xcc\\x92\\x87\\'\\xb4\\niH\\xc5-\\x94#\\xae\\x1f\\xbc\\x8a\\x93\\x11\\xf3\\xc59\\x8b\\xfa.\\xc7\\x0f\\xff\\x98\\xf9\\xec\\x1dL\\xc7hu\\x0b\\xcf \\xfb\\x99$H\\x1bY,\\x1es1\\x7f\\x8c\\xa1\\x88v\\r\\x03e\\xceC\\x9c9v\\xfa\\x05\\xe82K\\xe0*j)\\x87p\\xfb\\x13\\xbc\\xfe\\x0f\\xbf\\xca\\xd9\\xfe\\x88G\\x03e2p\\xa4A\\xc9b\\xb1\\x80\\xc9\\x1c\\xecrN\\x15B`\\xb1X0\\x9dN\\x99\\xcf\\xe7\\xc4\\x18\\x9f\\xa8\\xa7g\\'\\xabTE\\xc9N\\x7f\\xc8\\xee\\xce\\x88(P\\xc7@\\x0c\\x89B<\\xa5\\x16\\xc4h4\\xa1%\\xa4\\x8c\\xd3\\xc5\\x9c\\x15B\\xbf\\x82\\xfe\\x10\\xa1\\xa0\\x89F2\\xa5*=\\x84\\x05\\xd3\\x8bch\\xe6\\xd0\\xcbY\\x03\\x06\\xfd\\x1e\\xb4\\x02\\xdawY{\\x9a\\x9a\\xa2\\xec\\x11\"8_\\xe2z\\x83\\'4{\\x15\\x1al\\xa9z\\xc0h0\\x99\\x82\\xce\\x11m\\x11q\\x08c\\xe0\\x80[\\xd7\\x7f\\x95^y\\x9d\\xa6Y\"\\xdap|\\xfa\\x01\\xcb\\xb6\\xa6,\\xfa\\xf4\\xdd\\x0e\\x9e\\xb2C6\\x02*\\r\\xc3\\xbe\\xa2\\xd4\\xd9\\xda\\xabf\\xf5\\xaf\\x8c\\x0b\\x1e3I\\xa7\\xdc{\\xe7\\x1dxp\\x0e\\x173\\xd22l(7,9\\xf8\\xea\\xdf\\xe3\\xf6\\xdf\\xf9\\x02\\xb3\\x9b\\xbb\\xfc\\xc8f\\xbc\\xab5\\x0f\\xe22\\xa3\\xc6\\xe5F\\xd5\\xab\\xa2`4\\x180\\x1e\\x0e\\xe9\\x95%N\\xa4\\xb34\\xb2\\x8e\\x1d\\xb7\\x8f~Y\\xb1\\xb7\\xb3\\xc3\\xb5k\\xd7\\xe8\\x17e\\x86+R\\xa4(r\\xa9!\\xa5\\x1cq\\x89\\x03\\xd5\\x92@$%\\x81\\xb2\\x82\\xf1\\x0e:\\xec\\x13\\x8b\\x8a:&\\xbc\\t\\xda\\xd4\\xccNN\\xe0\\xe2$\\xd3\\xd0\\xc1\\xc2\\xa0q\\xd0\\xd0\\x90|\\r~\\xc9\\xf9\\xe2\\x94rP\\xd04K\\n\\x01\\x8a+er\\xb6\\xd2\\xe7U\\x1f\\x82a$k0\\x1aD\\x84\\xb2\\x12T<0f\\xd1\\xcc\\xd8/_a\\xd8\\xbb\\xc5rQ\\xd1\\x1f\\n\\xf5E\\x8b+\\n\\xaa\\xde.\\x05\\x03\\x04\\x87\\x90\\x8bWU!L\\xeb9qr\\x06@\\x13[\\xfa\\n\\\\\\xdb\\xc1\\xdd\\xac\\xd0\\x14\\x99,&\\x19\\xff\\xe9\\x8dQ_\\xe6\\x9aeLT\\x85\\xc2n\\x9f\\xcf\\xfc\\xe3\\xbf\\xcf\\xb2o\\x9c\\xdd\\xff\\x00?\\x1a3z\\xf56TY\\xd5\\xdb&\\x9f\\xf6z=n\\xdd\\xba\\xc5\\xee\\xee.\"\\xc2h4Zk\\x87\\xacl\\x82t\\xd1X\\xb7\\xd1\\xc1`\\xc0\\x9e\\x13v\\x16sb\\x1b\\x906!\\x9a\\x881\\xb0\\\\.\\xa9\\xeb\\x9a\\x01\\xfdN\\\\\\x85HG\\x87\\xfe\\x80\\xdd\\xa3g9\\xbd\\xfe\\x80\\xd9\\xdb\\x13\\xc6$\\n\\x81zqA\\xfd\\xf8\\x84\\xea\\xfas\\xa8\\xf5\\xd1\\xd0\\xa0\\xce(t\\xd9\\xa1Z5\\x17\\xe7\\xa7\\xb8BY\\xaa\\xd1\\x1b\\x0e`\\xf0\\xa4\\x86\\xf8\\xcb\\xdaa$\\xcb\\xd2aDDSv`\\x96\\xfdK\\xa8\\x85~y\\x8d\\xf1\\xe0y\\x8e\\'\\x03bH\\x84\\x16\\xaab\\xc8\\xa0w@\\x9f]\\x14\\x8f\\xc3\\xa1\\x14\\x88yz\\xa5\\x03\\x97MUR\\x97\\x8b\\xce\\xda2\\x19\\xb6\\xccOO\\x19?:\\x81\\xd3\\x0b8\\xb8\\x99\\xe9\\xe6 :!9\\xd0J\\xe0\\x8b\\x7f\\x8d/\\xbc\\xfa\\x0c\\x94e.\\xee[\\t\\xd5\\x10\\\\V\\x12KP\\xf8\\x82\\xdd\\x9d]vwv1l\\xcd\\x84\\xeds\\xe9R\\xd8\\xb5i\\x10\\xa5_V\\xdc<8\\x80\\xd0\\x12\\xa65\\x1a\\x856Dj\\x16\\xcc\\xe7sz\\x8b\\x01e\\xbfD(sTd]\\xb6\\xf9\\xec\\xf3\\\\;>cv\\xf2\\x01a2\\xc1+\\x84\\xe9\\x94\\xb3\\xbbost\\xf8\\x0c\\xec\\x1fR\\xa9B\\xea\\xb0>\\xab\\xe1\\xfe}.\\x1e=D\\xea\\x05Z\\x96\\xec\\x1c\\x1c\\xc2\\xce\\xee\\x13>\\xc4?\\x91OFG\\nU\\xc6\\xb2\\xa4G\\x0c\\x8a\\xa5\\x9c\\xe6\\x17n\\x0c\\xecr\\xb0\\xf3\\no\\xdd\\xbb\\xc6l\\x02\\xb2,\\xe9W\\xd7\\x18UG\\xf4\\xd8\\xc5w\\xd1\\x9a\\x0b\\x03R\\xd3G\\xb4\\xa0*\\x0f\\x89\\x90\\xabh\\x0e\\x9aB\\x19\\xdey\\x96f\\xa0\\x1c\\xbe\\xf8B\\xe6\\xc2\\xb2\\xc9\\xe1\\xa0\\xefS\\x16B\\x00\\x9c**\\x86\\xed\\x0e\\xd0\\xaa\\xec`\\x89\\x92\\xb8\\xa8\\xa9[#\\x990\\x18^\\xf5\\x13r\\xe9|\\x9b)\\x00\\xc9\\x12*y\\xcfN\\x94\\xeb\\xe3\\x03\\nQ\\xea\\xe1\\x12\\x9a\\xc0\\xb4\\x9ce&\\x17\\x051\\xadX(\\x98xbl\\xb3\\xfe\\xef\\xec3~\\xe9\\x0e\\xfb\\xc7\\x1f`\\xefLX\\xd63&\\x8f\\xcfX\\xfe\\xf8-z:`\\xf7\\x93\\xafeb\\xd3@\\x9a\\xc1\\xe9C&?\\xfc\\x01\\x93\\xfb\\'H\\r\\x077\\x9e\\xa1\\xba~=w\\x97\\\\\\xa1\\xbf_\\'\\x84]}\\xc1b\\x0f\\x0b\\xbbX{\\r\\xa1\\x87\\x93\\xbd\\x0c6\\x02\\xd9\\n\\x0c8\\x1a\\xbd\\xc6\\xfe\\xf0\\xb3\\xb4\\xf1>~T\\xb2;z\\x95Q\\xff\\xb9\\x1c\\xeae\\'\\x81\\xe3:.=\\xc7\\xe3\\x87\\xe7\\x1c\\xb8\\x11\\x8fg\\x13\\xf6\\x87\\x81\\x9e*\\xe5\\xedg\\xf9\\xca\\xd7\\xbeF\\x9a-\\x19\\xbc\\xf6y\\xb8\\xf1\\\\\\xce\\xd6\\x9d\\xcf\\x8e\\xb7+{/\\x81\\xc2\\xf5\\xd0\\xbec\\xd6L\\xa9|E\\xa9\\x8a\\x1bU\\x0cl\\x95\\xc4nr\\x90\\x9592\\xb3u\\xfe\\x11\\xc3\\xc6\\xb9;\\xd1\\xaeq\\xaf\\xd3\\x12@H\\xec\\x8fvp\\x83=$\\x19\\x8b\\x9d\\x05m\\x8a\\x94\\xfd~\\xae\\x11\\x93\\xc3\\x9e\\x02\\x87z\\x81\\xe5\\x12\\x9c\\x83\\x9b\\xcf\\xf1\\xec\\xa7_g\\xea\\x16\\x1c\\xdf\\xfd\\x0bl\\x19i\\xcf\\xa6|\\xf0\\xc6\\xf7\\xf0\\xc7\\x17\\x0c\\x0f\\x0fs\\xed\\xc2\\x96,\\xcfN\\xb8\\x7f\\xef}\\x06V`\\xa3!Gw^\\x81g\\x9f\\xcf\\x04\\xbd\\xd2\\xb3\\xe6/\\xf5\\xca\\x99bq\\x88\\xb5\\xd7\\xa0y\\x01()\\xab\\x1b\\xa8T\\xd9\\xd1S\\x10\\x92\\xe2\\xf5\\x90\\xeb\\xbb\\x7f\\x83\\xb6=\\xa5\\xf2\\x15\\xc3\\xd1-\\x06\\xc5-\\x84>1\\x82s}\\xbc=K)\\x13n\\x1d\\n\\xd7\\x8e>GQ\\xec\\xac\\xf3U7\\xdc\\xa1\\xf7\\x85/u\\x8d\\x11\\xfd\\x0cC\\xd7M\\'\\x18\\x8a\\xc4,<\\x15\\x9eEj(\\xb4@\\xca1u\\xd7e\\x95BD\\x92P\\x15[\\xda\\xb0\\xd5\\x1d\\xb9\\xdd\\x98\\x97\\xd2e\\x8cn\\xfb\\x9a\\x88\\x10R\\xd7\\x05R\\xf4@\\x84\\xe1\\xce`\\r\\xc26\\xdd\\xad\\xa1\\x8d\\x14E\\xce\\xbds\\xec\\xe9\\xa0r\\xf0\\x89\\x97\\x19\\xe9\\x92\\xb3\\xb0\\xa4\\x7f>\\xc7%\\xc7\\xc5\\xf1\\x19o\\x9e\\x9cs\\xd8\\x1f\\xd0\\xccg\\xf4*\\xcf\\xbc\\xad9\\xaf\\xe7\\xdc|\\xf9\\x0e\\xb6{\\x8d\\x9dO\\xbd\\x0e\\xd7\\x8fr\\xb3\\x86\\\\\\xd6\\x10IV\\x9bP\\xb2\\xea\\xf2\\xaa\\xd3\\x8f\\x99\\xd6\\x7f\\xc1d\\xf9C\\x96\\xcb9=\\xff<\\xe3\\xfe\\x1d\\xf6F\\xaf\\xe0\\x18\\x00-\\x91)\\xca\"W\\x17s\\x9aM\\xa4B\\x19 i\\x08\\xb1\\x06y?\\xe7\\x17\\xe2\\x80\\x11K\\x9e#1\\xa4\\xa4\\xc5[\\x82\\xba[H\\x95\\xcb\\xa6b~\\x830t\\x92\\x8f\\x82i\\xea\\xbe\\x13\\xb1.O\\xcb\\x9f)\\xf8\\xadf\\xbd\\x8f2\\xac\\xc3\\x9c\\xb0-\\xc2\\xc8f)\\xdb\\xdf\\xc8w\\xf8\\xec\\xa6\\xa70\\xd5\\x90.\\xe0\\xd1C\\xe6o\\xbf\\xcb\\xfd\\x1f\\xdfe\\xf2\\xe0\\x844\\x9bS\\x1a\\xf4T\\t\\xcd\\x12-\\x0b\\x067np\\xf8\\xca\\x1dz\\x9f|\\r\\xae]\\x07\\x9f;w\\x9c\\xbf\\x8c\\xf8J\\xdd\\xcc\\xcci\\x85S\\xd7]\\x98\\x02g\\x04N\\x88\\xd4\\xd4\\x8d\\xd2+\\x0f)\\xd9%\\x17\\x99\\x94h\\t\\xa1\\xealq\\xc0r\\xab\\x01 H\\xea\\xe5\\xa6-f@\\xd35*\\x15\\xd4\\x0c1\\n\\x94\\x0c\\xa5\\xd3d3Y\\x17\\x10HT+\"\\x076\\xa1\\xe0\\n\\x9d\\xd3\\xb4f\\xbdvh\\x8f\\xa3\\x9b\\xf7\\x11\\x19\\xb2\\x0ej>\\x84!\\xab\\xdc|\\xbb#q\\xfd\\t]\"/6\\xd5\\xd9y/\\x1b\\x98\\xe5\\x1e2\\xbb8\\xa7\\x99\\x9c\\xd3.kF\\x87\\x87Y\\x13\\xc6c\\xd8?\\x80\\xdd=p\\x05&\\x9e:\\x18\\x95\\x97K[\\x90\\x10\\x97&\\x14\\x08\\xca\\xaa\\xd4\\x90\\x9b\\xe5fl\\xbe\\xd6\\x80\\r\\x86P\\x91R\\x85X\\xb6\\xf7kLF\\xbaz|\\xeaJ\\x99\\xd6ac\\x1d\\xc2\\xbc*V\\n\\x81\\x02\\x8f\\xb4\\xf9\\xf7\\x0b\\x07\\x91D\\xbf\\xeb\\xf2\\x93\\xdc\\xb1\\xb6a\\xca\\n\\xa1^\\xf5\\x8f\\xadi\\xf6!\\x84\\xfc?\\x19\\xb2\\xdd\\xf4\\xd9=r\\xeb\\xf2\\xd5\\xa2\\xc4j\\xd6\\x86\\x88!\\xe3W\\xa1k\\x13\\xd5\\x98Q\\xed\\xd8@\\xdb\\x82\\xefe+\\xa1\\x1e\\\\ACA\\xe8\\x8a`j9=\\xd8f\\x88w\\x9d\\xf3\\xb3\\x94{\\xb3,\\x01Re[\\xae\\x01\\x95\\xb6\\xcb\\xdeS\\xb7\\x90\"\\xc7\\xe3]\\xa6\\x1cb6\\x83N\\xba\\x80M,\\xfb\\x845t\\xddE\\x8b\\x9dX\\xc9jK\\x9aK\\xec\\x9b\\x8d\\'\\x12\\x9a\\xbf)T.\\xdd\\xbf\\xdd(+\\x92\\xcd\\xcc\\xda\\xd4\\x08\\x1f\\x9d)\\xdd\\xf8\\xb0\\x9a\\xe3\\x87\\xb5[\\xaf\\x96\\x95M\\x9a\\xc7\\x89\\xc7\\xd3Bjh\\x1cDu$\\x1d \\x05h\\xa8)\\x9c\\'II\\x83\\xeb0\\x10\\x18\\xf2$3\\x00|\\xb4\\x1a\\xcc\\xa3\\xf42\\xd1V\\xa0\\xaf\\x14 B\"`\\xe6;\\xa2\\xf6\\x10\\xe9\\xe0\\x0f\\xc9\\x0c\\xbc\\xfcD\\xcd\\xb5\\x14B\\x96\\x08.\\x0b:\\xdb\\xd3\\xbb\\xa2\\xdf\\xaac4\\x07\\x80ik\\xa2^6]\\x97\\xc6\\n\\xe9\\xfd+\\xb0X\\x9d\\x80\\x18\\x89\\xab\\xba\\xb2\\xf1-\\x89M#\\xf9J(\\xf2*\\xbaP\\x04\\xef\\x0b\\xf0\\x0e\\x93\\x0cX.\\xbb&\\xf4\\xb1\\xdf!\"\\xb4\\x1d\\xf6k\\xdd^\\x0b:\\xe5\\xbc\\x82\\xfaz\\x88\\x1d4\\xc2\\x86\\x00\\xddN\\xf3\\x17\\x7f\\n\\xe2A\\xfa\\x97\\xaa\\xbch\\x97<Jn\\xed\\x91\\x95\\xa4J\\x0b\\xa2\\xeb/jWc-i[\\xe1j\\xc6\\xefR\\xf7\\xdate\\xf2V\\xc5nkl\\x14&uS?\\xfa\\'\\x03\\x97\\xc1\\xa3\\xcb>#C\\xea\\xdd\\xafk\\t\\xd0K~f\\xfd\\x10\\x14\\'\\t\\x87\\xe2)P\\x8c\\xa2K\\x93\\xd7(~\\xb7=\\xb7\\xaa\\xb5\\\\\\xf9 \\xc4\\xbbUe\\xa73-\\xebN\\xfb\\xd4b2\\xa7\\xf4\\x9d\\x11\\xdf\\xfe8\\\\\\x00.p\\x1aI\\xecdm\\xbaD\\xb8@\\xecL\\x10\\xdd\\x82\\xd6R\\xb6\\xda\\x9c\\xe6\\xce\\x10b\\x89X\\xd7\\x13\\xaa\\xb6\\x8el\\x8c\\x0c6\\xae\\xfek\\x8dmM\\xb05\\xa0\\xf1\\x04\\xf9>\\xc2\\xd0+\\x82q\\xc5{\\\\\\xd1V\\xe9\\xeeY\\x1b\\x89\\x004\\x01\\xef\\x02Z\\n\\x03\\xe7r\\xd1l\\x997T)\\x14E\\x0eb\\x1c\\xe4\\xcab2rs\\xc4\\xe65\\xeb<dU\\xdb\\x11%w\\xa9\\xab\\x03J\\x12!\\xdb\\xfd\\x8eY+\\x7f \\xeb:J`\\xd5i\\xb1\\x92\\x92\\xedM\\xe9zs\\x1fF4\\xbb\\xa2\\x05\\xb9@f\\x9dj\\xaf\\xc6\\xeanY\\xcf\\x12l\\xfd\\xbc\\xbf\\x1a\\xff\\xb1y\\xfb\\x86\\xd8\\xb96t\\xe9\\xc7\\xcb\\xa6\\x8bM \\x98\\xe3\\x1d\\x0f\\xa2\\xa8\\xa4\\x1c\\xd8$\\xf2\\xdf.\\x1eR\\xe9>\\xd3\\x83lR\\x9cuvk\\xb3\\x071k\\xbb\\xbd_\\xfd@\\x07\\xd6\\xd0<\\xab\\xa8i\\xfbZKn\\xcf\\xce\\xd1\\xf9V*\\xd6\\xfd~%\\xe1Y\\x99\\xa0\\xf5\\x0f+\\xd8\\xbf\\x0b\\xa1V-=\\xac\\xd8\\xb9\\xb9\\xffI\\x92o\\xa4w\\x1d$\\xac\\x88\\xf6\\xf3\\xfees\\xfb\\xe5\\xf5n\\xbd\\xe7\\xd2\\xc5-\\x84\\x80M\\x9e\\xe2/\\xed-m\\xe8\\xb5Zj\\xc7\\xbdU\\xd7\\x8f\\xac,\\x05zi\\x1dO\\xf7\\xa3\\xcf\\xff?\\x9e\\x18\\xff\\x1bo}\\xf8\\xba\\x88\\xc2F.\\x00\\x00\\x00\\x00IEND\\xaeB`\\x82'"
            ]
          },
          "metadata": {
            "tags": []
          },
          "execution_count": 69
        }
      ]
    },
    {
      "cell_type": "code",
      "metadata": {
        "id": "5Y3Gc8dYT0wP",
        "colab_type": "code",
        "outputId": "a5e3e24c-2a94-485f-d277-da7d86bdb117",
        "colab": {
          "base_uri": "https://localhost:8080/",
          "height": 34
        }
      },
      "source": [
        "type(captcha.screenshot_as_base64)"
      ],
      "execution_count": 68,
      "outputs": [
        {
          "output_type": "execute_result",
          "data": {
            "text/plain": [
              "str"
            ]
          },
          "metadata": {
            "tags": []
          },
          "execution_count": 68
        }
      ]
    },
    {
      "cell_type": "code",
      "metadata": {
        "id": "2ypYdiZJXfgu",
        "colab_type": "code",
        "colab": {}
      },
      "source": [
        "import pytesseract\n",
        "\n",
        "from PIL import Image"
      ],
      "execution_count": 0,
      "outputs": []
    },
    {
      "cell_type": "code",
      "metadata": {
        "id": "aVvxa8wJXz7v",
        "colab_type": "code",
        "colab": {}
      },
      "source": [
        "img = Image.open(\"sh01.png\")"
      ],
      "execution_count": 0,
      "outputs": []
    },
    {
      "cell_type": "code",
      "metadata": {
        "id": "MyJhc4I52Cn-",
        "colab_type": "code",
        "colab": {
          "base_uri": "https://localhost:8080/",
          "height": 34
        },
        "outputId": "e7e9e249-5a5a-494b-de05-abb2568a20bf"
      },
      "source": [
        "type(img)"
      ],
      "execution_count": 72,
      "outputs": [
        {
          "output_type": "execute_result",
          "data": {
            "text/plain": [
              "PIL.PngImagePlugin.PngImageFile"
            ]
          },
          "metadata": {
            "tags": []
          },
          "execution_count": 72
        }
      ]
    },
    {
      "cell_type": "code",
      "metadata": {
        "id": "pX7yKXoLXcqi",
        "colab_type": "code",
        "outputId": "27715046-3a75-421d-89a3-277b9ab1fe4e",
        "colab": {
          "base_uri": "https://localhost:8080/",
          "height": 34
        }
      },
      "source": [
        "captcha_value_ocr = pytesseract.image_to_string(img)\n",
        "captcha_value_ocr"
      ],
      "execution_count": 73,
      "outputs": [
        {
          "output_type": "execute_result",
          "data": {
            "text/plain": [
              "'MNNU'"
            ]
          },
          "metadata": {
            "tags": []
          },
          "execution_count": 73
        }
      ]
    },
    {
      "cell_type": "markdown",
      "metadata": {
        "id": "b8opkY0_blyb",
        "colab_type": "text"
      },
      "source": [
        "**Elemento Texto Captcha**"
      ]
    },
    {
      "cell_type": "code",
      "metadata": {
        "id": "eO41k8T9Xcn2",
        "colab_type": "code",
        "colab": {}
      },
      "source": [
        "captcha_input = driver.find_element_by_xpath('//input[@name=\"codigo\"]')"
      ],
      "execution_count": 0,
      "outputs": []
    },
    {
      "cell_type": "code",
      "metadata": {
        "id": "nk_i-4fOXckz",
        "colab_type": "code",
        "colab": {}
      },
      "source": [
        "captcha_input.send_keys(captcha_value_ocr)"
      ],
      "execution_count": 0,
      "outputs": []
    },
    {
      "cell_type": "code",
      "metadata": {
        "id": "oGbDO5KZXciY",
        "colab_type": "code",
        "outputId": "952b9d5f-a3e3-4691-8048-7a0c7a1a0975",
        "colab": {
          "base_uri": "https://localhost:8080/",
          "height": 34
        }
      },
      "source": [
        "captcha_input.get_property(\"value\")"
      ],
      "execution_count": 76,
      "outputs": [
        {
          "output_type": "execute_result",
          "data": {
            "text/plain": [
              "'MNNU'"
            ]
          },
          "metadata": {
            "tags": []
          },
          "execution_count": 76
        }
      ]
    },
    {
      "cell_type": "code",
      "metadata": {
        "id": "384C4Xe2cUzv",
        "colab_type": "code",
        "colab": {}
      },
      "source": [
        "button.click()"
      ],
      "execution_count": 0,
      "outputs": []
    },
    {
      "cell_type": "code",
      "metadata": {
        "id": "2cohWgal3jAD",
        "colab_type": "code",
        "colab": {
          "base_uri": "https://localhost:8080/",
          "height": 51
        },
        "outputId": "f96c30c4-adb6-4f16-9e61-ed6c99fdad5d"
      },
      "source": [
        "driver.window_handles"
      ],
      "execution_count": 78,
      "outputs": [
        {
          "output_type": "execute_result",
          "data": {
            "text/plain": [
              "['CDwindow-22A3A5645536648117361B7D7EEA744E',\n",
              " 'CDwindow-BC0FBD6E84218BBA3D2DB79479D3B404']"
            ]
          },
          "metadata": {
            "tags": []
          },
          "execution_count": 78
        }
      ]
    },
    {
      "cell_type": "code",
      "metadata": {
        "id": "FwjXCatH3pzT",
        "colab_type": "code",
        "colab": {
          "base_uri": "https://localhost:8080/",
          "height": 34
        },
        "outputId": "91d5c43d-115e-4ec7-f46c-98d0762427fa"
      },
      "source": [
        "driver.current_window_handle"
      ],
      "execution_count": 79,
      "outputs": [
        {
          "output_type": "execute_result",
          "data": {
            "text/plain": [
              "'CDwindow-22A3A5645536648117361B7D7EEA744E'"
            ]
          },
          "metadata": {
            "tags": []
          },
          "execution_count": 79
        }
      ]
    },
    {
      "cell_type": "code",
      "metadata": {
        "id": "1Ra9Z8cJcUw4",
        "colab_type": "code",
        "outputId": "4648f76e-c739-43db-88c3-ad414fd1e260",
        "colab": {
          "base_uri": "https://localhost:8080/",
          "height": 3981
        }
      },
      "source": [
        "print(driver.page_source)"
      ],
      "execution_count": 80,
      "outputs": [
        {
          "output_type": "stream",
          "text": [
            "<html xmlns=\"http://www.w3.org/1999/xhtml\"><head>\n",
            "<title>Consulta RUC</title>\n",
            "<link href=\"/a/css/estilos2_0.css\" rel=\"stylesheet\" /><script languaje=\"JavaScript\" src=\"/a/js/js.js\"> </script><script languaje=\"JavaScript\" type=\"text/javascript\">\n",
            "var gCount = 0;\n",
            "var contPag = 0;\n",
            "function goRefresh() {\n",
            " document.mainForm.codigo.value = \"\";\n",
            " document.mainForm.imagen.src=\"captcha?accion=image&amp;nmagic=\" + gCount;\n",
            " gCount = gCount + 1;\n",
            "}\n",
            "\n",
            "\n",
            "function format(type) {\n",
            " var form = document.mainForm;\n",
            " if(type == 0) {\n",
            "   document.getElementById('s1').style.visibility = 'visible'; \n",
            "   document.getElementById('s2').style.visibility = 'hidden';\n",
            "   document.getElementById('s3').style.visibility = 'hidden';\n",
            "   form.search1.maxLength = 11;\n",
            "   form.search1.onkeypress = function(e) {\n",
            "   if (!e) e=window.event;\n",
            "   key = e.keyCode? e.keyCode : e.which&gt;0?e.which:e.keyCode;\n",
            "   if (key == 8 || key==9) return true;\n",
            "   pattern =/[0-9]/;\n",
            "   te = String.fromCharCode(key);\n",
            "   return pattern.test(te);     \n",
            "  }  \n",
            "  form.search1.focus();\n",
            "  form.search1.value = \"\";\n",
            "  \n",
            " }\n",
            " if(type == 1) {\n",
            "   document.getElementById('s2').style.visibility = 'visible'; \n",
            "   document.getElementById('s1').style.visibility = 'hidden';\n",
            "   document.getElementById('s3').style.visibility = 'hidden';\n",
            "   form.search2.maxLength = 16; \n",
            "   form.search2.onkeypress = function(e) {return true;}   \n",
            "   form.search2.focus();\n",
            "   form.search2.value = \"\";\n",
            " }\n",
            " \n",
            " if(type == 2) {\n",
            "   document.getElementById('s3').style.visibility = 'visible'; \n",
            "   document.getElementById('s1').style.visibility = 'hidden';\n",
            "   document.getElementById('s2').style.visibility = 'hidden';\n",
            "   form.search3.maxLength = 100;\n",
            "   form.search3.onkeypress = function(e) {return true;}   \n",
            "   form.search3.focus();\n",
            "   form.search3.value = \"\" ;\n",
            " }\n",
            " \n",
            "// form.search.focus();\n",
            " //form.search.value = \"\"  ;\n",
            "}\n",
            "\n",
            "function verificaDocumento()\n",
            " {\n",
            "   var form = document.mainForm;\n",
            "   var   tipdoc = form.tipdoc.value;\n",
            "   var    numdoc =form.search2.value;  \n",
            "   if (tipdoc==\"1\")\n",
            "    {\n",
            "      if (numdoc.length!=8 )\n",
            "       {\n",
            "          alert(\"El número de documento de identidad debe tener 8 dígitos\");\t\t  \n",
            "          return false;\n",
            "       }\n",
            "\t   else{\n",
            "\t      if ( !esnumero(numdoc) )\n",
            "          {\n",
            "             alert(\"El número de documento de identidad debe tener 8 dígitos\");\t\t  \n",
            "             return false;\n",
            "          }\n",
            "\t   }   \t   \n",
            "    }\t\n",
            "\treturn true; \n",
            "  }\n",
            "  \n",
            "\n",
            "function evalSearch() {\n",
            " var form = document.mainForm;\n",
            " if(form.tQuery[0].checked) {\n",
            "  form.nroRuc.value = form.search1.value;\n",
            "  form.accion.value = \"consPorRuc\";\n",
            "  if(!esrucok(form.nroRuc.value)){\n",
            "    alert('Por favor, ingrese numero de RUC valido.');form.search1.focus();return;\n",
            "  }\n",
            " }\n",
            " else {\n",
            "   if(form.tQuery[2].checked) {\n",
            "     form.accion.value = \"consPorRazonSoc\";\n",
            "     form.razSoc.value = form.search3.value;\n",
            "     if(!longitudmayor(trim(form.razSoc.value),4) || (trim(form.razSoc.value).substring(0,1)=='*')){\n",
            "       alert('La Razón social no es válida ...');form.search3.focus();return;\n",
            "     }\n",
            "\t if ( validar(form.search3.value)==false){\n",
            "\t    alert('Sólo puede ingresar letras y/o números como criterio de búsqueda ...');form.search3.focus();return;\n",
            "\t }\t\n",
            "   \n",
            "   }else {//se trata del tipo y nro del documento\n",
            "     form.nrodoc.value = form.search2.value;\n",
            "     form.accion.value = \"consPorTipdoc\";\n",
            "     if(!longitudmayor(trim(form.nrodoc.value),4) || (trim(form.nrodoc.value).substring(0,1)=='*')){\n",
            "       alert('El Nro del documento no es válida ...');form.search2.focus();return;\n",
            "     } \n",
            "\t  if (verificaDocumento()==false) return; \n",
            "\t  if ( validar2(form.search2.value)==false){\n",
            "\t    alert('Sólo puede ingresar letras  y/o números como criterio de búsqueda ...');form.search2.focus();return;\n",
            "\t  }\t\n",
            "   } \n",
            "   \n",
            " }\n",
            " if(form.contexto.value == 'ti-it'){\n",
            "   if(trim(form.codigo.value).length &lt; 4) {\n",
            "     alert('Ingrese el código que se muestra en la imagen');form.codigo.focus();return;\n",
            "   }\n",
            "  }\n",
            " form.submit();\n",
            "}\n",
            "function   validar(texto) {\n",
            "             x = true;\n",
            "\t\t\t //if (!/^([A-Za-z\\s])*$/.test(texto)){ \n",
            "            if (!/^([A-Za-z0-9\\s\\361\\321@\\\\&amp;\\\\Ü\\\\ü\\\\-\\\\.\\\\,])*$/.test(texto)){               \n",
            "                x = false;\n",
            "             }\n",
            "            return x; \n",
            "}\n",
            "function   validar2(texto) {\n",
            "             x = true;\t\t\t \n",
            "            if (!/^([A-Za-z0-9\\\\-\\\\.\\\\_])*$/.test(texto)){               \n",
            "                x = false;\n",
            "             }\n",
            "            return x; \n",
            "}\n",
            "\n",
            "function getContPag(){\n",
            "return -contPag;\n",
            "}\n",
            "function incContPag(){\n",
            "contPag=contPag+1;\n",
            "}\n",
            "function resetContPag(){\n",
            "contPag=0;\n",
            "}\n",
            "</script></head>\n",
            "\n",
            "\n",
            "\n",
            "<body bgcolor=\"#FFFFFF\" onload=\"JavaScript:format(0)\">\n",
            "    \n",
            "<form target=\"mainFrame\" method=\"post\" name=\"mainForm\" action=\"jcrS00Alias\">\n",
            "\n",
            "   <table class=\"form-table\" cellspacing=\"2\" cellpadding=\"3\" width=\"100%\" border=\"0\">\n",
            "    <tbody>\n",
            "     <tr>\n",
            "      <td>\n",
            "       <table cellspacing=\"2\" cellpadding=\"3\" width=\"100%\" border=\"0\">\n",
            "        <tbody>\n",
            "         <tr>\n",
            "          <td bgcolor=\"#3399cc\" align=\"left\"><b>CRITERIOS DE BÚSQUEDA:</b></td>\n",
            "         </tr>\n",
            "        </tbody>\n",
            "       </table>\n",
            "     <input type=\"hidden\" name=\"accion\" value=\"consPorRuc\" />\n",
            "     <input type=\"hidden\" name=\"razSoc\" value=\"\" />\n",
            "     <input type=\"hidden\" name=\"nroRuc\" value=\"20520972740\" />\n",
            "\t <input type=\"hidden\" name=\"nrodoc\" value=\"\" />\n",
            "       <table cellspacing=\"0\" cellpadding=\"0\" width=\"100%\" border=\"0\">\n",
            "       <tbody>\n",
            "            \n",
            "       <input type=\"hidden\" name=\"contexto\" value=\"ti-it\" /> \n",
            "       <tr>\n",
            "         <td width=\"2%\"><input type=\"radio\" name=\"tQuery\" onclick=\"format(0)\" checked=\"\" /></td>\n",
            "         <td class=\"bgn\" width=\"20%\">Número de RUC</td>    \n",
            "\t\t \n",
            "\t\t <td align=\"left\" colspan=\"1\" width=\"30%\">\n",
            "\t\t <div id=\"s1\" style=\"visibility: visible;\">\n",
            "\t\t <input class=\"form-text\" name=\"search1\" size=\"11\" maxlength=\"11\" />\n",
            "\t\t </div>\n",
            "\t\t </td>  \n",
            "\t\t\n",
            "\n",
            "\t\t<!-- <td align=\"left\" rowspan=\"1\" width=\"180\"></td>    -->  \n",
            "         <td class=\"bgn\" rowspan=\"1\" width=\"20%\" valign=\"middle\">Ingrese el código que se muestra en la imagen:</td>\n",
            "         <td align=\"left\" rowspan=\"1\" width=\"13%\"><img name=\"imagen\" src=\"captcha?accion=image\" /></td>\n",
            "         <td align=\"left\" rowspan=\"1\" width=\"10%\" valign=\"center\"><input style=\"text-transform:uppercase;\" type=\"text\" name=\"codigo\" maxlength=\"4\" size=\"4\" onchange=\"this.value=this.value.toUpperCase();\" /></td>\n",
            "         <td rowspan=\"1\" width=\"5%\"><input class=\"form-button\" type=\"button\" value=\"Buscar\" onclick=\"evalSearch();\" /></td>\n",
            "       </tr>\n",
            "\t   <tr>\n",
            "           <td><input type=\"radio\" name=\"tQuery\" onclick=\"format(1)\" /></td>\n",
            "           <td class=\"bgn\">Tipo y Número de Documento de Identidad \n",
            "           <select size=\"1\" name=\"tipdoc\">\t\t\t\t\n",
            "\t\t\t\t\t <option value=\"1\">Documento Nacional de Identidad </option>\n",
            "\t\t\t\t\t <option value=\"4\"> Carnet de Extranjeria </option>\t\t\t\t\t\n",
            "\t\t\t\t\t <option value=\"7\"> Pasaporte </option>\n",
            "\t\t\t\t\t <option value=\"A\"> Ced. Diplomatica de Identidad </option>\n",
            "\t\t\t</select> \n",
            "\t\t\t</td>\n",
            "\t\t\t \n",
            "\t\t\t<td align=\"left\" colspan=\"1\">\n",
            "\t\t\t<div id=\"s2\" style=\"visibility:hidden\">\n",
            "\t\t\t<input class=\"form-text\" name=\"search2\" size=\"16\" />\n",
            "\t\t\t</div>\n",
            "\t\t\t</td> \n",
            "\t\t\t \n",
            "\t\t\t<!--<td align=\"left\" rowspan=\"1\"  colspan=\"2\" width=\"100\"></td>   -->\n",
            "\t\t     <td rowspan=\"1\" align=\"left\"><a href=\"javascript:goRefresh()\">Refrescar codigo</a></td>\n",
            "\t\t  </tr> \n",
            "\t   \n",
            "       <tr>\n",
            "         <td><input type=\"radio\" name=\"tQuery\" onclick=\"format(2)\" /><input type=\"hidden\" name=\"coddpto\" value=\"\" /><input type=\"hidden\" name=\"codprov\" value=\"\" /><input type=\"hidden\" name=\"coddist\" value=\"\" /></td>\n",
            "         <td class=\"bgn\">Nombre ó Razón Social </td>\n",
            "\t\t  \n",
            "\t\t <td align=\"left\" colspan=\"4\">\n",
            "\t\t <div id=\"s3\" style=\"visibility:hidden\">\n",
            "\t\t <input class=\"form-text\" name=\"search3\" size=\"30\" />\n",
            "\t\t  </div>\n",
            "\t\t  </td> \n",
            "\t\t\n",
            "\t\t \n",
            "       </tr>\n",
            "\t   \n",
            "                                           \n",
            "         </tbody>\n",
            "         </table>\n",
            "        </td>\n",
            "       </tr>\n",
            "     </tbody>\n",
            "    </table>\n",
            "</form>\n",
            "\n",
            "</body></html>\n"
          ],
          "name": "stdout"
        }
      ]
    },
    {
      "cell_type": "code",
      "metadata": {
        "id": "ju428PWScUrt",
        "colab_type": "code",
        "colab": {}
      },
      "source": [
        "driver.switch_to.window(\"CDwindow-BC0FBD6E84218BBA3D2DB79479D3B404\")"
      ],
      "execution_count": 0,
      "outputs": []
    },
    {
      "cell_type": "code",
      "metadata": {
        "id": "nL_p6Ia_cUuc",
        "colab_type": "code",
        "outputId": "8f2dda8a-71bc-402d-c3ef-04eebe00667a",
        "colab": {
          "base_uri": "https://localhost:8080/",
          "height": 34
        }
      },
      "source": [
        "driver.title"
      ],
      "execution_count": 82,
      "outputs": [
        {
          "output_type": "execute_result",
          "data": {
            "text/plain": [
              "'Consulta RUC'"
            ]
          },
          "metadata": {
            "tags": []
          },
          "execution_count": 82
        }
      ]
    },
    {
      "cell_type": "code",
      "metadata": {
        "id": "ecSwerHagRIe",
        "colab_type": "code",
        "colab": {}
      },
      "source": [
        "#driver.refresh()"
      ],
      "execution_count": 0,
      "outputs": []
    },
    {
      "cell_type": "code",
      "metadata": {
        "id": "BVfDYYI9dod2",
        "colab_type": "code",
        "colab": {}
      },
      "source": [
        "#driver.close()"
      ],
      "execution_count": 0,
      "outputs": []
    },
    {
      "cell_type": "code",
      "metadata": {
        "id": "nKycrm9RcLBQ",
        "colab_type": "code",
        "outputId": "c9a1a0bc-b874-4379-fb4f-98fab218353e",
        "colab": {
          "base_uri": "https://localhost:8080/",
          "height": 50
        }
      },
      "source": [
        "#driver.window_handles"
      ],
      "execution_count": 0,
      "outputs": [
        {
          "output_type": "execute_result",
          "data": {
            "text/plain": [
              "['CDwindow-7727487FAD533B540A2F916B91199FCF',\n",
              " 'CDwindow-82797EA09CD1FF3E1001FF991BA8F0B4']"
            ]
          },
          "metadata": {
            "tags": []
          },
          "execution_count": 147
        }
      ]
    },
    {
      "cell_type": "code",
      "metadata": {
        "id": "G53oXuoOg7ex",
        "colab_type": "code",
        "colab": {}
      },
      "source": [
        "#driver.switch_to.window('CDwindow-82797EA09CD1FF3E1001FF991BA8F0B4')"
      ],
      "execution_count": 0,
      "outputs": []
    },
    {
      "cell_type": "code",
      "metadata": {
        "id": "uOm84T6jg7cf",
        "colab_type": "code",
        "outputId": "16001345-9382-43b9-94f4-5abe70861d36",
        "colab": {
          "base_uri": "https://localhost:8080/",
          "height": 33
        }
      },
      "source": [
        "#driver.title"
      ],
      "execution_count": 0,
      "outputs": [
        {
          "output_type": "execute_result",
          "data": {
            "text/plain": [
              "'Consulta RUC'"
            ]
          },
          "metadata": {
            "tags": []
          },
          "execution_count": 149
        }
      ]
    },
    {
      "cell_type": "code",
      "metadata": {
        "id": "NCJ0OSmvg7aR",
        "colab_type": "code",
        "colab": {}
      },
      "source": [
        "#print(driver.page_source)"
      ],
      "execution_count": 0,
      "outputs": []
    },
    {
      "cell_type": "code",
      "metadata": {
        "id": "YY3VL_ZPjjce",
        "colab_type": "code",
        "colab": {}
      },
      "source": [
        "# importar la librería BeautifulSoup\n",
        "from bs4 import BeautifulSoup\n",
        "\n",
        "import re"
      ],
      "execution_count": 0,
      "outputs": []
    },
    {
      "cell_type": "code",
      "metadata": {
        "id": "xStcrsjnjooe",
        "colab_type": "code",
        "colab": {}
      },
      "source": [
        "soup = BeautifulSoup(markup=driver.page_source, features='html.parser')"
      ],
      "execution_count": 0,
      "outputs": []
    },
    {
      "cell_type": "code",
      "metadata": {
        "id": "uRNq-zH9j3yB",
        "colab_type": "code",
        "colab": {}
      },
      "source": [
        "table = soup.find(name=\"table\", attrs={\"class\": \"form-table\"}).find(\"tbody\")"
      ],
      "execution_count": 0,
      "outputs": []
    },
    {
      "cell_type": "code",
      "metadata": {
        "id": "EmcyXDuD41k9",
        "colab_type": "code",
        "colab": {
          "base_uri": "https://localhost:8080/",
          "height": 4270
        },
        "outputId": "f48de43e-912f-4846-ac0e-5f8e7283e4b0"
      },
      "source": [
        "table"
      ],
      "execution_count": 86,
      "outputs": [
        {
          "output_type": "execute_result",
          "data": {
            "text/plain": [
              "<tbody><tr>\n",
              "<td class=\"bgn\" colspan=\"1\" width=\"18%\">Número de RUC: </td>\n",
              "<td class=\"bg\" colspan=\"3\">20520972740 - J &amp; J DATA MINING CONSULTING SOCIEDAD ANONIMA CERRADA</td>\n",
              "</tr>\n",
              "<tr>\n",
              "<td class=\"bgn\" colspan=\"1\">Tipo Contribuyente: </td>\n",
              "<td class=\"bg\" colspan=\"3\">SOCIEDAD ANONIMA CERRADA</td>\n",
              "</tr>\n",
              "<tr>\n",
              "<td class=\"bgn\" colspan=\"1\">Nombre Comercial: </td>\n",
              "<td class=\"bg\" colspan=\"1\">-</td>\n",
              "</tr>\n",
              "<tr>\n",
              "<td class=\"bgn\" colspan=\"1\">Fecha de Inscripción: </td>\n",
              "<td class=\"bg\" colspan=\"1\">12/02/2009</td>\n",
              "<td class=\"bgn\" colspan=\"1\" width=\"27%\">Fecha de Inicio de Actividades:</td>\n",
              "<td class=\"bg\" colspan=\"1\"> 12/02/2009</td>\n",
              "</tr>\n",
              "<tr>\n",
              "<td class=\"bgn\" colspan=\"1\">Estado del Contribuyente: </td>\n",
              "<td class=\"bg\" colspan=\"1\">ACTIVO</td>\n",
              "<td class=\"bgn\" colspan=\"1\">\n",
              "</td>\n",
              "</tr>\n",
              "<tr>\n",
              "<td class=\"bgn\" colspan=\"1\">Condición del Contribuyente:</td>\n",
              "<td class=\"bg\" colspan=\"1\">\n",
              "              \n",
              "              HABIDO\n",
              "              \n",
              "              </td>\n",
              "</tr>\n",
              "<tr>\n",
              "<td class=\"bgn\" colspan=\"1\">Dirección del Domicilio Fiscal:</td>\n",
              "<td class=\"bg\" colspan=\"3\">CAL.RIO DE LA PLATA NRO. 167 DPTO. 203 LIMA                                                                                                                               - LIMA                                                                                                                               - SAN ISIDRO</td>\n",
              "</tr>\n",
              "<tr>\n",
              "<td class=\"bgn\" colspan=\"1\">Sistema de Emisión de Comprobante:</td>\n",
              "<td class=\"bg\" colspan=\"1\">MANUAL/COMPUTARIZADO</td>\n",
              "<td class=\"bgn\" colspan=\"1\">Actividad de Comercio Exterior:</td>\n",
              "<td class=\"bg\" colspan=\"1\">SIN ACTIVIDAD</td>\n",
              "</tr>\n",
              "<tr>\n",
              "<td class=\"bgn\" colspan=\"1\">Sistema de Contabilidad:</td>\n",
              "<td class=\"bg\" colspan=\"3\">MANUAL/COMPUTARIZADO</td>\n",
              "</tr>\n",
              "<tr>\n",
              "<!--I#P_SNADE003-1#20141109#CFS-->\n",
              "<!--<td class=\"bgn\" colspan=1>Actividad(es) Econ&oacute;mica(s):</td>-->\n",
              "<td class=\"bgn\" colspan=\"1\">Actividad(es) Económica(s):</td>\n",
              "<!--F#P_SNADE003-1#20141109#CFS-->\n",
              "<td class=\"bg\" colspan=\"3\">\n",
              "<!--I#P_SNADE003-1#20141109#CFS-->\n",
              "<!-- <select name=\"select\" >-->\n",
              "<!-- -->\n",
              "<!--   <option value=\"00\" > Principal        - CIIU 74996 - OTRAS ACTIVIDADES EMPRESARIALES NCP. </option>-->\n",
              "<!-- -->\n",
              "<!-- -->\n",
              "<!--   <option value=\"00\" > Secundaria 1 - CIIU 80904  - EDUCACION DE ADULTOS Y OTROS </option>-->\n",
              "<!-- -->\n",
              "<!-- -->\n",
              "<!-- -->\n",
              "<!-- </select>\t-->\n",
              "<select name=\"select\">\n",
              "<option value=\"00\"> 8211 - ACTIVIDADES COMBINADAS DE SERVICIOS ADMINISTRATIVOS DE OFICINA </option>\n",
              "<!--SC003-2015 Inicio-->\n",
              "<!--SC003-2015 Fin-->\n",
              "<option value=\"00\"> 8549  - OTROS TIPOS DE ENSEÑANZA N.C.P. </option>\n",
              "<!--SC003-2015 Inicio-->\n",
              "<!--SC003-2015 Fin-->\n",
              "<!--SC003-2015 Fin-->\n",
              "<!--SC003-2015 Inicio-->\n",
              "</select>\n",
              "<!--F#P_SNADE003-1#20141109#CFS-->\n",
              "</td>\n",
              "</tr>\n",
              "<tr>\n",
              "<td class=\"bgn\" colspan=\"1\">Comprobantes de Pago c/aut. de impresión (F. 806 u 816): </td>\n",
              "<td class=\"bg\" colspan=\"3\">\n",
              "<select name=\"select\">\n",
              "<option value=\"00\"> FACTURA</option>\n",
              "<option value=\"00\"> BOLETA DE VENTA</option>\n",
              "<option value=\"00\"> NOTA DE CREDITO</option>\n",
              "</select>\n",
              "</td>\n",
              "</tr>\n",
              "<!--  PCR Inicio Cambios  -->\n",
              "<tr>\n",
              "<td class=\"bgn\" colspan=\"1\">Sistema de Emision Electronica: </td>\n",
              "<td class=\"bg\" colspan=\"3\">\n",
              "<select name=\"select\">\n",
              "<option value=\"00\"> FACTURA PORTAL                      DESDE 25/11/2015</option>\n",
              "<option value=\"00\"> BOLETA PORTAL                       DESDE 19/02/2016</option>\n",
              "</select>\n",
              "</td>\n",
              "</tr>\n",
              "<!--  MLR Inicio Cambios P_DSNT_CPLE_0009_5_FE-MASIFICACION-->\n",
              "<tr>\n",
              "<td class=\"bgn\" colspan=\"1\">Emisor electrónico desde: </td>\n",
              "<td class=\"bg\" colspan=\"3\">25/11/2015</td>\n",
              "</tr>\n",
              "<tr>\n",
              "<td class=\"bgn\" colspan=\"1\">Comprobantes Electrónicos: </td>\n",
              "<td class=\"bg\" colspan=\"3\">FACTURA (desde 25/11/2015),BOLETA (desde 19/02/2016)</td>\n",
              "</tr>\n",
              "<!--  MLR Fin Cambios P_DSNT_CPLE_0009_5_FE-MASIFICACION-->\n",
              "<tr>\n",
              "<td class=\"bgn\" colspan=\"1\">Afiliado al PLE desde: </td>\n",
              "<td class=\"bg\" colspan=\"3\">- </td>\n",
              "</tr>\n",
              "<!--  PCR Fin Cambios     -->\n",
              "<tr>\n",
              "<td class=\"bgn\" colspan=\"1\">Padrones :</td>\n",
              "<td class=\"bg\" colspan=\"3\">\n",
              "<select name=\"select\">\n",
              "<!-- JRR - 20/09/2010 - Se añade cambio de Igor -->\n",
              "<!-- -->\n",
              "<option value=\"00\">NINGUNO</option>\n",
              "</select>\n",
              "<div id=\"print\" style=\"display:none;\">\n",
              "<table cellpadding=\"3\" cellspacing=\"2\" class=\"form-table\" width=\"100%\">\n",
              "<tbody><tr>\n",
              "<td class=\"t1\"><font size=\"2\">CONSULTA RUC: 20520972740 - J &amp; J DATA MINING CONSULTING SOCIEDAD ANONIMA CERRADA</font></td>\n",
              "</tr>\n",
              "</tbody></table>\n",
              "<table border=\"1\" cellpadding=\"2\" cellspacing=\"3\" class=\"form-table\" width=\"100%\">\n",
              "<tbody><tr>\n",
              "<td class=\"bgn\" colspan=\"1\" width=\"18%\">Número de RUC: </td>\n",
              "<td class=\"bg\" colspan=\"3\">20520972740 - J &amp; J DATA MINING CONSULTING SOCIEDAD ANONIMA CERRADA</td>\n",
              "</tr>\n",
              "<tr>\n",
              "<td class=\"bgn\" colspan=\"1\">Tipo Contribuyente: </td>\n",
              "<td class=\"bg\" colspan=\"3\">SOCIEDAD ANONIMA CERRADA</td>\n",
              "</tr>\n",
              "<tr>\n",
              "<td class=\"bgn\" colspan=\"1\">Nombre Comercial: </td>\n",
              "<td class=\"bg\" colspan=\"1\">-</td>\n",
              "</tr>\n",
              "<tr>\n",
              "<td class=\"bgn\" colspan=\"1\">Fecha de Inscripción: </td>\n",
              "<td class=\"bg\" colspan=\"1\">12/02/2009</td>\n",
              "<td class=\"bgn\" colspan=\"1\" width=\"27%\">Fecha Inicio de Actividades:</td>\n",
              "<td class=\"bg\" colspan=\"1\"> 12/02/2009</td>\n",
              "</tr>\n",
              "<tr>\n",
              "<td class=\"bgn\" colspan=\"1\">Estado del Contribuyente: </td>\n",
              "<td class=\"bg\" colspan=\"1\">ACTIVO</td>\n",
              "<td class=\"bgn\" colspan=\"1\">\n",
              "</td>\n",
              "</tr>\n",
              "<tr>\n",
              "<td class=\"bgn\" colspan=\"1\">Condición del Contribuyente:</td>\n",
              "<td class=\"bg\" colspan=\"1\">\n",
              "\t              \n",
              "\t              HABIDO\n",
              "\t              \n",
              "\t              </td>\n",
              "</tr>\n",
              "<tr>\n",
              "<td class=\"bgn\" colspan=\"1\">Dirección del Domicilio Fiscal:</td>\n",
              "<td class=\"bg\" colspan=\"3\">CAL.RIO DE LA PLATA NRO. 167 DPTO. 203 LIMA                                                                                                                               - LIMA                                                                                                                               - SAN ISIDRO</td>\n",
              "</tr>\n",
              "<tr>\n",
              "<td class=\"bgn\" colspan=\"1\">Sistema de Emisión de Comprobante:</td>\n",
              "<td class=\"bg\" colspan=\"1\">MANUAL/COMPUTARIZADO</td>\n",
              "<td class=\"bgn\" colspan=\"1\">Actividad de Comercio Exterior:</td>\n",
              "<td class=\"bg\" colspan=\"1\">SIN ACTIVIDAD</td>\n",
              "</tr>\n",
              "<tr>\n",
              "<td class=\"bgn\" colspan=\"1\">Sistema de Contabilidad:</td>\n",
              "<td class=\"bg\" colspan=\"3\">MANUAL/COMPUTARIZADO</td>\n",
              "</tr>\n",
              "<tr>\n",
              "<td class=\"bgn\" colspan=\"1\">Actividad(es) Económica(s):</td>\n",
              "<td class=\"bg\" colspan=\"3\">\n",
              "\n",
              "\n",
              "\n",
              "\n",
              "\n",
              "\n",
              "\n",
              "\n",
              "\n",
              "\n",
              "\n",
              "\t\t\t\t\t\t\n",
              "\t\t                Principal    - 8211 - ACTIVIDADES COMBINADAS DE SERVICIOS ADMINISTRATIVOS DE OFICINA<br/>\n",
              "<!--SC003-2015 Inicio-->\n",
              "<!--SC003-2015 Fin-->\n",
              "\t\t                \n",
              "\t\t                Secundaria 1 - 8549  - OTROS TIPOS DE ENSEÑANZA N.C.P.<br/>\n",
              "<!--SC003-2015 Inicio-->\n",
              "<!--SC003-2015 Fin-->\n",
              "</td>\n",
              "</tr>\n",
              "<tr>\n",
              "<td class=\"bgn\" colspan=\"1\">Comprobantes de Pago c/aut. de impresión (F. 806 u 816): </td>\n",
              "<td class=\"bg\" colspan=\"3\">\n",
              "<br/>\n",
              "\t                \n",
              "\t                 FACTURA\n",
              "\t                \n",
              "\t\t\t<br/>\n",
              "\t                \n",
              "\t                 BOLETA DE VENTA\n",
              "\t                \n",
              "\t\t\t<br/>\n",
              "\t                \n",
              "\t                 NOTA DE CREDITO\n",
              "\t                \n",
              "\t                \n",
              "\t            </td>\n",
              "</tr>\n",
              "<!--ICR Inicio Cambios 23/11/2010 -->\n",
              "<tr>\n",
              "<td class=\"bgn\" colspan=\"1\">Sistema de Emisión Electrónica: </td>\n",
              "<td class=\"bg\" colspan=\"3\">\n",
              "<br/>\n",
              "                  \n",
              "                  FACTURA PORTAL                      DESDE 25/11/2015\n",
              "                  \n",
              "                  <br/>\n",
              "                  \n",
              "                  BOLETA PORTAL                       DESDE 19/02/2016\n",
              "                                   \n",
              "                  \n",
              "               </td>\n",
              "</tr>\n",
              "<tr>\n",
              "<td class=\"bgn\" colspan=\"1\">Afiliado al PLE desde: </td>\n",
              "<td class=\"bg\" colspan=\"3\">- </td>\n",
              "</tr>\n",
              "<!--ICR Fin Cambios 23/11/2010 -->\n",
              "<tr>\n",
              "<td class=\"bgn\" colspan=\"1\">Padrones :</td>\n",
              "<td class=\"bg\" colspan=\"3\">\n",
              "<!-- JRR - 20/09/2010 - Se añade cambio de Igor -->\n",
              "<!-- -->\n",
              "\n",
              "\t                NINGUNO\n",
              "\t                \t\t                              \t\t              \n",
              "\t           </td>\n",
              "</tr>\n",
              "</tbody></table>\n",
              "<div>\n",
              "</div></div></td>\n",
              "</tr>\n",
              "</tbody>"
            ]
          },
          "metadata": {
            "tags": []
          },
          "execution_count": 86
        }
      ]
    },
    {
      "cell_type": "code",
      "metadata": {
        "id": "Rs_dVob2mP41",
        "colab_type": "code",
        "outputId": "8d49114b-d112-440e-aaf5-7bb08d0240c4",
        "colab": {
          "base_uri": "https://localhost:8080/",
          "height": 85
        }
      },
      "source": [
        "table.find_next()"
      ],
      "execution_count": 87,
      "outputs": [
        {
          "output_type": "execute_result",
          "data": {
            "text/plain": [
              "<tr>\n",
              "<td class=\"bgn\" colspan=\"1\" width=\"18%\">Número de RUC: </td>\n",
              "<td class=\"bg\" colspan=\"3\">20520972740 - J &amp; J DATA MINING CONSULTING SOCIEDAD ANONIMA CERRADA</td>\n",
              "</tr>"
            ]
          },
          "metadata": {
            "tags": []
          },
          "execution_count": 87
        }
      ]
    },
    {
      "cell_type": "code",
      "metadata": {
        "id": "LEZeUaZ-mb3H",
        "colab_type": "code",
        "outputId": "0363fa47-bb10-456b-8053-a0e8aaacb46c",
        "colab": {
          "base_uri": "https://localhost:8080/",
          "height": 85
        }
      },
      "source": [
        "table.find_next().find_next_sibling()"
      ],
      "execution_count": 88,
      "outputs": [
        {
          "output_type": "execute_result",
          "data": {
            "text/plain": [
              "<tr>\n",
              "<td class=\"bgn\" colspan=\"1\">Tipo Contribuyente: </td>\n",
              "<td class=\"bg\" colspan=\"3\">SOCIEDAD ANONIMA CERRADA</td>\n",
              "</tr>"
            ]
          },
          "metadata": {
            "tags": []
          },
          "execution_count": 88
        }
      ]
    },
    {
      "cell_type": "code",
      "metadata": {
        "id": "aoG7f-ULmin8",
        "colab_type": "code",
        "outputId": "316d8b7e-e41f-4144-b947-6fad4c1eaa4d",
        "colab": {
          "base_uri": "https://localhost:8080/",
          "height": 85
        }
      },
      "source": [
        "table.find_next().find_next_sibling().find_next_sibling()"
      ],
      "execution_count": 89,
      "outputs": [
        {
          "output_type": "execute_result",
          "data": {
            "text/plain": [
              "<tr>\n",
              "<td class=\"bgn\" colspan=\"1\">Nombre Comercial: </td>\n",
              "<td class=\"bg\" colspan=\"1\">-</td>\n",
              "</tr>"
            ]
          },
          "metadata": {
            "tags": []
          },
          "execution_count": 89
        }
      ]
    },
    {
      "cell_type": "code",
      "metadata": {
        "id": "hpJDIm7bqrmI",
        "colab_type": "code",
        "colab": {}
      },
      "source": [
        "pattern_dict = {\n",
        "    'ruc': 'n[ú|u]mero\\s+de\\s+ruc:\\s+',\n",
        "    'tipo_contribuyente': 'tipo\\s+contribuyente:\\s+',\n",
        "    'estado_contribuyente': 'estado\\s+del\\s+contribuyente:\\s+',\n",
        "    'condicion_contribuyente': 'condici[ó|o]n\\s+del\\s+contribuyente:',\n",
        "    'nombre_comercial': 'nombre\\s+comercial:\\s+',\n",
        "    'actividad_comercio_exterior': 'actividad\\s+de\\s+comercio\\s+exterior:'\n",
        "}"
      ],
      "execution_count": 0,
      "outputs": []
    },
    {
      "cell_type": "code",
      "metadata": {
        "id": "WNTu8BZu5f_k",
        "colab_type": "code",
        "colab": {
          "base_uri": "https://localhost:8080/",
          "height": 54
        },
        "outputId": "a021e4ed-fe13-497d-bf78-a35d268c23de"
      },
      "source": [
        "pattern_dict.items()"
      ],
      "execution_count": 91,
      "outputs": [
        {
          "output_type": "execute_result",
          "data": {
            "text/plain": [
              "dict_items([('ruc', 'n[ú|u]mero\\\\s+de\\\\s+ruc:\\\\s+'), ('tipo_contribuyente', 'tipo\\\\s+contribuyente:\\\\s+'), ('estado_contribuyente', 'estado\\\\s+del\\\\s+contribuyente:\\\\s+'), ('condicion_contribuyente', 'condici[ó|o]n\\\\s+del\\\\s+contribuyente:'), ('nombre_comercial', 'nombre\\\\s+comercial:\\\\s+'), ('actividad_comercio_exterior', 'actividad\\\\s+de\\\\s+comercio\\\\s+exterior:')])"
            ]
          },
          "metadata": {
            "tags": []
          },
          "execution_count": 91
        }
      ]
    },
    {
      "cell_type": "code",
      "metadata": {
        "id": "Qyu17K5m6V-V",
        "colab_type": "code",
        "colab": {
          "base_uri": "https://localhost:8080/",
          "height": 34
        },
        "outputId": "205adc30-1913-4669-cd1f-abcbb6e4270b"
      },
      "source": [
        "'n[ú|u]mero\\s+de\\s+ruc:\\s+'"
      ],
      "execution_count": 93,
      "outputs": [
        {
          "output_type": "execute_result",
          "data": {
            "text/plain": [
              "'n[ú|u]mero\\\\s+de\\\\s+ruc:\\\\s+'"
            ]
          },
          "metadata": {
            "tags": []
          },
          "execution_count": 93
        }
      ]
    },
    {
      "cell_type": "code",
      "metadata": {
        "id": "K_FE26QM6Ya9",
        "colab_type": "code",
        "colab": {
          "base_uri": "https://localhost:8080/",
          "height": 34
        },
        "outputId": "12dacb74-dee2-473c-fc26-738db6a6a6d1"
      },
      "source": [
        "r'n[ú|u]mero\\s+de\\s+ruc:\\s+'"
      ],
      "execution_count": 94,
      "outputs": [
        {
          "output_type": "execute_result",
          "data": {
            "text/plain": [
              "'n[ú|u]mero\\\\s+de\\\\s+ruc:\\\\s+'"
            ]
          },
          "metadata": {
            "tags": []
          },
          "execution_count": 94
        }
      ]
    },
    {
      "cell_type": "code",
      "metadata": {
        "id": "pmZ14U8W6o7f",
        "colab_type": "code",
        "colab": {}
      },
      "source": [
        "pattern = 'n[ú|u]mero\\s+de\\s+ruc:\\s+'"
      ],
      "execution_count": 0,
      "outputs": []
    },
    {
      "cell_type": "code",
      "metadata": {
        "id": "wvAdqSIF5zHB",
        "colab_type": "code",
        "colab": {
          "base_uri": "https://localhost:8080/",
          "height": 34
        },
        "outputId": "118aa5e2-a542-494f-80c8-c7477d54aaac"
      },
      "source": [
        "soup.find(name=\"td\", attrs={'class':'bgn'}, text=re.compile(pattern, re.IGNORECASE)).find_next_sibling().get_text().strip()"
      ],
      "execution_count": 100,
      "outputs": [
        {
          "output_type": "execute_result",
          "data": {
            "text/plain": [
              "'20520972740 - J & J DATA MINING CONSULTING SOCIEDAD ANONIMA CERRADA'"
            ]
          },
          "metadata": {
            "tags": []
          },
          "execution_count": 100
        }
      ]
    },
    {
      "cell_type": "code",
      "metadata": {
        "id": "GkSyONW4oxaj",
        "colab_type": "code",
        "outputId": "46b2e1ae-3217-4177-c0fa-67b0e3424eb3",
        "colab": {
          "base_uri": "https://localhost:8080/",
          "height": 119
        }
      },
      "source": [
        "for var, pattern in pattern_dict.items():\n",
        "  print(var, \": \", soup.find(name='td', attrs={'class':'bgn'}, text=re.compile(pattern, re.IGNORECASE)).find_next_sibling().get_text().strip())"
      ],
      "execution_count": 101,
      "outputs": [
        {
          "output_type": "stream",
          "text": [
            "ruc :  20520972740 - J & J DATA MINING CONSULTING SOCIEDAD ANONIMA CERRADA\n",
            "tipo_contribuyente :  SOCIEDAD ANONIMA CERRADA\n",
            "estado_contribuyente :  ACTIVO\n",
            "condicion_contribuyente :  HABIDO\n",
            "nombre_comercial :  -\n",
            "actividad_comercio_exterior :  SIN ACTIVIDAD\n"
          ],
          "name": "stdout"
        }
      ]
    },
    {
      "cell_type": "code",
      "metadata": {
        "id": "qTWKW4Ah2bGJ",
        "colab_type": "code",
        "colab": {}
      },
      "source": [
        "import json"
      ],
      "execution_count": 0,
      "outputs": []
    },
    {
      "cell_type": "markdown",
      "metadata": {
        "id": "o2wRnoG8r9FW",
        "colab_type": "text"
      },
      "source": [
        "Integrar todo lo visto en funciones"
      ]
    },
    {
      "cell_type": "code",
      "metadata": {
        "id": "85clEHa1u4U3",
        "colab_type": "code",
        "colab": {}
      },
      "source": [
        "def get_data(driver):\n",
        "  soup = BeautifulSoup(markup=driver.page_source, features='html.parser')\n",
        "  var_dict = {var: soup.find(name='td', attrs={'class':'bgn'}, text=re.compile(pattern, re.IGNORECASE)).find_next_sibling().get_text().strip() for var, pattern in pattern_dict.items()}\n",
        "  return var_dict"
      ],
      "execution_count": 0,
      "outputs": []
    },
    {
      "cell_type": "code",
      "metadata": {
        "id": "iXklh-tJoxVx",
        "colab_type": "code",
        "colab": {}
      },
      "source": [
        "def submit_request(driver, ruc):\n",
        "    driver.refresh()\n",
        "    ruc_input = driver.find_element_by_class_name(\"form-text\")\n",
        "    captcha_input = driver.find_element_by_xpath('//input[@name=\"codigo\"]')\n",
        "    captcha = driver.find_element_by_xpath(\"//img[@src='captcha?accion=image']\")\n",
        "    button = driver.find_element_by_class_name(\"form-button\")\n",
        "\n",
        "    captcha.screenshot(filename=\"{0}.png\".format(\"captcha_img_tmp\"))\n",
        "    img_tmp = Image.open(\"{0}.png\".format(\"captcha_img_tmp\"))\n",
        "    captcha_value_ocr = pytesseract.image_to_string(img_tmp)\n",
        "    \n",
        "    \n",
        "    #ImageDisplay(filename=\"{0}.png\".format(\"captcha_img_tmp\"))\n",
        "    #print(captcha_value_ocr)\n",
        "    \n",
        "    \n",
        "    ruc_input.send_keys(ruc)\n",
        "    captcha_input.send_keys(captcha_value_ocr)\n",
        "    button.click()\n",
        "    \n",
        "    tab_list = driver.window_handles\n",
        "    driver.switch_to.window(tab_list[-1])\n",
        "    \n",
        "    try:\n",
        "      if \"error\" in driver.title.strip().lower() or 'mensajes' in driver.title.strip().lower():  \n",
        "        driver.close()\n",
        "        driver.switch_to.window(tab_list[0])\n",
        "        driver.refresh()\n",
        "\n",
        "        return False, {}, driver\n",
        "\n",
        "      else:\n",
        "        data = get_data(driver)\n",
        "        driver.close()\n",
        "        driver.switch_to.window(tab_list[0])\n",
        "        driver.refresh()\n",
        "\n",
        "        return True, data, driver\n",
        "    except:\n",
        "      alert = driver.switch_to.alert\n",
        "      alert.accept()\n",
        "      return False, {}, driver\n",
        "      "
      ],
      "execution_count": 0,
      "outputs": []
    },
    {
      "cell_type": "code",
      "metadata": {
        "id": "Ey1jZ-abcI7z",
        "colab_type": "code",
        "colab": {}
      },
      "source": [
        "def consulta_ruc(ruc, driver):\n",
        "  print(\"CONSULTA RUC: {0}\".format(ruc))\n",
        "  \n",
        "  n_attempt, success, data = 1, False, {}\n",
        "  \n",
        "  while (n_attempt < 4) & (success == False):\n",
        "    \n",
        "    print(\"\\tAttempt nrº {0}\".format(n_attempt))\n",
        "    \n",
        "    success, data, driver = submit_request(driver, ruc)\n",
        "    n_attempt+=1\n",
        "    \n",
        "  return data"
      ],
      "execution_count": 0,
      "outputs": []
    },
    {
      "cell_type": "code",
      "metadata": {
        "id": "xs4m9i2Z9o7l",
        "colab_type": "code",
        "colab": {
          "base_uri": "https://localhost:8080/",
          "height": 34
        },
        "outputId": "bed3e062-7824-465c-8088-3329f8129dde"
      },
      "source": [
        "driver.window_handles"
      ],
      "execution_count": 117,
      "outputs": [
        {
          "output_type": "execute_result",
          "data": {
            "text/plain": [
              "['CDwindow-22A3A5645536648117361B7D7EEA744E']"
            ]
          },
          "metadata": {
            "tags": []
          },
          "execution_count": 117
        }
      ]
    },
    {
      "cell_type": "code",
      "metadata": {
        "id": "Zz4Y3smT9rSV",
        "colab_type": "code",
        "colab": {
          "base_uri": "https://localhost:8080/",
          "height": 34
        },
        "outputId": "a99bb17e-8953-4b5a-f153-f342ee0a0eba"
      },
      "source": [
        "driver.current_window_handle"
      ],
      "execution_count": 107,
      "outputs": [
        {
          "output_type": "execute_result",
          "data": {
            "text/plain": [
              "'CDwindow-BC0FBD6E84218BBA3D2DB79479D3B404'"
            ]
          },
          "metadata": {
            "tags": []
          },
          "execution_count": 107
        }
      ]
    },
    {
      "cell_type": "code",
      "metadata": {
        "id": "vPs1Uu5I9umP",
        "colab_type": "code",
        "colab": {}
      },
      "source": [
        "driver.close()"
      ],
      "execution_count": 0,
      "outputs": []
    },
    {
      "cell_type": "code",
      "metadata": {
        "id": "19lDe1Bt9uj1",
        "colab_type": "code",
        "colab": {}
      },
      "source": [
        "driver.switch_to.window('CDwindow-22A3A5645536648117361B7D7EEA744E')"
      ],
      "execution_count": 0,
      "outputs": []
    },
    {
      "cell_type": "code",
      "metadata": {
        "id": "b9BRWfpj90Z7",
        "colab_type": "code",
        "colab": {
          "base_uri": "https://localhost:8080/",
          "height": 34
        },
        "outputId": "881feca6-92d4-4701-b775-2a931ca86447"
      },
      "source": [
        "driver.window_handles"
      ],
      "execution_count": 110,
      "outputs": [
        {
          "output_type": "execute_result",
          "data": {
            "text/plain": [
              "['CDwindow-22A3A5645536648117361B7D7EEA744E']"
            ]
          },
          "metadata": {
            "tags": []
          },
          "execution_count": 110
        }
      ]
    },
    {
      "cell_type": "code",
      "metadata": {
        "id": "VRuHUhjC97v1",
        "colab_type": "code",
        "colab": {
          "base_uri": "https://localhost:8080/",
          "height": 34
        },
        "outputId": "7ea7dc9f-9b2f-49ea-be15-bcc31b6d052a"
      },
      "source": [
        "url"
      ],
      "execution_count": 111,
      "outputs": [
        {
          "output_type": "execute_result",
          "data": {
            "text/plain": [
              "'https://e-consultaruc.sunat.gob.pe/cl-ti-itmrconsruc/frameCriterioBusqueda.jsp'"
            ]
          },
          "metadata": {
            "tags": []
          },
          "execution_count": 111
        }
      ]
    },
    {
      "cell_type": "code",
      "metadata": {
        "id": "YGgTKqZkdm4-",
        "colab_type": "code",
        "colab": {}
      },
      "source": [
        "driver.get(url)"
      ],
      "execution_count": 0,
      "outputs": []
    },
    {
      "cell_type": "code",
      "metadata": {
        "id": "PFqer3mD-weU",
        "colab_type": "code",
        "colab": {}
      },
      "source": [
        "alert = driver.switch_to.alert\n",
        "alert.accept()"
      ],
      "execution_count": 0,
      "outputs": []
    },
    {
      "cell_type": "code",
      "metadata": {
        "id": "SjemKtPed0rf",
        "colab_type": "code",
        "colab": {}
      },
      "source": [
        "#alert = driver.switch_to.alert"
      ],
      "execution_count": 0,
      "outputs": []
    },
    {
      "cell_type": "code",
      "metadata": {
        "id": "h6xuztWld336",
        "colab_type": "code",
        "colab": {}
      },
      "source": [
        "#alert.accept()"
      ],
      "execution_count": 0,
      "outputs": []
    },
    {
      "cell_type": "code",
      "metadata": {
        "id": "wEXAeokjdGFQ",
        "colab_type": "code",
        "outputId": "dfbd064f-167b-4e9e-9189-2be06410948b",
        "colab": {
          "base_uri": "https://localhost:8080/",
          "height": 204
        }
      },
      "source": [
        "data = consulta_ruc(\"20557123106\", driver)\n",
        "print(json.dumps(data, indent=4))"
      ],
      "execution_count": 113,
      "outputs": [
        {
          "output_type": "stream",
          "text": [
            "CONSULTA RUC: 20557123106\n",
            "\tAttempt nrº 1\n",
            "\tAttempt nrº 2\n",
            "{\n",
            "    \"ruc\": \"20557123106 - FUNDACION CORPORACION RUSTICA\",\n",
            "    \"tipo_contribuyente\": \"FUNDACION\",\n",
            "    \"estado_contribuyente\": \"ACTIVO\",\n",
            "    \"condicion_contribuyente\": \"HABIDO\",\n",
            "    \"nombre_comercial\": \"-\",\n",
            "    \"actividad_comercio_exterior\": \"SIN ACTIVIDAD\"\n",
            "}\n"
          ],
          "name": "stdout"
        }
      ]
    },
    {
      "cell_type": "code",
      "metadata": {
        "id": "U2M48JQ7ewdc",
        "colab_type": "code",
        "colab": {}
      },
      "source": [
        "ruc_list = [\"20538856674\", \"20551597939\", \"20553856451\", \"20525426778\", \"20555629541\", \"20480316259\", \"20601587417\", \"20600060172\", \"20518639928\", \"20558629585\", \"20548971111\", \"20543248984\", \"20523447948\", \"20600705114\", \"20553476462\", \"20556610143\", \"20553741123\", \"20552271794\", \"20551936903\", \"20563223457\"]"
      ],
      "execution_count": 0,
      "outputs": []
    },
    {
      "cell_type": "code",
      "metadata": {
        "id": "7RfdcShNewOY",
        "colab_type": "code",
        "outputId": "b0e20feb-d88d-4a31-8536-a25323d1f526",
        "colab": {
          "base_uri": "https://localhost:8080/",
          "height": 833
        }
      },
      "source": [
        "data_list = []\n",
        "for ruc in ruc_list:\n",
        "  data_list.append(consulta_ruc(ruc, driver))"
      ],
      "execution_count": 122,
      "outputs": [
        {
          "output_type": "stream",
          "text": [
            "CONSULTA RUC: 20538856674\n",
            "\tAttempt nrº 1\n",
            "\tAttempt nrº 2\n",
            "CONSULTA RUC: 20551597939\n",
            "\tAttempt nrº 1\n",
            "CONSULTA RUC: 20553856451\n",
            "\tAttempt nrº 1\n",
            "CONSULTA RUC: 20525426778\n",
            "\tAttempt nrº 1\n",
            "CONSULTA RUC: 20555629541\n",
            "\tAttempt nrº 1\n",
            "CONSULTA RUC: 20480316259\n",
            "\tAttempt nrº 1\n",
            "\tAttempt nrº 2\n",
            "CONSULTA RUC: 20601587417\n",
            "\tAttempt nrº 1\n",
            "\tAttempt nrº 2\n",
            "\tAttempt nrº 3\n",
            "CONSULTA RUC: 20600060172\n",
            "\tAttempt nrº 1\n",
            "CONSULTA RUC: 20518639928\n",
            "\tAttempt nrº 1\n",
            "CONSULTA RUC: 20558629585\n",
            "\tAttempt nrº 1\n",
            "\tAttempt nrº 2\n",
            "\tAttempt nrº 3\n",
            "CONSULTA RUC: 20548971111\n",
            "\tAttempt nrº 1\n",
            "CONSULTA RUC: 20543248984\n",
            "\tAttempt nrº 1\n",
            "CONSULTA RUC: 20523447948\n",
            "\tAttempt nrº 1\n",
            "CONSULTA RUC: 20600705114\n",
            "\tAttempt nrº 1\n",
            "CONSULTA RUC: 20553476462\n",
            "\tAttempt nrº 1\n",
            "CONSULTA RUC: 20556610143\n",
            "\tAttempt nrº 1\n",
            "CONSULTA RUC: 20553741123\n",
            "\tAttempt nrº 1\n",
            "\tAttempt nrº 2\n",
            "CONSULTA RUC: 20552271794\n",
            "\tAttempt nrº 1\n",
            "CONSULTA RUC: 20551936903\n",
            "\tAttempt nrº 1\n",
            "CONSULTA RUC: 20563223457\n",
            "\tAttempt nrº 1\n",
            "\tAttempt nrº 2\n"
          ],
          "name": "stdout"
        }
      ]
    },
    {
      "cell_type": "code",
      "metadata": {
        "id": "aYTEauRJhIVc",
        "colab_type": "code",
        "colab": {}
      },
      "source": [
        "import pandas as pd"
      ],
      "execution_count": 0,
      "outputs": []
    },
    {
      "cell_type": "code",
      "metadata": {
        "id": "PNI6hhfkfsQy",
        "colab_type": "code",
        "outputId": "2b142e27-b9b7-4c71-bb37-5256cbf408fa",
        "colab": {
          "base_uri": "https://localhost:8080/",
          "height": 1009
        }
      },
      "source": [
        "pd.DataFrame(data_list)"
      ],
      "execution_count": 124,
      "outputs": [
        {
          "output_type": "execute_result",
          "data": {
            "text/html": [
              "<div>\n",
              "<style scoped>\n",
              "    .dataframe tbody tr th:only-of-type {\n",
              "        vertical-align: middle;\n",
              "    }\n",
              "\n",
              "    .dataframe tbody tr th {\n",
              "        vertical-align: top;\n",
              "    }\n",
              "\n",
              "    .dataframe thead th {\n",
              "        text-align: right;\n",
              "    }\n",
              "</style>\n",
              "<table border=\"1\" class=\"dataframe\">\n",
              "  <thead>\n",
              "    <tr style=\"text-align: right;\">\n",
              "      <th></th>\n",
              "      <th>actividad_comercio_exterior</th>\n",
              "      <th>condicion_contribuyente</th>\n",
              "      <th>estado_contribuyente</th>\n",
              "      <th>nombre_comercial</th>\n",
              "      <th>ruc</th>\n",
              "      <th>tipo_contribuyente</th>\n",
              "    </tr>\n",
              "  </thead>\n",
              "  <tbody>\n",
              "    <tr>\n",
              "      <th>0</th>\n",
              "      <td>SIN ACTIVIDAD</td>\n",
              "      <td>HABIDO</td>\n",
              "      <td>ACTIVO</td>\n",
              "      <td>-</td>\n",
              "      <td>20538856674 - ARTROSCOPICTRAUMA S.A.C.</td>\n",
              "      <td>SOCIEDAD ANONIMA CERRADA</td>\n",
              "    </tr>\n",
              "    <tr>\n",
              "      <th>1</th>\n",
              "      <td>SIN ACTIVIDAD</td>\n",
              "      <td>HABIDO</td>\n",
              "      <td>ACTIVO</td>\n",
              "      <td>-</td>\n",
              "      <td>20551597939 - ASOCIACION COMUNIDAD CRISTIANA E...</td>\n",
              "      <td>ASOCIACION</td>\n",
              "    </tr>\n",
              "    <tr>\n",
              "      <th>2</th>\n",
              "      <td>IMPORTADOR/EXPORTADOR</td>\n",
              "      <td>HABIDO</td>\n",
              "      <td>ACTIVO</td>\n",
              "      <td>-</td>\n",
              "      <td>20553856451 - BI GRAND CONFECCIONES S.A.C.</td>\n",
              "      <td>SOCIEDAD ANONIMA CERRADA</td>\n",
              "    </tr>\n",
              "    <tr>\n",
              "      <th>3</th>\n",
              "      <td>SIN ACTIVIDAD</td>\n",
              "      <td>HABIDO</td>\n",
              "      <td>ACTIVO</td>\n",
              "      <td>-</td>\n",
              "      <td>20525426778 - CONCEPTOS &amp; CONSTRUCCIONES V.G EIRL</td>\n",
              "      <td>EMPRESA INDIVIDUAL DE RESP. LTDA</td>\n",
              "    </tr>\n",
              "    <tr>\n",
              "      <th>4</th>\n",
              "      <td>IMPORTADOR/EXPORTADOR</td>\n",
              "      <td>HABIDO</td>\n",
              "      <td>ACTIVO</td>\n",
              "      <td>CORPORACION INDUSTRIAL ALPA´C</td>\n",
              "      <td>20555629541 - CORPORACION INDUSTRIAL ALPA`C S....</td>\n",
              "      <td>SOCIEDAD ANONIMA CERRADA</td>\n",
              "    </tr>\n",
              "    <tr>\n",
              "      <th>5</th>\n",
              "      <td>SIN ACTIVIDAD</td>\n",
              "      <td>HABIDO</td>\n",
              "      <td>ACTIVO</td>\n",
              "      <td>-</td>\n",
              "      <td>20480316259 - D'AROMAS E.I.R.L.</td>\n",
              "      <td>EMPRESA INDIVIDUAL DE RESP. LTDA</td>\n",
              "    </tr>\n",
              "    <tr>\n",
              "      <th>6</th>\n",
              "      <td>SIN ACTIVIDAD</td>\n",
              "      <td>HABIDO</td>\n",
              "      <td>ACTIVO</td>\n",
              "      <td>-</td>\n",
              "      <td>20601587417 - ESTUDIO CONTABLE BUSTAMANTE &amp; VI...</td>\n",
              "      <td>SOCIEDAD ANONIMA CERRADA</td>\n",
              "    </tr>\n",
              "    <tr>\n",
              "      <th>7</th>\n",
              "      <td>SIN ACTIVIDAD</td>\n",
              "      <td>HABIDO</td>\n",
              "      <td>ACTIVO</td>\n",
              "      <td>-</td>\n",
              "      <td>20600060172 - GARDINALLI SALUD &amp; BIENESTAR S.A.C.</td>\n",
              "      <td>SOCIEDAD ANONIMA CERRADA</td>\n",
              "    </tr>\n",
              "    <tr>\n",
              "      <th>8</th>\n",
              "      <td>SIN ACTIVIDAD</td>\n",
              "      <td>HABIDO</td>\n",
              "      <td>ACTIVO</td>\n",
              "      <td>-</td>\n",
              "      <td>20518639928 - H &amp; J E HIJOS E.I.R.L</td>\n",
              "      <td>EMPRESA INDIVIDUAL DE RESP. LTDA</td>\n",
              "    </tr>\n",
              "    <tr>\n",
              "      <th>9</th>\n",
              "      <td>SIN ACTIVIDAD</td>\n",
              "      <td>HABIDO</td>\n",
              "      <td>ACTIVO</td>\n",
              "      <td>-</td>\n",
              "      <td>20558629585 - INSUMOS PISQUEROS DEL SUR E.I.R.L.</td>\n",
              "      <td>EMPRESA INDIVIDUAL DE RESP. LTDA</td>\n",
              "    </tr>\n",
              "    <tr>\n",
              "      <th>10</th>\n",
              "      <td>SIN ACTIVIDAD</td>\n",
              "      <td>HABIDO</td>\n",
              "      <td>ACTIVO</td>\n",
              "      <td>METEORO RACING</td>\n",
              "      <td>20548971111 - METEORO RACING SOCIEDAD ANONIMA ...</td>\n",
              "      <td>SOCIEDAD ANONIMA CERRADA</td>\n",
              "    </tr>\n",
              "    <tr>\n",
              "      <th>11</th>\n",
              "      <td>IMPORTADOR/EXPORTADOR</td>\n",
              "      <td>HABIDO</td>\n",
              "      <td>ACTIVO</td>\n",
              "      <td>-</td>\n",
              "      <td>20543248984 - MODAS LOREN EIRL</td>\n",
              "      <td>EMPRESA INDIVIDUAL DE RESP. LTDA</td>\n",
              "    </tr>\n",
              "    <tr>\n",
              "      <th>12</th>\n",
              "      <td>SIN ACTIVIDAD</td>\n",
              "      <td>HABIDO</td>\n",
              "      <td>ACTIVO</td>\n",
              "      <td>-</td>\n",
              "      <td>20523447948 - PLASTIMETAL INVERSIONES S.A.C.</td>\n",
              "      <td>SOCIEDAD ANONIMA CERRADA</td>\n",
              "    </tr>\n",
              "    <tr>\n",
              "      <th>13</th>\n",
              "      <td>SIN ACTIVIDAD</td>\n",
              "      <td>HABIDO</td>\n",
              "      <td>ACTIVO</td>\n",
              "      <td>-</td>\n",
              "      <td>20600705114 - RECURSOS DEL PRADO E.I.R.L.</td>\n",
              "      <td>EMPRESA INDIVIDUAL DE RESP. LTDA</td>\n",
              "    </tr>\n",
              "    <tr>\n",
              "      <th>14</th>\n",
              "      <td>IMPORTADOR/EXPORTADOR</td>\n",
              "      <td>HABIDO</td>\n",
              "      <td>ACTIVO</td>\n",
              "      <td>-</td>\n",
              "      <td>20553476462 - REPRESENTACIONES DIERA S.A.C.</td>\n",
              "      <td>SOCIEDAD ANONIMA CERRADA</td>\n",
              "    </tr>\n",
              "    <tr>\n",
              "      <th>15</th>\n",
              "      <td>SIN ACTIVIDAD</td>\n",
              "      <td>HABIDO</td>\n",
              "      <td>ACTIVO</td>\n",
              "      <td>-</td>\n",
              "      <td>20556610143 - SANDRA &amp; ABIGAIL GENERAL SERVICE...</td>\n",
              "      <td>SOCIEDAD ANONIMA CERRADA</td>\n",
              "    </tr>\n",
              "    <tr>\n",
              "      <th>16</th>\n",
              "      <td>IMPORTADOR/EXPORTADOR</td>\n",
              "      <td>HABIDO</td>\n",
              "      <td>ACTIVO</td>\n",
              "      <td>-</td>\n",
              "      <td>20553741123 - SERVICIOS TECNICOS EL CHALANCITO...</td>\n",
              "      <td>SOCIEDAD ANONIMA CERRADA</td>\n",
              "    </tr>\n",
              "    <tr>\n",
              "      <th>17</th>\n",
              "      <td>SIN ACTIVIDAD</td>\n",
              "      <td>HABIDO</td>\n",
              "      <td>ACTIVO</td>\n",
              "      <td>-</td>\n",
              "      <td>20552271794 - SINERGIAS ECONOMICAS SOCIEDAD AN...</td>\n",
              "      <td>SOCIEDAD ANONIMA CERRADA</td>\n",
              "    </tr>\n",
              "    <tr>\n",
              "      <th>18</th>\n",
              "      <td>IMPORTADOR/EXPORTADOR</td>\n",
              "      <td>HABIDO</td>\n",
              "      <td>ACTIVO</td>\n",
              "      <td>-</td>\n",
              "      <td>20551936903 - SOLUCIONES AUTOMATICAS INTEGRALE...</td>\n",
              "      <td>SOCIEDAD ANONIMA CERRADA</td>\n",
              "    </tr>\n",
              "    <tr>\n",
              "      <th>19</th>\n",
              "      <td>SIN ACTIVIDAD</td>\n",
              "      <td>HABIDO</td>\n",
              "      <td>ACTIVO</td>\n",
              "      <td>-</td>\n",
              "      <td>20563223457 - TRANSPORTES Y SERVICIOS MULTIPLE...</td>\n",
              "      <td>SOCIEDAD ANONIMA CERRADA</td>\n",
              "    </tr>\n",
              "  </tbody>\n",
              "</table>\n",
              "</div>"
            ],
            "text/plain": [
              "   actividad_comercio_exterior  ...                tipo_contribuyente\n",
              "0                SIN ACTIVIDAD  ...          SOCIEDAD ANONIMA CERRADA\n",
              "1                SIN ACTIVIDAD  ...                        ASOCIACION\n",
              "2        IMPORTADOR/EXPORTADOR  ...          SOCIEDAD ANONIMA CERRADA\n",
              "3                SIN ACTIVIDAD  ...  EMPRESA INDIVIDUAL DE RESP. LTDA\n",
              "4        IMPORTADOR/EXPORTADOR  ...          SOCIEDAD ANONIMA CERRADA\n",
              "5                SIN ACTIVIDAD  ...  EMPRESA INDIVIDUAL DE RESP. LTDA\n",
              "6                SIN ACTIVIDAD  ...          SOCIEDAD ANONIMA CERRADA\n",
              "7                SIN ACTIVIDAD  ...          SOCIEDAD ANONIMA CERRADA\n",
              "8                SIN ACTIVIDAD  ...  EMPRESA INDIVIDUAL DE RESP. LTDA\n",
              "9                SIN ACTIVIDAD  ...  EMPRESA INDIVIDUAL DE RESP. LTDA\n",
              "10               SIN ACTIVIDAD  ...          SOCIEDAD ANONIMA CERRADA\n",
              "11       IMPORTADOR/EXPORTADOR  ...  EMPRESA INDIVIDUAL DE RESP. LTDA\n",
              "12               SIN ACTIVIDAD  ...          SOCIEDAD ANONIMA CERRADA\n",
              "13               SIN ACTIVIDAD  ...  EMPRESA INDIVIDUAL DE RESP. LTDA\n",
              "14       IMPORTADOR/EXPORTADOR  ...          SOCIEDAD ANONIMA CERRADA\n",
              "15               SIN ACTIVIDAD  ...          SOCIEDAD ANONIMA CERRADA\n",
              "16       IMPORTADOR/EXPORTADOR  ...          SOCIEDAD ANONIMA CERRADA\n",
              "17               SIN ACTIVIDAD  ...          SOCIEDAD ANONIMA CERRADA\n",
              "18       IMPORTADOR/EXPORTADOR  ...          SOCIEDAD ANONIMA CERRADA\n",
              "19               SIN ACTIVIDAD  ...          SOCIEDAD ANONIMA CERRADA\n",
              "\n",
              "[20 rows x 6 columns]"
            ]
          },
          "metadata": {
            "tags": []
          },
          "execution_count": 124
        }
      ]
    },
    {
      "cell_type": "markdown",
      "metadata": {
        "id": "shhqdquM9J2a",
        "colab_type": "text"
      },
      "source": [
        ""
      ]
    }
  ]
}