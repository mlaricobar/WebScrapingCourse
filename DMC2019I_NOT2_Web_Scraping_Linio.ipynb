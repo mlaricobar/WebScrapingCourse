{
  "nbformat": 4,
  "nbformat_minor": 0,
  "metadata": {
    "colab": {
      "name": "DMC2019I_NOT2_Web_Scraping_Linio.ipynb",
      "version": "0.3.2",
      "provenance": [],
      "collapsed_sections": [
        "7qLxhOZJh2Gn"
      ],
      "include_colab_link": true
    },
    "kernelspec": {
      "display_name": "Python 3",
      "language": "python",
      "name": "python3"
    }
  },
  "cells": [
    {
      "cell_type": "markdown",
      "metadata": {
        "id": "view-in-github",
        "colab_type": "text"
      },
      "source": [
        "<a href=\"https://colab.research.google.com/github/mlaricobar/WebScrapingCourse/blob/master/DMC2019I_NOT2_Web_Scraping_Linio.ipynb\" target=\"_parent\"><img src=\"https://colab.research.google.com/assets/colab-badge.svg\" alt=\"Open In Colab\"/></a>"
      ]
    },
    {
      "cell_type": "markdown",
      "metadata": {
        "id": "_MR3fuuyh2Fl",
        "colab_type": "text"
      },
      "source": [
        "# Actividad Nº2: Web Scraping en una Página de Retail\n",
        "\n",
        "\n",
        "En esta actividad, intentaremos scrapear los datos de un sitio web de una E-commerce [Linio.com.pe](https://www.linio.com.pe) \n",
        "\n",
        "<img src=\"https://github.com/mikolarico/course-images/blob/master/linio-landing-page.png?raw=true\" width=\"700\">\n",
        "\n",
        "Para realizar Web Scraping, realizaremos los siguientes pasos:\n",
        "\n",
        "1. Configuración del entorno de desarrollo\n",
        "2. Investigar la fuente de datos\n",
        "3. Asegurar que no estamos incumpliendo las directrices éticas del Web Scraping\n",
        "4. Inspeccionar el sitio web para identificar qué datos queremos extraer\n",
        "5. Extraer los diferentes campos de datos\n",
        "6. Diseñar nuestra base de datos\n",
        "7. Obtener y filtrar los datos\n",
        "8. Analizar los datos, descubrir insights y crear reportes"
      ]
    },
    {
      "cell_type": "markdown",
      "metadata": {
        "id": "HkvM_m5Th2Fn",
        "colab_type": "text"
      },
      "source": [
        "Para tener un mejor contexto sobre la actividad, se nos ha encomendado una tarea muy importante que consiste en investigar un poco sobre el sector de retail, específicamente el diferenciar los productos por precios, categorías y otras características. Ante ello:\n",
        "\n",
        "1. ¿Podemos hacer esto?\n",
        "2. ¿Tenemos data para hacerlo?\n",
        "3. ¿Una vez que tengamos la data, que podemos hacer?"
      ]
    },
    {
      "cell_type": "markdown",
      "metadata": {
        "id": "aJUJ1CfSzfhN",
        "colab_type": "text"
      },
      "source": [
        "## [1] Configuración del Entorno de desarrollo"
      ]
    },
    {
      "cell_type": "markdown",
      "metadata": {
        "id": "bBTAYyA6h2Fn",
        "colab_type": "text"
      },
      "source": [
        "### [1.1] Descripción de los Packages\n",
        "\n",
        "En esta actividad, haremos uso de las siguientes librerías para poder realizar Web Scraping:\n",
        "\n",
        "1. [Requests](http://docs.python-requests.org/en/master/): Esta librería nos permitirá hacer peticiones HTTP. Importante para obtener el contenido de una página web (documentos HTML).\n",
        "2. [re](https://docs.python.org/3/library/re.html): Módulo para encontrar patrones dentro de una cadena de texto.\n",
        "3. [BeautifulSoup](https://www.crummy.com/software/BeautifulSoup/bs4/doc/): Módulo para analizar documentos HTML. Esta biblioteca crea un árbol con todos los elementos del documento y puede ser utilizado para extraer información.\n",
        "4. [lxml](https://lxml.de/): Módulo para procesar documentos XML y HTML.\n"
      ]
    },
    {
      "cell_type": "markdown",
      "metadata": {
        "id": "79KzWqlGh2Fo",
        "colab_type": "text"
      },
      "source": [
        "### [1.2] Instalación de los Packages"
      ]
    },
    {
      "cell_type": "code",
      "metadata": {
        "id": "UAo5fJUJh2Fp",
        "colab_type": "code",
        "colab": {}
      },
      "source": [
        "# Package Requests. Por defecto ya viene instalada\n",
        "!pip install requests"
      ],
      "execution_count": 0,
      "outputs": []
    },
    {
      "cell_type": "code",
      "metadata": {
        "id": "iPBZ7M1gxxZq",
        "colab_type": "code",
        "colab": {}
      },
      "source": [
        "# Package Regex. Por defecto ya viene instalada\n",
        "!pip install regex"
      ],
      "execution_count": 0,
      "outputs": []
    },
    {
      "cell_type": "code",
      "metadata": {
        "id": "WDR2KXWmvbUk",
        "colab_type": "code",
        "colab": {}
      },
      "source": [
        "# Package Lxml. Por defecto ya viene instalada\n",
        "!pip install lxml"
      ],
      "execution_count": 0,
      "outputs": []
    },
    {
      "cell_type": "code",
      "metadata": {
        "id": "ScrsKCZDh2Fu",
        "colab_type": "code",
        "colab": {}
      },
      "source": [
        "# Package BeautifulSoup. Por defecto ya viene instalada\n",
        "!pip install beautifulsoup4"
      ],
      "execution_count": 0,
      "outputs": []
    },
    {
      "cell_type": "markdown",
      "metadata": {
        "id": "qQPWT02nh2F1",
        "colab_type": "text"
      },
      "source": [
        "### [1.3] Validación de la Instalación\n",
        "\n",
        "Una vez instalada las librerías necesarias, hagamos las pruebas correspondientes para verificar que todo esté correctamente instalado."
      ]
    },
    {
      "cell_type": "code",
      "metadata": {
        "id": "mhSfJjlsh2F1",
        "colab_type": "code",
        "colab": {}
      },
      "source": [
        "# importar la librería requests\n",
        "import requests"
      ],
      "execution_count": 0,
      "outputs": []
    },
    {
      "cell_type": "code",
      "metadata": {
        "id": "iDrfc4ljh2F4",
        "colab_type": "code",
        "colab": {}
      },
      "source": [
        "# importar la librería BeautifulSoup\n",
        "from bs4 import BeautifulSoup"
      ],
      "execution_count": 0,
      "outputs": []
    },
    {
      "cell_type": "code",
      "metadata": {
        "id": "7tB_A7hu18_h",
        "colab_type": "code",
        "colab": {}
      },
      "source": [
        "import pandas as pd"
      ],
      "execution_count": 0,
      "outputs": []
    },
    {
      "cell_type": "markdown",
      "metadata": {
        "id": "DBfz1kTiNp_Q",
        "colab_type": "text"
      },
      "source": [
        "## [2] Investigar acerca de la Fuente de Datos\n",
        "\n",
        "Tal como vimos en la descripción del taller, vamos a usar la información de los productos de la página de [linio.com.pe](https://www.linio.com.pe) como Fuente de Datos. Por lo general, en esta página encontraremos información sobre las características, precios, descuentos, etc sobre productos tales como celulares, TVs, consolas, etc. A continuación, daremos un vistazo sobre la página web.\n",
        "\n",
        "<img src=\"https://github.com/mikolarico/course-images/blob/master/linio-pages-1.png?raw=true\" width=\"700\">\n",
        "\n",
        "\n",
        "<img src=\"https://github.com/mikolarico/course-images/blob/master/linio-pages-2.png?raw=true\" width=\"700\">\n"
      ]
    },
    {
      "cell_type": "markdown",
      "metadata": {
        "id": "1yrXU1KDPGJZ",
        "colab_type": "text"
      },
      "source": [
        "## [3] Asegurar que no estamos incumpliendo las directrices éticas del Web Scraping\n",
        "\n",
        "Debemos asegurarnos de que podemos utilizar éticamente este sitio web como nuestra fuente de datos. ¿Por qué? Porque queremos ser buenos ciudadanos del sitio web y no queremos hacer nada que obstaculice o entorpezca los servidores de ese sitio. ¿Cómo hacemos esto? Contestar las siguientes preguntas debería ayudar:\n",
        "\n",
        "*   ¿Son datos públicamente disponibles? - Todos los datos en [https://linio.com.pe](https://www.linio.com.pe) están totalmente disponibles para el público.\n",
        "*   ¿Robots.txt se preocupa? Revisar el archivo [linio.com.pe/robots.txt](https://www.linio.com.pe/robots.txt). No hay limitaciones para los directorios y páginas que queremos scrapear. \n",
        "*   ¿Cómo planeas usar los datos? - Investigación personal y con fines educativos.\n",
        "\n",
        "Una vez contestadas estas preguntas, podríamos decir que los objetivos de esta actividad estas alineadas con las pautas éticas de Web Scraping.\n",
        "\n",
        "Como sugerencia, se recomienda responder a estas preguntas antes de Scrapear cualquier sitio web. Nuestro enfoque no debería ser el de violar o alterar el trabajo de otras personas.\n",
        "\n",
        "<img src=\"https://github.com/mikolarico/course-images/blob/master/linio-robots-txt.png?raw=true\" width=\"700\">"
      ]
    },
    {
      "cell_type": "code",
      "metadata": {
        "id": "gw-2vFJm0acK",
        "colab_type": "code",
        "colab": {}
      },
      "source": [
        "sitemap = requests.get(\"http://sitemap.linio.com/pe/sitemap.xml\")"
      ],
      "execution_count": 0,
      "outputs": []
    },
    {
      "cell_type": "code",
      "metadata": {
        "id": "kMv9hKwH27bT",
        "colab_type": "code",
        "colab": {}
      },
      "source": [
        "type(sitemap.content)"
      ],
      "execution_count": 0,
      "outputs": []
    },
    {
      "cell_type": "code",
      "metadata": {
        "id": "K246zhue0if9",
        "colab_type": "code",
        "colab": {}
      },
      "source": [
        "soup = BeautifulSoup(sitemap.content)"
      ],
      "execution_count": 0,
      "outputs": []
    },
    {
      "cell_type": "code",
      "metadata": {
        "id": "RFIO426t0f4_",
        "colab_type": "code",
        "colab": {}
      },
      "source": [
        "sitemap_list = [e.text for e in soup.find_all(name=\"loc\")]\n",
        "sitemap_list"
      ],
      "execution_count": 0,
      "outputs": []
    },
    {
      "cell_type": "code",
      "metadata": {
        "id": "0nYEsIdY0q3H",
        "colab_type": "code",
        "colab": {}
      },
      "source": [
        "sitemap_2 = requests.get(\"http://sitemap.linio.com/pe/sitemap.2.xml\")"
      ],
      "execution_count": 0,
      "outputs": []
    },
    {
      "cell_type": "code",
      "metadata": {
        "id": "Jv52o4-i0wV2",
        "colab_type": "code",
        "colab": {}
      },
      "source": [
        "soup_2 = BeautifulSoup(sitemap_2.content)"
      ],
      "execution_count": 0,
      "outputs": []
    },
    {
      "cell_type": "code",
      "metadata": {
        "id": "wDjewdTK0zKy",
        "colab_type": "code",
        "colab": {}
      },
      "source": [
        "url_list = [e.text for e in soup_2.find_all(name=\"loc\")]\n",
        "lastmod_list = [e.text for e in soup_2.find_all(name=\"lastmod\")]\n",
        "changefreq_list = [e.text for e in soup_2.find_all(name=\"changefreq\")]\n",
        "priority_list = [e.text for e in soup_2.find_all(name=\"priority\")]"
      ],
      "execution_count": 0,
      "outputs": []
    },
    {
      "cell_type": "code",
      "metadata": {
        "id": "IqGXqajj2U0N",
        "colab_type": "code",
        "colab": {}
      },
      "source": [
        "len(url_list), len(lastmod_list), len(changefreq_list), len(priority_list)"
      ],
      "execution_count": 0,
      "outputs": []
    },
    {
      "cell_type": "code",
      "metadata": {
        "id": "nhYUuSPU0zEK",
        "colab_type": "code",
        "colab": {}
      },
      "source": [
        "df_url = pd.DataFrame(data={\"URL\": url_list, \"LASTMOD\": lastmod_list, \"CHANGEFREQ\": changefreq_list, \"PRIORITY\": priority_list})"
      ],
      "execution_count": 0,
      "outputs": []
    },
    {
      "cell_type": "code",
      "metadata": {
        "id": "HDPQhK8Z2jpy",
        "colab_type": "code",
        "colab": {}
      },
      "source": [
        "df_url.head()"
      ],
      "execution_count": 0,
      "outputs": []
    },
    {
      "cell_type": "code",
      "metadata": {
        "id": "x2bx_r1r2xjL",
        "colab_type": "code",
        "colab": {}
      },
      "source": [
        "url_list[:10]"
      ],
      "execution_count": 0,
      "outputs": []
    },
    {
      "cell_type": "code",
      "metadata": {
        "id": "i9mypH6g4opq",
        "colab_type": "code",
        "colab": {}
      },
      "source": [
        "url_list, lastmod_list, changefreq_list, priority_list = [], [], [], []\n",
        "for sm in sitemap_list[1:17]:\n",
        "  print(\"SITEMAP URL: {0}\".format(sm))\n",
        "  sm_response = requests.get(sm)\n",
        "  sm_soup = BeautifulSoup(sm_response.content)\n",
        "  url_list += [e.text for e in sm_soup.find_all(name=\"loc\")]\n",
        "  lastmod_list += [e.text for e in sm_soup.find_all(name=\"lastmod\")]\n",
        "  changefreq_list += [e.text for e in sm_soup.find_all(name=\"changefreq\")]\n",
        "  priority_list += [e.text for e in sm_soup.find_all(name=\"priority\")]"
      ],
      "execution_count": 0,
      "outputs": []
    },
    {
      "cell_type": "code",
      "metadata": {
        "id": "ethe_f294ogd",
        "colab_type": "code",
        "colab": {}
      },
      "source": [
        "len(url_list), len(lastmod_list), len(changefreq_list), len(priority_list)"
      ],
      "execution_count": 0,
      "outputs": []
    },
    {
      "cell_type": "code",
      "metadata": {
        "id": "Iq5t9Bxi6u2U",
        "colab_type": "code",
        "colab": {}
      },
      "source": [
        "df_url = pd.DataFrame(data={\"URL\": url_list, \"LASTMOD\": lastmod_list, \"CHANGEFREQ\": changefreq_list, \"PRIORITY\": priority_list})"
      ],
      "execution_count": 0,
      "outputs": []
    },
    {
      "cell_type": "code",
      "metadata": {
        "id": "IyabcMJ66uzd",
        "colab_type": "code",
        "colab": {}
      },
      "source": [
        "df_url.shape"
      ],
      "execution_count": 0,
      "outputs": []
    },
    {
      "cell_type": "code",
      "metadata": {
        "id": "f1Vax0Ky61E6",
        "colab_type": "code",
        "colab": {}
      },
      "source": [
        "df_url.head()"
      ],
      "execution_count": 0,
      "outputs": []
    },
    {
      "cell_type": "code",
      "metadata": {
        "id": "ay3cJUhh7W7O",
        "colab_type": "code",
        "colab": {}
      },
      "source": [
        "df_url.drop_duplicates(subset=[\"URL\"], inplace=True)\n",
        "df_url.reset_index(drop=True, inplace=True)"
      ],
      "execution_count": 0,
      "outputs": []
    },
    {
      "cell_type": "code",
      "metadata": {
        "id": "4j3nfAgn7W4y",
        "colab_type": "code",
        "colab": {}
      },
      "source": [
        "df_url.shape"
      ],
      "execution_count": 0,
      "outputs": []
    },
    {
      "cell_type": "code",
      "metadata": {
        "id": "gkQfMqtP7ia_",
        "colab_type": "code",
        "colab": {}
      },
      "source": [
        "df_url[\"LASTMOD\"].value_counts()"
      ],
      "execution_count": 0,
      "outputs": []
    },
    {
      "cell_type": "code",
      "metadata": {
        "id": "dIxnYvu67iYN",
        "colab_type": "code",
        "colab": {}
      },
      "source": [
        "df_url[\"CHANGEFREQ\"].value_counts()"
      ],
      "execution_count": 0,
      "outputs": []
    },
    {
      "cell_type": "code",
      "metadata": {
        "id": "1cGzGM937iVo",
        "colab_type": "code",
        "colab": {}
      },
      "source": [
        "df_url[\"PRIORITY\"].value_counts()"
      ],
      "execution_count": 0,
      "outputs": []
    },
    {
      "cell_type": "code",
      "metadata": {
        "id": "43_6QbWa-Tce",
        "colab_type": "code",
        "colab": {}
      },
      "source": [
        "df_url.loc[df_url[\"URL\"].apply(lambda u: \"adidas\" in u)].head()[\"URL\"].tolist()"
      ],
      "execution_count": 0,
      "outputs": []
    },
    {
      "cell_type": "code",
      "metadata": {
        "id": "bZvtz2-k61Bz",
        "colab_type": "code",
        "colab": {}
      },
      "source": [
        "url_list[402050]"
      ],
      "execution_count": 0,
      "outputs": []
    },
    {
      "cell_type": "markdown",
      "metadata": {
        "id": "zLgBz2m-0LJK",
        "colab_type": "text"
      },
      "source": [
        "## [4] Inspeccionar el sitio web para identificar qué datos queremos extraer"
      ]
    },
    {
      "cell_type": "markdown",
      "metadata": {
        "id": "SUZb2LUg3SWQ",
        "colab_type": "text"
      },
      "source": [
        "## [5] Extraer los diferentes campos de datos"
      ]
    },
    {
      "cell_type": "code",
      "metadata": {
        "id": "1ISiFbS4h2GB",
        "colab_type": "code",
        "colab": {}
      },
      "source": [
        "# Definir Url de la página que vamos a Scrapear\n",
        "url = \"https://www.linio.com.pe/p/gran-capacidad-cartera-billetera-larga-para-hombres-marro-n-va4230\""
      ],
      "execution_count": 0,
      "outputs": []
    },
    {
      "cell_type": "code",
      "metadata": {
        "id": "bzJReOg8SGN_",
        "colab_type": "code",
        "colab": {}
      },
      "source": [
        "response = requests.get(url)"
      ],
      "execution_count": 0,
      "outputs": []
    },
    {
      "cell_type": "code",
      "metadata": {
        "id": "UTLodMeh4ebs",
        "colab_type": "code",
        "colab": {}
      },
      "source": [
        "response_str = response.content.decode(\"utf-8\")"
      ],
      "execution_count": 0,
      "outputs": []
    },
    {
      "cell_type": "code",
      "metadata": {
        "id": "qxmaLfSnEXrN",
        "colab_type": "code",
        "colab": {}
      },
      "source": [
        "print(\"Tipo de dato: {0}\".format(type(response_str)))\n",
        "print(response_str)"
      ],
      "execution_count": 0,
      "outputs": []
    },
    {
      "cell_type": "markdown",
      "metadata": {
        "id": "CjNF9qWgEzVt",
        "colab_type": "text"
      },
      "source": [
        "## [4.1] Introducción al package Regex\n",
        "\n",
        "Las expresiones regulares se usan para identificar si un patrón existe en una secuencia dada de caracteres (cadena) o no. Ayudan a manipular datos textuales, que a menudo es un requisito previo para los proyectos de ciencia de datos que involucran la extracción de texto.\n",
        "En Python, las expresiones regulares son soportadas por el package re o regex."
      ]
    },
    {
      "cell_type": "code",
      "metadata": {
        "id": "XbFEmL61Evl5",
        "colab_type": "code",
        "colab": {}
      },
      "source": [
        "import re"
      ],
      "execution_count": 0,
      "outputs": []
    },
    {
      "cell_type": "markdown",
      "metadata": {
        "id": "MvVtxxGF1jUQ",
        "colab_type": "text"
      },
      "source": [
        "### Caracteres ordinarios:\n",
        "\n",
        "Los caracteres ordinarios son las expresiones regulares más simples. Se emparejan exactamente y no tienen un significado especial en su sintaxis de expresión regular. Los caracteres comunes se pueden usar para realizar coincidencias exactas simples:"
      ]
    },
    {
      "cell_type": "code",
      "metadata": {
        "id": "KB705umhEviS",
        "colab_type": "code",
        "colab": {}
      },
      "source": [
        "print(\"\\tpython\")\n",
        "print(r\"\\tpython\")"
      ],
      "execution_count": 0,
      "outputs": []
    },
    {
      "cell_type": "code",
      "metadata": {
        "id": "JfqGaTF21lqF",
        "colab_type": "code",
        "colab": {}
      },
      "source": [
        "# Un ejemplo del uso del package re\n",
        "pattern = r\"Machine\"\n",
        "sequence = \"Machine Learning\"\n",
        "if re.match(pattern, sequence):\n",
        "    print(\"Existe coincidencia!\")\n",
        "else:\n",
        "    print(\"No existe coincidencia!\")"
      ],
      "execution_count": 0,
      "outputs": []
    },
    {
      "cell_type": "markdown",
      "metadata": {
        "id": "w_UHxIdi1pb2",
        "colab_type": "text"
      },
      "source": [
        "La función match () devuelve un objeto coincidente si el texto coincide con el patrón. De lo contrario, devuelve `None`.\n",
        "\n",
        "Por otro lado, aquellas cadenas de caracteres que empiezan con la letra `r` son llamados `raw string` o `cadenas en crudo o sin procesar`. La diferencia con las cadenas es que por ejemplo caracteres especiales como el backslash `\\` podrán ser reconocidos como unos caracteres más y no como parte de una sequencia de escape."
      ]
    },
    {
      "cell_type": "code",
      "metadata": {
        "id": "bXAmucVu1ru8",
        "colab_type": "code",
        "colab": {}
      },
      "source": [
        "# \\n es un salto de línea\n",
        "print(r\"\\n\")\n",
        "print(\"\\n\")\n",
        "\n",
        "# \\t es una tabulación\n",
        "print(r\"\\t\")\n",
        "print(\"\\t\")"
      ],
      "execution_count": 0,
      "outputs": []
    },
    {
      "cell_type": "markdown",
      "metadata": {
        "id": "PzQADb-O1uCc",
        "colab_type": "text"
      },
      "source": [
        "### Caracteres comodín o `wild card`:\n",
        "\n",
        "Los caracteres comodín son caracteres que no coinciden como se ven, sin embargo tienen un significado especial cuando se usan en una expresión regular.\n",
        "Los caracteres comodín más usados son:\n",
        "- `.`: Coincide con cualquier caracter, excepto el caracter de nueva línea.\n",
        "- `\\w`: Coincide con cualquier letra, dígito o guión bajo.\n",
        "- `\\W`: Coincide con cualquier caracter que no forme parte de `\\w`\n",
        "- `\\s`: Coincide con un solo caracter en blanco como: espacio, nueva línea, tab.\n",
        "- `\\S`: Coincide con cualquier caracter que no forme parte de \\s.\n",
        "- `\\t`: Coincide con tab.\n",
        "- `\\n`: Coincide con una nueva línea.\n",
        "- `\\r`: Coincide con un retorno.\n",
        "- `\\d`: Coincide con el dígito decimal 0-9.\n",
        "- `^`: Coincide con un patrón al comienzo de la cadena.\n",
        "- `$`: Coincide con un patrón al final de la cadena.\n",
        "- `[abc]`: Coincide con a, b o c.\n",
        "- `[a-zA-Z0-9]`: Coincide con cualquier caracter entre (a a z) o (A a Z) o (0 a 9).\n",
        "- `\\A`: Coincide solo al comienzo de la cadena. Funciona en múltiples líneas también.\n",
        "- `\\b`: Coincide solo con el principio o el final de la palabra.\n",
        "- `\\`: Si el caracter que sigue al backslash es un caracter de escape reconocido, entonces se toma el significado especial del término. Por ejemplo, \\n se considera como una nueva línea. Sin embargo, si el caracter que sigue a \\ no es un caracter de escape reconocido, entonces el \\ se trata como cualquier otro caracter.\n",
        "\n",
        "La función group () devuelve la cadena que coincide con el patrón. Veamos la aplicación de estos caracteres comodín:"
      ]
    },
    {
      "cell_type": "code",
      "metadata": {
        "id": "Yc3JvmZ21w6J",
        "colab_type": "code",
        "colab": {}
      },
      "source": [
        "print(re.search(r'Mac.i.e', 'Machine Learning').group())\n",
        "print(re.search(r'Lea\\wn\\wng', 'MachineLearning').group())\n",
        "print(re.search(r'M\\Wchin\\W', 'M@chin€').group())\n",
        "print(re.search(r'Machine\\sLearning', 'Machine Learning').group())\n",
        "print(re.search(r'Pyth\\Sn', 'Python').group())\n",
        "print(re.search(r'Machine\\tLearning', 'Machine\tLearning').group())\n",
        "print(re.search(r'Pyth\\dn', 'Pyth0n').group())\n",
        "print(re.search(r'^Machine', 'Machine Learning con Python').group())\n",
        "print(re.search(r'Machine Learning$', 'Machine Learning').group())\n",
        "print(re.search(r'Python: [1-9] módulos', 'Python: 6 módulos').group())\n",
        "print(re.search(r'Python: [^6] módulos', 'Python: 5 módulos').group())\n",
        "print(re.search(r'\\A[A-Q]ython', 'Cython').group())\n",
        "print(re.search(r'\\b[A-Z]ython', 'Python Machine Learning').group())\n",
        "print(re.search(r'Machine\\\\Learning', 'Machine\\Learning').group())\n",
        "print(re.search(r'Machine\\sLearning', 'Machine Learning').group())"
      ],
      "execution_count": 0,
      "outputs": []
    },
    {
      "cell_type": "markdown",
      "metadata": {
        "id": "8QQucRXjACGa",
        "colab_type": "text"
      },
      "source": [
        "Aplicación al contenido HTML. A continuación, se muestra un ejemplo para extraer un elemento de imagen."
      ]
    },
    {
      "cell_type": "code",
      "metadata": {
        "id": "dThlMPc47xp-",
        "colab_type": "code",
        "colab": {}
      },
      "source": [
        "# Si queremos obtener el siguiente elemento: <img src=\"data:image/png;base64,iVBORw0KGgoAAAANSUhEUgAAAAEAAAABCAQAAAC1HAwCAAAAC0lEQVQYV2NgYAAAAAMAAWgmWQ0AAAAASUVORK5CYII=\" data-lazy=\"//i.linio.com/p/5cdc3cbc04f41eb9d7afa9d46914e034-product.jpg\" alt=\"Gran Capacidad Cartera/ Billetera Larga Para Hombres-Marrón\" data-slug=\"//i.linio.com/p/5cdc3cbc04f41eb9d7afa9d46914e034\">\n",
        "print(re.search(r'<img src=\"data:image/png;base64,iVBORw0KGgoAAAANSUhEUgAAAAEAAAABCAQAAAC1HAwCAAAAC0lEQVQYV2NgYAAAAAMAAWgmWQ0AAAAASUVORK5CYII=\" data-lazy=\"//i.linio.com/p/5cdc3cbc04f41eb9d7afa9d46914e034-product.jpg\" alt=\"Gran Capacidad Cartera/ Billetera Larga Para Hombres-Marrón\" data-slug=\"//i.linio.com/p/5cdc3cbc04f41eb9d7afa9d46914e034\">', response_str).group())"
      ],
      "execution_count": 0,
      "outputs": []
    },
    {
      "cell_type": "code",
      "metadata": {
        "id": "ZPyNT2yr_hmT",
        "colab_type": "code",
        "colab": {}
      },
      "source": [
        "print(re.search(r'<\\Smg src=\"\\wat\\w:image/png\\Wbase64,iVBORw0KGgoAAAANSUhEUgAAAAEAAAABCAQAAAC1HAwCAAAAC0lEQVQYV2NgYAAAAAMAAWgmWQ0AAAAASUVORK5CYII=\" data-lazy=\"//i.linio.com/p/5cdc3cbc04f41eb9d7afa9d46914e034-product.jpg\" alt=\"Gran Capacidad Cartera/ Billetera Larga Para Hombres-Marrón\" data-slug=\"//i.linio.com/p/5cdc3cbc04f41eb9d7afa9d46914e034\">', response_str).group())"
      ],
      "execution_count": 0,
      "outputs": []
    },
    {
      "cell_type": "markdown",
      "metadata": {
        "id": "vHedPSDI1zku",
        "colab_type": "text"
      },
      "source": [
        "### Repeticiones\n",
        "\n",
        "Se vuelve bastante tedioso si buscas encontrar patrones largos en una cadena de caracteres. Afortunadamente, el módulo `re` maneja las repeticiones usando los siguientes caracteres especiales:\n",
        "\n",
        "- `+`: Comprueba uno o más caracteres desde su izquierda.\n",
        "- `*`: Comprueba cero o más caracteres desde su izquierda.\n",
        "- `?`: Comprueba exactamente cero o un caracter a su izquierda.\n",
        "- `{x}`: Repite x veces.\n",
        "- `{x,}`: Repite como mínimo x veces\n",
        "- `{x, y}`: Repite como mínimo **x** veces y máximo **y** veces."
      ]
    },
    {
      "cell_type": "code",
      "metadata": {
        "id": "eMphF32M1257",
        "colab_type": "code",
        "colab": {}
      },
      "source": [
        "re.search(r'\\d{3,6}', '0987654321').group()"
      ],
      "execution_count": 0,
      "outputs": []
    },
    {
      "cell_type": "code",
      "metadata": {
        "id": "WS3fMMKJ121d",
        "colab_type": "code",
        "colab": {}
      },
      "source": [
        "re.search(r'\\d+', '0987654321 3 Machine Learning').group()"
      ],
      "execution_count": 0,
      "outputs": []
    },
    {
      "cell_type": "code",
      "metadata": {
        "id": "QdSc-m9c12px",
        "colab_type": "code",
        "colab": {}
      },
      "source": [
        "re.search(r'\\d*', 'aaaaa').group()"
      ],
      "execution_count": 0,
      "outputs": []
    },
    {
      "cell_type": "code",
      "metadata": {
        "id": "o2mo2bId17Bh",
        "colab_type": "code",
        "colab": {}
      },
      "source": [
        "re.search(r'\\d?', 'aaaaa').group()"
      ],
      "execution_count": 0,
      "outputs": []
    },
    {
      "cell_type": "code",
      "metadata": {
        "id": "KnWIJROmAA0q",
        "colab_type": "code",
        "colab": {}
      },
      "source": [
        "re.search(r'<img.+>', response_str).group()"
      ],
      "execution_count": 0,
      "outputs": []
    },
    {
      "cell_type": "code",
      "metadata": {
        "id": "RQAen25JAAqs",
        "colab_type": "code",
        "colab": {}
      },
      "source": [
        "re.search(r'<img src.+>', response_str).group()"
      ],
      "execution_count": 0,
      "outputs": []
    },
    {
      "cell_type": "code",
      "metadata": {
        "id": "2Qm4EVWaBY1d",
        "colab_type": "code",
        "colab": {}
      },
      "source": [
        "img_tag = re.search(r'<img src.+>', response_str).group()"
      ],
      "execution_count": 0,
      "outputs": []
    },
    {
      "cell_type": "code",
      "metadata": {
        "id": "q9LadwwNBYxa",
        "colab_type": "code",
        "colab": {}
      },
      "source": [
        "# Obtener la url\n",
        "re.search(r'src=\".+\"', img_tag).group()"
      ],
      "execution_count": 0,
      "outputs": []
    },
    {
      "cell_type": "markdown",
      "metadata": {
        "id": "KPLziKt81-5C",
        "colab_type": "text"
      },
      "source": [
        "### Groups and Grouping\n",
        "\n",
        "Imaginemos que queremos validar direcciones de correo electrónico y verificar el nombre de usuario y host por separado. Para ello podemos hacer uso de la función group, que nos permite coger partes del texto correspondiente."
      ]
    },
    {
      "cell_type": "code",
      "metadata": {
        "id": "c4REjSyh1__R",
        "colab_type": "code",
        "colab": {}
      },
      "source": [
        "correo = \"Por favor contactar a: machinelearning@fullstack.com\"\n",
        "match = re.search(r'([\\w\\.-]+)@([\\w\\.-]+)', correo)\n",
        "if match:\n",
        "    print(match.group(0))\n",
        "    print(match.group(1))\n",
        "    print(match.group(2))"
      ],
      "execution_count": 0,
      "outputs": []
    },
    {
      "cell_type": "code",
      "metadata": {
        "id": "UCM05o3kCl9V",
        "colab_type": "code",
        "colab": {}
      },
      "source": [
        "match = re.search(r'\\w+=\\W(.+)\\W\\s\\S+=\\W(.+)\\W\\s\\S+=\\W(.+)\\W\\s\\S+=\\W(.+)\\W', img_tag)\n",
        "match"
      ],
      "execution_count": 0,
      "outputs": []
    },
    {
      "cell_type": "code",
      "metadata": {
        "id": "mhVYhbP4EXaf",
        "colab_type": "code",
        "colab": {}
      },
      "source": [
        "if match:\n",
        "    print(match.group(0))\n",
        "    print(match.group(1))\n",
        "    print(\"https:\" + match.group(2))\n",
        "    print(match.group(3))\n",
        "    print(match.group(4))"
      ],
      "execution_count": 0,
      "outputs": []
    },
    {
      "cell_type": "markdown",
      "metadata": {
        "id": "ILtiaIqs2B9F",
        "colab_type": "text"
      },
      "source": [
        "En general, las principales funciones que la librería `re` nos proporciona son:\n",
        "- **search(pattern, string, flags=0)**: Con esta función, se escanea la cadena dada buscando la primera posición donde la expresión regular (o patrón) produce una coincidencia. Devuelve un objeto de coincidencia si se encuentra una coincidencia, de lo contrario devuelve None."
      ]
    },
    {
      "cell_type": "code",
      "metadata": {
        "id": "RU2yiif32FZg",
        "colab_type": "code",
        "colab": {}
      },
      "source": [
        "pattern = r\"Machine\"\n",
        "sequence = \"Machine learning\"\n",
        "\n",
        "re.search(pattern, sequence).group()"
      ],
      "execution_count": 0,
      "outputs": []
    },
    {
      "cell_type": "markdown",
      "metadata": {
        "id": "4FnZ4pq62HjP",
        "colab_type": "text"
      },
      "source": [
        "- **match(pattern, string, flags=0)**: Devuelve el objeto de coincidencia correspondiente si 0 o más caracteres al comienzo de la cadena coinciden con el patrón. De lo contrario, devuelve None."
      ]
    },
    {
      "cell_type": "code",
      "metadata": {
        "id": "dMirawXO2FW0",
        "colab_type": "code",
        "colab": {}
      },
      "source": [
        "pattern = r\"L\"\n",
        "sequence1 = \"Machine Learning\"\n",
        "\n",
        "# No habrá match dado que \"L\" no está al inicio de 'Machine Learning'\n",
        "re.match(pattern, sequence1)"
      ],
      "execution_count": 0,
      "outputs": []
    },
    {
      "cell_type": "markdown",
      "metadata": {
        "id": "4Mn2AEjA2OqQ",
        "colab_type": "text"
      },
      "source": [
        "<div class=\"alert alert-info\" role=\"alert\">\n",
        "  <strong>Nota:</strong> La función `match()` busca una coincidencia solo al comienzo de la cadena (por defecto) mientras que la función `search()` busca una coincidencia en cualquier lugar de la cadena.\n",
        "</div>"
      ]
    },
    {
      "cell_type": "markdown",
      "metadata": {
        "id": "pRoN88DY20B9",
        "colab_type": "text"
      },
      "source": [
        "- **findall(pattern, string, flags=0)**: Encuentra todas las coincidencias posibles en toda la cadena y las devuelve como una lista de cadenas. Cada cadena devuelta representa una coincidencia."
      ]
    },
    {
      "cell_type": "code",
      "metadata": {
        "id": "-MkKvYuX2FRD",
        "colab_type": "code",
        "colab": {}
      },
      "source": [
        "mensaje = \"Por favor contactar a: machinelearning@dmc.com, deeplearning@dmc.com, datascience@dmc.com, bigdata@dmc.com\"\n",
        "\n",
        "#'correos' es una lista que contiene todas las posibles coincidencias\n",
        "correos = re.findall(r'[\\w\\.]+@[\\w\\.]+', mensaje)\n",
        "for correo in correos: \n",
        "    print(correo)"
      ],
      "execution_count": 0,
      "outputs": []
    },
    {
      "cell_type": "code",
      "metadata": {
        "id": "vXLg5e-FKItN",
        "colab_type": "code",
        "colab": {}
      },
      "source": [
        "print(img_tag)"
      ],
      "execution_count": 0,
      "outputs": []
    },
    {
      "cell_type": "code",
      "metadata": {
        "id": "sMR6D1zWR-Mk",
        "colab_type": "code",
        "colab": {}
      },
      "source": [
        "# Obtener todos los valores de los atributos del tag de imagen\n",
        "re.findall(r'\\w+-?\\w*=\"([^\"]+)\"', img_tag)"
      ],
      "execution_count": 0,
      "outputs": []
    },
    {
      "cell_type": "markdown",
      "metadata": {
        "id": "4iGv3PGG24Ev",
        "colab_type": "text"
      },
      "source": [
        "- **sub(pattern, repl, string, count=0, flags=0)**: Esta es la función sustituta. Devuelve la cadena obtenida reemplazando o sustituyendo las apariciones no superpuestas más a la izquierda del patrón en cadena por la sustitución reemplazada. Si no se encuentra el patrón, la cadena se devuelve sin cambios."
      ]
    },
    {
      "cell_type": "code",
      "metadata": {
        "id": "FgY5BlqI2FJG",
        "colab_type": "code",
        "colab": {}
      },
      "source": [
        "mensaje = \"Por favor contactar a: machinelearning@dmc.com\"\n",
        "nuevo_mensaje = re.sub(r'([\\w\\.]+)@([\\w\\.]+)', r'deeplearning@dmc.com', mensaje)\n",
        "print(nuevo_mensaje)"
      ],
      "execution_count": 0,
      "outputs": []
    },
    {
      "cell_type": "markdown",
      "metadata": {
        "id": "qyeXyxcl2-Bg",
        "colab_type": "text"
      },
      "source": [
        "- **compile(pattern, flags=0)**: Compila un patrón de expresión regular en un objeto de expresión regular. Cuando necesite usar una expresión varias veces en un solo programa, usar la función compile () para guardar el objeto de expresión regular resultante para reutilizar es más eficiente. Esto se debe a que las versiones compiladas de los patrones más recientes pasados a compilar () y las funciones de concordancia a nivel de módulo están en caché."
      ]
    },
    {
      "cell_type": "code",
      "metadata": {
        "id": "acsgfFDbVSHH",
        "colab_type": "code",
        "colab": {}
      },
      "source": [
        "pattern = re.compile(r'([\\w\\.]+)@([\\w\\.]+)')\n",
        "mensaje = \"Por favor contactar a: machinelearning@dmc.com\"\n",
        "pattern.search(mensaje).group()"
      ],
      "execution_count": 0,
      "outputs": []
    },
    {
      "cell_type": "code",
      "metadata": {
        "id": "93Fhk6mzVbCv",
        "colab_type": "code",
        "colab": {}
      },
      "source": [
        "mensajes = [\"Contactarse con: machinelearning@dmc.com\",\n",
        "            \"Comunicarse a: deeplearning@dmc.com\",\n",
        "            \"Para más información con: datascientist@python.pe\",\n",
        "            \"reinforcement@learning.pe es mi correo\"]\n",
        "for mensaje in mensajes:\n",
        "    print(pattern.search(mensaje).group())"
      ],
      "execution_count": 0,
      "outputs": []
    },
    {
      "cell_type": "code",
      "metadata": {
        "id": "lL1-kqwqVa7n",
        "colab_type": "code",
        "colab": {}
      },
      "source": [
        "# Es lo mismo que: \n",
        "re.search(pattern, mensaje).group()"
      ],
      "execution_count": 0,
      "outputs": []
    },
    {
      "cell_type": "markdown",
      "metadata": {
        "id": "aU9og5AVWHgd",
        "colab_type": "text"
      },
      "source": [
        "Una vez que hemos entendido algunos métodos básicos y potentes de las expresiones, podemos empezar a extraer cierta información de las Páginas Web."
      ]
    },
    {
      "cell_type": "code",
      "metadata": {
        "id": "QJDHAiHjWDtj",
        "colab_type": "code",
        "colab": {}
      },
      "source": [
        "print(response_str)"
      ],
      "execution_count": 0,
      "outputs": []
    },
    {
      "cell_type": "code",
      "metadata": {
        "id": "UFw8MrNMWDgR",
        "colab_type": "code",
        "colab": {}
      },
      "source": [
        "# Obtener todos los tags de imágenes\n",
        "# Nota: [^<>] signfica todos los caracteres excepto los < y >\n",
        "img_tag_list = re.findall(r'<img src[^<>]+data-lazy=\"([^\"]+)\"[^<>]+>', response_str)\n",
        "img_tag_list = list(set(img_tag_list))\n",
        "img_tag_list"
      ],
      "execution_count": 0,
      "outputs": []
    },
    {
      "cell_type": "code",
      "metadata": {
        "id": "NyGApzCHZq6j",
        "colab_type": "code",
        "colab": {}
      },
      "source": [
        "# Obtener el nombre del producto\n",
        "product_name = re.findall(r'<span itemprop=\"name\">(.+)</span>', response_str)[-1]\n",
        "product_name"
      ],
      "execution_count": 0,
      "outputs": []
    },
    {
      "cell_type": "code",
      "metadata": {
        "id": "3GgF9-lJZq2f",
        "colab_type": "code",
        "colab": {}
      },
      "source": [
        "# Obtener el precio original\n",
        "product_original_price = re.search(r'<span class=\"original-price\">(.+)</span>', response_str).group()\n",
        "product_original_price"
      ],
      "execution_count": 0,
      "outputs": []
    },
    {
      "cell_type": "code",
      "metadata": {
        "id": "pDhQ8op7ZMgw",
        "colab_type": "code",
        "colab": {}
      },
      "source": [
        "# Obtener el valor del descuento\n",
        "product_discount = re.search(r'<span class=\"discount\">(.+)</span>', response_str).group()\n",
        "product_discount"
      ],
      "execution_count": 0,
      "outputs": []
    },
    {
      "cell_type": "code",
      "metadata": {
        "id": "FvMYaDfeZMWs",
        "colab_type": "code",
        "colab": {}
      },
      "source": [
        "# Obtener el precio final\n",
        "product_final_price = re.search(r'<span class=\"price-main\">(.+)</span>', response_str).group()\n",
        "product_final_price"
      ],
      "execution_count": 0,
      "outputs": []
    },
    {
      "cell_type": "code",
      "metadata": {
        "id": "PRzcuoaHdo9S",
        "colab_type": "code",
        "colab": {}
      },
      "source": [
        "# Obtener las características del producto\n",
        "## Paso 1: Obtener el tag o elemento padre de los elementos que contienen las características\n",
        "product_features_parent = re.search(r'<div class=\"product-bg-container col-xs-12\">[\\W\\w]+<a data-anchor=\"product-description\">', response_str).group()\n",
        "print(product_features_parent, \"\\n\")\n",
        "product_features_list = re.findall(r'<li>([^<]+)</li>', product_features_parent)\n",
        "product_features_list"
      ],
      "execution_count": 0,
      "outputs": []
    },
    {
      "cell_type": "code",
      "metadata": {
        "id": "cUHvFj9Rdo6b",
        "colab_type": "code",
        "colab": {}
      },
      "source": [
        "# Si nos damos cuenta al inspeccionar la página web, existen ciertos tags que contiene los metadatos de la página\n",
        "# Son tag del tipo \"meta\" y con atributo itempro\n",
        "\n",
        "meta_features = {t[0]: t[1] for t in re.findall(r'<meta itemprop=\"(.+)\" content=\"(.+)\">', response_str)}\n",
        "meta_features"
      ],
      "execution_count": 0,
      "outputs": []
    },
    {
      "cell_type": "code",
      "metadata": {
        "id": "lo1fVcKXdo2b",
        "colab_type": "code",
        "colab": {}
      },
      "source": [
        "product_data = {\n",
        "            \"product_original_price\": product_original_price,\n",
        "            \"product_discount\": product_discount,\n",
        "            \"product_features_list\": product_features_list\n",
        "            }"
      ],
      "execution_count": 0,
      "outputs": []
    },
    {
      "cell_type": "code",
      "metadata": {
        "id": "6IWZaMYNQr7h",
        "colab_type": "code",
        "colab": {}
      },
      "source": [
        "product_data.update(meta_features)"
      ],
      "execution_count": 0,
      "outputs": []
    },
    {
      "cell_type": "code",
      "metadata": {
        "id": "dnFqWvanQ4KI",
        "colab_type": "code",
        "colab": {}
      },
      "source": [
        "product_data"
      ],
      "execution_count": 0,
      "outputs": []
    },
    {
      "cell_type": "markdown",
      "metadata": {
        "id": "cuk6hMugROGi",
        "colab_type": "text"
      },
      "source": [
        "Una vez que hemos extraído los datos de un producto en específico, definamos una función que realice esta extracción de tal forma que reciba como entrada la url de la página del producto."
      ]
    },
    {
      "cell_type": "code",
      "metadata": {
        "id": "3tVH5urXRGsz",
        "colab_type": "code",
        "colab": {}
      },
      "source": [
        "def extract_data(product_url):\n",
        "  response = requests.get(product_url)\n",
        "  response_str = response.content.decode(\"utf-8\")\n",
        "  \n",
        "  product_original_price = re.search(r'<span class=\"original-price\">(.+)</span>', response_str).group()\n",
        "  product_discount = re.search(r'<span class=\"discount\">(.+)</span>', response_str).group()\n",
        "  product_features_parent = re.search(r'<div class=\"product-bg-container col-xs-12\">[\\W\\w]+<a data-anchor=\"product-description\">', response_str).group()\n",
        "  product_features_list = re.findall(r'<li>([^<]+)</li>', product_features_parent)\n",
        "  \n",
        "  meta_features = {t[0]: t[1] for t in re.findall(r'<meta itemprop=\"(.+)\" content=\"(.+)\">', response_str)}\n",
        "  \n",
        "  product_data = {\n",
        "            \"product_original_price\": product_original_price,\n",
        "            \"product_discount\": product_discount,\n",
        "            \"product_features_list\": product_features_list\n",
        "            }\n",
        "  product_data.update(meta_features)\n",
        "  \n",
        "  return product_data"
      ],
      "execution_count": 0,
      "outputs": []
    },
    {
      "cell_type": "markdown",
      "metadata": {
        "id": "giSeZzSnV1NM",
        "colab_type": "text"
      },
      "source": [
        "Probemos con una url distinta, por ejemplo: \n",
        "https://www.linio.com.pe/p/televisor-led-uhd-4k-smart-55-samsung-un55nu7090-negro-s081cn"
      ]
    },
    {
      "cell_type": "code",
      "metadata": {
        "id": "jUM6pCZFRGpr",
        "colab_type": "code",
        "colab": {}
      },
      "source": [
        "extract_data(\"https://www.linio.com.pe/p/televisor-led-uhd-4k-smart-55-samsung-un55nu7090-negro-s081cn\")"
      ],
      "execution_count": 0,
      "outputs": []
    },
    {
      "cell_type": "markdown",
      "metadata": {
        "id": "YLFvNBHKV6sG",
        "colab_type": "text"
      },
      "source": [
        "Nos damos cuenta de que la variable product_features_list esta vacía, y es debido a que los elementos del tipo **li** tienen estilos definidos lo que no permite reconocer el patrón que habíamos definido anteriormente. Esta es una de las desventajas de las expresiones regulares, que ante nuevas casuísticas como que el que acabamos de ver debemos redefinir el patrón."
      ]
    },
    {
      "cell_type": "code",
      "metadata": {
        "id": "Ks9PVuNBRGm_",
        "colab_type": "code",
        "colab": {}
      },
      "source": [
        "# Importamos el módulo tqdm para simular un progress bar\n",
        "from tqdm import tqdm"
      ],
      "execution_count": 0,
      "outputs": []
    },
    {
      "cell_type": "code",
      "metadata": {
        "id": "A4DBA4p-RGix",
        "colab_type": "code",
        "colab": {}
      },
      "source": [
        "l_product_data = []\n",
        "for product_url in tqdm(url_list[:20]):\n",
        "  print(product_url)\n",
        "  l_product_data.append(extract_data(product_url))"
      ],
      "execution_count": 0,
      "outputs": []
    },
    {
      "cell_type": "code",
      "metadata": {
        "id": "vgCjSqYFXkeI",
        "colab_type": "code",
        "colab": {}
      },
      "source": [
        "def extract_data(product_url):\n",
        "  response = requests.get(product_url)\n",
        "  response_str = response.content.decode(\"utf-8\")\n",
        "  \n",
        "  try:\n",
        "    product_original_price = re.search(r'<span class=\"original-price\">(.+)</span>', response_str).group()\n",
        "  except AttributeError:\n",
        "    product_original_price = None\n",
        "    \n",
        "  try: \n",
        "    product_discount = re.search(r'<span class=\"discount\">(.+)</span>', response_str).group()\n",
        "  except AttributeError:\n",
        "    product_discount = None\n",
        "    \n",
        "  try:\n",
        "    product_features_parent = re.search(r'<div class=\"product-bg-container col-xs-12\">[\\W\\w]+<a data-anchor=\"product-description\">', response_str).group()\n",
        "    product_features_list = re.findall(r'<li>([^<]+)</li>', product_features_parent)\n",
        "  except AttributeError:\n",
        "    product_features_list = None\n",
        "  \n",
        "  meta_features = {t[0]: t[1] for t in re.findall(r'<meta itemprop=\"(.+)\" content=\"(.+)\">', response_str)}\n",
        "  \n",
        "  product_data = {\n",
        "            \"product_original_price\": product_original_price,\n",
        "            \"product_discount\": product_discount,\n",
        "            \"product_features_list\": product_features_list\n",
        "            }\n",
        "  product_data.update(meta_features)\n",
        "  \n",
        "  return product_data"
      ],
      "execution_count": 0,
      "outputs": []
    },
    {
      "cell_type": "code",
      "metadata": {
        "id": "sWAldZf8XkZp",
        "colab_type": "code",
        "colab": {}
      },
      "source": [
        "l_product_data = []\n",
        "for product_url in tqdm(url_list[:500]):\n",
        "  print(product_url)\n",
        "  l_product_data.append(extract_data(product_url))"
      ],
      "execution_count": 0,
      "outputs": []
    },
    {
      "cell_type": "code",
      "metadata": {
        "id": "Fr5ca7UYXkPN",
        "colab_type": "code",
        "colab": {}
      },
      "source": [
        "df_product_data = pd.DataFrame(l_product_data)"
      ],
      "execution_count": 0,
      "outputs": []
    },
    {
      "cell_type": "code",
      "metadata": {
        "id": "kyBri1ieamuE",
        "colab_type": "code",
        "colab": {}
      },
      "source": [
        "df_product_data.head()"
      ],
      "execution_count": 0,
      "outputs": []
    },
    {
      "cell_type": "code",
      "metadata": {
        "id": "MWPtMl-MYN_Z",
        "colab_type": "code",
        "colab": {}
      },
      "source": [
        "df_product_data.info()"
      ],
      "execution_count": 0,
      "outputs": []
    },
    {
      "cell_type": "code",
      "metadata": {
        "id": "SavOV1DPFRJS",
        "colab_type": "code",
        "colab": {}
      },
      "source": [
        ""
      ],
      "execution_count": 0,
      "outputs": []
    },
    {
      "cell_type": "markdown",
      "metadata": {
        "id": "9exF4f0TFEzr",
        "colab_type": "text"
      },
      "source": [
        "## [4.3] Introducción al package Beautiful Soup\n",
        "\n",
        "\n",
        "Beautiful Soup es una librería de Python para extraer datos de archivos HTML y XML. Funciona con su analizador favorito para proporcionar formas idiomáticas de navegar, buscar y modificar el árbol de análisis. Normalmente nos ahorra horas o días de trabajo."
      ]
    },
    {
      "cell_type": "code",
      "metadata": {
        "id": "6LDWw8OVaE43",
        "colab_type": "code",
        "colab": {}
      },
      "source": [
        "url = \"https://www.linio.com.pe/p/smartphone-huawei-mate-20-lite-dual-sim-64gb-black-n3zbn7\""
      ],
      "execution_count": 0,
      "outputs": []
    },
    {
      "cell_type": "code",
      "metadata": {
        "id": "Ve9O4dT9FIxd",
        "colab_type": "code",
        "colab": {}
      },
      "source": [
        "# Hagamos una petición a la url usando el método get del módulo requests\n",
        "page = requests.get(url)"
      ],
      "execution_count": 0,
      "outputs": []
    },
    {
      "cell_type": "code",
      "metadata": {
        "id": "ka37TVxzZl-F",
        "colab_type": "code",
        "colab": {}
      },
      "source": [
        "# Pintemos el contenido de la respuesta usando la propiedad content\n",
        "page.content"
      ],
      "execution_count": 0,
      "outputs": []
    },
    {
      "cell_type": "markdown",
      "metadata": {
        "id": "GyAoEgApbmp1",
        "colab_type": "text"
      },
      "source": [
        "Instanciemos el objeto de la clase BeautifulSoup usando como parámetro el contenido de la respuesta obtenida de la petición"
      ]
    },
    {
      "cell_type": "code",
      "metadata": {
        "id": "Ym-3zKYxa3-i",
        "colab_type": "code",
        "colab": {}
      },
      "source": [
        "soup = BeautifulSoup(markup=page.content, features='html.parser')"
      ],
      "execution_count": 0,
      "outputs": []
    },
    {
      "cell_type": "code",
      "metadata": {
        "id": "mgV0_ul0c2Es",
        "colab_type": "code",
        "colab": {}
      },
      "source": [
        "# ¿Qué tipo de dato es soup?\n",
        "type(soup)"
      ],
      "execution_count": 0,
      "outputs": []
    },
    {
      "cell_type": "markdown",
      "metadata": {
        "id": "z4rOFkoVbtIx",
        "colab_type": "text"
      },
      "source": [
        "Esto nos devolverá un Objeto de la clase BeautifulSoup, que representa el documento como un estructura de datos anidados.\n",
        "\n",
        "- **prettify(encoding=None)**: Método que nos permite mostrar de una forma mas legible la estructura de datos anidados."
      ]
    },
    {
      "cell_type": "code",
      "metadata": {
        "id": "jWTlIwLia37s",
        "colab_type": "code",
        "colab": {}
      },
      "source": [
        "print(soup.prettify())"
      ],
      "execution_count": 0,
      "outputs": []
    },
    {
      "cell_type": "code",
      "metadata": {
        "id": "z4v0jH55a33z",
        "colab_type": "code",
        "colab": {}
      },
      "source": [
        "# Mostremos el título del html\n",
        "soup.title"
      ],
      "execution_count": 0,
      "outputs": []
    },
    {
      "cell_type": "markdown",
      "metadata": {
        "id": "iCZJCQNfdWm3",
        "colab_type": "text"
      },
      "source": [
        "- **find(name=None, attrs={}, recursive=True, text=None, **kwargs)**: Método que nos devuelve solo el primer hijo de esta etiqueta que coincida con los criterios dados.\n",
        "\n",
        "Por ejemplo, vamos a usar este método para obtener el nombre del producto"
      ]
    },
    {
      "cell_type": "code",
      "metadata": {
        "id": "S16xjqlTeK_p",
        "colab_type": "code",
        "colab": {}
      },
      "source": [
        "soup.find(name=\"span\", attrs={\"itemprop\": \"name\"})"
      ],
      "execution_count": 0,
      "outputs": []
    },
    {
      "cell_type": "markdown",
      "metadata": {
        "id": "p9KLgb5YfB9R",
        "colab_type": "text"
      },
      "source": [
        "Lamentablemente nos damos con la sorpresa, de que también existe otro elemento con las mismas condiciones, por lo que a continuación usaremos la propiedad que estas estructuras tienen al ser anidadas.\n",
        "\n",
        "Es decir, para esto primero encontraremos un elemento que contenga al elemento donde se encuentra el nombre de producto. Procurar que este elemento sea único o tenga una propiedad que permite identificarlo indistintamente."
      ]
    },
    {
      "cell_type": "code",
      "metadata": {
        "id": "ZZU0iyo8fANO",
        "colab_type": "code",
        "colab": {}
      },
      "source": [
        "name_parent_soup = soup.find(name=\"div\", attrs={\"class\": \"product-title col-xs-12\"})\n",
        "name_parent_soup"
      ],
      "execution_count": 0,
      "outputs": []
    },
    {
      "cell_type": "code",
      "metadata": {
        "id": "Jaf7PsZIfAIV",
        "colab_type": "code",
        "colab": {}
      },
      "source": [
        "name_soup = name_parent_soup.find(name=\"span\", attrs={\"itemprop\": \"name\"})\n",
        "name_soup"
      ],
      "execution_count": 0,
      "outputs": []
    },
    {
      "cell_type": "markdown",
      "metadata": {
        "id": "Yr287efCH8LB",
        "colab_type": "text"
      },
      "source": [
        "- **get_text(separator=\"\") | text | getText(separator=\"\")**: Método que permite extraer las cadenas que estan contenidas en el elemento aplicado.\n",
        "\n"
      ]
    },
    {
      "cell_type": "code",
      "metadata": {
        "id": "a4BSbMwLrua9",
        "colab_type": "code",
        "colab": {}
      },
      "source": [
        "name_soup.get_text()"
      ],
      "execution_count": 0,
      "outputs": []
    },
    {
      "cell_type": "code",
      "metadata": {
        "id": "4l6Lxj84I7XA",
        "colab_type": "code",
        "colab": {}
      },
      "source": [
        "name_soup.text"
      ],
      "execution_count": 0,
      "outputs": []
    },
    {
      "cell_type": "code",
      "metadata": {
        "id": "S_tKzfXQI7T8",
        "colab_type": "code",
        "colab": {}
      },
      "source": [
        "name_soup.getText()"
      ],
      "execution_count": 0,
      "outputs": []
    },
    {
      "cell_type": "markdown",
      "metadata": {
        "id": "DTp-Emurb6pq",
        "colab_type": "text"
      },
      "source": [
        "Ahora debemos obtener todos los tags de imágenes"
      ]
    },
    {
      "cell_type": "markdown",
      "metadata": {
        "id": "UjOwltBXdbEA",
        "colab_type": "text"
      },
      "source": [
        "- **find_all(name=None, attrs={}, recursive=True, text=None, limit=None, **kwargs)**: Método que nos devuelve una lista de elementos Tag que cumplen el criterio. Puedes especificar el nombre de la Etiqueta o Tag y cualquier atributo que quieres que cumpla la etiqueta.\n",
        "\n",
        "Por ejemplo, vamos a usar este método para obtener una lista de elementos que contienen a los elementos **img**"
      ]
    },
    {
      "cell_type": "code",
      "metadata": {
        "id": "AmLw1nHPb6Ks",
        "colab_type": "code",
        "colab": {}
      },
      "source": [
        "image_soup_list = soup.find_all(name=\"div\", attrs={\"id\": \"image-product\"})\n",
        "image_soup_list"
      ],
      "execution_count": 0,
      "outputs": []
    },
    {
      "cell_type": "markdown",
      "metadata": {
        "id": "DWzZc52fejDB",
        "colab_type": "text"
      },
      "source": [
        "- **get(key, default=None)**: Método que nos devuelve el valor de un atributo de una etiqueta, o el valor por defecto en caso de que no tenga el atributo."
      ]
    },
    {
      "cell_type": "code",
      "metadata": {
        "id": "mj-shWXWcsr3",
        "colab_type": "code",
        "colab": {}
      },
      "source": [
        "image_list = [\"https:\" + div.find(name=\"img\").get(\"data-lazy\") for div in image_soup_list]\n",
        "image_list"
      ],
      "execution_count": 0,
      "outputs": []
    },
    {
      "cell_type": "code",
      "metadata": {
        "id": "NxXfzUxYh2wW",
        "colab_type": "code",
        "colab": {}
      },
      "source": [
        "# Obtener el precio original\n",
        "price_soup = soup.find(name=\"span\", attrs={\"class\": \"original-price\"})\n",
        "price_soup"
      ],
      "execution_count": 0,
      "outputs": []
    },
    {
      "cell_type": "code",
      "metadata": {
        "id": "ZbXjSP3WiGGh",
        "colab_type": "code",
        "colab": {}
      },
      "source": [
        "product_original_price = price_soup.get_text()"
      ],
      "execution_count": 0,
      "outputs": []
    },
    {
      "cell_type": "code",
      "metadata": {
        "id": "ZpqSY5giiTf6",
        "colab_type": "code",
        "colab": {}
      },
      "source": [
        "# Obtener el valor del descuento\n",
        "discount_soup = soup.find(name=\"span\", attrs={\"class\": \"discount\"})\n",
        "discount_soup"
      ],
      "execution_count": 0,
      "outputs": []
    },
    {
      "cell_type": "code",
      "metadata": {
        "id": "qeUDk2uJifH4",
        "colab_type": "code",
        "colab": {}
      },
      "source": [
        "product_discount = discount_soup.get_text()\n",
        "product_discount"
      ],
      "execution_count": 0,
      "outputs": []
    },
    {
      "cell_type": "code",
      "metadata": {
        "id": "Nbd3mNAYihir",
        "colab_type": "code",
        "colab": {}
      },
      "source": [
        "# Obtener el precio final\n",
        "final_price_soup = soup.find(name=\"span\", attrs={\"class\": \"price-main\"})\n",
        "final_price_soup"
      ],
      "execution_count": 0,
      "outputs": []
    },
    {
      "cell_type": "code",
      "metadata": {
        "id": "QDB1afQdiqL1",
        "colab_type": "code",
        "colab": {}
      },
      "source": [
        "product_final_price = final_price_soup.get_text()\n",
        "product_final_price"
      ],
      "execution_count": 0,
      "outputs": []
    },
    {
      "cell_type": "code",
      "metadata": {
        "id": "CXnlf034ip-b",
        "colab_type": "code",
        "colab": {}
      },
      "source": [
        "# Obtener las características del producto\n",
        "## Paso 1: Obtener el tag o elemento padre de los elementos que contienen las características\n",
        "product_features_parent_soup = soup.find(name=\"div\", attrs={\"class\": \"product-bg-container col-xs-12\"})\n",
        "## Paso 2: Iterar sobre la lista de tags del tipo li para obtener las características\n",
        "product_features_list = [li.get_text() for li in product_features_parent_soup.find_all(name=\"li\")]\n",
        "product_features_list"
      ],
      "execution_count": 0,
      "outputs": []
    },
    {
      "cell_type": "code",
      "metadata": {
        "id": "dlbOXPRRlooZ",
        "colab_type": "code",
        "colab": {}
      },
      "source": [
        "# Si nos damos cuenta al inspeccionar la página web, existen ciertos tags que contiene los metadatos de la página\n",
        "# Son tag del tipo \"meta\" y con atributo itempro\n",
        "\n",
        "meta_features_parent = soup.find(name=\"div\", attrs={\"class\": \"product-detail row\"})\n",
        "meta_features_parent"
      ],
      "execution_count": 0,
      "outputs": []
    },
    {
      "cell_type": "code",
      "metadata": {
        "id": "smeX9oYqs4gD",
        "colab_type": "code",
        "colab": {}
      },
      "source": [
        "review_soup_parent = soup.find(name=\"div\", attrs={\"class\": \"product-review-container row\"})\n",
        "review_soup_parent"
      ],
      "execution_count": 0,
      "outputs": []
    },
    {
      "cell_type": "code",
      "metadata": {
        "id": "s5NGr_UHtOtB",
        "colab_type": "code",
        "colab": {}
      },
      "source": [
        "general_review = review_soup_parent.find(name=\"div\", attrs={\"class\": \"review-subtitle\"}).find(name=\"p\").get_text()\n",
        "general_review"
      ],
      "execution_count": 0,
      "outputs": []
    },
    {
      "cell_type": "code",
      "metadata": {
        "id": "Lukv6l1qtvuL",
        "colab_type": "code",
        "colab": {}
      },
      "source": [
        "detailed_review = {\"rating_\"+p.get_text(separator=\";\").split(\";\")[1].strip(): p.get_text(separator=\";\").split(\";\")[-2].strip() for p in review_soup_parent.find(name=\"div\", attrs={\"class\": \"chart-container\"}).find_all(name=\"div\", attrs={\"class\": \"chart-progress\"})}\n",
        "detailed_review"
      ],
      "execution_count": 0,
      "outputs": []
    },
    {
      "cell_type": "code",
      "metadata": {
        "id": "Nsa7VB32l3dO",
        "colab_type": "code",
        "colab": {}
      },
      "source": [
        "meta_features_input = meta_features_parent.find_all(name=\"meta\", attrs={\"itemprop\": re.compile(r\".+\")}, recursive=False)\n",
        "meta_features_input"
      ],
      "execution_count": 0,
      "outputs": []
    },
    {
      "cell_type": "code",
      "metadata": {
        "id": "7CHeroHjmf5P",
        "colab_type": "code",
        "colab": {}
      },
      "source": [
        "meta_features = {meta.get(\"itemprop\"): meta.get(\"content\") for meta in meta_features_input}\n",
        "meta_features"
      ],
      "execution_count": 0,
      "outputs": []
    },
    {
      "cell_type": "code",
      "metadata": {
        "id": "HTvNkE-BngDR",
        "colab_type": "code",
        "colab": {}
      },
      "source": [
        "product_data = {\n",
        "            \"product_original_price\": product_original_price,\n",
        "            \"product_discount\": product_discount,\n",
        "            \"product_features_list\": product_features_list,\n",
        "            \"image_list\": image_list,\n",
        "            \"general_review\": general_review,\n",
        "            \"detailed_review\": detailed_review\n",
        "            }"
      ],
      "execution_count": 0,
      "outputs": []
    },
    {
      "cell_type": "code",
      "metadata": {
        "id": "D2oi3xIbnf96",
        "colab_type": "code",
        "colab": {}
      },
      "source": [
        "product_data.update(meta_features)"
      ],
      "execution_count": 0,
      "outputs": []
    },
    {
      "cell_type": "code",
      "metadata": {
        "id": "azzV-qvGnfWg",
        "colab_type": "code",
        "colab": {}
      },
      "source": [
        "product_data"
      ],
      "execution_count": 0,
      "outputs": []
    },
    {
      "cell_type": "code",
      "metadata": {
        "id": "XBg7CegEoIpT",
        "colab_type": "code",
        "colab": {}
      },
      "source": [
        "def extract_data_soup(product_url):\n",
        "  response = requests.get(product_url)\n",
        "  soup = BeautifulSoup(markup=response.content, features='html.parser')\n",
        "  \n",
        "  # Image List\n",
        "  image_soup_list = soup.find_all(name=\"div\", attrs={\"id\": \"image-product\"})\n",
        "  image_list = [\"https:\" + div.find(name=\"img\").get(\"data-lazy\") for div in image_soup_list]\n",
        "  # Original Price\n",
        "  product_original_price = soup.find(name=\"span\", attrs={\"class\": \"original-price\"}).get_text()\n",
        "  # Discount\n",
        "  product_discount = soup.find(name=\"span\", attrs={\"class\": \"discount\"}).get_text()\n",
        "  # Features\n",
        "  product_features_parent_soup = soup.find(name=\"div\", attrs={\"class\": \"product-bg-container col-xs-12\"})\n",
        "  product_features_list = [li.get_text() for li in product_features_parent_soup.find_all(name=\"li\")]\n",
        "  # Meta Features\n",
        "  meta_features_parent = soup.find(name=\"div\", attrs={\"class\": \"product-detail row\"})\n",
        "  meta_features_input = meta_features_parent.find_all(name=\"meta\", attrs={\"itemprop\": re.compile(r\".+\")}, recursive=False)\n",
        "  meta_features = {meta.get(\"itemprop\"): meta.get(\"content\") for meta in meta_features_input}\n",
        "  # Reviews\n",
        "  review_soup_parent = soup.find(name=\"div\", attrs={\"class\": \"product-review-container row\"})\n",
        "  general_review = review_soup_parent.find(name=\"div\", attrs={\"class\": \"review-subtitle\"}).find(name=\"p\").get_text()\n",
        "  detailed_review = {\"rating_\"+p.get_text(separator=\";\").split(\";\")[1].strip(): p.get_text(separator=\";\").split(\";\")[-2].strip() for p in review_soup_parent.find(name=\"div\", attrs={\"class\": \"chart-container\"}).find_all(name=\"div\", attrs={\"class\": \"chart-progress\"})}\n",
        "  \n",
        "  \n",
        "  product_data = {\n",
        "            \"product_original_price\": product_original_price,\n",
        "            \"product_discount\": product_discount,\n",
        "            \"product_features_list\": product_features_list,\n",
        "            \"image_list\": image_list,\n",
        "            \"general_review\": general_review,\n",
        "            \"detailed_review\": detailed_review\n",
        "            }\n",
        "  product_data.update(meta_features)\n",
        "  \n",
        "  return product_data"
      ],
      "execution_count": 0,
      "outputs": []
    },
    {
      "cell_type": "code",
      "metadata": {
        "id": "kkd7fSmWoIln",
        "colab_type": "code",
        "colab": {}
      },
      "source": [
        "extract_data_soup(\"https://www.linio.com.pe/p/smartphone-huawei-mate-20-lite-dual-sim-64gb-black-n3zbn7\")"
      ],
      "execution_count": 0,
      "outputs": []
    },
    {
      "cell_type": "code",
      "metadata": {
        "id": "v2OUN9hioIc7",
        "colab_type": "code",
        "colab": {}
      },
      "source": [
        "l_product_data = []\n",
        "for product_url in tqdm(url_list[:20]):\n",
        "  print(product_url)\n",
        "  l_product_data.append(extract_data_soup(product_url))"
      ],
      "execution_count": 0,
      "outputs": []
    },
    {
      "cell_type": "code",
      "metadata": {
        "id": "GsRbyDtWqjCZ",
        "colab_type": "code",
        "colab": {}
      },
      "source": [
        "def extract_data_soup(product_url):\n",
        "  response = requests.get(product_url)\n",
        "  soup = BeautifulSoup(markup=response.content, features='html.parser')\n",
        "  \n",
        "  # Image List\n",
        "  try:\n",
        "    image_soup_list = soup.find_all(name=\"div\", attrs={\"id\": \"image-product\"})\n",
        "    image_list = [\"https:\" + div.find(name=\"img\").get(\"data-lazy\") for div in image_soup_list]\n",
        "  except AttributeError:\n",
        "    image_list = []\n",
        "  # Original Price\n",
        "  try:\n",
        "    product_original_price = soup.find(name=\"span\", attrs={\"class\": \"original-price\"}).get_text()\n",
        "  except AttributeError:\n",
        "    product_original_price = None\n",
        "  # Discount\n",
        "  try:\n",
        "    product_discount = soup.find(name=\"span\", attrs={\"class\": \"discount\"}).get_text()\n",
        "  except AttributeError:\n",
        "    product_discount = None\n",
        "  # Features\n",
        "  try: \n",
        "    product_features_parent_soup = soup.find(name=\"div\", attrs={\"class\": \"product-bg-container col-xs-12\"})\n",
        "    product_features_list = [li.get_text() for li in product_features_parent_soup.find_all(name=\"li\")]\n",
        "  except AttributeError:\n",
        "    product_features_list = []\n",
        "    \n",
        "  # Meta Features\n",
        "  meta_features_parent = soup.find(name=\"div\", attrs={\"class\": \"product-detail row\"})\n",
        "  meta_features_input = meta_features_parent.find_all(name=\"meta\", attrs={\"itemprop\": re.compile(r\".+\")}, recursive=False)\n",
        "  meta_features = {meta.get(\"itemprop\"): meta.get(\"content\") for meta in meta_features_input}\n",
        "  \n",
        "  # Reviews\n",
        "  try:\n",
        "    review_soup_parent = soup.find(name=\"div\", attrs={\"class\": \"product-review-container row\"})\n",
        "    general_review = review_soup_parent.find(name=\"div\", attrs={\"class\": \"review-subtitle\"}).find(name=\"p\").get_text()\n",
        "    detailed_review = {\"rating_\"+p.get_text(separator=\";\").split(\";\")[1].strip(): p.get_text(separator=\";\").split(\";\")[-2].strip() for p in review_soup_parent.find(name=\"div\", attrs={\"class\": \"chart-container\"}).find_all(name=\"div\", attrs={\"class\": \"chart-progress\"})}\n",
        "  except:\n",
        "    detailed_review = {}\n",
        "  \n",
        "  \n",
        "  product_data = {\n",
        "            \"product_original_price\": product_original_price,\n",
        "            \"product_discount\": product_discount,\n",
        "            \"product_features_list\": product_features_list,\n",
        "            \"image_list\": image_list,\n",
        "            \"general_review\": general_review,\n",
        "            \"detailed_review\": detailed_review\n",
        "            }\n",
        "  product_data.update(meta_features)\n",
        "  \n",
        "  return product_data"
      ],
      "execution_count": 0,
      "outputs": []
    },
    {
      "cell_type": "code",
      "metadata": {
        "id": "A_-keWCgqi2B",
        "colab_type": "code",
        "colab": {}
      },
      "source": [
        "l_product_data = []\n",
        "for product_url in tqdm(url_list[:200]):\n",
        "  print(product_url)\n",
        "  l_product_data.append(extract_data_soup(product_url))"
      ],
      "execution_count": 0,
      "outputs": []
    },
    {
      "cell_type": "code",
      "metadata": {
        "id": "NThk6zWtnfSw",
        "colab_type": "code",
        "colab": {}
      },
      "source": [
        "df_product_data = pd.DataFrame(l_product_data)"
      ],
      "execution_count": 0,
      "outputs": []
    },
    {
      "cell_type": "code",
      "metadata": {
        "id": "AAvMMIkVrSY2",
        "colab_type": "code",
        "colab": {}
      },
      "source": [
        "df_product_data"
      ],
      "execution_count": 0,
      "outputs": []
    },
    {
      "cell_type": "code",
      "metadata": {
        "id": "Q04SWy49I7O7",
        "colab_type": "code",
        "colab": {}
      },
      "source": [
        "??soup.find()\n",
        "help(soup.find())"
      ],
      "execution_count": 0,
      "outputs": []
    },
    {
      "cell_type": "markdown",
      "metadata": {
        "id": "ZGkbWGHT1w-3",
        "colab_type": "text"
      },
      "source": [
        "#### En la siguiente sesión continuaremos con los siguientes pasos"
      ]
    },
    {
      "cell_type": "markdown",
      "metadata": {
        "id": "Cn2ifhhX1KNo",
        "colab_type": "text"
      },
      "source": [
        "#### OJO:"
      ]
    },
    {
      "cell_type": "code",
      "metadata": {
        "id": "Fd7SL3fsMXFE",
        "colab_type": "code",
        "colab": {}
      },
      "source": [
        "page = requests.get(\"https://www.linio.com.pe/api/catalog/similar/RE256FA0FLFX6LAPE\")"
      ],
      "execution_count": 0,
      "outputs": []
    },
    {
      "cell_type": "code",
      "metadata": {
        "id": "CN-CkDk2enLm",
        "colab_type": "code",
        "colab": {}
      },
      "source": [
        "page.json()"
      ],
      "execution_count": 0,
      "outputs": []
    },
    {
      "cell_type": "code",
      "metadata": {
        "id": "eMPm8VzfMZ3I",
        "colab_type": "code",
        "colab": {}
      },
      "source": [
        "pd.DataFrame(page.json()).T"
      ],
      "execution_count": 0,
      "outputs": []
    },
    {
      "cell_type": "markdown",
      "metadata": {
        "id": "ci-SkFPjh2IF",
        "colab_type": "text"
      },
      "source": [
        " "
      ]
    }
  ]
}