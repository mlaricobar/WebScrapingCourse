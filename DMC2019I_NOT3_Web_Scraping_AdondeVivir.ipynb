{
  "nbformat": 4,
  "nbformat_minor": 0,
  "metadata": {
    "colab": {
      "name": "DMC2019I_NOT3_Web_Scraping_AdondeVivir.ipynb",
      "version": "0.3.2",
      "provenance": [],
      "collapsed_sections": [
        "7qLxhOZJh2Gn"
      ],
      "include_colab_link": true
    },
    "language_info": {
      "codemirror_mode": {
        "name": "ipython",
        "version": 3
      },
      "file_extension": ".py",
      "mimetype": "text/x-python",
      "name": "python",
      "nbconvert_exporter": "python",
      "pygments_lexer": "ipython3",
      "version": "3.7.1"
    },
    "kernelspec": {
      "display_name": "Python 3",
      "language": "python",
      "name": "python3"
    }
  },
  "cells": [
    {
      "cell_type": "markdown",
      "metadata": {
        "id": "view-in-github",
        "colab_type": "text"
      },
      "source": [
        "<a href=\"https://colab.research.google.com/github/mlaricobar/WebScrapingCourse/blob/master/DMC2019I_NOT3_Web_Scraping_AdondeVivir.ipynb\" target=\"_parent\"><img src=\"https://colab.research.google.com/assets/colab-badge.svg\" alt=\"Open In Colab\"/></a>"
      ]
    },
    {
      "cell_type": "markdown",
      "metadata": {
        "colab_type": "text",
        "id": "_MR3fuuyh2Fl"
      },
      "source": [
        "# Web Scraping de Adondevivir"
      ]
    },
    {
      "cell_type": "markdown",
      "metadata": {
        "colab_type": "text",
        "id": "xSJYxXrPh2Fm"
      },
      "source": [
        "En esta oportunidad intentaremos scrapear los datos de un sitio web tal como [AdondeVivir.com](https://www.adondevivir.com/), que es un portal inmobiliario donde encontraremos departamentos, casas, terrenos en alquiler y venta.\n",
        "\n",
        "<img src=\"https://raw.githubusercontent.com/mlaricobar/Machine-Learning-Course/84d066f02eb8a3b0c342c2c1ad182657dc07f972/images/adondevivir.png\" width=\"700\">"
      ]
    },
    {
      "cell_type": "markdown",
      "metadata": {
        "colab_type": "text",
        "id": "HkvM_m5Th2Fn"
      },
      "source": [
        "Se nos encomendado una tarea muy importante que consiste en investigar un poco sobre el sector Inmobiliario. Por ejemplo, queremos entender el comportamiento del precio de los inmuebles, que se encuentran en alquiler en Lima, en base a su geolocalización. \n",
        "\n",
        "1. ¿Podemos hacer esto?\n",
        "2. ¿Tenemos data para hacerlo?\n",
        "3. ¿Una vez que tengamos la data, que podemos hacer?"
      ]
    },
    {
      "cell_type": "markdown",
      "metadata": {
        "colab_type": "text",
        "id": "bBTAYyA6h2Fn"
      },
      "source": [
        "# Librerías de Web Scraping\n",
        "\n",
        "En esta sesión, haremos uso de las siguientes librerías para poder realizar Web Scraping:\n",
        "\n",
        "1. [Requests](http://docs.python-requests.org/en/master/): Esta librería nos permitirá hacer peticiones HTTP.\n",
        "2. [BeautifulSoup](https://www.crummy.com/software/BeautifulSoup/bs4/doc/): Módulo para analizar documentos HTML. Esta biblioteca crea un árbol con todos los elementos del documento y puede ser utilizado para extraer información."
      ]
    },
    {
      "cell_type": "markdown",
      "metadata": {
        "colab_type": "text",
        "id": "79KzWqlGh2Fo"
      },
      "source": [
        "# Instalación de Librerías"
      ]
    },
    {
      "cell_type": "code",
      "metadata": {
        "colab_type": "code",
        "id": "UAo5fJUJh2Fp",
        "colab": {}
      },
      "source": [
        "# Librería Requests\n",
        "!pip install requests"
      ],
      "execution_count": 0,
      "outputs": []
    },
    {
      "cell_type": "code",
      "metadata": {
        "colab_type": "code",
        "id": "ScrsKCZDh2Fu",
        "colab": {}
      },
      "source": [
        "# Librería BeautifulSoup\n",
        "!pip install beautifulsoup4"
      ],
      "execution_count": 0,
      "outputs": []
    },
    {
      "cell_type": "markdown",
      "metadata": {
        "colab_type": "text",
        "id": "qQPWT02nh2F1"
      },
      "source": [
        "Una vez instalada las librerías necesarias, hagamos las pruebas correspondientes para verificar que todo esté correctamente instalado."
      ]
    },
    {
      "cell_type": "code",
      "metadata": {
        "colab_type": "code",
        "id": "mhSfJjlsh2F1",
        "colab": {}
      },
      "source": [
        "# importar la librería requests\n",
        "import requests"
      ],
      "execution_count": 0,
      "outputs": []
    },
    {
      "cell_type": "code",
      "metadata": {
        "colab_type": "code",
        "id": "iDrfc4ljh2F4",
        "colab": {}
      },
      "source": [
        "# importar la librería BeautifulSoup\n",
        "from bs4 import BeautifulSoup"
      ],
      "execution_count": 0,
      "outputs": []
    },
    {
      "cell_type": "markdown",
      "metadata": {
        "colab_type": "text",
        "id": "mlY-iF3ah2GD"
      },
      "source": [
        "# Pasos para realizar Web Scraping"
      ]
    },
    {
      "cell_type": "markdown",
      "metadata": {
        "colab_type": "text",
        "id": "AK0Znyuph2GE"
      },
      "source": [
        "### 1. Hacer una petición a la Web"
      ]
    },
    {
      "cell_type": "code",
      "metadata": {
        "colab_type": "code",
        "id": "1ISiFbS4h2GB",
        "colab": {}
      },
      "source": [
        "# Definir Url de la página que vamos a Scrapear\n",
        "url = \"https://www.adondevivir.com/departamentos-en-alquiler-en-lima.html\""
      ],
      "execution_count": 0,
      "outputs": []
    },
    {
      "cell_type": "markdown",
      "metadata": {
        "colab_type": "text",
        "id": "CA1vExExh2GF"
      },
      "source": [
        "#### Usando la librería Requests"
      ]
    },
    {
      "cell_type": "code",
      "metadata": {
        "colab_type": "code",
        "id": "fGxNBiOKh2GF",
        "colab": {}
      },
      "source": [
        "# Hagamos una petición a la url usando el método get del módulo requests\n",
        "page = requests.get(url)"
      ],
      "execution_count": 0,
      "outputs": []
    },
    {
      "cell_type": "code",
      "metadata": {
        "colab_type": "code",
        "id": "YXaxJBfWh2GJ",
        "scrolled": true,
        "colab": {}
      },
      "source": [
        "# Pintemos el contenido de la respuesta usando la propiedad content\n",
        "print(page.content)"
      ],
      "execution_count": 0,
      "outputs": []
    },
    {
      "cell_type": "code",
      "metadata": {
        "colab_type": "code",
        "id": "T87U2k2Vh2GN",
        "colab": {}
      },
      "source": [
        "# Instanciemos el objeto de la clase BeautifulSoup usando como parámetro el contenido de la respuesta obtenida de la petición\n",
        "soup = BeautifulSoup(markup=page.content, features='html.parser')"
      ],
      "execution_count": 0,
      "outputs": []
    },
    {
      "cell_type": "code",
      "metadata": {
        "colab_type": "code",
        "id": "hciTmRhSh2GR",
        "colab": {}
      },
      "source": [
        "# ¿Qué tipo de dato es soup?\n",
        "type(soup)"
      ],
      "execution_count": 0,
      "outputs": []
    },
    {
      "cell_type": "code",
      "metadata": {
        "colab_type": "code",
        "id": "Iv8qAz7fh2GU",
        "scrolled": true,
        "colab": {}
      },
      "source": [
        "# Mostrar el html interpretado por BeautifulSoup\n",
        "soup.prettify"
      ],
      "execution_count": 0,
      "outputs": []
    },
    {
      "cell_type": "code",
      "metadata": {
        "colab_type": "code",
        "id": "nvEj0DOxh2GY",
        "scrolled": true,
        "colab": {}
      },
      "source": [
        "# Mostremos el título del html\n",
        "soup.title"
      ],
      "execution_count": 0,
      "outputs": []
    },
    {
      "cell_type": "markdown",
      "metadata": {
        "colab_type": "text",
        "id": "vEfqlD3sh2Gb"
      },
      "source": [
        "Si queremos extraer todos los inmuebles de esta página, definamos una estrategia para Scrapear. **Volvamos a la ppt**."
      ]
    },
    {
      "cell_type": "markdown",
      "metadata": {
        "colab_type": "text",
        "id": "OYsZMqxrh2Gc"
      },
      "source": [
        "Si se han dado cuenta al inspeccionar la página, el elemento que contiene a la lista de inmuebles (sección) de una página tiene una clase llamada `list-card-container`. Aprovechemos ese atributo para poder identificar a cada sección usando el método `find`."
      ]
    },
    {
      "cell_type": "code",
      "metadata": {
        "colab_type": "code",
        "id": "73yOTAtdh2Gd",
        "colab": {}
      },
      "source": [
        "# Encontremos el elemento que contenga los avisos de los inmuebles usando el método find\n",
        "section_ = soup.find(name=\"div\", attrs={\"class\": \"list-card-container\"})"
      ],
      "execution_count": 0,
      "outputs": []
    },
    {
      "cell_type": "code",
      "metadata": {
        "colab_type": "code",
        "id": "4ARm54QCh2Gf",
        "colab": {}
      },
      "source": [
        "# Mostremos el contenido de este elemento\n",
        "section_"
      ],
      "execution_count": 0,
      "outputs": []
    },
    {
      "cell_type": "code",
      "metadata": {
        "id": "lB38W499GaPD",
        "colab_type": "code",
        "colab": {}
      },
      "source": [
        "# Veamos como podemos extraer el identificador del inmueble y la url donde encontraremos más detalle\n",
        "property_list = [{\"id\": s.get(\"data-id\"), \"url\": \"https://www.adondevivir.com\" + s.get(\"data-to-posting\")} for s in section_.find_all(name=\"div\", attrs={\"class\": \"posting-card\"})]"
      ],
      "execution_count": 0,
      "outputs": []
    },
    {
      "cell_type": "markdown",
      "metadata": {
        "id": "G-Wn9Xq1zDPP",
        "colab_type": "text"
      },
      "source": [
        "#### Construcción del Web Crawler"
      ]
    },
    {
      "cell_type": "markdown",
      "metadata": {
        "id": "R8KTRaIlGaPF",
        "colab_type": "text"
      },
      "source": [
        "A continuación construiremos nuestro Web Crawler que va a recorrer el página de Inmuebles de Lima con el fin de extraer las urls de detalle de los mismos."
      ]
    },
    {
      "cell_type": "code",
      "metadata": {
        "id": "6hD1WjMzGaPG",
        "colab_type": "code",
        "colab": {}
      },
      "source": [
        "data_input_list = []\n",
        "for i in range(1, 11):\n",
        "    url = \"https://www.adondevivir.com/departamentos-en-venta-en-lima-pagina-{0}.html\".format(i)\n",
        "    print(url)\n",
        "    page = requests.get(url)\n",
        "    soup = BeautifulSoup(markup=page.content, features='html.parser')\n",
        "    section_ = soup.find(name=\"div\", attrs={\"class\": \"list-card-container\"})\n",
        "    window_list = section_.find_all(name=\"div\", attrs={\"class\": \"posting-card\"})\n",
        "    property_list = [{\"id\": s.get(\"data-id\"), \"url\": \"https://www.adondevivir.com\" + s.get(\"data-to-posting\")} for s in window_list]\n",
        "    \n",
        "    print(\"\\t Cantidad de Inmuebles: {0}\".format(len(property_list)))\n",
        "    data_input_list += property_list"
      ],
      "execution_count": 0,
      "outputs": []
    },
    {
      "cell_type": "markdown",
      "metadata": {
        "id": "s7Hb3uJpyp3f",
        "colab_type": "text"
      },
      "source": [
        "<img src=\"https://raw.githubusercontent.com/mlaricobar/Machine-Learning-Course/84d066f02eb8a3b0c342c2c1ad182657dc07f972/images/see-Firefox.jpg\" width=\"400\">\n",
        "\n",
        "Pero ... ¿Podemos aprovechar para extraer datos de estos elementos?"
      ]
    },
    {
      "cell_type": "markdown",
      "metadata": {
        "id": "SWJ1GF6LzHsi",
        "colab_type": "text"
      },
      "source": [
        "#### Web Crawler con Web Scrapper"
      ]
    },
    {
      "cell_type": "code",
      "metadata": {
        "id": "4a9KCKdgGaPJ",
        "colab_type": "code",
        "colab": {}
      },
      "source": [
        "# Obtenemos un elemento de los 25 obtenidos. A este elemento le denominaremos window como variable\n",
        "window_tmp = window_list[0]"
      ],
      "execution_count": 0,
      "outputs": []
    },
    {
      "cell_type": "code",
      "metadata": {
        "id": "ZInGTyqGGaPL",
        "colab_type": "code",
        "colab": {}
      },
      "source": [
        "# Al analizar nos damos cuenta de que este elemento window tiene 2 columnas, en las que se encuentran datos de imagenes, precios y detalle del inmueble\n",
        "# En este caso identificamos la sección de la primera columna (imagenes y precio)\n",
        "first_column_section = window_tmp.find(name=\"div\", attrs={\"class\": \"first-column\"})"
      ],
      "execution_count": 0,
      "outputs": []
    },
    {
      "cell_type": "code",
      "metadata": {
        "scrolled": true,
        "id": "SulHyPdEGaPN",
        "colab_type": "code",
        "colab": {}
      },
      "source": [
        "# Identificamos el elemento donde se encuentran las imágenes del inmueble\n",
        "gallery_section = first_column_section.find(name=\"div\", attrs={\"class\": \"posting-gallery-container\"})"
      ],
      "execution_count": 0,
      "outputs": []
    },
    {
      "cell_type": "code",
      "metadata": {
        "id": "Dl3qk0ZPGaPQ",
        "colab_type": "code",
        "colab": {}
      },
      "source": [
        "# Identificamos el elemento donde se encuentran los precios del inmueble\n",
        "price_section = first_column_section.find(name=\"div\", attrs={\"class\": \"posting-price-container\"})"
      ],
      "execution_count": 0,
      "outputs": []
    },
    {
      "cell_type": "code",
      "metadata": {
        "id": "4A3cMMSoGaPV",
        "colab_type": "code",
        "colab": {}
      },
      "source": [
        "# Identificar los elementos que contienen las imagenes\n",
        "img_element_list = gallery_section.find_all(name=\"img\")"
      ],
      "execution_count": 0,
      "outputs": []
    },
    {
      "cell_type": "code",
      "metadata": {
        "id": "NLDgj5GaGaPX",
        "colab_type": "code",
        "colab": {}
      },
      "source": [
        "# Obtener las urls de las imagenes\n",
        "img_list = [i.get(\"src\") for i in img_element_list if 'src' in i.attrs.keys()]\n",
        "img_list"
      ],
      "execution_count": 0,
      "outputs": []
    },
    {
      "cell_type": "code",
      "metadata": {
        "id": "hpz_aD6lGaPb",
        "colab_type": "code",
        "colab": {}
      },
      "source": [
        "# obtener el texto del precio (si es un valor fijo o variable) al encontrar el elemento con la clase \"from-price\"\n",
        "var_desde = price_section.find(name=\"span\", attrs={\"class\": \"from-price\"}).get_text()"
      ],
      "execution_count": 0,
      "outputs": []
    },
    {
      "cell_type": "code",
      "metadata": {
        "id": "wd0ZxcD5GaPd",
        "colab_type": "code",
        "colab": {}
      },
      "source": [
        "# obtener el valor del precio al encontrar el elemento con la clase \"first-price\"\n",
        "var_first_price = price_section.find(name=\"span\", attrs={\"class\": \"first-price\"}).get_text()"
      ],
      "execution_count": 0,
      "outputs": []
    },
    {
      "cell_type": "code",
      "metadata": {
        "id": "j0a904SYGaPg",
        "colab_type": "code",
        "colab": {}
      },
      "source": [
        "# obtener el valor del segundo precio del inmueble (en dolares) al encontrar el elemento con la clase \"second-price\"\n",
        "var_second_price = price_section.find(name=\"span\", attrs={\"class\": \"second-price\"}).get_text()"
      ],
      "execution_count": 0,
      "outputs": []
    },
    {
      "cell_type": "code",
      "metadata": {
        "id": "AR_BGdDsGaPi",
        "colab_type": "code",
        "colab": {}
      },
      "source": [
        "# Pintar los valores ya extraídos\n",
        "var_desde, var_first_price, var_second_price"
      ],
      "execution_count": 0,
      "outputs": []
    },
    {
      "cell_type": "code",
      "metadata": {
        "id": "KXbWQadEGaPm",
        "colab_type": "code",
        "colab": {}
      },
      "source": [
        "# En este caso identificamos la sección de la segunda columna (detalle)\n",
        "second_column_section = window_tmp.find(name=\"div\", attrs={\"class\": \"second-column\"})"
      ],
      "execution_count": 0,
      "outputs": []
    },
    {
      "cell_type": "code",
      "metadata": {
        "id": "eqDqHaTbGaPp",
        "colab_type": "code",
        "colab": {}
      },
      "source": [
        "# Dentro de esta columna, encontramos 2 secciones: Informacion de atributos y de publicacion\n",
        "# Esta seccion es de atributos\n",
        "info_section = second_column_section.find(name=\"div\", attrs={\"class\": \"posting-info-container\"})"
      ],
      "execution_count": 0,
      "outputs": []
    },
    {
      "cell_type": "code",
      "metadata": {
        "id": "vBuO7wNxGaPq",
        "colab_type": "code",
        "colab": {}
      },
      "source": [
        "# Esta seccion es de publicacion\n",
        "features_section = second_column_section.find(name=\"div\", attrs={\"class\": \"posting-features-container\"})"
      ],
      "execution_count": 0,
      "outputs": []
    },
    {
      "cell_type": "code",
      "metadata": {
        "id": "u-UCdHUgGaPt",
        "colab_type": "code",
        "colab": {}
      },
      "source": [
        "# Obtenemos los elementos que contienen los atributos del inmueble\n",
        "main_features_section = info_section.find(name=\"ul\", attrs={\"class\": \"main-features\"})"
      ],
      "execution_count": 0,
      "outputs": []
    },
    {
      "cell_type": "code",
      "metadata": {
        "id": "EhgnGfDMGaPx",
        "colab_type": "code",
        "colab": {}
      },
      "source": [
        "# Obtenemos los valores de los atributos del inmueble\n",
        "feature_list = [l.get_text().strip() for l in main_features_section.find_all(name=\"li\")]"
      ],
      "execution_count": 0,
      "outputs": []
    },
    {
      "cell_type": "code",
      "metadata": {
        "id": "EYT83wuxGaPz",
        "colab_type": "code",
        "colab": {}
      },
      "source": [
        "# Pintamos los valores obtenidos\n",
        "feature_list"
      ],
      "execution_count": 0,
      "outputs": []
    },
    {
      "cell_type": "code",
      "metadata": {
        "id": "hf7nwPW4GaP1",
        "colab_type": "code",
        "colab": {}
      },
      "source": [
        "# Obtener la descripción del aviso del inmueble\n",
        "var_description = info_section.find(name=\"div\", attrs={\"class\": \"posting-description\"}).get_text().strip()"
      ],
      "execution_count": 0,
      "outputs": []
    },
    {
      "cell_type": "code",
      "metadata": {
        "id": "X8iuVIDPGaP3",
        "colab_type": "code",
        "colab": {}
      },
      "source": [
        "# Obtener el titulo del aviso\n",
        "var_title = info_section.find(name=\"h3\", attrs={\"class\": \"posting-title\"}).get_text().strip()"
      ],
      "execution_count": 0,
      "outputs": []
    },
    {
      "cell_type": "code",
      "metadata": {
        "id": "uWrJc8GWGaP5",
        "colab_type": "code",
        "colab": {}
      },
      "source": [
        "# Obtener la dirección física del inmueble\n",
        "var_address = info_section.find(name=\"span\", attrs={\"class\": \"posting-location\"}).get_text(\";\").strip()"
      ],
      "execution_count": 0,
      "outputs": []
    },
    {
      "cell_type": "markdown",
      "metadata": {
        "id": "6o2VVwOl3Mf-",
        "colab_type": "text"
      },
      "source": [
        "#####  Función de Web Scrapper a nivel de Window"
      ]
    },
    {
      "cell_type": "code",
      "metadata": {
        "id": "dn_CDJy5GaP7",
        "colab_type": "code",
        "colab": {}
      },
      "source": [
        "# Esta función recibirá como entrada el elemento window definido y obtendrá como resultado los datos que contiene\n",
        "\n",
        "def get_window(window_tmp):\n",
        "    var_id = window_tmp.get(\"data-id\")\n",
        "    var_url = \"https://www.adondevivir.com\" + window_tmp.get(\"data-to-posting\")\n",
        "    print(\"\\t Url: {0}\".format(var_url))\n",
        "    \n",
        "    first_column_section = window_tmp.find(name=\"div\", attrs={\"class\": \"first-column\"})\n",
        "    gallery_section = first_column_section.find(name=\"div\", attrs={\"class\": \"posting-gallery-container\"})\n",
        "    price_section = first_column_section.find(name=\"div\", attrs={\"class\": \"posting-price-container\"})\n",
        "    img_element_list = gallery_section.find_all(name=\"img\")\n",
        "    \n",
        "    try:\n",
        "        var_img_list = [i.get(\"src\") for i in img_element_list if 'src' in i.attrs.keys()]\n",
        "    except AttributeError:\n",
        "        var_img_list = []\n",
        "    \n",
        "    try:\n",
        "        var_desde = price_section.find(name=\"span\", attrs={\"class\": \"from-price\"}).get_text()\n",
        "    except AttributeError:\n",
        "        var_desde = \"\"\n",
        "    \n",
        "    try:\n",
        "        var_first_price = price_section.find(name=\"span\", attrs={\"class\": \"first-price\"}).get_text()\n",
        "    except AttributeError:\n",
        "        var_first_price = \"\"\n",
        "    \n",
        "    try:\n",
        "        var_second_price = price_section.find(name=\"span\", attrs={\"class\": \"second-price\"}).get_text()\n",
        "    except AttributeError:\n",
        "        var_second_price = \"\"\n",
        "    \n",
        "    second_column_section = window_tmp.find(name=\"div\", attrs={\"class\": \"second-column\"})\n",
        "    info_section = second_column_section.find(name=\"div\", attrs={\"class\": \"posting-info-container\"})\n",
        "    features_section = second_column_section.find(name=\"div\", attrs={\"class\": \"posting-features-container\"})\n",
        "    main_features_section = info_section.find(name=\"ul\", attrs={\"class\": \"main-features\"})\n",
        "    \n",
        "    try: \n",
        "        var_feature_list = [l.get_text().strip() for l in main_features_section.find_all(name=\"li\")]\n",
        "    except AttributeError:\n",
        "        var_feature_list = []\n",
        "    \n",
        "    try:\n",
        "        var_description = info_section.find(name=\"div\", attrs={\"class\": \"posting-description\"}).get_text().strip()\n",
        "    except AttributeError:\n",
        "        var_description = \"\"\n",
        "    \n",
        "    try:\n",
        "        var_title = info_section.find(name=\"h3\", attrs={\"class\": \"posting-title\"}).get_text().strip()\n",
        "    except AttributeError:\n",
        "        var_title = \"\"\n",
        "    \n",
        "    try:\n",
        "        var_address = info_section.find(name=\"span\", attrs={\"class\": \"posting-location\"}).get_text(\";\").strip()\n",
        "    except AttributeError:\n",
        "        var_address = \"\"\n",
        "    \n",
        "    \n",
        "    \n",
        "    window_data =  {\n",
        "        \"id\": var_id,\n",
        "        \"url\": var_url,\n",
        "        \"img_list\": var_img_list,\n",
        "        \"from\": var_desde,\n",
        "        \"first_price\": var_first_price,\n",
        "        \"second_price\": var_second_price,\n",
        "        \"feature_list\": var_feature_list,\n",
        "        \"description\": var_description,\n",
        "        \"title\": var_title,\n",
        "        \"address\": var_address\n",
        "    }\n",
        "    \n",
        "    unit_data = get_unit_data(var_url)\n",
        "    \n",
        "    window_data.update(unit_data)\n",
        "    \n",
        "    return window_data"
      ],
      "execution_count": 0,
      "outputs": []
    },
    {
      "cell_type": "code",
      "metadata": {
        "id": "n1G55BaIGaP8",
        "colab_type": "code",
        "colab": {}
      },
      "source": [
        "# Un ejemplo del retorno de la función\n",
        "get_window(window_tmp)"
      ],
      "execution_count": 0,
      "outputs": []
    },
    {
      "cell_type": "code",
      "metadata": {
        "id": "hS_HtPpxGaQG",
        "colab_type": "code",
        "colab": {}
      },
      "source": [
        "import re"
      ],
      "execution_count": 0,
      "outputs": []
    },
    {
      "cell_type": "markdown",
      "metadata": {
        "id": "uXSci6Mk4LzS",
        "colab_type": "text"
      },
      "source": [
        "#####  Función de Web Scrapper a nivel de Detalle de Inmueble"
      ]
    },
    {
      "cell_type": "code",
      "metadata": {
        "id": "yaex0sEeGaQR",
        "colab_type": "code",
        "colab": {}
      },
      "source": [
        "def get_unit_data(url):\n",
        "    page = requests.get(url)\n",
        "    soup = BeautifulSoup(markup=page.content, features='html.parser')\n",
        "    soup.find(name=\"div\", attrs={\"class\": \"mv-gd-widget-20\"})\n",
        "\n",
        "    javascript_code = [s for s in soup.find_all(name=\"script\") if \"avisoInfo\" in s.get_text()][0].get_text()\n",
        "    try:\n",
        "        var_latitude = re.search(r\"'mapLat': (.+),\", javascript_code).group(1).strip()\n",
        "    except AttributeError:\n",
        "        var_latitude = \"\"\n",
        "    try:\n",
        "        var_longitude = re.search(r\"'mapLng': (.+),\", javascript_code).group(1).strip()\n",
        "    except AttributeError:\n",
        "        var_longitude = \"\"\n",
        "    try:\n",
        "        var_operation_type = re.search(r\"'operationType' : '(.*)',\", javascript_code).group(1).strip()\n",
        "    except AttributeError:\n",
        "        var_operation_type = \"\"\n",
        "    try:\n",
        "        var_property_type = re.search(r\"'propertyType' : '(.*)',\", javascript_code).group(1).strip()\n",
        "    except AttributeError:\n",
        "        var_property_type = \"\"\n",
        "    try:\n",
        "        var_listing_category = re.search(r\"'listingCategory' : '(.*)',\", javascript_code).group(1).strip()\n",
        "    except AttributeError:\n",
        "        var_listing_category = \"\"\n",
        "    try:\n",
        "        var_neighborhood = re.search(r\"'neighborhood' : '(.*)',\", javascript_code).group(1).strip()\n",
        "    except AttributeError:\n",
        "        var_neighborhood = \"\"\n",
        "    try:\n",
        "        var_city = re.search(r\"'city' : '(.+)',\", javascript_code).group(1).strip()\n",
        "    except AttributeError:\n",
        "        var_city = \"\"\n",
        "    try:\n",
        "        var_province = re.search(r\"'province' : '(.*)',\", javascript_code).group(1).strip()\n",
        "    except AttributeError:\n",
        "        var_province = \"\"\n",
        "    try:\n",
        "        var_sell_price = re.search(r\"'sellPrice' : '(.*)',\", javascript_code).group(1).strip()\n",
        "    except AttributeError:\n",
        "        var_sell_price = \"\"\n",
        "    try:\n",
        "        var_rental_price = re.search(r\"'rentalPrice' : '(.*)',\", javascript_code).group(1).strip()\n",
        "    except AttributeError:\n",
        "        var_rental_price = \"\"\n",
        "    \n",
        "    return {\n",
        "        \"latitude\" : var_latitude,\n",
        "        \"longitude\" : var_longitude,\n",
        "        \"operation_type\" : var_operation_type,\n",
        "        \"property_type\" : var_property_type,\n",
        "        \"listing_category\" : var_listing_category,\n",
        "        \"neighborhood\" : var_neighborhood,\n",
        "        \"city\" : var_city,\n",
        "        \"province\" : var_province,\n",
        "        \"sell_price\" : var_sell_price,\n",
        "        \"rental_price\" : var_rental_price\n",
        "    }"
      ],
      "execution_count": 0,
      "outputs": []
    },
    {
      "cell_type": "code",
      "metadata": {
        "scrolled": true,
        "id": "ZZd8fHkTGaP_",
        "colab_type": "code",
        "colab": {}
      },
      "source": [
        "# Crawleamos 200 páginas y obtengamos los datos\n",
        "data_input_list = []\n",
        "for i in range(1, 201):\n",
        "    url = \"https://www.adondevivir.com/departamentos-en-venta-en-lima-pagina-{0}.html\".format(i)\n",
        "    print(url)\n",
        "    page = requests.get(url)\n",
        "    soup = BeautifulSoup(markup=page.content, features='html.parser')\n",
        "    section_ = soup.find(name=\"div\", attrs={\"class\": \"list-card-container\"})\n",
        "    window_list = section_.find_all(name=\"div\", attrs={\"class\": \"posting-card\"})\n",
        "    property_list = [get_window(s) for s in window_list]\n",
        "    \n",
        "    print(\"\\t Cantidad de Inmuebles: {0}\".format(len(property_list)))\n",
        "    data_input_list += property_list"
      ],
      "execution_count": 0,
      "outputs": []
    },
    {
      "cell_type": "code",
      "metadata": {
        "id": "bgdm-46lGaQI",
        "colab_type": "code",
        "colab": {}
      },
      "source": [
        "import pandas as pd"
      ],
      "execution_count": 0,
      "outputs": []
    },
    {
      "cell_type": "code",
      "metadata": {
        "id": "wLRPRVx0GaQD",
        "colab_type": "code",
        "colab": {}
      },
      "source": [
        "# Carguemos como un dataframe de Pandas\n",
        "df = pd.DataFrame(data_input_list)"
      ],
      "execution_count": 0,
      "outputs": []
    },
    {
      "cell_type": "code",
      "metadata": {
        "id": "zwNxJTMMHj0P",
        "colab_type": "code",
        "colab": {}
      },
      "source": [
        "# Exportemos el dataframe a un csv\n",
        "df.to_csv(\"data_apartments.csv\", index=False)"
      ],
      "execution_count": 0,
      "outputs": []
    },
    {
      "cell_type": "code",
      "metadata": {
        "id": "5CPICdWjHrTo",
        "colab_type": "code",
        "colab": {}
      },
      "source": [
        "from google.colab import drive\n",
        "drive.mount('/gdrive')"
      ],
      "execution_count": 0,
      "outputs": []
    },
    {
      "cell_type": "code",
      "metadata": {
        "id": "sJH2lGUfHrQI",
        "colab_type": "code",
        "colab": {}
      },
      "source": [
        "!cp data_apartments.csv /gdrive/'My Drive'"
      ],
      "execution_count": 0,
      "outputs": []
    },
    {
      "cell_type": "markdown",
      "metadata": {
        "id": "nK7bJalm4g12",
        "colab_type": "text"
      },
      "source": [
        "#### Lectura y Análisis de Inmuebles Scrapeados"
      ]
    },
    {
      "cell_type": "code",
      "metadata": {
        "id": "n4WH6IwGeB8k",
        "colab_type": "code",
        "colab": {}
      },
      "source": [
        "df = df.drop_duplicates(subset=[\"id\"]).reset_index(drop=True)"
      ],
      "execution_count": 0,
      "outputs": []
    },
    {
      "cell_type": "markdown",
      "metadata": {
        "id": "H1QC7j8tebj9",
        "colab_type": "text"
      },
      "source": [
        "#### Construcción de un Modelo de Predicción de Precios"
      ]
    },
    {
      "cell_type": "markdown",
      "metadata": {
        "id": "DM7EMX4BejVr",
        "colab_type": "text"
      },
      "source": [
        "**Definición de Target**"
      ]
    },
    {
      "cell_type": "code",
      "metadata": {
        "id": "BAlzg8hGeB2s",
        "colab_type": "code",
        "colab": {}
      },
      "source": [
        "df = df.loc[df[\"first_price\"].apply(lambda p: ('usd' not in p.lower()) and (p.lower().strip() != \"\")), :].reset_index(drop=True)"
      ],
      "execution_count": 0,
      "outputs": []
    },
    {
      "cell_type": "code",
      "metadata": {
        "id": "_MQXWj8JgjS6",
        "colab_type": "code",
        "colab": {}
      },
      "source": [
        "df.shape"
      ],
      "execution_count": 0,
      "outputs": []
    },
    {
      "cell_type": "code",
      "metadata": {
        "id": "mSGFsYbJeBzb",
        "colab_type": "code",
        "colab": {}
      },
      "source": [
        "df[\"first_price\"] = df[\"first_price\"].apply(lambda p: float(re.search(r'S/ (.*)', p).group(1).replace(\",\", \"\")))"
      ],
      "execution_count": 0,
      "outputs": []
    },
    {
      "cell_type": "code",
      "metadata": {
        "id": "xHsRD8STh04e",
        "colab_type": "code",
        "colab": {}
      },
      "source": [
        "df[[\"first_price\"]].describe()"
      ],
      "execution_count": 0,
      "outputs": []
    },
    {
      "cell_type": "code",
      "metadata": {
        "id": "VZJoG3zDiDJB",
        "colab_type": "code",
        "colab": {}
      },
      "source": [
        "df.loc[df[\"first_price\"] < 10000000, \"first_price\"].hist(bins=50)"
      ],
      "execution_count": 0,
      "outputs": []
    },
    {
      "cell_type": "markdown",
      "metadata": {
        "id": "8CaRlwgEidu3",
        "colab_type": "text"
      },
      "source": [
        "**Definición de Features**"
      ]
    },
    {
      "cell_type": "code",
      "metadata": {
        "id": "kVRQM3x7ii0e",
        "colab_type": "code",
        "colab": {}
      },
      "source": [
        "df[\"property_type\"].value_counts()"
      ],
      "execution_count": 0,
      "outputs": []
    },
    {
      "cell_type": "code",
      "metadata": {
        "id": "4SNMtvWPqgxV",
        "colab_type": "code",
        "colab": {}
      },
      "source": [
        "df = df.loc[df[\"property_type\"] == \"Departamento\"].reset_index(drop=True)"
      ],
      "execution_count": 0,
      "outputs": []
    },
    {
      "cell_type": "code",
      "metadata": {
        "id": "mp2f2gMqitxW",
        "colab_type": "code",
        "colab": {}
      },
      "source": [
        "df[\"operation_type\"].value_counts()"
      ],
      "execution_count": 0,
      "outputs": []
    },
    {
      "cell_type": "code",
      "metadata": {
        "id": "m-A6l4Fyi1fZ",
        "colab_type": "code",
        "colab": {}
      },
      "source": [
        "df[\"listing_category\"].value_counts()"
      ],
      "execution_count": 0,
      "outputs": []
    },
    {
      "cell_type": "code",
      "metadata": {
        "id": "OFHXgcZBjDUo",
        "colab_type": "code",
        "colab": {}
      },
      "source": [
        "df[\"from\"].value_counts()"
      ],
      "execution_count": 0,
      "outputs": []
    },
    {
      "cell_type": "code",
      "metadata": {
        "id": "xnTUq5REjnkb",
        "colab_type": "code",
        "colab": {}
      },
      "source": [
        "df[\"len_feature_list\"] = df[\"feature_list\"].apply(lambda l: len(l))"
      ],
      "execution_count": 0,
      "outputs": []
    },
    {
      "cell_type": "code",
      "metadata": {
        "id": "9VA0G5jNqNT5",
        "colab_type": "code",
        "colab": {}
      },
      "source": [
        "df[\"len_feature_list\"].value_counts()"
      ],
      "execution_count": 0,
      "outputs": []
    },
    {
      "cell_type": "code",
      "metadata": {
        "id": "ahIU2ayxkGzJ",
        "colab_type": "code",
        "colab": {}
      },
      "source": [
        "def get_data_from_pattern(pattern_, list_):\n",
        "  value = None\n",
        "  for val in list_:\n",
        "    if re.search(pattern_, val.lower()):\n",
        "      value = re.search(pattern_, val.lower()).group(1).strip()\n",
        "      return value\n",
        "  return value"
      ],
      "execution_count": 0,
      "outputs": []
    },
    {
      "cell_type": "code",
      "metadata": {
        "id": "ZeR2YGj_jwbJ",
        "colab_type": "code",
        "colab": {}
      },
      "source": [
        "df[\"unidades\"] = df[\"feature_list\"].apply(lambda l: get_data_from_pattern(r'(.*) unidades', l))"
      ],
      "execution_count": 0,
      "outputs": []
    },
    {
      "cell_type": "code",
      "metadata": {
        "id": "H3PZilCEmTBr",
        "colab_type": "code",
        "colab": {}
      },
      "source": [
        "df[\"dormitorios\"] = df[\"feature_list\"].apply(lambda l: get_data_from_pattern(r'(.*) dormitorios?', l))"
      ],
      "execution_count": 0,
      "outputs": []
    },
    {
      "cell_type": "code",
      "metadata": {
        "id": "ohgsFRlemaS2",
        "colab_type": "code",
        "colab": {}
      },
      "source": [
        "df[\"m2_techado\"] = df[\"feature_list\"].apply(lambda l: get_data_from_pattern(r'(.*)\\s*m² techados', l))"
      ],
      "execution_count": 0,
      "outputs": []
    },
    {
      "cell_type": "code",
      "metadata": {
        "id": "HjIdytNmmaBZ",
        "colab_type": "code",
        "colab": {}
      },
      "source": [
        "df[\"m2_total\"] = df[\"feature_list\"].apply(lambda l: get_data_from_pattern(r'(.*)\\s*m² totales', l))"
      ],
      "execution_count": 0,
      "outputs": []
    },
    {
      "cell_type": "code",
      "metadata": {
        "id": "vdJC7Qxhod1a",
        "colab_type": "code",
        "colab": {}
      },
      "source": [
        "df[\"banhos\"] = df[\"feature_list\"].apply(lambda l: get_data_from_pattern(r'(.*) baños?', l))"
      ],
      "execution_count": 0,
      "outputs": []
    },
    {
      "cell_type": "code",
      "metadata": {
        "id": "BxzOOTCgofN-",
        "colab_type": "code",
        "colab": {}
      },
      "source": [
        "df[\"estacionamientos\"] = df[\"feature_list\"].apply(lambda l: get_data_from_pattern(r'(.*) estacionamientos?', l))"
      ],
      "execution_count": 0,
      "outputs": []
    },
    {
      "cell_type": "code",
      "metadata": {
        "id": "Q1bqmZ9-qvVS",
        "colab_type": "code",
        "colab": {}
      },
      "source": [
        "df.head()"
      ],
      "execution_count": 0,
      "outputs": []
    },
    {
      "cell_type": "code",
      "metadata": {
        "id": "gsHp6he5qvSD",
        "colab_type": "code",
        "colab": {}
      },
      "source": [
        "features = [\"len_feature_list\", \"dormitorios\", \"m2_techado\", \"m2_total\", \"banhos\", \"estacionamientos\", \"first_price\"]\n",
        "predictors = [\"len_feature_list\", \"dormitorios\", \"m2_techado\", \"m2_total\", \"banhos\", \"estacionamientos\"]\n",
        "target = \"first_price\""
      ],
      "execution_count": 0,
      "outputs": []
    },
    {
      "cell_type": "code",
      "metadata": {
        "id": "xfTfZN-xqvMb",
        "colab_type": "code",
        "colab": {}
      },
      "source": [
        "for feature in features:\n",
        "  df[feature] = df[feature].astype(float)"
      ],
      "execution_count": 0,
      "outputs": []
    },
    {
      "cell_type": "code",
      "metadata": {
        "id": "nx-nlFvzqgtT",
        "colab_type": "code",
        "colab": {}
      },
      "source": [
        "df[features].info()"
      ],
      "execution_count": 0,
      "outputs": []
    },
    {
      "cell_type": "code",
      "metadata": {
        "id": "JsnGfE11qgpr",
        "colab_type": "code",
        "colab": {}
      },
      "source": [
        "import lightgbm as lgb\n",
        "from sklearn.model_selection import train_test_split"
      ],
      "execution_count": 0,
      "outputs": []
    },
    {
      "cell_type": "code",
      "metadata": {
        "id": "HR-2dWqltLZS",
        "colab_type": "code",
        "colab": {}
      },
      "source": [
        "X = df[predictors]\n",
        "y = df[\"first_price\"]"
      ],
      "execution_count": 0,
      "outputs": []
    },
    {
      "cell_type": "code",
      "metadata": {
        "id": "gBAU5YZ1tDSU",
        "colab_type": "code",
        "colab": {}
      },
      "source": [
        "x_train, x_valid, y_train, y_valid = train_test_split(X, y, test_size=0.30)"
      ],
      "execution_count": 0,
      "outputs": []
    },
    {
      "cell_type": "code",
      "metadata": {
        "id": "XHnndivqtDLQ",
        "colab_type": "code",
        "colab": {}
      },
      "source": [
        "d_train = lgb.Dataset(x_train, label=y_train)\n",
        "d_valid = lgb.Dataset(x_valid, label=y_valid)"
      ],
      "execution_count": 0,
      "outputs": []
    },
    {
      "cell_type": "code",
      "metadata": {
        "id": "Jk-NxDbRtCCQ",
        "colab_type": "code",
        "colab": {}
      },
      "source": [
        "params = {\n",
        "    'boosting_type': 'gbdt',\n",
        "    'objective': 'regression',\n",
        "    'metric': {'l2', 'l1'},\n",
        "    'num_leaves': 31,\n",
        "    'learning_rate': 0.05,\n",
        "    'feature_fraction': 0.9,\n",
        "    'bagging_fraction': 0.8,\n",
        "    'bagging_freq': 5,\n",
        "    'verbose': 0\n",
        "}\n",
        "n_estimators = 100"
      ],
      "execution_count": 0,
      "outputs": []
    },
    {
      "cell_type": "code",
      "metadata": {
        "id": "86e5dgoztVhI",
        "colab_type": "code",
        "colab": {}
      },
      "source": [
        "watchlist = [d_train, d_valid]\n",
        "model = lgb.train(params, d_train, n_estimators, watchlist, verbose_eval=1)"
      ],
      "execution_count": 0,
      "outputs": []
    },
    {
      "cell_type": "markdown",
      "metadata": {
        "colab_type": "text",
        "id": "7qLxhOZJh2Gn"
      },
      "source": [
        "¿Que pasó? ¿Por qué el valor del error sigue siendo elevado?\n",
        "\n",
        "\n",
        "<img src=\"https://raw.githubusercontent.com/mlaricobar/Machine-Learning-Course/84d066f02eb8a3b0c342c2c1ad182657dc07f972/images/why-meme.png\" width=\"400\">"
      ]
    },
    {
      "cell_type": "code",
      "metadata": {
        "id": "QvVfXg6gtVd9",
        "colab_type": "code",
        "colab": {}
      },
      "source": [
        "y_pred = model.predict(x_valid, num_iteration=model.best_iteration)"
      ],
      "execution_count": 0,
      "outputs": []
    },
    {
      "cell_type": "code",
      "metadata": {
        "id": "TAtQNDpxtVZb",
        "colab_type": "code",
        "colab": {}
      },
      "source": [
        "x_valid[\"y_real\"] = y_valid\n",
        "x_valid[\"y_predict\"] = y_pred\n",
        "x_valid[\"y_predict\"] = round(x_valid[\"y_predict\"], 0)"
      ],
      "execution_count": 0,
      "outputs": []
    },
    {
      "cell_type": "code",
      "metadata": {
        "id": "53hvcWDDgzn3",
        "colab_type": "code",
        "colab": {}
      },
      "source": [
        "x_valid"
      ],
      "execution_count": 0,
      "outputs": []
    },
    {
      "cell_type": "markdown",
      "metadata": {
        "colab_type": "text",
        "id": "8m-78eN3h2H3"
      },
      "source": [
        "# Visualizar los inmuebles en un Mapa\n",
        "\n",
        "Para poder visualizar las coordenadas de todos los inmuebles extraídos por el proceso de Web Scraping, haremos uso de [Mapbox](https://www.mapbox.com/).\n",
        "\n",
        "Mapbox es un proveedor de mapas on-line realizados por encargo para páginas webs como **Foursquare, Pinterest, Evernote, Financial Times, EThe Weather Channel y Uber Tecnologías**. Desde 2010, ha expandido rápidamente su nicho de mapas como respuesta a la limitada elección que ofrecen otros proveedores como Google Maps y OpenStreetMap.\n",
        "\n",
        "<br>\n",
        "<img src=\"https://raw.githubusercontent.com/mlaricobar/Machine-Learning-Course/84d066f02eb8a3b0c342c2c1ad182657dc07f972/images/mapbox.png\" width=\"400\">\n",
        "\n",
        "Para poder usar mapbox, necesitamos de un token que se genera al crear una cuenta."
      ]
    },
    {
      "cell_type": "markdown",
      "metadata": {
        "colab_type": "text",
        "id": "MDV5s7tSh2H3"
      },
      "source": [
        "Para poder usar esta herramienta dentro de Jupyter, debemos instalar el módulo [mapboxgl](https://github.com/mapbox/mapboxgl-jupyter)."
      ]
    },
    {
      "cell_type": "code",
      "metadata": {
        "colab_type": "code",
        "id": "t84aZRdwh2H4",
        "colab": {}
      },
      "source": [
        "!pip install mapboxgl"
      ],
      "execution_count": 0,
      "outputs": []
    },
    {
      "cell_type": "code",
      "metadata": {
        "colab_type": "code",
        "id": "7z7aCGqFh2H6",
        "colab": {}
      },
      "source": [
        "# Importar los métodos del módulo mapboxgl\n",
        "from mapboxgl.utils import *\n",
        "from mapboxgl.viz import *"
      ],
      "execution_count": 0,
      "outputs": []
    },
    {
      "cell_type": "code",
      "metadata": {
        "colab_type": "code",
        "id": "dlnjpypUh2H7",
        "colab": {}
      },
      "source": [
        "# Definir token de Mapbox\n",
        "token = \"pk.eyJ1IjoibWxhcmljb2JhciIsImEiOiJjanY4eGNnazEwdmxoNDRudDl6NTh5ajE2In0.lmuCjr7vHr0DxFWXn3yJWg\""
      ],
      "execution_count": 0,
      "outputs": []
    },
    {
      "cell_type": "code",
      "metadata": {
        "id": "KyHW-gfR6fwp",
        "colab_type": "code",
        "colab": {}
      },
      "source": [
        "# Lectura de un dataset de inmuebles ya scrapeados\n",
        "df_geo = pd.read_csv(\"https://github.com/mlaricobar/WebScrapingCourse/blob/master/apartments.csv\", encoding=\"latin-1\")\n",
        "df_geo.head()"
      ],
      "execution_count": 0,
      "outputs": []
    },
    {
      "cell_type": "code",
      "metadata": {
        "id": "iiiv2RL_GCcs",
        "colab_type": "code",
        "colab": {}
      },
      "source": [
        "df.info()"
      ],
      "execution_count": 0,
      "outputs": []
    },
    {
      "cell_type": "code",
      "metadata": {
        "id": "O8cVDNC5Fz1f",
        "colab_type": "code",
        "colab": {}
      },
      "source": [
        "df.dropna(subset=[\"price\"], inplace=True)"
      ],
      "execution_count": 0,
      "outputs": []
    },
    {
      "cell_type": "code",
      "metadata": {
        "colab_type": "code",
        "id": "c5d-n2LGh2H8",
        "colab": {}
      },
      "source": [
        "# Crear un archivo geojson y exportarlo a paratir del DataFrame df\n",
        "df_to_geojson(df_tmp, filename='apartments_geopoints.geojson',\n",
        "              properties=['unit_id', 'title', 'price'], \n",
        "                     lat='latitude', lon='longitude', precision=3)"
      ],
      "execution_count": 0,
      "outputs": []
    },
    {
      "cell_type": "code",
      "metadata": {
        "colab_type": "code",
        "id": "uDyXZno4h2H_",
        "scrolled": false,
        "colab": {}
      },
      "source": [
        "# Mostrar los puntos en el mapa\n",
        "viz = CircleViz('apartments_geopoints.geojson', access_token=token, \n",
        "                radius = 2, center = (-77.021779, -12.093512), zoom = 11)\n",
        "viz.show()"
      ],
      "execution_count": 0,
      "outputs": []
    },
    {
      "cell_type": "markdown",
      "metadata": {
        "colab_type": "text",
        "id": "mPJlgcWoh2IA"
      },
      "source": [
        "Ahora si queremos diferenciar los inmuebles por rangos de precios. Para ello, usemos los deciles de los valores de los precios.\n",
        "\n",
        "Haremos uso del método `quantile` del DataFrame, que nos retorna el valor en el cuantil indicado.\n",
        "\n",
        "¿Pero qué son los cuantiles?\n",
        "Los cuantiles son puntos tomados a intervalos regulares de la función de distribución de una variable aleatoria."
      ]
    },
    {
      "cell_type": "code",
      "metadata": {
        "colab_type": "code",
        "id": "yt77TIcEh2IA",
        "colab": {}
      },
      "source": [
        "measure = 'price'\n",
        "color_breaks = [round(df[measure].quantile(q=x*0.1), 2) for x in range(1,9)]\n",
        "color_stops = create_color_stops(color_breaks, colors='YlOrRd')"
      ],
      "execution_count": 0,
      "outputs": []
    },
    {
      "cell_type": "code",
      "metadata": {
        "colab_type": "code",
        "id": "0gFT9j14h2IC",
        "colab": {}
      },
      "source": [
        "# Plotear las coordenadas de los inmuebles y especificar la variable y los puntos de corte\n",
        "viz = CircleViz('apartments_geopoints.geojson',\n",
        "                access_token=token, \n",
        "                color_property = \"price\",\n",
        "                color_stops = color_stops,\n",
        "                radius = 2.5,\n",
        "                stroke_width = 0.2,\n",
        "                center = (-77.043322, -12.043980),\n",
        "                zoom = 11,\n",
        "                below_layer = 'waterway-label'\n",
        "               )\n",
        "viz.show()"
      ],
      "execution_count": 0,
      "outputs": []
    },
    {
      "cell_type": "code",
      "metadata": {
        "colab_type": "code",
        "id": "7FSineFYh2IE",
        "colab": {}
      },
      "source": [
        "# Definir otro estilo\n",
        "viz.style='mapbox://styles/mapbox/dark-v9?optimize=true'\n",
        "viz.label_color = 'hsl(0, 0%, 70%)'\n",
        "viz.label_halo_color = 'hsla(0, 0%, 10%, 0.75)'\n",
        "viz.show()"
      ],
      "execution_count": 0,
      "outputs": []
    },
    {
      "cell_type": "markdown",
      "metadata": {
        "colab_type": "text",
        "id": "ci-SkFPjh2IF"
      },
      "source": [
        " "
      ]
    }
  ]
}